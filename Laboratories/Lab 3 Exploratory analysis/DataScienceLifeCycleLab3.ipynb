{
 "cells": [
  {
   "cell_type": "markdown",
   "metadata": {},
   "source": [
    "# Lab 3: Laboratory Notes - Week 3: Exploratory analysis"
   ]
  },
  {
   "cell_type": "markdown",
   "metadata": {},
   "source": [
    "From last week, you were to explore Open Data that's related to your campus location as well as the <span style=\"color:red\">northwind.db</span>.  We do note that you may not have done enough SQL if you have not taken F28DM (and some of you will NOT be taking that course).  However, do keep the database and you can use it as a supplementary material to learn SQL with.  This week's laboratory work seems shorter but it is meant for you to explore while you go through it.  You will encounter errors and also experience various ways of handling the <span style=\"color:red\">pandas</span> DataFrames.  For this week, we will start with exploring a data set."
   ]
  },
  {
   "cell_type": "markdown",
   "metadata": {},
   "source": [
    "## Initial Data Auditing"
   ]
  },
  {
   "cell_type": "markdown",
   "metadata": {},
   "source": [
    "We'll now check various characteristics of the data. First let's have a look at the dimensions of the table:\n",
    "\n",
    "<span style=\"color:red\">import pandas as pd  \n",
    "url = \"https://raw.githubusercontent.com/datasciencedojo/datasets/master/titanic.csv\"  \n",
    "titanic = pd.read_csv(url)  \n",
    "<span style=\"color:red\">print(titanic.shape)</span>  \n",
    "\n",
    "How many rows and columns are there?\n",
    "\n",
    "We can investigate the data types of each column, by calling \" <span style=\"color:red\">dtypes</span>\" on the entire DataFrame:\n",
    "\n",
    "<span style=\"color:red\">titanic.dtypes</span>\n",
    "\n",
    "Once we have some idea, an important numeric audit is the 5 number summary."
   ]
  },
  {
   "cell_type": "markdown",
   "metadata": {},
   "source": [
    "## 5 Number Summary"
   ]
  },
  {
   "cell_type": "markdown",
   "metadata": {},
   "source": [
    "A \"5 number summary\" is used for descriptive analyses of large data sets, or as a preliminary investigation.  This is typically the step after ensuring that you have read the data correctly (using <span style=\"color:red\">head()</span> or <span style=\"color:red\">tail()</span>).  The 5 values consist of:\n",
    "\n",
    "maximum\n",
    "minimum\n",
    "median\n",
    "lower (or first) quartile (25%)\n",
    "upper (or third) quartile (75%)\n",
    "For those who are well versed with boxplots, they are similar.  In addition to these 5 number summaries, many descriptive analyses will also provide the mean number.  Do note that this is only for numeric data, while categorical data have a different descriptive analysis. We use the variable name df here as a general reference to a DataFrame type. Substitute it appropriately with your DataFrame.\n",
    "\n",
    "df.describe()\n",
    "\n",
    "For categorical data, this 5 numbers summary (including mean) may not mean much.  For categorical data, you may want to look at the count of the occurrence, the frequency, the top (number of frequency), and for any unique values.  For this, you inform the describe() function that you want to include the objects.   \n",
    "\n",
    "df.describe(include='object')\n",
    "\n",
    "With the head(), tail() and describe(), you would have the basics to get a feel of the data.  (You should be asking why .shape and .dtypes do not have parentheses.  Why?).\n",
    "\n",
    "We will repeat this again next week."
   ]
  },
  {
   "cell_type": "markdown",
   "metadata": {},
   "source": [
    "## Introduction to Slicing"
   ]
  },
  {
   "cell_type": "markdown",
   "metadata": {},
   "source": [
    "We have now read some data.  Let's revert back to the <span style=\"color:red\">filename.csv</span> content.\n",
    "\n",
    "<span style=\"color:red\">import pandas as pd  \n",
    "data = pd.read_csv(\"filename.csv\")  \n",
    "data</span>  \n",
    "\n",
    "You should have 9 rows (0 to 8), with several columns. Note that in the R programming language, rows are referred to as observations and columns are referred to as variables.  You can get the column names using:\n",
    "\n",
    "<span style=\"color:red\">data.columns</span>  \n",
    "\n",
    "But a neater way is to inform it that you want it in a list format:\n",
    "\n",
    "<span style=\"color:red\">list(data.columns)</span>  \n",
    "\n",
    "You can then slice the DataFrame (table) by indexing the name using the <span style=\"color:red\">.loc()</span> function or through a numeric index using the <span style=\"color:red\">.iloc()</span> function.\n",
    "\n",
    "<span style=\"color:red\">data.loc[:,\"ages\"] # All rows, column \"ages\"  \n",
    "data.iloc[:3,2] # Rows 0 to 3 (exclusive) and 3rd column (1st is indexed by 0)</span>\n",
    "\n",
    "<span style=\"color:red\">What!?</span> If you treat the table like a matrix, the values inside the [ ] is used to indicate the rows and columns, separated by the '<span style=\"color:red\">,</span>'.   The '<span style=\"color:red\">:</span>' is used to specify the range. If you want a specific row, you can simply use the index and the column portion is optional.\n",
    "\n",
    "<span style=\"color:red\">data.loc[1]</span>\n",
    "\n",
    "Do try different combinations of slicing (we use this term for obtaining a subset) the DataFrame.  You can also slice it by providing the name without the <span style=\"color:red\">.loc()</span> or <span style=\"color:red\">.iloc()</span> functions (as per last week's session).\n",
    "\n",
    "<span style=\"color:red\">X = data[\"ages\"]  \n",
    "print(X)</span>  \n",
    "\n",
    "and try\n",
    "\n",
    "<span style=\"color:red\">Y = data[[\"ages\"]]  \n",
    "print(Y)</span>  \n",
    "\n",
    "Do you notice the difference?  Check on the <span style=\"color:red\">type()</span> for <span style=\"color:red\">X</span> and <span style=\"color:red\">Y</span>.  You will notice that one is called a Series and the other a DataFrame.  You can think of a Series as a vector whereas a DataFrame as a matrix.\n",
    "\n",
    "Let's go through the following and do use this opportunity to familiarise yourself further with the Jupyter Notebook and slicing.\n",
    "\n",
    "<span style=\"color:red\">import pandas as pd\n",
    "url = \"https://raw.githubusercontent.com/datasciencedojo/datasets/master/titanic.csv\"  \n",
    "df = pd.read_csv(url)</span>  \n",
    "\n",
    "Select a column by using its column name:\n",
    "\n",
    "<span style=\"color:red\">df['name']</span>  \n",
    "\n",
    "What's the error message?  What does \"<span style=\"color:red\">KeyError: 'name'</span>\" mean?  In this course and in using Python, you will encounter many different error messages.  Do take sometime to think about it and go through the error messages and familiarise yourself with them.  Do ask if you are unsure.  In this case, the error is that the variable name is case sensitive, meaning it should be '<span style=\"color:red\">Name</span>' and not '<span style=\"color:red\">name</span>'.\n",
    "\n",
    "Let's proceed with selecting multiple columns using an list of column names:\n",
    "\n",
    "<span style=\"color:red\">df[['Name', 'Survived']]</span>  \n",
    "\n",
    "![P1](picture/P1.png)\n",
    "\n",
    "You will notice that it did not show rows 5 to rows 885.  Select a value using the column name and row index:\n",
    "\n",
    "<span style=\"color:red\">df['Name'][884]</span>  \n",
    "\n",
    "Or a range of rows:\n",
    "\n",
    "<span style=\"color:red\">df['Name'][880:884]</span>    \n",
    "\n",
    "To get multiple columns and multiple rows, you can do:\n",
    "\n",
    "<span style=\"color:red\">df[['Name','Survived']][880:884]</span>  \n",
    "\n",
    "(Note the double <span style=\"color:red\">[ ]</span>, or otherwise you can use the <span style=\"color:red\">.loc()</span> function:\n",
    "\n",
    "<span style=\"color:red\">df.loc[880:884,['Name','Survived']]</span>  \n",
    "\n",
    "Is there a difference?  The indexing seems to be different, so do be careful with this.  Let's revert and look at the .loc() function.  Select a particular row from the table:\n",
    "\n",
    "<span style=\"color:red\">df.loc[2]</span>  \n",
    "\n",
    "Select all rows with a particular value in one of the columns:\n",
    "\n",
    "<span style=\"color:red\">df.loc[df['Age'] <= 6]</span>  \n",
    "\n",
    "The last coding statement is having a condition in the outer [ ] where it is specified that you want all rows where the 'Age' column is less than or equal to 6."
   ]
  },
  {
   "cell_type": "markdown",
   "metadata": {},
   "source": [
    "## Writing (Saving) the Data"
   ]
  },
  {
   "cell_type": "markdown",
   "metadata": {},
   "source": [
    "We have seen how we can read data from various sources, what about saving our pre-processed data?  Let us assume that you would only like to analyse a part of the data and you want to save the resulting DataFrame to a CSV file.  We already have the <span style=\"color:red\">df</span> DataFrame, so we will create a new DataFrame called <span style=\"color:red\">df2</span> to store Titanic passengers that are older than 12.  Here we assign the result from <span style=\"color:red\">df.loc[df['Age'] >= 12]</span> to <span style=\"color:red\">df2</span>.\n",
    "\n",
    "<span style=\"color:red\">df2 = df.loc[df['Age'] >= 12]</span>  \n",
    "\n",
    "Select a location where you want to save it to.  I will use my own but you will not find it in your computer (unless you have the same name as me).\n",
    "\n",
    "<span style=\"color:red\">df2.to_csv(r'C:\\Users\\Ian\\Desktop\\output.csv', index = None, header=True)</span>  \n",
    "\n",
    "For Linux and MacOS, the path will not have a \"<span style=\"color:red\">C:</span>\" drive and also the separator is not a '<span style=\"color:red\">\\ </span>' (pronounced backslash) but a forward/normal slash ('<span style=\"color:red\">/</span>').  In short, it should read (assuming that I have a MacOS):\n",
    "\n",
    "<span style=\"color:red\">df2.to_csv(r'/Users/Ian/Desktop/output.csv', index = None, header=True)</span>  \n",
    "\n",
    "A few notes:\n",
    "\n",
    "* The function used is part of the DataFrame, and it is called <span style=\"color:red\">to_csv()</span>\n",
    "* The <span style=\"color:red\">r</span> is to inform the kernel (the executing Python engine) that the backslash '<span style=\"color:red\">\\ </span>' is not an escape character.  Read more [here](https://docs.python.org/3/tutorial/introduction.html#text).\n",
    "* The parameters '<span style=\"color:red\">index</span>' and '<span style=\"color:red\">header</span>' is to specify what you want to preserve in the saved file.  You can refer to the documentation [here](https://pandas.pydata.org/docs/reference/api/pandas.DataFrame.to_csv.html).\n",
    "\n",
    "Go check your folder to see if the file is saved correctly. Note that you can open the CSV file using a text editor (in Windows, you can use Notepad) or in MS-Excel (you should get something like below, noting that there are the missing rows 6, 8, 11, etc. where those rows do not meet the condition of >= 12 for the Age).\n",
    "\n",
    "![P2](picture/P2.png)\n",
    "\n",
    "Do try with different options for the parameters, the slicing (or subsetting) of the data."
   ]
  },
  {
   "cell_type": "markdown",
   "metadata": {},
   "source": [
    "#### Exercise 3.1: "
   ]
  },
  {
   "cell_type": "markdown",
   "metadata": {},
   "source": [
    "Would you be able to get the number of Male and Female for those above 18 and below 60?  This leads us to the concept of aggregating."
   ]
  },
  {
   "cell_type": "markdown",
   "metadata": {},
   "source": [
    "## Aggregation and Introduction to groupby"
   ]
  },
  {
   "cell_type": "markdown",
   "metadata": {},
   "source": [
    "Continuing with the titanic data set, let's now focus on the age of passengers. We've already seen that we can calculate the average value of a column using the <span style=\"color:red\">describe()</span> function. Alternatively, we could make use of the \"<span style=\"color:red\">mean()</span>\" function directly, by typing:\n",
    "\n",
    "<span style=\"color:red\">df['Age'].mean()</span>\n",
    "\n",
    "There are many other aggregation functions we might wish to use to investigate the age of the passengers. For example:\n",
    "\n",
    "<span style=\"color:red\">df['Age'].max() # oldest  \n",
    "df['Age'].min() # youngest  \n",
    "df['Age'].sum() # total years  \n",
    "df['Age'].std() # standard deviation  \n",
    "df['Age'].median() # half of the people were older (/younger)  \n",
    "df['Age'].mode() # most common age</span>  \n",
    "\n",
    "Knowing the average age over all passengers is interesting, but knowing the average age for different groups of passengers may be more useful. We could then answer questions like:\n",
    "\n",
    "How old were the first-class passengers on average?\n",
    "Was the average age the same for men and women?\n",
    "Let's now have a more detailed look at the age of different groups. We can do that simply by making use of the groupby() command. We'll use the command to create a (hierarchical) index on \"sex\" and \"class\" values, so that we can then compute aggregate values (the mean) over each of the groups:\n",
    "\n",
    "sex_class = df.groupby(['Sex','Pclass'])['Age']\n",
    "sex_class.mean()\n",
    "\n",
    "As part of the data auditing, it would be interesting to interpret the output, e.g. what did you notice about the average age of the Titanic’s passengers in regards to their classes? How about the relationship between age\n",
    "and gender?"
   ]
  },
  {
   "cell_type": "markdown",
   "metadata": {},
   "source": [
    "#### Exercise 3.2: "
   ]
  },
  {
   "cell_type": "markdown",
   "metadata": {},
   "source": [
    "Use other aggregation functions and groupings to determine which class had the oldest and youngest passengers and which gender had the largest amount of variation in age (standard deviation)."
   ]
  },
  {
   "cell_type": "markdown",
   "metadata": {},
   "source": [
    "## Advanced Aggregation"
   ]
  },
  {
   "cell_type": "markdown",
   "metadata": {},
   "source": [
    "Let's start afresh again.  This time we use the variable name '<span style=\"color:red\">titanic</span>' instead of '<span style=\"color:red\">df</span>' just to illustrate that it is just a name and we can use almost any name (as long as it is not a reserved keyword - the editor will tell you this by changing the name to a blue bold font if it is a keyword).\n",
    "\n",
    "<span style=\"color:red\">import pandas as pd # You don't need to do this again actually but included here for completeness  \n",
    "url = \"https://raw.githubusercontent.com/datasciencedojo/datasets/master/titanic.csv\"  \n",
    "titanic = pd.read_csv(url)  \n",
    "titanic.head()</span>  "
   ]
  },
  {
   "cell_type": "markdown",
   "metadata": {},
   "source": [
    "## Multiple data aggregation operations"
   ]
  },
  {
   "cell_type": "markdown",
   "metadata": {},
   "source": [
    "Oftentimes we'd like to compute multiple aggregation operations at the same time. Here is an example where we compute statistics on multiple columns at once. (Note that you could also use the method to compute different aggregation functions on the same column of data). We specify the set of aggregation operations we wish to perform by detailing:\n",
    "\n",
    "the columns the aggregation should be applied to (in this case the two columns are 'PassengerId' and 'Age'), and using the ':' as the separator,\n",
    "the aggregation operations to apply in each case ('count' and 'mean'):\n",
    "<span style=\"color:red\">'PassengerId':'count'</span> and <span style=\"color:red\">'Age':'mean</span>'\n",
    "\n",
    "Let's put this into a temporary variable called '<span style=\"color:red\">fun</span>'\n",
    "\n",
    "<span style=\"color:red\">fun = {'PassengerId':'count','Age':'mean'}</span>\n",
    "\n",
    "Note that the variable '<span style=\"color:red\">fun</span>' can be anything you want to call it. So now we've defined an aggregation operation that both counts the number of passengers and computes their average age. Let's apply that operation to the rows in the titanic table, grouping them by passenger '<span style=\"color:red\">Pclass</span>'. To apply the operation we use the '<span style=\"color:red\">agg()</span>' function:\n",
    "\n",
    "<span style=\"color:red\">groupbyClass = titanic.groupby('Pclass').agg(fun)  \n",
    "groupbyClass</span>\n",
    "\n",
    "The displayed table doesn't seem to have sufficient headers to indicate that the numbers are the count and the mean of the respective columns. \n",
    "\n",
    "What we need is the name of the resulting new columns (we'll call them '# passengers' and 'average age'):\n",
    "\n",
    "<span style=\"color:red\">groupbyClass = titanic.groupby('Pclass').agg(fun).rename(columns={'PassengerId': '# passengers', 'Age': 'avg age'})\n",
    "groupbyClass</span>\n",
    "\n",
    "Have a look at the output, which has now been grouped by passenger class. Which class had the most passengers and which one had the oldest passengers on average?"
   ]
  },
  {
   "cell_type": "markdown",
   "metadata": {},
   "source": [
    "#### Exercise 3.3:"
   ]
  },
  {
   "cell_type": "markdown",
   "metadata": {},
   "source": [
    "Modify the aggregation operation '<span style=\"color:red\">fun</span>' above so that it also finds the age of the oldest and youngest passengers in each class. Note that all aggregate operations being applied to the same column need to be placed within the same set of curly braces '{}' and separated by commas ','. So fill in the MISSING parts of the function below:\n",
    "\n",
    "<span style=\"color:red\">fun2 = {'PassengerId':'count','Age':{'mean', [MISSING], [MISSING]}}  \n",
    "groupbyClass2 = titanic.groupby('pclass').agg(fun2)  \n",
    "groupbyClass2</span>  \n",
    "\n",
    "Do note the effect of the curly braces <span style=\"color:red\">{ }</span>. So who was the oldest passenger traveling in the 'first', 'second' or 'third' class?\n",
    "\n",
    "In order to turn the output of the <span style=\"color:red\">groupby()</span> operation into a DataFrame that can be further manipulated (into a cleaner tabular format with clear column names), we need to \"flatten it\" using the '<span style=\"color:red\">reset_index()</span>' and '<span style=\"color:red\">droplevel()</span>' commands. Have a look at the outputs of the following commands one after the other (by printing out the table each time) to see what they produce.\n",
    "\n",
    "<span style=\"color:red\">groupbyClass2 = groupbyClass2.reset_index()  \n",
    "\"\"\"turn 'class' groups into column values\"\"\"  \n",
    "groupbyClass2.columns = groupbyClass2.columns.droplevel(0)  \n",
    "\"\"\"drop the top level in the column hierarchy\"\"\"  \n",
    "groupbyClass2</span>  \n",
    "\n",
    "Flattening caused us to lose the column name for the '<span style=\"color:red\">class</span>' attribute. We can rename the column as follows:\n",
    "\n",
    "<span style=\"color:red\">groupbyClass2.rename(columns = {'':'class'},inplace = True)  \n",
    "\"\"\"rename the first column to be 'class'\"\"\"  \n",
    "groupbyClass2</span>  "
   ]
  },
  {
   "cell_type": "markdown",
   "metadata": {},
   "source": [
    "## Custom aggregation operations"
   ]
  },
  {
   "cell_type": "markdown",
   "metadata": {},
   "source": [
    "There are many inbuilt functions in Python that can be used to aggregate data over columns. For example the '<span style=\"color:red\">nunique</span>' function will count the number of unique values in a list. Sometimes the function we need isn't available, however, because what we are after is too specific. For example, if we have a list of values, we might wish to count only those elements in the list with value above a certain threshold. Using the '<span style=\"color:red\">for</span>' syntax in Python we can write an expression to count the elements as follows:\n",
    "\n",
    "<span style=\"color:red\">my_list = (80,20,64,19,56,12,88)  \n",
    "sum(e>50 for e in my_list)</span> \n",
    "\n",
    "The expression is checking for each element '<span style=\"color:red\">e</span>' in '<span style=\"color:red\">my_list</span>' whether the value is greater than 50 or not, the <span style=\"color:red\">sum()</span> function is then counting the number of times the greater-than expression returns <span style=\"color:red\">TRUE</span> (i.e. the value 1). Now that we have a piece of code that can count the number of values that fit a condition, we'd like to use it in an aggregation operation over a column of a DataFrame. We can do that using an anonymous function (called a lambda function) in Python. The syntax to create an anonymous function is to write '<span style=\"color:red\">lambda x:</span>' followed by the function itself, where '<span style=\"color:red\">x</span>' is the name of the variable that appears in the function.  You can read more about it [here](https://www.w3schools.com/python/python_lambda.asp). But it would probably be useful to learn about creating [Python functions](https://www.w3schools.com/python/python_functions.asp).\n",
    "\n",
    "<span style=\"color:red\">fun3 = {'Age':{'nunique', lambda x: sum(e>50 for e in x)}}</span>\n",
    "\n",
    "So we have defined a new aggregation operation '<span style=\"color:red\">fun3</span>', which will create two new columns, a '<span style=\"color:red\">unique age count</span>' column that counts the number of distinct values in the '<span style=\"color:red\">age</span>' column using the function '<span style=\"color:red\">nunique</span>' and an '<span style=\"color:red\">over 50s count</span>' column that counts the number of values in the '<span style=\"color:red\">age</span>' column that are greater than 50. Again, we can reformat the DataFrame so it's ready for use:\n",
    "\n",
    "<span style=\"color:red\">groupbyClass3 = titanic.groupby('Pclass').agg(fun3).reset_index()  \n",
    "groupbyClass3</span>  \n",
    "\n",
    "![P3](picture/P3.png)\n",
    "\n",
    "<span style=\"color:red\">groupbyClass3.columns = groupbyClass3.columns.droplevel(0)  \n",
    "groupbyClass3.rename(columns = {'':'class'},inplace = True)  \n",
    "groupbyClass3</span>  \n",
    "\n",
    "![P4](picture/P4.png)\n",
    "\n",
    "<span style=\"color:red\">groupbyClass3.rename(columns = {'nunique':'unique age count','<lambda_0>':'over 50s count'}, inplace = True)  \n",
    "groupbyClass3</span>\n",
    "\n",
    "![P5](picture/P5.png)"
   ]
  },
  {
   "cell_type": "markdown",
   "metadata": {},
   "source": [
    "#### Exercise 3.4:"
   ]
  },
  {
   "cell_type": "markdown",
   "metadata": {},
   "source": [
    "Interpret the output and discuss your finding with other students."
   ]
  },
  {
   "cell_type": "markdown",
   "metadata": {},
   "source": [
    "## Summary"
   ]
  },
  {
   "cell_type": "markdown",
   "metadata": {},
   "source": [
    "We can now read, describe, do basic data exploration and save the data.  You would have understood Series vs DataFrames.  We have also looked at error messages and should understand by now the execution sequencing in Jupyter.  Pause and take some time to review what you have learnt so far, especially with the slicing of the data options.  Next week we'll investigate some more sophisticated pandas commands as well as look at graphing data using Python and some wrangling."
   ]
  },
  {
   "cell_type": "markdown",
   "metadata": {},
   "source": [
    "## My code part"
   ]
  },
  {
   "cell_type": "code",
   "execution_count": 2,
   "metadata": {},
   "outputs": [
    {
     "name": "stdout",
     "output_type": "stream",
     "text": [
      "(891, 12)\n"
     ]
    }
   ],
   "source": [
    "import pandas as pd\n",
    "url = \"https://raw.githubusercontent.com/datasciencedojo/datasets/master/titanic.csv\"\n",
    "titanic = pd.read_csv(url)\n",
    "print(titanic.shape)\n"
   ]
  },
  {
   "cell_type": "code",
   "execution_count": 3,
   "metadata": {},
   "outputs": [
    {
     "name": "stdout",
     "output_type": "stream",
     "text": [
      "<bound method DataFrame.select_dtypes of      PassengerId  Survived  Pclass  \\\n",
      "0              1         0       3   \n",
      "1              2         1       1   \n",
      "2              3         1       3   \n",
      "3              4         1       1   \n",
      "4              5         0       3   \n",
      "..           ...       ...     ...   \n",
      "886          887         0       2   \n",
      "887          888         1       1   \n",
      "888          889         0       3   \n",
      "889          890         1       1   \n",
      "890          891         0       3   \n",
      "\n",
      "                                                  Name     Sex   Age  SibSp  \\\n",
      "0                              Braund, Mr. Owen Harris    male  22.0      1   \n",
      "1    Cumings, Mrs. John Bradley (Florence Briggs Th...  female  38.0      1   \n",
      "2                               Heikkinen, Miss. Laina  female  26.0      0   \n",
      "3         Futrelle, Mrs. Jacques Heath (Lily May Peel)  female  35.0      1   \n",
      "4                             Allen, Mr. William Henry    male  35.0      0   \n",
      "..                                                 ...     ...   ...    ...   \n",
      "886                              Montvila, Rev. Juozas    male  27.0      0   \n",
      "887                       Graham, Miss. Margaret Edith  female  19.0      0   \n",
      "888           Johnston, Miss. Catherine Helen \"Carrie\"  female   NaN      1   \n",
      "889                              Behr, Mr. Karl Howell    male  26.0      0   \n",
      "890                                Dooley, Mr. Patrick    male  32.0      0   \n",
      "\n",
      "     Parch            Ticket     Fare Cabin Embarked  \n",
      "0        0         A/5 21171   7.2500   NaN        S  \n",
      "1        0          PC 17599  71.2833   C85        C  \n",
      "2        0  STON/O2. 3101282   7.9250   NaN        S  \n",
      "3        0            113803  53.1000  C123        S  \n",
      "4        0            373450   8.0500   NaN        S  \n",
      "..     ...               ...      ...   ...      ...  \n",
      "886      0            211536  13.0000   NaN        S  \n",
      "887      0            112053  30.0000   B42        S  \n",
      "888      2        W./C. 6607  23.4500   NaN        S  \n",
      "889      0            111369  30.0000  C148        C  \n",
      "890      0            370376   7.7500   NaN        Q  \n",
      "\n",
      "[891 rows x 12 columns]>\n"
     ]
    }
   ],
   "source": [
    "print(titanic.select_dtypes)"
   ]
  },
  {
   "cell_type": "code",
   "execution_count": 4,
   "metadata": {},
   "outputs": [
    {
     "name": "stdout",
     "output_type": "stream",
     "text": [
      "   PassengerId  Survived  Pclass  \\\n",
      "0            1         0       3   \n",
      "1            2         1       1   \n",
      "2            3         1       3   \n",
      "3            4         1       1   \n",
      "4            5         0       3   \n",
      "\n",
      "                                                Name     Sex   Age  SibSp  \\\n",
      "0                            Braund, Mr. Owen Harris    male  22.0      1   \n",
      "1  Cumings, Mrs. John Bradley (Florence Briggs Th...  female  38.0      1   \n",
      "2                             Heikkinen, Miss. Laina  female  26.0      0   \n",
      "3       Futrelle, Mrs. Jacques Heath (Lily May Peel)  female  35.0      1   \n",
      "4                           Allen, Mr. William Henry    male  35.0      0   \n",
      "\n",
      "   Parch            Ticket     Fare Cabin Embarked  \n",
      "0      0         A/5 21171   7.2500   NaN        S  \n",
      "1      0          PC 17599  71.2833   C85        C  \n",
      "2      0  STON/O2. 3101282   7.9250   NaN        S  \n",
      "3      0            113803  53.1000  C123        S  \n",
      "4      0            373450   8.0500   NaN        S  \n",
      "     PassengerId  Survived  Pclass                                      Name  \\\n",
      "886          887         0       2                     Montvila, Rev. Juozas   \n",
      "887          888         1       1              Graham, Miss. Margaret Edith   \n",
      "888          889         0       3  Johnston, Miss. Catherine Helen \"Carrie\"   \n",
      "889          890         1       1                     Behr, Mr. Karl Howell   \n",
      "890          891         0       3                       Dooley, Mr. Patrick   \n",
      "\n",
      "        Sex   Age  SibSp  Parch      Ticket   Fare Cabin Embarked  \n",
      "886    male  27.0      0      0      211536  13.00   NaN        S  \n",
      "887  female  19.0      0      0      112053  30.00   B42        S  \n",
      "888  female   NaN      1      2  W./C. 6607  23.45   NaN        S  \n",
      "889    male  26.0      0      0      111369  30.00  C148        C  \n",
      "890    male  32.0      0      0      370376   7.75   NaN        Q  \n"
     ]
    }
   ],
   "source": [
    "print(titanic.head())\n",
    "print(titanic.tail())"
   ]
  },
  {
   "cell_type": "code",
   "execution_count": 5,
   "metadata": {},
   "outputs": [
    {
     "data": {
      "application/vnd.microsoft.datawrangler.viewer.v0+json": {
       "columns": [
        {
         "name": "index",
         "rawType": "object",
         "type": "string"
        },
        {
         "name": "PassengerId",
         "rawType": "float64",
         "type": "float"
        },
        {
         "name": "Survived",
         "rawType": "float64",
         "type": "float"
        },
        {
         "name": "Pclass",
         "rawType": "float64",
         "type": "float"
        },
        {
         "name": "Age",
         "rawType": "float64",
         "type": "float"
        },
        {
         "name": "SibSp",
         "rawType": "float64",
         "type": "float"
        },
        {
         "name": "Parch",
         "rawType": "float64",
         "type": "float"
        },
        {
         "name": "Fare",
         "rawType": "float64",
         "type": "float"
        }
       ],
       "conversionMethod": "pd.DataFrame",
       "ref": "0be24440-c327-41ee-b01a-0e84ac526661",
       "rows": [
        [
         "count",
         "183.0",
         "183.0",
         "183.0",
         "183.0",
         "183.0",
         "183.0",
         "183.0"
        ],
        [
         "mean",
         "455.3661202185792",
         "0.6721311475409836",
         "1.1912568306010929",
         "35.6744262295082",
         "0.4644808743169399",
         "0.47540983606557374",
         "78.68246885245901"
        ],
        [
         "std",
         "247.05247551692415",
         "0.4707246509282609",
         "0.5151869975715835",
         "15.643865966849717",
         "0.6441585604537323",
         "0.7546170860086108",
         "76.3478427004057"
        ],
        [
         "min",
         "2.0",
         "0.0",
         "1.0",
         "0.92",
         "0.0",
         "0.0",
         "0.0"
        ],
        [
         "25%",
         "263.5",
         "0.0",
         "1.0",
         "24.0",
         "0.0",
         "0.0",
         "29.7"
        ],
        [
         "50%",
         "457.0",
         "1.0",
         "1.0",
         "36.0",
         "0.0",
         "0.0",
         "57.0"
        ],
        [
         "75%",
         "676.0",
         "1.0",
         "1.0",
         "47.5",
         "1.0",
         "1.0",
         "90.0"
        ],
        [
         "max",
         "890.0",
         "1.0",
         "3.0",
         "80.0",
         "3.0",
         "4.0",
         "512.3292"
        ]
       ],
       "shape": {
        "columns": 7,
        "rows": 8
       }
      },
      "text/html": [
       "<div>\n",
       "<style scoped>\n",
       "    .dataframe tbody tr th:only-of-type {\n",
       "        vertical-align: middle;\n",
       "    }\n",
       "\n",
       "    .dataframe tbody tr th {\n",
       "        vertical-align: top;\n",
       "    }\n",
       "\n",
       "    .dataframe thead th {\n",
       "        text-align: right;\n",
       "    }\n",
       "</style>\n",
       "<table border=\"1\" class=\"dataframe\">\n",
       "  <thead>\n",
       "    <tr style=\"text-align: right;\">\n",
       "      <th></th>\n",
       "      <th>PassengerId</th>\n",
       "      <th>Survived</th>\n",
       "      <th>Pclass</th>\n",
       "      <th>Age</th>\n",
       "      <th>SibSp</th>\n",
       "      <th>Parch</th>\n",
       "      <th>Fare</th>\n",
       "    </tr>\n",
       "  </thead>\n",
       "  <tbody>\n",
       "    <tr>\n",
       "      <th>count</th>\n",
       "      <td>183.000000</td>\n",
       "      <td>183.000000</td>\n",
       "      <td>183.000000</td>\n",
       "      <td>183.000000</td>\n",
       "      <td>183.000000</td>\n",
       "      <td>183.000000</td>\n",
       "      <td>183.000000</td>\n",
       "    </tr>\n",
       "    <tr>\n",
       "      <th>mean</th>\n",
       "      <td>455.366120</td>\n",
       "      <td>0.672131</td>\n",
       "      <td>1.191257</td>\n",
       "      <td>35.674426</td>\n",
       "      <td>0.464481</td>\n",
       "      <td>0.475410</td>\n",
       "      <td>78.682469</td>\n",
       "    </tr>\n",
       "    <tr>\n",
       "      <th>std</th>\n",
       "      <td>247.052476</td>\n",
       "      <td>0.470725</td>\n",
       "      <td>0.515187</td>\n",
       "      <td>15.643866</td>\n",
       "      <td>0.644159</td>\n",
       "      <td>0.754617</td>\n",
       "      <td>76.347843</td>\n",
       "    </tr>\n",
       "    <tr>\n",
       "      <th>min</th>\n",
       "      <td>2.000000</td>\n",
       "      <td>0.000000</td>\n",
       "      <td>1.000000</td>\n",
       "      <td>0.920000</td>\n",
       "      <td>0.000000</td>\n",
       "      <td>0.000000</td>\n",
       "      <td>0.000000</td>\n",
       "    </tr>\n",
       "    <tr>\n",
       "      <th>25%</th>\n",
       "      <td>263.500000</td>\n",
       "      <td>0.000000</td>\n",
       "      <td>1.000000</td>\n",
       "      <td>24.000000</td>\n",
       "      <td>0.000000</td>\n",
       "      <td>0.000000</td>\n",
       "      <td>29.700000</td>\n",
       "    </tr>\n",
       "    <tr>\n",
       "      <th>50%</th>\n",
       "      <td>457.000000</td>\n",
       "      <td>1.000000</td>\n",
       "      <td>1.000000</td>\n",
       "      <td>36.000000</td>\n",
       "      <td>0.000000</td>\n",
       "      <td>0.000000</td>\n",
       "      <td>57.000000</td>\n",
       "    </tr>\n",
       "    <tr>\n",
       "      <th>75%</th>\n",
       "      <td>676.000000</td>\n",
       "      <td>1.000000</td>\n",
       "      <td>1.000000</td>\n",
       "      <td>47.500000</td>\n",
       "      <td>1.000000</td>\n",
       "      <td>1.000000</td>\n",
       "      <td>90.000000</td>\n",
       "    </tr>\n",
       "    <tr>\n",
       "      <th>max</th>\n",
       "      <td>890.000000</td>\n",
       "      <td>1.000000</td>\n",
       "      <td>3.000000</td>\n",
       "      <td>80.000000</td>\n",
       "      <td>3.000000</td>\n",
       "      <td>4.000000</td>\n",
       "      <td>512.329200</td>\n",
       "    </tr>\n",
       "  </tbody>\n",
       "</table>\n",
       "</div>"
      ],
      "text/plain": [
       "       PassengerId    Survived      Pclass         Age       SibSp  \\\n",
       "count   183.000000  183.000000  183.000000  183.000000  183.000000   \n",
       "mean    455.366120    0.672131    1.191257   35.674426    0.464481   \n",
       "std     247.052476    0.470725    0.515187   15.643866    0.644159   \n",
       "min       2.000000    0.000000    1.000000    0.920000    0.000000   \n",
       "25%     263.500000    0.000000    1.000000   24.000000    0.000000   \n",
       "50%     457.000000    1.000000    1.000000   36.000000    0.000000   \n",
       "75%     676.000000    1.000000    1.000000   47.500000    1.000000   \n",
       "max     890.000000    1.000000    3.000000   80.000000    3.000000   \n",
       "\n",
       "            Parch        Fare  \n",
       "count  183.000000  183.000000  \n",
       "mean     0.475410   78.682469  \n",
       "std      0.754617   76.347843  \n",
       "min      0.000000    0.000000  \n",
       "25%      0.000000   29.700000  \n",
       "50%      0.000000   57.000000  \n",
       "75%      1.000000   90.000000  \n",
       "max      4.000000  512.329200  "
      ]
     },
     "execution_count": 5,
     "metadata": {},
     "output_type": "execute_result"
    }
   ],
   "source": [
    "df=titanic.dropna()\n",
    "df.describe()"
   ]
  },
  {
   "cell_type": "code",
   "execution_count": 6,
   "metadata": {},
   "outputs": [
    {
     "data": {
      "application/vnd.microsoft.datawrangler.viewer.v0+json": {
       "columns": [
        {
         "name": "index",
         "rawType": "object",
         "type": "string"
        },
        {
         "name": "Name",
         "rawType": "object",
         "type": "unknown"
        },
        {
         "name": "Sex",
         "rawType": "object",
         "type": "unknown"
        },
        {
         "name": "Ticket",
         "rawType": "object",
         "type": "unknown"
        },
        {
         "name": "Cabin",
         "rawType": "object",
         "type": "unknown"
        },
        {
         "name": "Embarked",
         "rawType": "object",
         "type": "unknown"
        }
       ],
       "conversionMethod": "pd.DataFrame",
       "ref": "cc9e2bc0-9651-4e9b-92ff-30f5f7446ea7",
       "rows": [
        [
         "count",
         "183",
         "183",
         "183",
         "183",
         "183"
        ],
        [
         "unique",
         "183",
         "2",
         "127",
         "133",
         "3"
        ],
        [
         "top",
         "Cumings, Mrs. John Bradley (Florence Briggs Thayer)",
         "male",
         "19950",
         "G6",
         "S"
        ],
        [
         "freq",
         "1",
         "95",
         "4",
         "4",
         "116"
        ]
       ],
       "shape": {
        "columns": 5,
        "rows": 4
       }
      },
      "text/html": [
       "<div>\n",
       "<style scoped>\n",
       "    .dataframe tbody tr th:only-of-type {\n",
       "        vertical-align: middle;\n",
       "    }\n",
       "\n",
       "    .dataframe tbody tr th {\n",
       "        vertical-align: top;\n",
       "    }\n",
       "\n",
       "    .dataframe thead th {\n",
       "        text-align: right;\n",
       "    }\n",
       "</style>\n",
       "<table border=\"1\" class=\"dataframe\">\n",
       "  <thead>\n",
       "    <tr style=\"text-align: right;\">\n",
       "      <th></th>\n",
       "      <th>Name</th>\n",
       "      <th>Sex</th>\n",
       "      <th>Ticket</th>\n",
       "      <th>Cabin</th>\n",
       "      <th>Embarked</th>\n",
       "    </tr>\n",
       "  </thead>\n",
       "  <tbody>\n",
       "    <tr>\n",
       "      <th>count</th>\n",
       "      <td>183</td>\n",
       "      <td>183</td>\n",
       "      <td>183</td>\n",
       "      <td>183</td>\n",
       "      <td>183</td>\n",
       "    </tr>\n",
       "    <tr>\n",
       "      <th>unique</th>\n",
       "      <td>183</td>\n",
       "      <td>2</td>\n",
       "      <td>127</td>\n",
       "      <td>133</td>\n",
       "      <td>3</td>\n",
       "    </tr>\n",
       "    <tr>\n",
       "      <th>top</th>\n",
       "      <td>Cumings, Mrs. John Bradley (Florence Briggs Th...</td>\n",
       "      <td>male</td>\n",
       "      <td>19950</td>\n",
       "      <td>G6</td>\n",
       "      <td>S</td>\n",
       "    </tr>\n",
       "    <tr>\n",
       "      <th>freq</th>\n",
       "      <td>1</td>\n",
       "      <td>95</td>\n",
       "      <td>4</td>\n",
       "      <td>4</td>\n",
       "      <td>116</td>\n",
       "    </tr>\n",
       "  </tbody>\n",
       "</table>\n",
       "</div>"
      ],
      "text/plain": [
       "                                                     Name   Sex Ticket Cabin  \\\n",
       "count                                                 183   183    183   183   \n",
       "unique                                                183     2    127   133   \n",
       "top     Cumings, Mrs. John Bradley (Florence Briggs Th...  male  19950    G6   \n",
       "freq                                                    1    95      4     4   \n",
       "\n",
       "       Embarked  \n",
       "count       183  \n",
       "unique        3  \n",
       "top           S  \n",
       "freq        116  "
      ]
     },
     "execution_count": 6,
     "metadata": {},
     "output_type": "execute_result"
    }
   ],
   "source": [
    "df.describe(include='object')"
   ]
  },
  {
   "cell_type": "code",
   "execution_count": 8,
   "metadata": {},
   "outputs": [
    {
     "data": {
      "text/plain": [
       "Index(['Unnamed: 0', 'names', 'ages', 'heights'], dtype='object')"
      ]
     },
     "execution_count": 8,
     "metadata": {},
     "output_type": "execute_result"
    }
   ],
   "source": [
    "data=pd.read_csv(\"data/filename.csv\")\n",
    "data.columns"
   ]
  },
  {
   "cell_type": "code",
   "execution_count": 9,
   "metadata": {},
   "outputs": [
    {
     "data": {
      "text/plain": [
       "['Unnamed: 0', 'names', 'ages', 'heights']"
      ]
     },
     "execution_count": 9,
     "metadata": {},
     "output_type": "execute_result"
    }
   ],
   "source": [
    "list(data.columns)"
   ]
  },
  {
   "cell_type": "code",
   "execution_count": 10,
   "metadata": {},
   "outputs": [
    {
     "data": {
      "text/plain": [
       "<pandas.core.indexing._LocIndexer at 0x1aad7f31fe0>"
      ]
     },
     "execution_count": 10,
     "metadata": {},
     "output_type": "execute_result"
    }
   ],
   "source": [
    "data.loc"
   ]
  },
  {
   "cell_type": "code",
   "execution_count": 11,
   "metadata": {},
   "outputs": [
    {
     "data": {
      "text/plain": [
       "<pandas.core.indexing._iLocIndexer at 0x1aad7f30f00>"
      ]
     },
     "execution_count": 11,
     "metadata": {},
     "output_type": "execute_result"
    }
   ],
   "source": [
    "data.iloc()"
   ]
  },
  {
   "cell_type": "code",
   "execution_count": 12,
   "metadata": {},
   "outputs": [
    {
     "data": {
      "text/plain": [
       "0     76\n",
       "1     82\n",
       "2    104\n",
       "3     78\n",
       "4     23\n",
       "5     53\n",
       "6     47\n",
       "7     88\n",
       "8     37\n",
       "Name: ages, dtype: int64"
      ]
     },
     "execution_count": 12,
     "metadata": {},
     "output_type": "execute_result"
    }
   ],
   "source": [
    "data.loc[:,\"ages\"] "
   ]
  },
  {
   "cell_type": "code",
   "execution_count": 13,
   "metadata": {},
   "outputs": [
    {
     "data": {
      "text/plain": [
       "0     76\n",
       "1     82\n",
       "2    104\n",
       "Name: ages, dtype: int64"
      ]
     },
     "execution_count": 13,
     "metadata": {},
     "output_type": "execute_result"
    }
   ],
   "source": [
    "data.iloc[:3,2]"
   ]
  },
  {
   "cell_type": "code",
   "execution_count": 14,
   "metadata": {},
   "outputs": [
    {
     "data": {
      "text/plain": [
       "Unnamed: 0       2\n",
       "names          Ted\n",
       "ages            82\n",
       "heights       1.69\n",
       "Name: 1, dtype: object"
      ]
     },
     "execution_count": 14,
     "metadata": {},
     "output_type": "execute_result"
    }
   ],
   "source": [
    "data.loc[1]"
   ]
  },
  {
   "cell_type": "code",
   "execution_count": 15,
   "metadata": {},
   "outputs": [
    {
     "name": "stdout",
     "output_type": "stream",
     "text": [
      "0     76\n",
      "1     82\n",
      "2    104\n",
      "3     78\n",
      "4     23\n",
      "5     53\n",
      "6     47\n",
      "7     88\n",
      "8     37\n",
      "Name: ages, dtype: int64\n"
     ]
    }
   ],
   "source": [
    "x = data[\"ages\"]\n",
    "print(x)"
   ]
  },
  {
   "cell_type": "code",
   "execution_count": 16,
   "metadata": {},
   "outputs": [
    {
     "name": "stdout",
     "output_type": "stream",
     "text": [
      "   ages\n",
      "0    76\n",
      "1    82\n",
      "2   104\n",
      "3    78\n",
      "4    23\n",
      "5    53\n",
      "6    47\n",
      "7    88\n",
      "8    37\n"
     ]
    }
   ],
   "source": [
    "y = data[[\"ages\"]]\n",
    "print(y)"
   ]
  },
  {
   "cell_type": "code",
   "execution_count": 17,
   "metadata": {},
   "outputs": [
    {
     "name": "stdout",
     "output_type": "stream",
     "text": [
      "<class 'pandas.core.series.Series'>\n",
      "<class 'pandas.core.frame.DataFrame'>\n"
     ]
    }
   ],
   "source": [
    "print(type(x))\n",
    "print(type(y))"
   ]
  },
  {
   "cell_type": "code",
   "execution_count": 18,
   "metadata": {},
   "outputs": [],
   "source": [
    "url = \"https://raw.githubusercontent.com/datasciencedojo/datasets/master/titanic.csv\"\n",
    "df = pd.read_csv(url)"
   ]
  },
  {
   "cell_type": "code",
   "execution_count": 19,
   "metadata": {},
   "outputs": [
    {
     "data": {
      "text/plain": [
       "0                                Braund, Mr. Owen Harris\n",
       "1      Cumings, Mrs. John Bradley (Florence Briggs Th...\n",
       "2                                 Heikkinen, Miss. Laina\n",
       "3           Futrelle, Mrs. Jacques Heath (Lily May Peel)\n",
       "4                               Allen, Mr. William Henry\n",
       "                             ...                        \n",
       "886                                Montvila, Rev. Juozas\n",
       "887                         Graham, Miss. Margaret Edith\n",
       "888             Johnston, Miss. Catherine Helen \"Carrie\"\n",
       "889                                Behr, Mr. Karl Howell\n",
       "890                                  Dooley, Mr. Patrick\n",
       "Name: Name, Length: 891, dtype: object"
      ]
     },
     "execution_count": 19,
     "metadata": {},
     "output_type": "execute_result"
    }
   ],
   "source": [
    "df['Name']"
   ]
  },
  {
   "cell_type": "code",
   "execution_count": 20,
   "metadata": {},
   "outputs": [
    {
     "data": {
      "application/vnd.microsoft.datawrangler.viewer.v0+json": {
       "columns": [
        {
         "name": "index",
         "rawType": "int64",
         "type": "integer"
        },
        {
         "name": "Name",
         "rawType": "object",
         "type": "string"
        },
        {
         "name": "Survived",
         "rawType": "int64",
         "type": "integer"
        }
       ],
       "conversionMethod": "pd.DataFrame",
       "ref": "eaee7925-b87a-47db-86af-e94f2ce26f1f",
       "rows": [
        [
         "0",
         "Braund, Mr. Owen Harris",
         "0"
        ],
        [
         "1",
         "Cumings, Mrs. John Bradley (Florence Briggs Thayer)",
         "1"
        ],
        [
         "2",
         "Heikkinen, Miss. Laina",
         "1"
        ],
        [
         "3",
         "Futrelle, Mrs. Jacques Heath (Lily May Peel)",
         "1"
        ],
        [
         "4",
         "Allen, Mr. William Henry",
         "0"
        ],
        [
         "5",
         "Moran, Mr. James",
         "0"
        ],
        [
         "6",
         "McCarthy, Mr. Timothy J",
         "0"
        ],
        [
         "7",
         "Palsson, Master. Gosta Leonard",
         "0"
        ],
        [
         "8",
         "Johnson, Mrs. Oscar W (Elisabeth Vilhelmina Berg)",
         "1"
        ],
        [
         "9",
         "Nasser, Mrs. Nicholas (Adele Achem)",
         "1"
        ],
        [
         "10",
         "Sandstrom, Miss. Marguerite Rut",
         "1"
        ],
        [
         "11",
         "Bonnell, Miss. Elizabeth",
         "1"
        ],
        [
         "12",
         "Saundercock, Mr. William Henry",
         "0"
        ],
        [
         "13",
         "Andersson, Mr. Anders Johan",
         "0"
        ],
        [
         "14",
         "Vestrom, Miss. Hulda Amanda Adolfina",
         "0"
        ],
        [
         "15",
         "Hewlett, Mrs. (Mary D Kingcome) ",
         "1"
        ],
        [
         "16",
         "Rice, Master. Eugene",
         "0"
        ],
        [
         "17",
         "Williams, Mr. Charles Eugene",
         "1"
        ],
        [
         "18",
         "Vander Planke, Mrs. Julius (Emelia Maria Vandemoortele)",
         "0"
        ],
        [
         "19",
         "Masselmani, Mrs. Fatima",
         "1"
        ],
        [
         "20",
         "Fynney, Mr. Joseph J",
         "0"
        ],
        [
         "21",
         "Beesley, Mr. Lawrence",
         "1"
        ],
        [
         "22",
         "McGowan, Miss. Anna \"Annie\"",
         "1"
        ],
        [
         "23",
         "Sloper, Mr. William Thompson",
         "1"
        ],
        [
         "24",
         "Palsson, Miss. Torborg Danira",
         "0"
        ],
        [
         "25",
         "Asplund, Mrs. Carl Oscar (Selma Augusta Emilia Johansson)",
         "1"
        ],
        [
         "26",
         "Emir, Mr. Farred Chehab",
         "0"
        ],
        [
         "27",
         "Fortune, Mr. Charles Alexander",
         "0"
        ],
        [
         "28",
         "O'Dwyer, Miss. Ellen \"Nellie\"",
         "1"
        ],
        [
         "29",
         "Todoroff, Mr. Lalio",
         "0"
        ],
        [
         "30",
         "Uruchurtu, Don. Manuel E",
         "0"
        ],
        [
         "31",
         "Spencer, Mrs. William Augustus (Marie Eugenie)",
         "1"
        ],
        [
         "32",
         "Glynn, Miss. Mary Agatha",
         "1"
        ],
        [
         "33",
         "Wheadon, Mr. Edward H",
         "0"
        ],
        [
         "34",
         "Meyer, Mr. Edgar Joseph",
         "0"
        ],
        [
         "35",
         "Holverson, Mr. Alexander Oskar",
         "0"
        ],
        [
         "36",
         "Mamee, Mr. Hanna",
         "1"
        ],
        [
         "37",
         "Cann, Mr. Ernest Charles",
         "0"
        ],
        [
         "38",
         "Vander Planke, Miss. Augusta Maria",
         "0"
        ],
        [
         "39",
         "Nicola-Yarred, Miss. Jamila",
         "1"
        ],
        [
         "40",
         "Ahlin, Mrs. Johan (Johanna Persdotter Larsson)",
         "0"
        ],
        [
         "41",
         "Turpin, Mrs. William John Robert (Dorothy Ann Wonnacott)",
         "0"
        ],
        [
         "42",
         "Kraeff, Mr. Theodor",
         "0"
        ],
        [
         "43",
         "Laroche, Miss. Simonne Marie Anne Andree",
         "1"
        ],
        [
         "44",
         "Devaney, Miss. Margaret Delia",
         "1"
        ],
        [
         "45",
         "Rogers, Mr. William John",
         "0"
        ],
        [
         "46",
         "Lennon, Mr. Denis",
         "0"
        ],
        [
         "47",
         "O'Driscoll, Miss. Bridget",
         "1"
        ],
        [
         "48",
         "Samaan, Mr. Youssef",
         "0"
        ],
        [
         "49",
         "Arnold-Franchi, Mrs. Josef (Josefine Franchi)",
         "0"
        ]
       ],
       "shape": {
        "columns": 2,
        "rows": 891
       }
      },
      "text/html": [
       "<div>\n",
       "<style scoped>\n",
       "    .dataframe tbody tr th:only-of-type {\n",
       "        vertical-align: middle;\n",
       "    }\n",
       "\n",
       "    .dataframe tbody tr th {\n",
       "        vertical-align: top;\n",
       "    }\n",
       "\n",
       "    .dataframe thead th {\n",
       "        text-align: right;\n",
       "    }\n",
       "</style>\n",
       "<table border=\"1\" class=\"dataframe\">\n",
       "  <thead>\n",
       "    <tr style=\"text-align: right;\">\n",
       "      <th></th>\n",
       "      <th>Name</th>\n",
       "      <th>Survived</th>\n",
       "    </tr>\n",
       "  </thead>\n",
       "  <tbody>\n",
       "    <tr>\n",
       "      <th>0</th>\n",
       "      <td>Braund, Mr. Owen Harris</td>\n",
       "      <td>0</td>\n",
       "    </tr>\n",
       "    <tr>\n",
       "      <th>1</th>\n",
       "      <td>Cumings, Mrs. John Bradley (Florence Briggs Th...</td>\n",
       "      <td>1</td>\n",
       "    </tr>\n",
       "    <tr>\n",
       "      <th>2</th>\n",
       "      <td>Heikkinen, Miss. Laina</td>\n",
       "      <td>1</td>\n",
       "    </tr>\n",
       "    <tr>\n",
       "      <th>3</th>\n",
       "      <td>Futrelle, Mrs. Jacques Heath (Lily May Peel)</td>\n",
       "      <td>1</td>\n",
       "    </tr>\n",
       "    <tr>\n",
       "      <th>4</th>\n",
       "      <td>Allen, Mr. William Henry</td>\n",
       "      <td>0</td>\n",
       "    </tr>\n",
       "    <tr>\n",
       "      <th>...</th>\n",
       "      <td>...</td>\n",
       "      <td>...</td>\n",
       "    </tr>\n",
       "    <tr>\n",
       "      <th>886</th>\n",
       "      <td>Montvila, Rev. Juozas</td>\n",
       "      <td>0</td>\n",
       "    </tr>\n",
       "    <tr>\n",
       "      <th>887</th>\n",
       "      <td>Graham, Miss. Margaret Edith</td>\n",
       "      <td>1</td>\n",
       "    </tr>\n",
       "    <tr>\n",
       "      <th>888</th>\n",
       "      <td>Johnston, Miss. Catherine Helen \"Carrie\"</td>\n",
       "      <td>0</td>\n",
       "    </tr>\n",
       "    <tr>\n",
       "      <th>889</th>\n",
       "      <td>Behr, Mr. Karl Howell</td>\n",
       "      <td>1</td>\n",
       "    </tr>\n",
       "    <tr>\n",
       "      <th>890</th>\n",
       "      <td>Dooley, Mr. Patrick</td>\n",
       "      <td>0</td>\n",
       "    </tr>\n",
       "  </tbody>\n",
       "</table>\n",
       "<p>891 rows × 2 columns</p>\n",
       "</div>"
      ],
      "text/plain": [
       "                                                  Name  Survived\n",
       "0                              Braund, Mr. Owen Harris         0\n",
       "1    Cumings, Mrs. John Bradley (Florence Briggs Th...         1\n",
       "2                               Heikkinen, Miss. Laina         1\n",
       "3         Futrelle, Mrs. Jacques Heath (Lily May Peel)         1\n",
       "4                             Allen, Mr. William Henry         0\n",
       "..                                                 ...       ...\n",
       "886                              Montvila, Rev. Juozas         0\n",
       "887                       Graham, Miss. Margaret Edith         1\n",
       "888           Johnston, Miss. Catherine Helen \"Carrie\"         0\n",
       "889                              Behr, Mr. Karl Howell         1\n",
       "890                                Dooley, Mr. Patrick         0\n",
       "\n",
       "[891 rows x 2 columns]"
      ]
     },
     "execution_count": 20,
     "metadata": {},
     "output_type": "execute_result"
    }
   ],
   "source": [
    "df[['Name', 'Survived']]"
   ]
  },
  {
   "cell_type": "code",
   "execution_count": 21,
   "metadata": {},
   "outputs": [
    {
     "data": {
      "text/plain": [
       "'Sutehall, Mr. Henry Jr'"
      ]
     },
     "execution_count": 21,
     "metadata": {},
     "output_type": "execute_result"
    }
   ],
   "source": [
    "df['Name'][884]"
   ]
  },
  {
   "cell_type": "code",
   "execution_count": 22,
   "metadata": {},
   "outputs": [
    {
     "data": {
      "text/plain": [
       "880    Shelley, Mrs. William (Imanita Parrish Hall)\n",
       "881                              Markun, Mr. Johann\n",
       "882                    Dahlberg, Miss. Gerda Ulrika\n",
       "883                   Banfield, Mr. Frederick James\n",
       "Name: Name, dtype: object"
      ]
     },
     "execution_count": 22,
     "metadata": {},
     "output_type": "execute_result"
    }
   ],
   "source": [
    "df['Name'][880:884]"
   ]
  },
  {
   "cell_type": "code",
   "execution_count": 23,
   "metadata": {},
   "outputs": [
    {
     "data": {
      "application/vnd.microsoft.datawrangler.viewer.v0+json": {
       "columns": [
        {
         "name": "index",
         "rawType": "int64",
         "type": "integer"
        },
        {
         "name": "Name",
         "rawType": "object",
         "type": "string"
        },
        {
         "name": "Survived",
         "rawType": "int64",
         "type": "integer"
        }
       ],
       "conversionMethod": "pd.DataFrame",
       "ref": "e9f6497f-083a-445b-972d-c7b6bfd9b3aa",
       "rows": [
        [
         "880",
         "Shelley, Mrs. William (Imanita Parrish Hall)",
         "1"
        ],
        [
         "881",
         "Markun, Mr. Johann",
         "0"
        ],
        [
         "882",
         "Dahlberg, Miss. Gerda Ulrika",
         "0"
        ],
        [
         "883",
         "Banfield, Mr. Frederick James",
         "0"
        ]
       ],
       "shape": {
        "columns": 2,
        "rows": 4
       }
      },
      "text/html": [
       "<div>\n",
       "<style scoped>\n",
       "    .dataframe tbody tr th:only-of-type {\n",
       "        vertical-align: middle;\n",
       "    }\n",
       "\n",
       "    .dataframe tbody tr th {\n",
       "        vertical-align: top;\n",
       "    }\n",
       "\n",
       "    .dataframe thead th {\n",
       "        text-align: right;\n",
       "    }\n",
       "</style>\n",
       "<table border=\"1\" class=\"dataframe\">\n",
       "  <thead>\n",
       "    <tr style=\"text-align: right;\">\n",
       "      <th></th>\n",
       "      <th>Name</th>\n",
       "      <th>Survived</th>\n",
       "    </tr>\n",
       "  </thead>\n",
       "  <tbody>\n",
       "    <tr>\n",
       "      <th>880</th>\n",
       "      <td>Shelley, Mrs. William (Imanita Parrish Hall)</td>\n",
       "      <td>1</td>\n",
       "    </tr>\n",
       "    <tr>\n",
       "      <th>881</th>\n",
       "      <td>Markun, Mr. Johann</td>\n",
       "      <td>0</td>\n",
       "    </tr>\n",
       "    <tr>\n",
       "      <th>882</th>\n",
       "      <td>Dahlberg, Miss. Gerda Ulrika</td>\n",
       "      <td>0</td>\n",
       "    </tr>\n",
       "    <tr>\n",
       "      <th>883</th>\n",
       "      <td>Banfield, Mr. Frederick James</td>\n",
       "      <td>0</td>\n",
       "    </tr>\n",
       "  </tbody>\n",
       "</table>\n",
       "</div>"
      ],
      "text/plain": [
       "                                             Name  Survived\n",
       "880  Shelley, Mrs. William (Imanita Parrish Hall)         1\n",
       "881                            Markun, Mr. Johann         0\n",
       "882                  Dahlberg, Miss. Gerda Ulrika         0\n",
       "883                 Banfield, Mr. Frederick James         0"
      ]
     },
     "execution_count": 23,
     "metadata": {},
     "output_type": "execute_result"
    }
   ],
   "source": [
    "df[['Name','Survived']][880:884]"
   ]
  },
  {
   "cell_type": "code",
   "execution_count": 24,
   "metadata": {},
   "outputs": [
    {
     "data": {
      "application/vnd.microsoft.datawrangler.viewer.v0+json": {
       "columns": [
        {
         "name": "index",
         "rawType": "int64",
         "type": "integer"
        },
        {
         "name": "Name",
         "rawType": "object",
         "type": "string"
        },
        {
         "name": "Survived",
         "rawType": "int64",
         "type": "integer"
        }
       ],
       "conversionMethod": "pd.DataFrame",
       "ref": "a528545b-83c1-4cae-84f8-53a2dc0e3235",
       "rows": [
        [
         "880",
         "Shelley, Mrs. William (Imanita Parrish Hall)",
         "1"
        ],
        [
         "881",
         "Markun, Mr. Johann",
         "0"
        ],
        [
         "882",
         "Dahlberg, Miss. Gerda Ulrika",
         "0"
        ],
        [
         "883",
         "Banfield, Mr. Frederick James",
         "0"
        ],
        [
         "884",
         "Sutehall, Mr. Henry Jr",
         "0"
        ]
       ],
       "shape": {
        "columns": 2,
        "rows": 5
       }
      },
      "text/html": [
       "<div>\n",
       "<style scoped>\n",
       "    .dataframe tbody tr th:only-of-type {\n",
       "        vertical-align: middle;\n",
       "    }\n",
       "\n",
       "    .dataframe tbody tr th {\n",
       "        vertical-align: top;\n",
       "    }\n",
       "\n",
       "    .dataframe thead th {\n",
       "        text-align: right;\n",
       "    }\n",
       "</style>\n",
       "<table border=\"1\" class=\"dataframe\">\n",
       "  <thead>\n",
       "    <tr style=\"text-align: right;\">\n",
       "      <th></th>\n",
       "      <th>Name</th>\n",
       "      <th>Survived</th>\n",
       "    </tr>\n",
       "  </thead>\n",
       "  <tbody>\n",
       "    <tr>\n",
       "      <th>880</th>\n",
       "      <td>Shelley, Mrs. William (Imanita Parrish Hall)</td>\n",
       "      <td>1</td>\n",
       "    </tr>\n",
       "    <tr>\n",
       "      <th>881</th>\n",
       "      <td>Markun, Mr. Johann</td>\n",
       "      <td>0</td>\n",
       "    </tr>\n",
       "    <tr>\n",
       "      <th>882</th>\n",
       "      <td>Dahlberg, Miss. Gerda Ulrika</td>\n",
       "      <td>0</td>\n",
       "    </tr>\n",
       "    <tr>\n",
       "      <th>883</th>\n",
       "      <td>Banfield, Mr. Frederick James</td>\n",
       "      <td>0</td>\n",
       "    </tr>\n",
       "    <tr>\n",
       "      <th>884</th>\n",
       "      <td>Sutehall, Mr. Henry Jr</td>\n",
       "      <td>0</td>\n",
       "    </tr>\n",
       "  </tbody>\n",
       "</table>\n",
       "</div>"
      ],
      "text/plain": [
       "                                             Name  Survived\n",
       "880  Shelley, Mrs. William (Imanita Parrish Hall)         1\n",
       "881                            Markun, Mr. Johann         0\n",
       "882                  Dahlberg, Miss. Gerda Ulrika         0\n",
       "883                 Banfield, Mr. Frederick James         0\n",
       "884                        Sutehall, Mr. Henry Jr         0"
      ]
     },
     "execution_count": 24,
     "metadata": {},
     "output_type": "execute_result"
    }
   ],
   "source": [
    "df.loc[880:884,['Name','Survived']]"
   ]
  },
  {
   "cell_type": "code",
   "execution_count": 25,
   "metadata": {},
   "outputs": [
    {
     "data": {
      "text/plain": [
       "PassengerId                         3\n",
       "Survived                            1\n",
       "Pclass                              3\n",
       "Name           Heikkinen, Miss. Laina\n",
       "Sex                            female\n",
       "Age                              26.0\n",
       "SibSp                               0\n",
       "Parch                               0\n",
       "Ticket               STON/O2. 3101282\n",
       "Fare                            7.925\n",
       "Cabin                             NaN\n",
       "Embarked                            S\n",
       "Name: 2, dtype: object"
      ]
     },
     "execution_count": 25,
     "metadata": {},
     "output_type": "execute_result"
    }
   ],
   "source": [
    "df.loc[2]"
   ]
  },
  {
   "cell_type": "code",
   "execution_count": 26,
   "metadata": {},
   "outputs": [
    {
     "data": {
      "application/vnd.microsoft.datawrangler.viewer.v0+json": {
       "columns": [
        {
         "name": "index",
         "rawType": "int64",
         "type": "integer"
        },
        {
         "name": "PassengerId",
         "rawType": "int64",
         "type": "integer"
        },
        {
         "name": "Survived",
         "rawType": "int64",
         "type": "integer"
        },
        {
         "name": "Pclass",
         "rawType": "int64",
         "type": "integer"
        },
        {
         "name": "Name",
         "rawType": "object",
         "type": "string"
        },
        {
         "name": "Sex",
         "rawType": "object",
         "type": "string"
        },
        {
         "name": "Age",
         "rawType": "float64",
         "type": "float"
        },
        {
         "name": "SibSp",
         "rawType": "int64",
         "type": "integer"
        },
        {
         "name": "Parch",
         "rawType": "int64",
         "type": "integer"
        },
        {
         "name": "Ticket",
         "rawType": "object",
         "type": "string"
        },
        {
         "name": "Fare",
         "rawType": "float64",
         "type": "float"
        },
        {
         "name": "Cabin",
         "rawType": "object",
         "type": "unknown"
        },
        {
         "name": "Embarked",
         "rawType": "object",
         "type": "string"
        }
       ],
       "conversionMethod": "pd.DataFrame",
       "ref": "b3c0d9f3-7f7d-44a1-b5c5-73cdbd21bb10",
       "rows": [
        [
         "7",
         "8",
         "0",
         "3",
         "Palsson, Master. Gosta Leonard",
         "male",
         "2.0",
         "3",
         "1",
         "349909",
         "21.075",
         null,
         "S"
        ],
        [
         "10",
         "11",
         "1",
         "3",
         "Sandstrom, Miss. Marguerite Rut",
         "female",
         "4.0",
         "1",
         "1",
         "PP 9549",
         "16.7",
         "G6",
         "S"
        ],
        [
         "16",
         "17",
         "0",
         "3",
         "Rice, Master. Eugene",
         "male",
         "2.0",
         "4",
         "1",
         "382652",
         "29.125",
         null,
         "Q"
        ],
        [
         "43",
         "44",
         "1",
         "2",
         "Laroche, Miss. Simonne Marie Anne Andree",
         "female",
         "3.0",
         "1",
         "2",
         "SC/Paris 2123",
         "41.5792",
         null,
         "C"
        ],
        [
         "58",
         "59",
         "1",
         "2",
         "West, Miss. Constance Mirium",
         "female",
         "5.0",
         "1",
         "2",
         "C.A. 34651",
         "27.75",
         null,
         "S"
        ],
        [
         "63",
         "64",
         "0",
         "3",
         "Skoog, Master. Harald",
         "male",
         "4.0",
         "3",
         "2",
         "347088",
         "27.9",
         null,
         "S"
        ],
        [
         "78",
         "79",
         "1",
         "2",
         "Caldwell, Master. Alden Gates",
         "male",
         "0.83",
         "0",
         "2",
         "248738",
         "29.0",
         null,
         "S"
        ],
        [
         "119",
         "120",
         "0",
         "3",
         "Andersson, Miss. Ellis Anna Maria",
         "female",
         "2.0",
         "4",
         "2",
         "347082",
         "31.275",
         null,
         "S"
        ],
        [
         "164",
         "165",
         "0",
         "3",
         "Panula, Master. Eino Viljami",
         "male",
         "1.0",
         "4",
         "1",
         "3101295",
         "39.6875",
         null,
         "S"
        ],
        [
         "171",
         "172",
         "0",
         "3",
         "Rice, Master. Arthur",
         "male",
         "4.0",
         "4",
         "1",
         "382652",
         "29.125",
         null,
         "Q"
        ],
        [
         "172",
         "173",
         "1",
         "3",
         "Johnson, Miss. Eleanor Ileen",
         "female",
         "1.0",
         "1",
         "1",
         "347742",
         "11.1333",
         null,
         "S"
        ],
        [
         "183",
         "184",
         "1",
         "2",
         "Becker, Master. Richard F",
         "male",
         "1.0",
         "2",
         "1",
         "230136",
         "39.0",
         "F4",
         "S"
        ],
        [
         "184",
         "185",
         "1",
         "3",
         "Kink-Heilmann, Miss. Luise Gretchen",
         "female",
         "4.0",
         "0",
         "2",
         "315153",
         "22.025",
         null,
         "S"
        ],
        [
         "193",
         "194",
         "1",
         "2",
         "Navratil, Master. Michel M",
         "male",
         "3.0",
         "1",
         "1",
         "230080",
         "26.0",
         "F2",
         "S"
        ],
        [
         "205",
         "206",
         "0",
         "3",
         "Strom, Miss. Telma Matilda",
         "female",
         "2.0",
         "0",
         "1",
         "347054",
         "10.4625",
         "G6",
         "S"
        ],
        [
         "233",
         "234",
         "1",
         "3",
         "Asplund, Miss. Lillian Gertrud",
         "female",
         "5.0",
         "4",
         "2",
         "347077",
         "31.3875",
         null,
         "S"
        ],
        [
         "261",
         "262",
         "1",
         "3",
         "Asplund, Master. Edvin Rojj Felix",
         "male",
         "3.0",
         "4",
         "2",
         "347077",
         "31.3875",
         null,
         "S"
        ],
        [
         "297",
         "298",
         "0",
         "1",
         "Allison, Miss. Helen Loraine",
         "female",
         "2.0",
         "1",
         "2",
         "113781",
         "151.55",
         "C22 C26",
         "S"
        ],
        [
         "305",
         "306",
         "1",
         "1",
         "Allison, Master. Hudson Trevor",
         "male",
         "0.92",
         "1",
         "2",
         "113781",
         "151.55",
         "C22 C26",
         "S"
        ],
        [
         "340",
         "341",
         "1",
         "2",
         "Navratil, Master. Edmond Roger",
         "male",
         "2.0",
         "1",
         "1",
         "230080",
         "26.0",
         "F2",
         "S"
        ],
        [
         "348",
         "349",
         "1",
         "3",
         "Coutts, Master. William Loch \"William\"",
         "male",
         "3.0",
         "1",
         "1",
         "C.A. 37671",
         "15.9",
         null,
         "S"
        ],
        [
         "374",
         "375",
         "0",
         "3",
         "Palsson, Miss. Stina Viola",
         "female",
         "3.0",
         "3",
         "1",
         "349909",
         "21.075",
         null,
         "S"
        ],
        [
         "381",
         "382",
         "1",
         "3",
         "Nakid, Miss. Maria (\"Mary\")",
         "female",
         "1.0",
         "0",
         "2",
         "2653",
         "15.7417",
         null,
         "C"
        ],
        [
         "386",
         "387",
         "0",
         "3",
         "Goodwin, Master. Sidney Leonard",
         "male",
         "1.0",
         "5",
         "2",
         "CA 2144",
         "46.9",
         null,
         "S"
        ],
        [
         "407",
         "408",
         "1",
         "2",
         "Richards, Master. William Rowe",
         "male",
         "3.0",
         "1",
         "1",
         "29106",
         "18.75",
         null,
         "S"
        ],
        [
         "445",
         "446",
         "1",
         "1",
         "Dodge, Master. Washington",
         "male",
         "4.0",
         "0",
         "2",
         "33638",
         "81.8583",
         "A34",
         "S"
        ],
        [
         "448",
         "449",
         "1",
         "3",
         "Baclini, Miss. Marie Catherine",
         "female",
         "5.0",
         "2",
         "1",
         "2666",
         "19.2583",
         null,
         "C"
        ],
        [
         "469",
         "470",
         "1",
         "3",
         "Baclini, Miss. Helene Barbara",
         "female",
         "0.75",
         "2",
         "1",
         "2666",
         "19.2583",
         null,
         "C"
        ],
        [
         "479",
         "480",
         "1",
         "3",
         "Hirvonen, Miss. Hildur E",
         "female",
         "2.0",
         "0",
         "1",
         "3101298",
         "12.2875",
         null,
         "S"
        ],
        [
         "530",
         "531",
         "1",
         "2",
         "Quick, Miss. Phyllis May",
         "female",
         "2.0",
         "1",
         "1",
         "26360",
         "26.0",
         null,
         "S"
        ],
        [
         "618",
         "619",
         "1",
         "2",
         "Becker, Miss. Marion Louise",
         "female",
         "4.0",
         "2",
         "1",
         "230136",
         "39.0",
         "F4",
         "S"
        ],
        [
         "642",
         "643",
         "0",
         "3",
         "Skoog, Miss. Margit Elizabeth",
         "female",
         "2.0",
         "3",
         "2",
         "347088",
         "27.9",
         null,
         "S"
        ],
        [
         "644",
         "645",
         "1",
         "3",
         "Baclini, Miss. Eugenie",
         "female",
         "0.75",
         "2",
         "1",
         "2666",
         "19.2583",
         null,
         "C"
        ],
        [
         "691",
         "692",
         "1",
         "3",
         "Karun, Miss. Manca",
         "female",
         "4.0",
         "0",
         "1",
         "349256",
         "13.4167",
         null,
         "C"
        ],
        [
         "720",
         "721",
         "1",
         "2",
         "Harper, Miss. Annie Jessie \"Nina\"",
         "female",
         "6.0",
         "0",
         "1",
         "248727",
         "33.0",
         null,
         "S"
        ],
        [
         "750",
         "751",
         "1",
         "2",
         "Wells, Miss. Joan",
         "female",
         "4.0",
         "1",
         "1",
         "29103",
         "23.0",
         null,
         "S"
        ],
        [
         "751",
         "752",
         "1",
         "3",
         "Moor, Master. Meier",
         "male",
         "6.0",
         "0",
         "1",
         "392096",
         "12.475",
         "E121",
         "S"
        ],
        [
         "755",
         "756",
         "1",
         "2",
         "Hamalainen, Master. Viljo",
         "male",
         "0.67",
         "1",
         "1",
         "250649",
         "14.5",
         null,
         "S"
        ],
        [
         "777",
         "778",
         "1",
         "3",
         "Emanuel, Miss. Virginia Ethel",
         "female",
         "5.0",
         "0",
         "0",
         "364516",
         "12.475",
         null,
         "S"
        ],
        [
         "788",
         "789",
         "1",
         "3",
         "Dean, Master. Bertram Vere",
         "male",
         "1.0",
         "1",
         "2",
         "C.A. 2315",
         "20.575",
         null,
         "S"
        ],
        [
         "803",
         "804",
         "1",
         "3",
         "Thomas, Master. Assad Alexander",
         "male",
         "0.42",
         "0",
         "1",
         "2625",
         "8.5167",
         null,
         "C"
        ],
        [
         "813",
         "814",
         "0",
         "3",
         "Andersson, Miss. Ebba Iris Alfrida",
         "female",
         "6.0",
         "4",
         "2",
         "347082",
         "31.275",
         null,
         "S"
        ],
        [
         "824",
         "825",
         "0",
         "3",
         "Panula, Master. Urho Abraham",
         "male",
         "2.0",
         "4",
         "1",
         "3101295",
         "39.6875",
         null,
         "S"
        ],
        [
         "827",
         "828",
         "1",
         "2",
         "Mallet, Master. Andre",
         "male",
         "1.0",
         "0",
         "2",
         "S.C./PARIS 2079",
         "37.0042",
         null,
         "C"
        ],
        [
         "831",
         "832",
         "1",
         "2",
         "Richards, Master. George Sibley",
         "male",
         "0.83",
         "1",
         "1",
         "29106",
         "18.75",
         null,
         "S"
        ],
        [
         "850",
         "851",
         "0",
         "3",
         "Andersson, Master. Sigvard Harald Elias",
         "male",
         "4.0",
         "4",
         "2",
         "347082",
         "31.275",
         null,
         "S"
        ],
        [
         "869",
         "870",
         "1",
         "3",
         "Johnson, Master. Harold Theodor",
         "male",
         "4.0",
         "1",
         "1",
         "347742",
         "11.1333",
         null,
         "S"
        ]
       ],
       "shape": {
        "columns": 12,
        "rows": 47
       }
      },
      "text/html": [
       "<div>\n",
       "<style scoped>\n",
       "    .dataframe tbody tr th:only-of-type {\n",
       "        vertical-align: middle;\n",
       "    }\n",
       "\n",
       "    .dataframe tbody tr th {\n",
       "        vertical-align: top;\n",
       "    }\n",
       "\n",
       "    .dataframe thead th {\n",
       "        text-align: right;\n",
       "    }\n",
       "</style>\n",
       "<table border=\"1\" class=\"dataframe\">\n",
       "  <thead>\n",
       "    <tr style=\"text-align: right;\">\n",
       "      <th></th>\n",
       "      <th>PassengerId</th>\n",
       "      <th>Survived</th>\n",
       "      <th>Pclass</th>\n",
       "      <th>Name</th>\n",
       "      <th>Sex</th>\n",
       "      <th>Age</th>\n",
       "      <th>SibSp</th>\n",
       "      <th>Parch</th>\n",
       "      <th>Ticket</th>\n",
       "      <th>Fare</th>\n",
       "      <th>Cabin</th>\n",
       "      <th>Embarked</th>\n",
       "    </tr>\n",
       "  </thead>\n",
       "  <tbody>\n",
       "    <tr>\n",
       "      <th>7</th>\n",
       "      <td>8</td>\n",
       "      <td>0</td>\n",
       "      <td>3</td>\n",
       "      <td>Palsson, Master. Gosta Leonard</td>\n",
       "      <td>male</td>\n",
       "      <td>2.00</td>\n",
       "      <td>3</td>\n",
       "      <td>1</td>\n",
       "      <td>349909</td>\n",
       "      <td>21.0750</td>\n",
       "      <td>NaN</td>\n",
       "      <td>S</td>\n",
       "    </tr>\n",
       "    <tr>\n",
       "      <th>10</th>\n",
       "      <td>11</td>\n",
       "      <td>1</td>\n",
       "      <td>3</td>\n",
       "      <td>Sandstrom, Miss. Marguerite Rut</td>\n",
       "      <td>female</td>\n",
       "      <td>4.00</td>\n",
       "      <td>1</td>\n",
       "      <td>1</td>\n",
       "      <td>PP 9549</td>\n",
       "      <td>16.7000</td>\n",
       "      <td>G6</td>\n",
       "      <td>S</td>\n",
       "    </tr>\n",
       "    <tr>\n",
       "      <th>16</th>\n",
       "      <td>17</td>\n",
       "      <td>0</td>\n",
       "      <td>3</td>\n",
       "      <td>Rice, Master. Eugene</td>\n",
       "      <td>male</td>\n",
       "      <td>2.00</td>\n",
       "      <td>4</td>\n",
       "      <td>1</td>\n",
       "      <td>382652</td>\n",
       "      <td>29.1250</td>\n",
       "      <td>NaN</td>\n",
       "      <td>Q</td>\n",
       "    </tr>\n",
       "    <tr>\n",
       "      <th>43</th>\n",
       "      <td>44</td>\n",
       "      <td>1</td>\n",
       "      <td>2</td>\n",
       "      <td>Laroche, Miss. Simonne Marie Anne Andree</td>\n",
       "      <td>female</td>\n",
       "      <td>3.00</td>\n",
       "      <td>1</td>\n",
       "      <td>2</td>\n",
       "      <td>SC/Paris 2123</td>\n",
       "      <td>41.5792</td>\n",
       "      <td>NaN</td>\n",
       "      <td>C</td>\n",
       "    </tr>\n",
       "    <tr>\n",
       "      <th>58</th>\n",
       "      <td>59</td>\n",
       "      <td>1</td>\n",
       "      <td>2</td>\n",
       "      <td>West, Miss. Constance Mirium</td>\n",
       "      <td>female</td>\n",
       "      <td>5.00</td>\n",
       "      <td>1</td>\n",
       "      <td>2</td>\n",
       "      <td>C.A. 34651</td>\n",
       "      <td>27.7500</td>\n",
       "      <td>NaN</td>\n",
       "      <td>S</td>\n",
       "    </tr>\n",
       "    <tr>\n",
       "      <th>63</th>\n",
       "      <td>64</td>\n",
       "      <td>0</td>\n",
       "      <td>3</td>\n",
       "      <td>Skoog, Master. Harald</td>\n",
       "      <td>male</td>\n",
       "      <td>4.00</td>\n",
       "      <td>3</td>\n",
       "      <td>2</td>\n",
       "      <td>347088</td>\n",
       "      <td>27.9000</td>\n",
       "      <td>NaN</td>\n",
       "      <td>S</td>\n",
       "    </tr>\n",
       "    <tr>\n",
       "      <th>78</th>\n",
       "      <td>79</td>\n",
       "      <td>1</td>\n",
       "      <td>2</td>\n",
       "      <td>Caldwell, Master. Alden Gates</td>\n",
       "      <td>male</td>\n",
       "      <td>0.83</td>\n",
       "      <td>0</td>\n",
       "      <td>2</td>\n",
       "      <td>248738</td>\n",
       "      <td>29.0000</td>\n",
       "      <td>NaN</td>\n",
       "      <td>S</td>\n",
       "    </tr>\n",
       "    <tr>\n",
       "      <th>119</th>\n",
       "      <td>120</td>\n",
       "      <td>0</td>\n",
       "      <td>3</td>\n",
       "      <td>Andersson, Miss. Ellis Anna Maria</td>\n",
       "      <td>female</td>\n",
       "      <td>2.00</td>\n",
       "      <td>4</td>\n",
       "      <td>2</td>\n",
       "      <td>347082</td>\n",
       "      <td>31.2750</td>\n",
       "      <td>NaN</td>\n",
       "      <td>S</td>\n",
       "    </tr>\n",
       "    <tr>\n",
       "      <th>164</th>\n",
       "      <td>165</td>\n",
       "      <td>0</td>\n",
       "      <td>3</td>\n",
       "      <td>Panula, Master. Eino Viljami</td>\n",
       "      <td>male</td>\n",
       "      <td>1.00</td>\n",
       "      <td>4</td>\n",
       "      <td>1</td>\n",
       "      <td>3101295</td>\n",
       "      <td>39.6875</td>\n",
       "      <td>NaN</td>\n",
       "      <td>S</td>\n",
       "    </tr>\n",
       "    <tr>\n",
       "      <th>171</th>\n",
       "      <td>172</td>\n",
       "      <td>0</td>\n",
       "      <td>3</td>\n",
       "      <td>Rice, Master. Arthur</td>\n",
       "      <td>male</td>\n",
       "      <td>4.00</td>\n",
       "      <td>4</td>\n",
       "      <td>1</td>\n",
       "      <td>382652</td>\n",
       "      <td>29.1250</td>\n",
       "      <td>NaN</td>\n",
       "      <td>Q</td>\n",
       "    </tr>\n",
       "    <tr>\n",
       "      <th>172</th>\n",
       "      <td>173</td>\n",
       "      <td>1</td>\n",
       "      <td>3</td>\n",
       "      <td>Johnson, Miss. Eleanor Ileen</td>\n",
       "      <td>female</td>\n",
       "      <td>1.00</td>\n",
       "      <td>1</td>\n",
       "      <td>1</td>\n",
       "      <td>347742</td>\n",
       "      <td>11.1333</td>\n",
       "      <td>NaN</td>\n",
       "      <td>S</td>\n",
       "    </tr>\n",
       "    <tr>\n",
       "      <th>183</th>\n",
       "      <td>184</td>\n",
       "      <td>1</td>\n",
       "      <td>2</td>\n",
       "      <td>Becker, Master. Richard F</td>\n",
       "      <td>male</td>\n",
       "      <td>1.00</td>\n",
       "      <td>2</td>\n",
       "      <td>1</td>\n",
       "      <td>230136</td>\n",
       "      <td>39.0000</td>\n",
       "      <td>F4</td>\n",
       "      <td>S</td>\n",
       "    </tr>\n",
       "    <tr>\n",
       "      <th>184</th>\n",
       "      <td>185</td>\n",
       "      <td>1</td>\n",
       "      <td>3</td>\n",
       "      <td>Kink-Heilmann, Miss. Luise Gretchen</td>\n",
       "      <td>female</td>\n",
       "      <td>4.00</td>\n",
       "      <td>0</td>\n",
       "      <td>2</td>\n",
       "      <td>315153</td>\n",
       "      <td>22.0250</td>\n",
       "      <td>NaN</td>\n",
       "      <td>S</td>\n",
       "    </tr>\n",
       "    <tr>\n",
       "      <th>193</th>\n",
       "      <td>194</td>\n",
       "      <td>1</td>\n",
       "      <td>2</td>\n",
       "      <td>Navratil, Master. Michel M</td>\n",
       "      <td>male</td>\n",
       "      <td>3.00</td>\n",
       "      <td>1</td>\n",
       "      <td>1</td>\n",
       "      <td>230080</td>\n",
       "      <td>26.0000</td>\n",
       "      <td>F2</td>\n",
       "      <td>S</td>\n",
       "    </tr>\n",
       "    <tr>\n",
       "      <th>205</th>\n",
       "      <td>206</td>\n",
       "      <td>0</td>\n",
       "      <td>3</td>\n",
       "      <td>Strom, Miss. Telma Matilda</td>\n",
       "      <td>female</td>\n",
       "      <td>2.00</td>\n",
       "      <td>0</td>\n",
       "      <td>1</td>\n",
       "      <td>347054</td>\n",
       "      <td>10.4625</td>\n",
       "      <td>G6</td>\n",
       "      <td>S</td>\n",
       "    </tr>\n",
       "    <tr>\n",
       "      <th>233</th>\n",
       "      <td>234</td>\n",
       "      <td>1</td>\n",
       "      <td>3</td>\n",
       "      <td>Asplund, Miss. Lillian Gertrud</td>\n",
       "      <td>female</td>\n",
       "      <td>5.00</td>\n",
       "      <td>4</td>\n",
       "      <td>2</td>\n",
       "      <td>347077</td>\n",
       "      <td>31.3875</td>\n",
       "      <td>NaN</td>\n",
       "      <td>S</td>\n",
       "    </tr>\n",
       "    <tr>\n",
       "      <th>261</th>\n",
       "      <td>262</td>\n",
       "      <td>1</td>\n",
       "      <td>3</td>\n",
       "      <td>Asplund, Master. Edvin Rojj Felix</td>\n",
       "      <td>male</td>\n",
       "      <td>3.00</td>\n",
       "      <td>4</td>\n",
       "      <td>2</td>\n",
       "      <td>347077</td>\n",
       "      <td>31.3875</td>\n",
       "      <td>NaN</td>\n",
       "      <td>S</td>\n",
       "    </tr>\n",
       "    <tr>\n",
       "      <th>297</th>\n",
       "      <td>298</td>\n",
       "      <td>0</td>\n",
       "      <td>1</td>\n",
       "      <td>Allison, Miss. Helen Loraine</td>\n",
       "      <td>female</td>\n",
       "      <td>2.00</td>\n",
       "      <td>1</td>\n",
       "      <td>2</td>\n",
       "      <td>113781</td>\n",
       "      <td>151.5500</td>\n",
       "      <td>C22 C26</td>\n",
       "      <td>S</td>\n",
       "    </tr>\n",
       "    <tr>\n",
       "      <th>305</th>\n",
       "      <td>306</td>\n",
       "      <td>1</td>\n",
       "      <td>1</td>\n",
       "      <td>Allison, Master. Hudson Trevor</td>\n",
       "      <td>male</td>\n",
       "      <td>0.92</td>\n",
       "      <td>1</td>\n",
       "      <td>2</td>\n",
       "      <td>113781</td>\n",
       "      <td>151.5500</td>\n",
       "      <td>C22 C26</td>\n",
       "      <td>S</td>\n",
       "    </tr>\n",
       "    <tr>\n",
       "      <th>340</th>\n",
       "      <td>341</td>\n",
       "      <td>1</td>\n",
       "      <td>2</td>\n",
       "      <td>Navratil, Master. Edmond Roger</td>\n",
       "      <td>male</td>\n",
       "      <td>2.00</td>\n",
       "      <td>1</td>\n",
       "      <td>1</td>\n",
       "      <td>230080</td>\n",
       "      <td>26.0000</td>\n",
       "      <td>F2</td>\n",
       "      <td>S</td>\n",
       "    </tr>\n",
       "    <tr>\n",
       "      <th>348</th>\n",
       "      <td>349</td>\n",
       "      <td>1</td>\n",
       "      <td>3</td>\n",
       "      <td>Coutts, Master. William Loch \"William\"</td>\n",
       "      <td>male</td>\n",
       "      <td>3.00</td>\n",
       "      <td>1</td>\n",
       "      <td>1</td>\n",
       "      <td>C.A. 37671</td>\n",
       "      <td>15.9000</td>\n",
       "      <td>NaN</td>\n",
       "      <td>S</td>\n",
       "    </tr>\n",
       "    <tr>\n",
       "      <th>374</th>\n",
       "      <td>375</td>\n",
       "      <td>0</td>\n",
       "      <td>3</td>\n",
       "      <td>Palsson, Miss. Stina Viola</td>\n",
       "      <td>female</td>\n",
       "      <td>3.00</td>\n",
       "      <td>3</td>\n",
       "      <td>1</td>\n",
       "      <td>349909</td>\n",
       "      <td>21.0750</td>\n",
       "      <td>NaN</td>\n",
       "      <td>S</td>\n",
       "    </tr>\n",
       "    <tr>\n",
       "      <th>381</th>\n",
       "      <td>382</td>\n",
       "      <td>1</td>\n",
       "      <td>3</td>\n",
       "      <td>Nakid, Miss. Maria (\"Mary\")</td>\n",
       "      <td>female</td>\n",
       "      <td>1.00</td>\n",
       "      <td>0</td>\n",
       "      <td>2</td>\n",
       "      <td>2653</td>\n",
       "      <td>15.7417</td>\n",
       "      <td>NaN</td>\n",
       "      <td>C</td>\n",
       "    </tr>\n",
       "    <tr>\n",
       "      <th>386</th>\n",
       "      <td>387</td>\n",
       "      <td>0</td>\n",
       "      <td>3</td>\n",
       "      <td>Goodwin, Master. Sidney Leonard</td>\n",
       "      <td>male</td>\n",
       "      <td>1.00</td>\n",
       "      <td>5</td>\n",
       "      <td>2</td>\n",
       "      <td>CA 2144</td>\n",
       "      <td>46.9000</td>\n",
       "      <td>NaN</td>\n",
       "      <td>S</td>\n",
       "    </tr>\n",
       "    <tr>\n",
       "      <th>407</th>\n",
       "      <td>408</td>\n",
       "      <td>1</td>\n",
       "      <td>2</td>\n",
       "      <td>Richards, Master. William Rowe</td>\n",
       "      <td>male</td>\n",
       "      <td>3.00</td>\n",
       "      <td>1</td>\n",
       "      <td>1</td>\n",
       "      <td>29106</td>\n",
       "      <td>18.7500</td>\n",
       "      <td>NaN</td>\n",
       "      <td>S</td>\n",
       "    </tr>\n",
       "    <tr>\n",
       "      <th>445</th>\n",
       "      <td>446</td>\n",
       "      <td>1</td>\n",
       "      <td>1</td>\n",
       "      <td>Dodge, Master. Washington</td>\n",
       "      <td>male</td>\n",
       "      <td>4.00</td>\n",
       "      <td>0</td>\n",
       "      <td>2</td>\n",
       "      <td>33638</td>\n",
       "      <td>81.8583</td>\n",
       "      <td>A34</td>\n",
       "      <td>S</td>\n",
       "    </tr>\n",
       "    <tr>\n",
       "      <th>448</th>\n",
       "      <td>449</td>\n",
       "      <td>1</td>\n",
       "      <td>3</td>\n",
       "      <td>Baclini, Miss. Marie Catherine</td>\n",
       "      <td>female</td>\n",
       "      <td>5.00</td>\n",
       "      <td>2</td>\n",
       "      <td>1</td>\n",
       "      <td>2666</td>\n",
       "      <td>19.2583</td>\n",
       "      <td>NaN</td>\n",
       "      <td>C</td>\n",
       "    </tr>\n",
       "    <tr>\n",
       "      <th>469</th>\n",
       "      <td>470</td>\n",
       "      <td>1</td>\n",
       "      <td>3</td>\n",
       "      <td>Baclini, Miss. Helene Barbara</td>\n",
       "      <td>female</td>\n",
       "      <td>0.75</td>\n",
       "      <td>2</td>\n",
       "      <td>1</td>\n",
       "      <td>2666</td>\n",
       "      <td>19.2583</td>\n",
       "      <td>NaN</td>\n",
       "      <td>C</td>\n",
       "    </tr>\n",
       "    <tr>\n",
       "      <th>479</th>\n",
       "      <td>480</td>\n",
       "      <td>1</td>\n",
       "      <td>3</td>\n",
       "      <td>Hirvonen, Miss. Hildur E</td>\n",
       "      <td>female</td>\n",
       "      <td>2.00</td>\n",
       "      <td>0</td>\n",
       "      <td>1</td>\n",
       "      <td>3101298</td>\n",
       "      <td>12.2875</td>\n",
       "      <td>NaN</td>\n",
       "      <td>S</td>\n",
       "    </tr>\n",
       "    <tr>\n",
       "      <th>530</th>\n",
       "      <td>531</td>\n",
       "      <td>1</td>\n",
       "      <td>2</td>\n",
       "      <td>Quick, Miss. Phyllis May</td>\n",
       "      <td>female</td>\n",
       "      <td>2.00</td>\n",
       "      <td>1</td>\n",
       "      <td>1</td>\n",
       "      <td>26360</td>\n",
       "      <td>26.0000</td>\n",
       "      <td>NaN</td>\n",
       "      <td>S</td>\n",
       "    </tr>\n",
       "    <tr>\n",
       "      <th>618</th>\n",
       "      <td>619</td>\n",
       "      <td>1</td>\n",
       "      <td>2</td>\n",
       "      <td>Becker, Miss. Marion Louise</td>\n",
       "      <td>female</td>\n",
       "      <td>4.00</td>\n",
       "      <td>2</td>\n",
       "      <td>1</td>\n",
       "      <td>230136</td>\n",
       "      <td>39.0000</td>\n",
       "      <td>F4</td>\n",
       "      <td>S</td>\n",
       "    </tr>\n",
       "    <tr>\n",
       "      <th>642</th>\n",
       "      <td>643</td>\n",
       "      <td>0</td>\n",
       "      <td>3</td>\n",
       "      <td>Skoog, Miss. Margit Elizabeth</td>\n",
       "      <td>female</td>\n",
       "      <td>2.00</td>\n",
       "      <td>3</td>\n",
       "      <td>2</td>\n",
       "      <td>347088</td>\n",
       "      <td>27.9000</td>\n",
       "      <td>NaN</td>\n",
       "      <td>S</td>\n",
       "    </tr>\n",
       "    <tr>\n",
       "      <th>644</th>\n",
       "      <td>645</td>\n",
       "      <td>1</td>\n",
       "      <td>3</td>\n",
       "      <td>Baclini, Miss. Eugenie</td>\n",
       "      <td>female</td>\n",
       "      <td>0.75</td>\n",
       "      <td>2</td>\n",
       "      <td>1</td>\n",
       "      <td>2666</td>\n",
       "      <td>19.2583</td>\n",
       "      <td>NaN</td>\n",
       "      <td>C</td>\n",
       "    </tr>\n",
       "    <tr>\n",
       "      <th>691</th>\n",
       "      <td>692</td>\n",
       "      <td>1</td>\n",
       "      <td>3</td>\n",
       "      <td>Karun, Miss. Manca</td>\n",
       "      <td>female</td>\n",
       "      <td>4.00</td>\n",
       "      <td>0</td>\n",
       "      <td>1</td>\n",
       "      <td>349256</td>\n",
       "      <td>13.4167</td>\n",
       "      <td>NaN</td>\n",
       "      <td>C</td>\n",
       "    </tr>\n",
       "    <tr>\n",
       "      <th>720</th>\n",
       "      <td>721</td>\n",
       "      <td>1</td>\n",
       "      <td>2</td>\n",
       "      <td>Harper, Miss. Annie Jessie \"Nina\"</td>\n",
       "      <td>female</td>\n",
       "      <td>6.00</td>\n",
       "      <td>0</td>\n",
       "      <td>1</td>\n",
       "      <td>248727</td>\n",
       "      <td>33.0000</td>\n",
       "      <td>NaN</td>\n",
       "      <td>S</td>\n",
       "    </tr>\n",
       "    <tr>\n",
       "      <th>750</th>\n",
       "      <td>751</td>\n",
       "      <td>1</td>\n",
       "      <td>2</td>\n",
       "      <td>Wells, Miss. Joan</td>\n",
       "      <td>female</td>\n",
       "      <td>4.00</td>\n",
       "      <td>1</td>\n",
       "      <td>1</td>\n",
       "      <td>29103</td>\n",
       "      <td>23.0000</td>\n",
       "      <td>NaN</td>\n",
       "      <td>S</td>\n",
       "    </tr>\n",
       "    <tr>\n",
       "      <th>751</th>\n",
       "      <td>752</td>\n",
       "      <td>1</td>\n",
       "      <td>3</td>\n",
       "      <td>Moor, Master. Meier</td>\n",
       "      <td>male</td>\n",
       "      <td>6.00</td>\n",
       "      <td>0</td>\n",
       "      <td>1</td>\n",
       "      <td>392096</td>\n",
       "      <td>12.4750</td>\n",
       "      <td>E121</td>\n",
       "      <td>S</td>\n",
       "    </tr>\n",
       "    <tr>\n",
       "      <th>755</th>\n",
       "      <td>756</td>\n",
       "      <td>1</td>\n",
       "      <td>2</td>\n",
       "      <td>Hamalainen, Master. Viljo</td>\n",
       "      <td>male</td>\n",
       "      <td>0.67</td>\n",
       "      <td>1</td>\n",
       "      <td>1</td>\n",
       "      <td>250649</td>\n",
       "      <td>14.5000</td>\n",
       "      <td>NaN</td>\n",
       "      <td>S</td>\n",
       "    </tr>\n",
       "    <tr>\n",
       "      <th>777</th>\n",
       "      <td>778</td>\n",
       "      <td>1</td>\n",
       "      <td>3</td>\n",
       "      <td>Emanuel, Miss. Virginia Ethel</td>\n",
       "      <td>female</td>\n",
       "      <td>5.00</td>\n",
       "      <td>0</td>\n",
       "      <td>0</td>\n",
       "      <td>364516</td>\n",
       "      <td>12.4750</td>\n",
       "      <td>NaN</td>\n",
       "      <td>S</td>\n",
       "    </tr>\n",
       "    <tr>\n",
       "      <th>788</th>\n",
       "      <td>789</td>\n",
       "      <td>1</td>\n",
       "      <td>3</td>\n",
       "      <td>Dean, Master. Bertram Vere</td>\n",
       "      <td>male</td>\n",
       "      <td>1.00</td>\n",
       "      <td>1</td>\n",
       "      <td>2</td>\n",
       "      <td>C.A. 2315</td>\n",
       "      <td>20.5750</td>\n",
       "      <td>NaN</td>\n",
       "      <td>S</td>\n",
       "    </tr>\n",
       "    <tr>\n",
       "      <th>803</th>\n",
       "      <td>804</td>\n",
       "      <td>1</td>\n",
       "      <td>3</td>\n",
       "      <td>Thomas, Master. Assad Alexander</td>\n",
       "      <td>male</td>\n",
       "      <td>0.42</td>\n",
       "      <td>0</td>\n",
       "      <td>1</td>\n",
       "      <td>2625</td>\n",
       "      <td>8.5167</td>\n",
       "      <td>NaN</td>\n",
       "      <td>C</td>\n",
       "    </tr>\n",
       "    <tr>\n",
       "      <th>813</th>\n",
       "      <td>814</td>\n",
       "      <td>0</td>\n",
       "      <td>3</td>\n",
       "      <td>Andersson, Miss. Ebba Iris Alfrida</td>\n",
       "      <td>female</td>\n",
       "      <td>6.00</td>\n",
       "      <td>4</td>\n",
       "      <td>2</td>\n",
       "      <td>347082</td>\n",
       "      <td>31.2750</td>\n",
       "      <td>NaN</td>\n",
       "      <td>S</td>\n",
       "    </tr>\n",
       "    <tr>\n",
       "      <th>824</th>\n",
       "      <td>825</td>\n",
       "      <td>0</td>\n",
       "      <td>3</td>\n",
       "      <td>Panula, Master. Urho Abraham</td>\n",
       "      <td>male</td>\n",
       "      <td>2.00</td>\n",
       "      <td>4</td>\n",
       "      <td>1</td>\n",
       "      <td>3101295</td>\n",
       "      <td>39.6875</td>\n",
       "      <td>NaN</td>\n",
       "      <td>S</td>\n",
       "    </tr>\n",
       "    <tr>\n",
       "      <th>827</th>\n",
       "      <td>828</td>\n",
       "      <td>1</td>\n",
       "      <td>2</td>\n",
       "      <td>Mallet, Master. Andre</td>\n",
       "      <td>male</td>\n",
       "      <td>1.00</td>\n",
       "      <td>0</td>\n",
       "      <td>2</td>\n",
       "      <td>S.C./PARIS 2079</td>\n",
       "      <td>37.0042</td>\n",
       "      <td>NaN</td>\n",
       "      <td>C</td>\n",
       "    </tr>\n",
       "    <tr>\n",
       "      <th>831</th>\n",
       "      <td>832</td>\n",
       "      <td>1</td>\n",
       "      <td>2</td>\n",
       "      <td>Richards, Master. George Sibley</td>\n",
       "      <td>male</td>\n",
       "      <td>0.83</td>\n",
       "      <td>1</td>\n",
       "      <td>1</td>\n",
       "      <td>29106</td>\n",
       "      <td>18.7500</td>\n",
       "      <td>NaN</td>\n",
       "      <td>S</td>\n",
       "    </tr>\n",
       "    <tr>\n",
       "      <th>850</th>\n",
       "      <td>851</td>\n",
       "      <td>0</td>\n",
       "      <td>3</td>\n",
       "      <td>Andersson, Master. Sigvard Harald Elias</td>\n",
       "      <td>male</td>\n",
       "      <td>4.00</td>\n",
       "      <td>4</td>\n",
       "      <td>2</td>\n",
       "      <td>347082</td>\n",
       "      <td>31.2750</td>\n",
       "      <td>NaN</td>\n",
       "      <td>S</td>\n",
       "    </tr>\n",
       "    <tr>\n",
       "      <th>869</th>\n",
       "      <td>870</td>\n",
       "      <td>1</td>\n",
       "      <td>3</td>\n",
       "      <td>Johnson, Master. Harold Theodor</td>\n",
       "      <td>male</td>\n",
       "      <td>4.00</td>\n",
       "      <td>1</td>\n",
       "      <td>1</td>\n",
       "      <td>347742</td>\n",
       "      <td>11.1333</td>\n",
       "      <td>NaN</td>\n",
       "      <td>S</td>\n",
       "    </tr>\n",
       "  </tbody>\n",
       "</table>\n",
       "</div>"
      ],
      "text/plain": [
       "     PassengerId  Survived  Pclass                                      Name  \\\n",
       "7              8         0       3            Palsson, Master. Gosta Leonard   \n",
       "10            11         1       3           Sandstrom, Miss. Marguerite Rut   \n",
       "16            17         0       3                      Rice, Master. Eugene   \n",
       "43            44         1       2  Laroche, Miss. Simonne Marie Anne Andree   \n",
       "58            59         1       2              West, Miss. Constance Mirium   \n",
       "63            64         0       3                     Skoog, Master. Harald   \n",
       "78            79         1       2             Caldwell, Master. Alden Gates   \n",
       "119          120         0       3         Andersson, Miss. Ellis Anna Maria   \n",
       "164          165         0       3              Panula, Master. Eino Viljami   \n",
       "171          172         0       3                      Rice, Master. Arthur   \n",
       "172          173         1       3              Johnson, Miss. Eleanor Ileen   \n",
       "183          184         1       2                 Becker, Master. Richard F   \n",
       "184          185         1       3       Kink-Heilmann, Miss. Luise Gretchen   \n",
       "193          194         1       2                Navratil, Master. Michel M   \n",
       "205          206         0       3                Strom, Miss. Telma Matilda   \n",
       "233          234         1       3            Asplund, Miss. Lillian Gertrud   \n",
       "261          262         1       3         Asplund, Master. Edvin Rojj Felix   \n",
       "297          298         0       1              Allison, Miss. Helen Loraine   \n",
       "305          306         1       1            Allison, Master. Hudson Trevor   \n",
       "340          341         1       2            Navratil, Master. Edmond Roger   \n",
       "348          349         1       3    Coutts, Master. William Loch \"William\"   \n",
       "374          375         0       3                Palsson, Miss. Stina Viola   \n",
       "381          382         1       3               Nakid, Miss. Maria (\"Mary\")   \n",
       "386          387         0       3           Goodwin, Master. Sidney Leonard   \n",
       "407          408         1       2            Richards, Master. William Rowe   \n",
       "445          446         1       1                 Dodge, Master. Washington   \n",
       "448          449         1       3            Baclini, Miss. Marie Catherine   \n",
       "469          470         1       3             Baclini, Miss. Helene Barbara   \n",
       "479          480         1       3                  Hirvonen, Miss. Hildur E   \n",
       "530          531         1       2                  Quick, Miss. Phyllis May   \n",
       "618          619         1       2               Becker, Miss. Marion Louise   \n",
       "642          643         0       3             Skoog, Miss. Margit Elizabeth   \n",
       "644          645         1       3                    Baclini, Miss. Eugenie   \n",
       "691          692         1       3                        Karun, Miss. Manca   \n",
       "720          721         1       2         Harper, Miss. Annie Jessie \"Nina\"   \n",
       "750          751         1       2                         Wells, Miss. Joan   \n",
       "751          752         1       3                       Moor, Master. Meier   \n",
       "755          756         1       2                 Hamalainen, Master. Viljo   \n",
       "777          778         1       3             Emanuel, Miss. Virginia Ethel   \n",
       "788          789         1       3                Dean, Master. Bertram Vere   \n",
       "803          804         1       3           Thomas, Master. Assad Alexander   \n",
       "813          814         0       3        Andersson, Miss. Ebba Iris Alfrida   \n",
       "824          825         0       3              Panula, Master. Urho Abraham   \n",
       "827          828         1       2                     Mallet, Master. Andre   \n",
       "831          832         1       2           Richards, Master. George Sibley   \n",
       "850          851         0       3   Andersson, Master. Sigvard Harald Elias   \n",
       "869          870         1       3           Johnson, Master. Harold Theodor   \n",
       "\n",
       "        Sex   Age  SibSp  Parch           Ticket      Fare    Cabin Embarked  \n",
       "7      male  2.00      3      1           349909   21.0750      NaN        S  \n",
       "10   female  4.00      1      1          PP 9549   16.7000       G6        S  \n",
       "16     male  2.00      4      1           382652   29.1250      NaN        Q  \n",
       "43   female  3.00      1      2    SC/Paris 2123   41.5792      NaN        C  \n",
       "58   female  5.00      1      2       C.A. 34651   27.7500      NaN        S  \n",
       "63     male  4.00      3      2           347088   27.9000      NaN        S  \n",
       "78     male  0.83      0      2           248738   29.0000      NaN        S  \n",
       "119  female  2.00      4      2           347082   31.2750      NaN        S  \n",
       "164    male  1.00      4      1          3101295   39.6875      NaN        S  \n",
       "171    male  4.00      4      1           382652   29.1250      NaN        Q  \n",
       "172  female  1.00      1      1           347742   11.1333      NaN        S  \n",
       "183    male  1.00      2      1           230136   39.0000       F4        S  \n",
       "184  female  4.00      0      2           315153   22.0250      NaN        S  \n",
       "193    male  3.00      1      1           230080   26.0000       F2        S  \n",
       "205  female  2.00      0      1           347054   10.4625       G6        S  \n",
       "233  female  5.00      4      2           347077   31.3875      NaN        S  \n",
       "261    male  3.00      4      2           347077   31.3875      NaN        S  \n",
       "297  female  2.00      1      2           113781  151.5500  C22 C26        S  \n",
       "305    male  0.92      1      2           113781  151.5500  C22 C26        S  \n",
       "340    male  2.00      1      1           230080   26.0000       F2        S  \n",
       "348    male  3.00      1      1       C.A. 37671   15.9000      NaN        S  \n",
       "374  female  3.00      3      1           349909   21.0750      NaN        S  \n",
       "381  female  1.00      0      2             2653   15.7417      NaN        C  \n",
       "386    male  1.00      5      2          CA 2144   46.9000      NaN        S  \n",
       "407    male  3.00      1      1            29106   18.7500      NaN        S  \n",
       "445    male  4.00      0      2            33638   81.8583      A34        S  \n",
       "448  female  5.00      2      1             2666   19.2583      NaN        C  \n",
       "469  female  0.75      2      1             2666   19.2583      NaN        C  \n",
       "479  female  2.00      0      1          3101298   12.2875      NaN        S  \n",
       "530  female  2.00      1      1            26360   26.0000      NaN        S  \n",
       "618  female  4.00      2      1           230136   39.0000       F4        S  \n",
       "642  female  2.00      3      2           347088   27.9000      NaN        S  \n",
       "644  female  0.75      2      1             2666   19.2583      NaN        C  \n",
       "691  female  4.00      0      1           349256   13.4167      NaN        C  \n",
       "720  female  6.00      0      1           248727   33.0000      NaN        S  \n",
       "750  female  4.00      1      1            29103   23.0000      NaN        S  \n",
       "751    male  6.00      0      1           392096   12.4750     E121        S  \n",
       "755    male  0.67      1      1           250649   14.5000      NaN        S  \n",
       "777  female  5.00      0      0           364516   12.4750      NaN        S  \n",
       "788    male  1.00      1      2        C.A. 2315   20.5750      NaN        S  \n",
       "803    male  0.42      0      1             2625    8.5167      NaN        C  \n",
       "813  female  6.00      4      2           347082   31.2750      NaN        S  \n",
       "824    male  2.00      4      1          3101295   39.6875      NaN        S  \n",
       "827    male  1.00      0      2  S.C./PARIS 2079   37.0042      NaN        C  \n",
       "831    male  0.83      1      1            29106   18.7500      NaN        S  \n",
       "850    male  4.00      4      2           347082   31.2750      NaN        S  \n",
       "869    male  4.00      1      1           347742   11.1333      NaN        S  "
      ]
     },
     "execution_count": 26,
     "metadata": {},
     "output_type": "execute_result"
    }
   ],
   "source": [
    "df.loc[df['Age'] <= 6]"
   ]
  },
  {
   "cell_type": "code",
   "execution_count": 27,
   "metadata": {},
   "outputs": [],
   "source": [
    "df2 = df.loc[df['Age'] >= 12]"
   ]
  },
  {
   "cell_type": "markdown",
   "metadata": {},
   "source": [
    "#### Exercise 3.1:"
   ]
  },
  {
   "cell_type": "code",
   "execution_count": 51,
   "metadata": {},
   "outputs": [
    {
     "name": "stdout",
     "output_type": "stream",
     "text": [
      "Sex\n",
      "male      373\n",
      "female    202\n",
      "Name: count, dtype: int64\n"
     ]
    }
   ],
   "source": [
    "# Filter for people aged between 18 and 60\n",
    "filtered_df = df[(df['Age'] >= 18) & (df['Age'] < 60)]\n",
    "\n",
    "# Count the number of males and females\n",
    "gender_counts = filtered_df['Sex'].value_counts()\n",
    "\n",
    "print(gender_counts)"
   ]
  },
  {
   "cell_type": "code",
   "execution_count": 28,
   "metadata": {},
   "outputs": [],
   "source": [
    "df2.to_csv('new_titanic.csv')"
   ]
  },
  {
   "cell_type": "code",
   "execution_count": 29,
   "metadata": {},
   "outputs": [],
   "source": [
    "df2.to_csv('new_titanic.csv', index=None, header=True)"
   ]
  },
  {
   "cell_type": "code",
   "execution_count": 30,
   "metadata": {},
   "outputs": [
    {
     "data": {
      "text/plain": [
       "np.float64(29.69911764705882)"
      ]
     },
     "execution_count": 30,
     "metadata": {},
     "output_type": "execute_result"
    }
   ],
   "source": [
    "df['Age'].mean()"
   ]
  },
  {
   "cell_type": "code",
   "execution_count": 33,
   "metadata": {},
   "outputs": [
    {
     "data": {
      "text/plain": [
       "np.float64(80.0)"
      ]
     },
     "execution_count": 33,
     "metadata": {},
     "output_type": "execute_result"
    }
   ],
   "source": [
    "df['Age'].max() # oldest"
   ]
  },
  {
   "cell_type": "code",
   "execution_count": 34,
   "metadata": {},
   "outputs": [
    {
     "data": {
      "text/plain": [
       "np.float64(0.42)"
      ]
     },
     "execution_count": 34,
     "metadata": {},
     "output_type": "execute_result"
    }
   ],
   "source": [
    "df['Age'].min() # youngest"
   ]
  },
  {
   "cell_type": "code",
   "execution_count": 35,
   "metadata": {},
   "outputs": [
    {
     "data": {
      "text/plain": [
       "np.float64(21205.17)"
      ]
     },
     "execution_count": 35,
     "metadata": {},
     "output_type": "execute_result"
    }
   ],
   "source": [
    "df['Age'].sum() # total years"
   ]
  },
  {
   "cell_type": "code",
   "execution_count": 36,
   "metadata": {},
   "outputs": [
    {
     "data": {
      "text/plain": [
       "np.float64(14.526497332334042)"
      ]
     },
     "execution_count": 36,
     "metadata": {},
     "output_type": "execute_result"
    }
   ],
   "source": [
    "df['Age'].std() # standard deviation"
   ]
  },
  {
   "cell_type": "code",
   "execution_count": 37,
   "metadata": {},
   "outputs": [
    {
     "data": {
      "text/plain": [
       "np.float64(28.0)"
      ]
     },
     "execution_count": 37,
     "metadata": {},
     "output_type": "execute_result"
    }
   ],
   "source": [
    "df['Age'].median() # half of the people were older (/younger)"
   ]
  },
  {
   "cell_type": "code",
   "execution_count": 38,
   "metadata": {},
   "outputs": [
    {
     "data": {
      "text/plain": [
       "0    24.0\n",
       "Name: Age, dtype: float64"
      ]
     },
     "execution_count": 38,
     "metadata": {},
     "output_type": "execute_result"
    }
   ],
   "source": [
    "df['Age'].mode() # most common age"
   ]
  },
  {
   "cell_type": "code",
   "execution_count": 39,
   "metadata": {},
   "outputs": [
    {
     "data": {
      "text/plain": [
       "Sex     Pclass\n",
       "female  1         34.611765\n",
       "        2         28.722973\n",
       "        3         21.750000\n",
       "male    1         41.281386\n",
       "        2         30.740707\n",
       "        3         26.507589\n",
       "Name: Age, dtype: float64"
      ]
     },
     "execution_count": 39,
     "metadata": {},
     "output_type": "execute_result"
    }
   ],
   "source": [
    "sex_class = df.groupby(['Sex','Pclass'])['Age']\n",
    "sex_class.mean()"
   ]
  },
  {
   "cell_type": "markdown",
   "metadata": {},
   "source": [
    "#### Exercise 3.2:"
   ]
  },
  {
   "cell_type": "code",
   "execution_count": 52,
   "metadata": {},
   "outputs": [
    {
     "name": "stdout",
     "output_type": "stream",
     "text": [
      "Class with the oldest passengers (on average): 1\n",
      "Class with the youngest passengers (on average): 3\n",
      "Gender with the largest age variation: male\n"
     ]
    }
   ],
   "source": [
    "# Drop NaN values in 'Age' to avoid calculation errors\n",
    "df = df.dropna(subset=['Age'])\n",
    "\n",
    "# 1. Find the class with the oldest and youngest passengers\n",
    "age_by_class = df.groupby(\"Pclass\")[\"Age\"].mean()\n",
    "oldest_class = age_by_class.idxmax()  # Class with highest average age\n",
    "youngest_class = age_by_class.idxmin()  # Class with lowest average age\n",
    "\n",
    "# 2. Find the gender with the largest variation in age\n",
    "std_by_gender = df.groupby(\"Sex\")[\"Age\"].std()\n",
    "highest_variation_gender = std_by_gender.idxmax()  # Gender with max standard deviation\n",
    "\n",
    "# Output results\n",
    "print(f\"Class with the oldest passengers (on average): {oldest_class}\")\n",
    "print(f\"Class with the youngest passengers (on average): {youngest_class}\")\n",
    "print(f\"Gender with the largest age variation: {highest_variation_gender}\")"
   ]
  },
  {
   "cell_type": "code",
   "execution_count": 40,
   "metadata": {},
   "outputs": [
    {
     "data": {
      "application/vnd.microsoft.datawrangler.viewer.v0+json": {
       "columns": [
        {
         "name": "index",
         "rawType": "int64",
         "type": "integer"
        },
        {
         "name": "PassengerId",
         "rawType": "int64",
         "type": "integer"
        },
        {
         "name": "Survived",
         "rawType": "int64",
         "type": "integer"
        },
        {
         "name": "Pclass",
         "rawType": "int64",
         "type": "integer"
        },
        {
         "name": "Name",
         "rawType": "object",
         "type": "string"
        },
        {
         "name": "Sex",
         "rawType": "object",
         "type": "string"
        },
        {
         "name": "Age",
         "rawType": "float64",
         "type": "float"
        },
        {
         "name": "SibSp",
         "rawType": "int64",
         "type": "integer"
        },
        {
         "name": "Parch",
         "rawType": "int64",
         "type": "integer"
        },
        {
         "name": "Ticket",
         "rawType": "object",
         "type": "string"
        },
        {
         "name": "Fare",
         "rawType": "float64",
         "type": "float"
        },
        {
         "name": "Cabin",
         "rawType": "object",
         "type": "unknown"
        },
        {
         "name": "Embarked",
         "rawType": "object",
         "type": "string"
        }
       ],
       "conversionMethod": "pd.DataFrame",
       "ref": "d6f9fef7-72d8-4263-b2ec-42fc92f1bf57",
       "rows": [
        [
         "0",
         "1",
         "0",
         "3",
         "Braund, Mr. Owen Harris",
         "male",
         "22.0",
         "1",
         "0",
         "A/5 21171",
         "7.25",
         null,
         "S"
        ],
        [
         "1",
         "2",
         "1",
         "1",
         "Cumings, Mrs. John Bradley (Florence Briggs Thayer)",
         "female",
         "38.0",
         "1",
         "0",
         "PC 17599",
         "71.2833",
         "C85",
         "C"
        ],
        [
         "2",
         "3",
         "1",
         "3",
         "Heikkinen, Miss. Laina",
         "female",
         "26.0",
         "0",
         "0",
         "STON/O2. 3101282",
         "7.925",
         null,
         "S"
        ],
        [
         "3",
         "4",
         "1",
         "1",
         "Futrelle, Mrs. Jacques Heath (Lily May Peel)",
         "female",
         "35.0",
         "1",
         "0",
         "113803",
         "53.1",
         "C123",
         "S"
        ],
        [
         "4",
         "5",
         "0",
         "3",
         "Allen, Mr. William Henry",
         "male",
         "35.0",
         "0",
         "0",
         "373450",
         "8.05",
         null,
         "S"
        ]
       ],
       "shape": {
        "columns": 12,
        "rows": 5
       }
      },
      "text/html": [
       "<div>\n",
       "<style scoped>\n",
       "    .dataframe tbody tr th:only-of-type {\n",
       "        vertical-align: middle;\n",
       "    }\n",
       "\n",
       "    .dataframe tbody tr th {\n",
       "        vertical-align: top;\n",
       "    }\n",
       "\n",
       "    .dataframe thead th {\n",
       "        text-align: right;\n",
       "    }\n",
       "</style>\n",
       "<table border=\"1\" class=\"dataframe\">\n",
       "  <thead>\n",
       "    <tr style=\"text-align: right;\">\n",
       "      <th></th>\n",
       "      <th>PassengerId</th>\n",
       "      <th>Survived</th>\n",
       "      <th>Pclass</th>\n",
       "      <th>Name</th>\n",
       "      <th>Sex</th>\n",
       "      <th>Age</th>\n",
       "      <th>SibSp</th>\n",
       "      <th>Parch</th>\n",
       "      <th>Ticket</th>\n",
       "      <th>Fare</th>\n",
       "      <th>Cabin</th>\n",
       "      <th>Embarked</th>\n",
       "    </tr>\n",
       "  </thead>\n",
       "  <tbody>\n",
       "    <tr>\n",
       "      <th>0</th>\n",
       "      <td>1</td>\n",
       "      <td>0</td>\n",
       "      <td>3</td>\n",
       "      <td>Braund, Mr. Owen Harris</td>\n",
       "      <td>male</td>\n",
       "      <td>22.0</td>\n",
       "      <td>1</td>\n",
       "      <td>0</td>\n",
       "      <td>A/5 21171</td>\n",
       "      <td>7.2500</td>\n",
       "      <td>NaN</td>\n",
       "      <td>S</td>\n",
       "    </tr>\n",
       "    <tr>\n",
       "      <th>1</th>\n",
       "      <td>2</td>\n",
       "      <td>1</td>\n",
       "      <td>1</td>\n",
       "      <td>Cumings, Mrs. John Bradley (Florence Briggs Th...</td>\n",
       "      <td>female</td>\n",
       "      <td>38.0</td>\n",
       "      <td>1</td>\n",
       "      <td>0</td>\n",
       "      <td>PC 17599</td>\n",
       "      <td>71.2833</td>\n",
       "      <td>C85</td>\n",
       "      <td>C</td>\n",
       "    </tr>\n",
       "    <tr>\n",
       "      <th>2</th>\n",
       "      <td>3</td>\n",
       "      <td>1</td>\n",
       "      <td>3</td>\n",
       "      <td>Heikkinen, Miss. Laina</td>\n",
       "      <td>female</td>\n",
       "      <td>26.0</td>\n",
       "      <td>0</td>\n",
       "      <td>0</td>\n",
       "      <td>STON/O2. 3101282</td>\n",
       "      <td>7.9250</td>\n",
       "      <td>NaN</td>\n",
       "      <td>S</td>\n",
       "    </tr>\n",
       "    <tr>\n",
       "      <th>3</th>\n",
       "      <td>4</td>\n",
       "      <td>1</td>\n",
       "      <td>1</td>\n",
       "      <td>Futrelle, Mrs. Jacques Heath (Lily May Peel)</td>\n",
       "      <td>female</td>\n",
       "      <td>35.0</td>\n",
       "      <td>1</td>\n",
       "      <td>0</td>\n",
       "      <td>113803</td>\n",
       "      <td>53.1000</td>\n",
       "      <td>C123</td>\n",
       "      <td>S</td>\n",
       "    </tr>\n",
       "    <tr>\n",
       "      <th>4</th>\n",
       "      <td>5</td>\n",
       "      <td>0</td>\n",
       "      <td>3</td>\n",
       "      <td>Allen, Mr. William Henry</td>\n",
       "      <td>male</td>\n",
       "      <td>35.0</td>\n",
       "      <td>0</td>\n",
       "      <td>0</td>\n",
       "      <td>373450</td>\n",
       "      <td>8.0500</td>\n",
       "      <td>NaN</td>\n",
       "      <td>S</td>\n",
       "    </tr>\n",
       "  </tbody>\n",
       "</table>\n",
       "</div>"
      ],
      "text/plain": [
       "   PassengerId  Survived  Pclass  \\\n",
       "0            1         0       3   \n",
       "1            2         1       1   \n",
       "2            3         1       3   \n",
       "3            4         1       1   \n",
       "4            5         0       3   \n",
       "\n",
       "                                                Name     Sex   Age  SibSp  \\\n",
       "0                            Braund, Mr. Owen Harris    male  22.0      1   \n",
       "1  Cumings, Mrs. John Bradley (Florence Briggs Th...  female  38.0      1   \n",
       "2                             Heikkinen, Miss. Laina  female  26.0      0   \n",
       "3       Futrelle, Mrs. Jacques Heath (Lily May Peel)  female  35.0      1   \n",
       "4                           Allen, Mr. William Henry    male  35.0      0   \n",
       "\n",
       "   Parch            Ticket     Fare Cabin Embarked  \n",
       "0      0         A/5 21171   7.2500   NaN        S  \n",
       "1      0          PC 17599  71.2833   C85        C  \n",
       "2      0  STON/O2. 3101282   7.9250   NaN        S  \n",
       "3      0            113803  53.1000  C123        S  \n",
       "4      0            373450   8.0500   NaN        S  "
      ]
     },
     "execution_count": 40,
     "metadata": {},
     "output_type": "execute_result"
    }
   ],
   "source": [
    "url = \"https://raw.githubusercontent.com/datasciencedojo/datasets/master/titanic.csv\"\n",
    "titanic = pd.read_csv(url)\n",
    "titanic.head()"
   ]
  },
  {
   "cell_type": "code",
   "execution_count": 41,
   "metadata": {},
   "outputs": [],
   "source": [
    "fun = {'PassengerId':'count','Age':'mean'}"
   ]
  },
  {
   "cell_type": "code",
   "execution_count": 42,
   "metadata": {},
   "outputs": [
    {
     "data": {
      "application/vnd.microsoft.datawrangler.viewer.v0+json": {
       "columns": [
        {
         "name": "Pclass",
         "rawType": "int64",
         "type": "integer"
        },
        {
         "name": "PassengerId",
         "rawType": "int64",
         "type": "integer"
        },
        {
         "name": "Age",
         "rawType": "float64",
         "type": "float"
        }
       ],
       "conversionMethod": "pd.DataFrame",
       "ref": "0c15a06d-33e9-410d-8854-d411e9ee8177",
       "rows": [
        [
         "1",
         "216",
         "38.233440860215055"
        ],
        [
         "2",
         "184",
         "29.87763005780347"
        ],
        [
         "3",
         "491",
         "25.14061971830986"
        ]
       ],
       "shape": {
        "columns": 2,
        "rows": 3
       }
      },
      "text/html": [
       "<div>\n",
       "<style scoped>\n",
       "    .dataframe tbody tr th:only-of-type {\n",
       "        vertical-align: middle;\n",
       "    }\n",
       "\n",
       "    .dataframe tbody tr th {\n",
       "        vertical-align: top;\n",
       "    }\n",
       "\n",
       "    .dataframe thead th {\n",
       "        text-align: right;\n",
       "    }\n",
       "</style>\n",
       "<table border=\"1\" class=\"dataframe\">\n",
       "  <thead>\n",
       "    <tr style=\"text-align: right;\">\n",
       "      <th></th>\n",
       "      <th>PassengerId</th>\n",
       "      <th>Age</th>\n",
       "    </tr>\n",
       "    <tr>\n",
       "      <th>Pclass</th>\n",
       "      <th></th>\n",
       "      <th></th>\n",
       "    </tr>\n",
       "  </thead>\n",
       "  <tbody>\n",
       "    <tr>\n",
       "      <th>1</th>\n",
       "      <td>216</td>\n",
       "      <td>38.233441</td>\n",
       "    </tr>\n",
       "    <tr>\n",
       "      <th>2</th>\n",
       "      <td>184</td>\n",
       "      <td>29.877630</td>\n",
       "    </tr>\n",
       "    <tr>\n",
       "      <th>3</th>\n",
       "      <td>491</td>\n",
       "      <td>25.140620</td>\n",
       "    </tr>\n",
       "  </tbody>\n",
       "</table>\n",
       "</div>"
      ],
      "text/plain": [
       "        PassengerId        Age\n",
       "Pclass                        \n",
       "1               216  38.233441\n",
       "2               184  29.877630\n",
       "3               491  25.140620"
      ]
     },
     "execution_count": 42,
     "metadata": {},
     "output_type": "execute_result"
    }
   ],
   "source": [
    "groupbyClass = titanic.groupby('Pclass').agg(fun)\n",
    "groupbyClass"
   ]
  },
  {
   "cell_type": "markdown",
   "metadata": {},
   "source": [
    "#### Exercise 3.3:"
   ]
  },
  {
   "cell_type": "code",
   "execution_count": 43,
   "metadata": {},
   "outputs": [
    {
     "data": {
      "application/vnd.microsoft.datawrangler.viewer.v0+json": {
       "columns": [
        {
         "name": "Pclass",
         "rawType": "int64",
         "type": "integer"
        },
        {
         "name": "('PassengerId', 'count')",
         "rawType": "int64",
         "type": "integer"
        },
        {
         "name": "('Age', 'max')",
         "rawType": "float64",
         "type": "float"
        },
        {
         "name": "('Age', 'min')",
         "rawType": "float64",
         "type": "float"
        },
        {
         "name": "('Age', 'mean')",
         "rawType": "float64",
         "type": "float"
        }
       ],
       "conversionMethod": "pd.DataFrame",
       "ref": "6853b308-8ad9-4aa8-84c7-ec686d0cb4dd",
       "rows": [
        [
         "1",
         "216",
         "80.0",
         "0.92",
         "38.233440860215055"
        ],
        [
         "2",
         "184",
         "70.0",
         "0.67",
         "29.87763005780347"
        ],
        [
         "3",
         "491",
         "74.0",
         "0.42",
         "25.14061971830986"
        ]
       ],
       "shape": {
        "columns": 4,
        "rows": 3
       }
      },
      "text/html": [
       "<div>\n",
       "<style scoped>\n",
       "    .dataframe tbody tr th:only-of-type {\n",
       "        vertical-align: middle;\n",
       "    }\n",
       "\n",
       "    .dataframe tbody tr th {\n",
       "        vertical-align: top;\n",
       "    }\n",
       "\n",
       "    .dataframe thead tr th {\n",
       "        text-align: left;\n",
       "    }\n",
       "\n",
       "    .dataframe thead tr:last-of-type th {\n",
       "        text-align: right;\n",
       "    }\n",
       "</style>\n",
       "<table border=\"1\" class=\"dataframe\">\n",
       "  <thead>\n",
       "    <tr>\n",
       "      <th></th>\n",
       "      <th>PassengerId</th>\n",
       "      <th colspan=\"3\" halign=\"left\">Age</th>\n",
       "    </tr>\n",
       "    <tr>\n",
       "      <th></th>\n",
       "      <th>count</th>\n",
       "      <th>max</th>\n",
       "      <th>min</th>\n",
       "      <th>mean</th>\n",
       "    </tr>\n",
       "    <tr>\n",
       "      <th>Pclass</th>\n",
       "      <th></th>\n",
       "      <th></th>\n",
       "      <th></th>\n",
       "      <th></th>\n",
       "    </tr>\n",
       "  </thead>\n",
       "  <tbody>\n",
       "    <tr>\n",
       "      <th>1</th>\n",
       "      <td>216</td>\n",
       "      <td>80.0</td>\n",
       "      <td>0.92</td>\n",
       "      <td>38.233441</td>\n",
       "    </tr>\n",
       "    <tr>\n",
       "      <th>2</th>\n",
       "      <td>184</td>\n",
       "      <td>70.0</td>\n",
       "      <td>0.67</td>\n",
       "      <td>29.877630</td>\n",
       "    </tr>\n",
       "    <tr>\n",
       "      <th>3</th>\n",
       "      <td>491</td>\n",
       "      <td>74.0</td>\n",
       "      <td>0.42</td>\n",
       "      <td>25.140620</td>\n",
       "    </tr>\n",
       "  </tbody>\n",
       "</table>\n",
       "</div>"
      ],
      "text/plain": [
       "       PassengerId   Age                 \n",
       "             count   max   min       mean\n",
       "Pclass                                   \n",
       "1              216  80.0  0.92  38.233441\n",
       "2              184  70.0  0.67  29.877630\n",
       "3              491  74.0  0.42  25.140620"
      ]
     },
     "execution_count": 43,
     "metadata": {},
     "output_type": "execute_result"
    }
   ],
   "source": [
    "fun2 = {'PassengerId':'count','Age':{'mean', 'max', 'min'}}\n",
    "groupbyClass2 = titanic.groupby('Pclass').agg(fun2)\n",
    "groupbyClass2"
   ]
  },
  {
   "cell_type": "code",
   "execution_count": 44,
   "metadata": {},
   "outputs": [
    {
     "data": {
      "application/vnd.microsoft.datawrangler.viewer.v0+json": {
       "columns": [
        {
         "name": "index",
         "rawType": "int64",
         "type": "integer"
        },
        {
         "name": "",
         "rawType": "int64",
         "type": "integer"
        },
        {
         "name": "count",
         "rawType": "int64",
         "type": "integer"
        },
        {
         "name": "max",
         "rawType": "float64",
         "type": "float"
        },
        {
         "name": "min",
         "rawType": "float64",
         "type": "float"
        },
        {
         "name": "mean",
         "rawType": "float64",
         "type": "float"
        }
       ],
       "conversionMethod": "pd.DataFrame",
       "ref": "9aebeb36-de55-41b0-baf9-1ff9cc2b797d",
       "rows": [
        [
         "0",
         "1",
         "216",
         "80.0",
         "0.92",
         "38.233440860215055"
        ],
        [
         "1",
         "2",
         "184",
         "70.0",
         "0.67",
         "29.87763005780347"
        ],
        [
         "2",
         "3",
         "491",
         "74.0",
         "0.42",
         "25.14061971830986"
        ]
       ],
       "shape": {
        "columns": 5,
        "rows": 3
       }
      },
      "text/html": [
       "<div>\n",
       "<style scoped>\n",
       "    .dataframe tbody tr th:only-of-type {\n",
       "        vertical-align: middle;\n",
       "    }\n",
       "\n",
       "    .dataframe tbody tr th {\n",
       "        vertical-align: top;\n",
       "    }\n",
       "\n",
       "    .dataframe thead th {\n",
       "        text-align: right;\n",
       "    }\n",
       "</style>\n",
       "<table border=\"1\" class=\"dataframe\">\n",
       "  <thead>\n",
       "    <tr style=\"text-align: right;\">\n",
       "      <th></th>\n",
       "      <th></th>\n",
       "      <th>count</th>\n",
       "      <th>max</th>\n",
       "      <th>min</th>\n",
       "      <th>mean</th>\n",
       "    </tr>\n",
       "  </thead>\n",
       "  <tbody>\n",
       "    <tr>\n",
       "      <th>0</th>\n",
       "      <td>1</td>\n",
       "      <td>216</td>\n",
       "      <td>80.0</td>\n",
       "      <td>0.92</td>\n",
       "      <td>38.233441</td>\n",
       "    </tr>\n",
       "    <tr>\n",
       "      <th>1</th>\n",
       "      <td>2</td>\n",
       "      <td>184</td>\n",
       "      <td>70.0</td>\n",
       "      <td>0.67</td>\n",
       "      <td>29.877630</td>\n",
       "    </tr>\n",
       "    <tr>\n",
       "      <th>2</th>\n",
       "      <td>3</td>\n",
       "      <td>491</td>\n",
       "      <td>74.0</td>\n",
       "      <td>0.42</td>\n",
       "      <td>25.140620</td>\n",
       "    </tr>\n",
       "  </tbody>\n",
       "</table>\n",
       "</div>"
      ],
      "text/plain": [
       "      count   max   min       mean\n",
       "0  1    216  80.0  0.92  38.233441\n",
       "1  2    184  70.0  0.67  29.877630\n",
       "2  3    491  74.0  0.42  25.140620"
      ]
     },
     "execution_count": 44,
     "metadata": {},
     "output_type": "execute_result"
    }
   ],
   "source": [
    "groupbyClass2 = groupbyClass2.reset_index()\n",
    "# turn 'class' groups into column values\n",
    "groupbyClass2.columns = groupbyClass2.columns.droplevel(0)\n",
    "# drop the top level in the column hierarchy\n",
    "groupbyClass2"
   ]
  },
  {
   "cell_type": "code",
   "execution_count": 45,
   "metadata": {},
   "outputs": [
    {
     "data": {
      "application/vnd.microsoft.datawrangler.viewer.v0+json": {
       "columns": [
        {
         "name": "index",
         "rawType": "int64",
         "type": "integer"
        },
        {
         "name": "class",
         "rawType": "int64",
         "type": "integer"
        },
        {
         "name": "count",
         "rawType": "int64",
         "type": "integer"
        },
        {
         "name": "max",
         "rawType": "float64",
         "type": "float"
        },
        {
         "name": "min",
         "rawType": "float64",
         "type": "float"
        },
        {
         "name": "mean",
         "rawType": "float64",
         "type": "float"
        }
       ],
       "conversionMethod": "pd.DataFrame",
       "ref": "134dac73-ccc9-4a03-bed9-d96c8be21b8d",
       "rows": [
        [
         "0",
         "1",
         "216",
         "80.0",
         "0.92",
         "38.233440860215055"
        ],
        [
         "1",
         "2",
         "184",
         "70.0",
         "0.67",
         "29.87763005780347"
        ],
        [
         "2",
         "3",
         "491",
         "74.0",
         "0.42",
         "25.14061971830986"
        ]
       ],
       "shape": {
        "columns": 5,
        "rows": 3
       }
      },
      "text/html": [
       "<div>\n",
       "<style scoped>\n",
       "    .dataframe tbody tr th:only-of-type {\n",
       "        vertical-align: middle;\n",
       "    }\n",
       "\n",
       "    .dataframe tbody tr th {\n",
       "        vertical-align: top;\n",
       "    }\n",
       "\n",
       "    .dataframe thead th {\n",
       "        text-align: right;\n",
       "    }\n",
       "</style>\n",
       "<table border=\"1\" class=\"dataframe\">\n",
       "  <thead>\n",
       "    <tr style=\"text-align: right;\">\n",
       "      <th></th>\n",
       "      <th>class</th>\n",
       "      <th>count</th>\n",
       "      <th>max</th>\n",
       "      <th>min</th>\n",
       "      <th>mean</th>\n",
       "    </tr>\n",
       "  </thead>\n",
       "  <tbody>\n",
       "    <tr>\n",
       "      <th>0</th>\n",
       "      <td>1</td>\n",
       "      <td>216</td>\n",
       "      <td>80.0</td>\n",
       "      <td>0.92</td>\n",
       "      <td>38.233441</td>\n",
       "    </tr>\n",
       "    <tr>\n",
       "      <th>1</th>\n",
       "      <td>2</td>\n",
       "      <td>184</td>\n",
       "      <td>70.0</td>\n",
       "      <td>0.67</td>\n",
       "      <td>29.877630</td>\n",
       "    </tr>\n",
       "    <tr>\n",
       "      <th>2</th>\n",
       "      <td>3</td>\n",
       "      <td>491</td>\n",
       "      <td>74.0</td>\n",
       "      <td>0.42</td>\n",
       "      <td>25.140620</td>\n",
       "    </tr>\n",
       "  </tbody>\n",
       "</table>\n",
       "</div>"
      ],
      "text/plain": [
       "   class  count   max   min       mean\n",
       "0      1    216  80.0  0.92  38.233441\n",
       "1      2    184  70.0  0.67  29.877630\n",
       "2      3    491  74.0  0.42  25.140620"
      ]
     },
     "execution_count": 45,
     "metadata": {},
     "output_type": "execute_result"
    }
   ],
   "source": [
    "groupbyClass2.rename(columns = {'':'class'},inplace = True)\n",
    "# rename the first column to be 'class'\n",
    "groupbyClass2"
   ]
  },
  {
   "cell_type": "code",
   "execution_count": 46,
   "metadata": {},
   "outputs": [
    {
     "data": {
      "text/plain": [
       "4"
      ]
     },
     "execution_count": 46,
     "metadata": {},
     "output_type": "execute_result"
    }
   ],
   "source": [
    "my_list = (80,20,64,19,56,12,88)\n",
    "sum(e>50 for e in my_list)"
   ]
  },
  {
   "cell_type": "code",
   "execution_count": 47,
   "metadata": {},
   "outputs": [],
   "source": [
    "fun3 = {'Age':{'nunique', lambda x: sum(e>50 for e in x)}}"
   ]
  },
  {
   "cell_type": "code",
   "execution_count": 48,
   "metadata": {},
   "outputs": [
    {
     "data": {
      "application/vnd.microsoft.datawrangler.viewer.v0+json": {
       "columns": [
        {
         "name": "index",
         "rawType": "int64",
         "type": "integer"
        },
        {
         "name": "('Pclass', '')",
         "rawType": "int64",
         "type": "integer"
        },
        {
         "name": "('Age', '<lambda_0>')",
         "rawType": "int64",
         "type": "integer"
        },
        {
         "name": "('Age', 'nunique')",
         "rawType": "int64",
         "type": "integer"
        }
       ],
       "conversionMethod": "pd.DataFrame",
       "ref": "8497e8df-d956-4903-97e5-cc1fb624c143",
       "rows": [
        [
         "0",
         "1",
         "39",
         "57"
        ],
        [
         "1",
         "2",
         "15",
         "57"
        ],
        [
         "2",
         "3",
         "10",
         "68"
        ]
       ],
       "shape": {
        "columns": 3,
        "rows": 3
       }
      },
      "text/html": [
       "<div>\n",
       "<style scoped>\n",
       "    .dataframe tbody tr th:only-of-type {\n",
       "        vertical-align: middle;\n",
       "    }\n",
       "\n",
       "    .dataframe tbody tr th {\n",
       "        vertical-align: top;\n",
       "    }\n",
       "\n",
       "    .dataframe thead tr th {\n",
       "        text-align: left;\n",
       "    }\n",
       "</style>\n",
       "<table border=\"1\" class=\"dataframe\">\n",
       "  <thead>\n",
       "    <tr>\n",
       "      <th></th>\n",
       "      <th>Pclass</th>\n",
       "      <th colspan=\"2\" halign=\"left\">Age</th>\n",
       "    </tr>\n",
       "    <tr>\n",
       "      <th></th>\n",
       "      <th></th>\n",
       "      <th>&lt;lambda_0&gt;</th>\n",
       "      <th>nunique</th>\n",
       "    </tr>\n",
       "  </thead>\n",
       "  <tbody>\n",
       "    <tr>\n",
       "      <th>0</th>\n",
       "      <td>1</td>\n",
       "      <td>39</td>\n",
       "      <td>57</td>\n",
       "    </tr>\n",
       "    <tr>\n",
       "      <th>1</th>\n",
       "      <td>2</td>\n",
       "      <td>15</td>\n",
       "      <td>57</td>\n",
       "    </tr>\n",
       "    <tr>\n",
       "      <th>2</th>\n",
       "      <td>3</td>\n",
       "      <td>10</td>\n",
       "      <td>68</td>\n",
       "    </tr>\n",
       "  </tbody>\n",
       "</table>\n",
       "</div>"
      ],
      "text/plain": [
       "  Pclass        Age        \n",
       "         <lambda_0> nunique\n",
       "0      1         39      57\n",
       "1      2         15      57\n",
       "2      3         10      68"
      ]
     },
     "execution_count": 48,
     "metadata": {},
     "output_type": "execute_result"
    }
   ],
   "source": [
    "groupbyClass3 = titanic.groupby('Pclass').agg(fun3).reset_index()\n",
    "groupbyClass3"
   ]
  },
  {
   "cell_type": "code",
   "execution_count": 49,
   "metadata": {},
   "outputs": [
    {
     "data": {
      "application/vnd.microsoft.datawrangler.viewer.v0+json": {
       "columns": [
        {
         "name": "index",
         "rawType": "int64",
         "type": "integer"
        },
        {
         "name": "class",
         "rawType": "int64",
         "type": "integer"
        },
        {
         "name": "<lambda_0>",
         "rawType": "int64",
         "type": "integer"
        },
        {
         "name": "nunique",
         "rawType": "int64",
         "type": "integer"
        }
       ],
       "conversionMethod": "pd.DataFrame",
       "ref": "67850dc7-2b97-4762-b29b-ba12b79e05a6",
       "rows": [
        [
         "0",
         "1",
         "39",
         "57"
        ],
        [
         "1",
         "2",
         "15",
         "57"
        ],
        [
         "2",
         "3",
         "10",
         "68"
        ]
       ],
       "shape": {
        "columns": 3,
        "rows": 3
       }
      },
      "text/html": [
       "<div>\n",
       "<style scoped>\n",
       "    .dataframe tbody tr th:only-of-type {\n",
       "        vertical-align: middle;\n",
       "    }\n",
       "\n",
       "    .dataframe tbody tr th {\n",
       "        vertical-align: top;\n",
       "    }\n",
       "\n",
       "    .dataframe thead th {\n",
       "        text-align: right;\n",
       "    }\n",
       "</style>\n",
       "<table border=\"1\" class=\"dataframe\">\n",
       "  <thead>\n",
       "    <tr style=\"text-align: right;\">\n",
       "      <th></th>\n",
       "      <th>class</th>\n",
       "      <th>&lt;lambda_0&gt;</th>\n",
       "      <th>nunique</th>\n",
       "    </tr>\n",
       "  </thead>\n",
       "  <tbody>\n",
       "    <tr>\n",
       "      <th>0</th>\n",
       "      <td>1</td>\n",
       "      <td>39</td>\n",
       "      <td>57</td>\n",
       "    </tr>\n",
       "    <tr>\n",
       "      <th>1</th>\n",
       "      <td>2</td>\n",
       "      <td>15</td>\n",
       "      <td>57</td>\n",
       "    </tr>\n",
       "    <tr>\n",
       "      <th>2</th>\n",
       "      <td>3</td>\n",
       "      <td>10</td>\n",
       "      <td>68</td>\n",
       "    </tr>\n",
       "  </tbody>\n",
       "</table>\n",
       "</div>"
      ],
      "text/plain": [
       "   class  <lambda_0>  nunique\n",
       "0      1          39       57\n",
       "1      2          15       57\n",
       "2      3          10       68"
      ]
     },
     "execution_count": 49,
     "metadata": {},
     "output_type": "execute_result"
    }
   ],
   "source": [
    "groupbyClass3.columns = groupbyClass3.columns.droplevel(0)\n",
    "groupbyClass3.rename(columns = {'':'class'},inplace = True)\n",
    "groupbyClass3"
   ]
  },
  {
   "cell_type": "code",
   "execution_count": 50,
   "metadata": {},
   "outputs": [
    {
     "data": {
      "application/vnd.microsoft.datawrangler.viewer.v0+json": {
       "columns": [
        {
         "name": "index",
         "rawType": "int64",
         "type": "integer"
        },
        {
         "name": "class",
         "rawType": "int64",
         "type": "integer"
        },
        {
         "name": "over 50s count",
         "rawType": "int64",
         "type": "integer"
        },
        {
         "name": "unique age count",
         "rawType": "int64",
         "type": "integer"
        }
       ],
       "conversionMethod": "pd.DataFrame",
       "ref": "875b1509-4d89-4770-9812-adbecb6beba7",
       "rows": [
        [
         "0",
         "1",
         "39",
         "57"
        ],
        [
         "1",
         "2",
         "15",
         "57"
        ],
        [
         "2",
         "3",
         "10",
         "68"
        ]
       ],
       "shape": {
        "columns": 3,
        "rows": 3
       }
      },
      "text/html": [
       "<div>\n",
       "<style scoped>\n",
       "    .dataframe tbody tr th:only-of-type {\n",
       "        vertical-align: middle;\n",
       "    }\n",
       "\n",
       "    .dataframe tbody tr th {\n",
       "        vertical-align: top;\n",
       "    }\n",
       "\n",
       "    .dataframe thead th {\n",
       "        text-align: right;\n",
       "    }\n",
       "</style>\n",
       "<table border=\"1\" class=\"dataframe\">\n",
       "  <thead>\n",
       "    <tr style=\"text-align: right;\">\n",
       "      <th></th>\n",
       "      <th>class</th>\n",
       "      <th>over 50s count</th>\n",
       "      <th>unique age count</th>\n",
       "    </tr>\n",
       "  </thead>\n",
       "  <tbody>\n",
       "    <tr>\n",
       "      <th>0</th>\n",
       "      <td>1</td>\n",
       "      <td>39</td>\n",
       "      <td>57</td>\n",
       "    </tr>\n",
       "    <tr>\n",
       "      <th>1</th>\n",
       "      <td>2</td>\n",
       "      <td>15</td>\n",
       "      <td>57</td>\n",
       "    </tr>\n",
       "    <tr>\n",
       "      <th>2</th>\n",
       "      <td>3</td>\n",
       "      <td>10</td>\n",
       "      <td>68</td>\n",
       "    </tr>\n",
       "  </tbody>\n",
       "</table>\n",
       "</div>"
      ],
      "text/plain": [
       "   class  over 50s count  unique age count\n",
       "0      1              39                57\n",
       "1      2              15                57\n",
       "2      3              10                68"
      ]
     },
     "execution_count": 50,
     "metadata": {},
     "output_type": "execute_result"
    }
   ],
   "source": [
    "groupbyClass3.rename(columns = {'nunique':'unique age count','<lambda_0>':'over 50s count'}, inplace = True)\n",
    "groupbyClass3"
   ]
  }
 ],
 "metadata": {
  "kernelspec": {
   "display_name": "Python 3",
   "language": "python",
   "name": "python3"
  },
  "language_info": {
   "codemirror_mode": {
    "name": "ipython",
    "version": 3
   },
   "file_extension": ".py",
   "mimetype": "text/x-python",
   "name": "python",
   "nbconvert_exporter": "python",
   "pygments_lexer": "ipython3",
   "version": "3.13.1"
  }
 },
 "nbformat": 4,
 "nbformat_minor": 2
}
