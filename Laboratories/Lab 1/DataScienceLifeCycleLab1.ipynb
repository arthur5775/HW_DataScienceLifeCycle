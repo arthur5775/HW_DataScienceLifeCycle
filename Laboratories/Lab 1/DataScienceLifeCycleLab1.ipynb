{
 "cells": [
  {
   "cell_type": "markdown",
   "metadata": {},
   "source": [
    "# Homework Notes - Pre-Week 2: Introduction to Python, data types, iterations, conditions"
   ]
  },
  {
   "cell_type": "markdown",
   "metadata": {},
   "source": [
    "## Introduction"
   ]
  },
  {
   "cell_type": "markdown",
   "metadata": {},
   "source": [
    "This section is for those who are not familiar with Python, or those who need a refresher in Python, especially in the Jupyter Notebook environment.\n",
    "\n",
    "![P1](picture/P1.png)\n",
    "\n",
    "Before starting this week's Introduction to Python, please ensure that you have your Jupyter Notebook environment set up and ready to go.  Ready to go here means that you have tested with at least the <span style=\"color:red\">print('Hello Jupyter')</span> , and some of the markdown cells using markdowns such as <span style=\"color:red\"># Header</span>, and  <span style=\"color:red\">[HWU](https://www.hw.ac.uk)</span>.  If you are already familiar with Python, you can skip to the \"Python Libraries and Useful Data Science Libraries\" section."
   ]
  },
  {
   "cell_type": "markdown",
   "metadata": {},
   "source": [
    "## Python Primitive (Basic) Data Types"
   ]
  },
  {
   "cell_type": "markdown",
   "metadata": {},
   "source": [
    "Why is it that when we start to learn a programming language, we introduce the basic data types?  Simply put, a data type tells the computer how to interpret its value.  For a data scientist, understanding data types ensures that the data collected and used is in the appropriate format and the representation of the value is as expected by the program.\n",
    "\n",
    "There are 5 basic data types in Python, which are:  \n",
    "* **Integers**: Whole numbers, with an accurate representation but the range is limited to the bit representation.  (As an aside, this can be used to represent octals and hexademicals as well).  \n",
    "* **Floating-Point Numbers**: Real numbers, however there is a trade-off with precision.  \n",
    "* **Complex Numbers**: A real and imaginary component, that cannot be represented using a real number.  \n",
    "* **Strings**: A sequence of characters, for example a phrase or word.  \n",
    "* **Boolean**: Represents two possible (binary) values, usually interpreted as True or False.  \n",
    "\n",
    "We are mainly concerned with Boolean, Integers, Floating-Point and Strings.  Let us start with the primitive data types. In programming, we name a storage area and call it a variable. For example, we may have a variable called <span style=\"color:red\">num</span> and we want to assign it an integer number of <span style=\"color:red\">4</span>.  \n",
    "num = 4  \n",
    "We have now successfully stored the integer number <span style=\"color:red\">4</span> in a storage (the computer memory) that we called <span style=\"color:red\">num</span>.  We can check for the type that we have by using the function <span style=\"color:red\">type</span>. (A function in programming is the same as a mathematical function where it is a sequence of instructions that performs a specific task that is packaged as a unit. This unit can then be used in programs wherever that particular task should be performed).  \n",
    "type(num)  \n",
    "We should get an output if we run the command above and it should tell us that it is an <span style=\"color:red\">int</span> (which stands for integer).  To ensure that we are all on the same page, on your Jupyter Notebook, you should have something that looks like below:\n",
    "\n",
    "![P2](picture/P2.png)\n",
    "\n",
    "To illustrate the importance of understanding the data types, we will do a simple arithmetic addition by typing <span style=\"color:red\">num + 5</span>.  This should return the value <span style=\"color:red\">9</span>.\n",
    "\n",
    "Let's then try to assign a new real number (floating-point number)  to the variable named <span style=\"color:red\">fp</span>, i.e., <span style=\"color:red\">fp = 4.5</span>.  We then try to ask the computer to add a string <span style=\"color:red\">\"some\"</span> to it.  It will give us an error.  Before you conclude that the <span style=\"color:red\">'+'</span> sign is for arithmetic addition, it is also used for \"adding\" two parts of a string together, or concatenation of strings.  You can do this using <span style=\"color:red\">\"some\" + \"thing\"</span>  to get  <span style=\"color:red\">'something'</span>.\n",
    "\n",
    "However, Python does allow integer and floating-point numbers to be mixed. This is because Python is a dynamically typed language, meaning that the Python interpreter is able to figure out that you are mixing them. It will then convert the type that can be a subset (in this case the integer) to the superset (in this case the floating-point) representation.  \n",
    "<span style=\"color:red\">4.5 + 5</span>  \n",
    "or  \n",
    "<span style=\"color:red\">num + fp</span>  \n",
    "This should give you an introduction to understanding data types and how it plays a role in handling data.  By now, you should have noticed the left side (In and Out) numbering on your Jupyter Notebook.  If you haven't figured out what it means, come to class and ask.  We will also have less illustrations here on Canvas lecture and tutorial notes from here forward as we expect you to be able to follow the notes from here on without it (and execute it on your own in your Jupyter Notebook)."
   ]
  },
  {
   "cell_type": "markdown",
   "metadata": {},
   "source": [
    "## Python Composite Data Types"
   ]
  },
  {
   "cell_type": "markdown",
   "metadata": {},
   "source": [
    "In data science, we do need to understand the following composite data types (composite in that it contains the primitive data types internally).  Generally, <span style=\"color:red\">list</span> and <span style=\"color:red\">disct</span> (dictionary) are useful for data science.  We have composite data types in order to store data in a commonly agreed upon data structure, which has certain useful functions built-in to the data types.  This means that we do not need to create a data structure each time we want to do some processing.\n",
    "\n",
    "* List - A data structure in Python (and also common in many other programming languages) that is changeable (in programming, we call this mutable), and is an ordered sequence of items. The term item here means the value that is contained inside the list data structure. Lists (in Python) are defined by having the items between square brackets <span style=\"color:red\">[ ]</span>, i.e., <span style=\"color:red\">[3,4,6,2,3]</span> is a list of 5 integer items.\n",
    "\n",
    "* Dictionary - A data structure in Python that stores items in key-value pairs. A key is an identifier for the value stored, and the value is the item associated with that key. Do note that dictionaries in Python are mutable, but they are not ordered.  Dictionaries are created using curly brackets (also known as braces) <span style=\"color:red\">{ }</span>. The key-value pairs within the dictionary are separated by commas (<span style=\"color:red\">,</span>), and within the key-value pairs, the key and value are separated by a colon (<span style=\"color:red\">:</span>), e.g., <span style=\"color:red\">{1:'apple', 2:'ball', 3:'carrot', 4:'doll'}</span>.  You may find this useful as a database format for data science purposes. (As an aside, there are databases such as MongoDB that store data in this format and this is also commonly represented in data exchange formats such as JSON).\n",
    "\n",
    "You can read up on tuple and set composite data types."
   ]
  },
  {
   "cell_type": "markdown",
   "metadata": {},
   "source": [
    "## Python Iterations and Conditions"
   ]
  },
  {
   "cell_type": "markdown",
   "metadata": {},
   "source": [
    "Now that we have introduced the data types that are commonly used in Python (we will introduce more, such as DataFrame later), we shall proceed to review (for most of  you anyway) programming. Programming can simply be considered as a sequence of instructions where there will be decisions to be made (conditions) and repetitive instructions (iterations).  When you think about it, this is similar to a (sad) person's working life where it's iterative on a daily basis until death; containing waking up, washing up, brushing teeth, getting dressed, having breakfast, catching the bus and so on.  Within it, there are decisions to be made, what to wear for the day, what to eat for breakfast and so on.  Hence, programming is not that much different from your daily life (even if you don't have a sad life!).  Let's look at conditions and iterations:"
   ]
  },
  {
   "cell_type": "markdown",
   "metadata": {},
   "source": [
    "### Python Conditions"
   ]
  },
  {
   "cell_type": "markdown",
   "metadata": {},
   "source": [
    "Simply put, the conditional statement <span style=\"color:red\">P→Q</span> means that Q is true whenever P is true.  Python supports the usual mathematical conditions:  \n",
    "* Equality: <span style=\"color:red\">a == b</span> (do note that in most programming languages, we use the double '=' because a single '=' is usually an assignment)  \n",
    "* Not Equals: <span style=\"color:red\">a != b</span> (the exclamation mark '!' is sometimes referred to as \"bang\" or \"pling\")\n",
    "* Greater than: <span style=\"color:red\">a > b</span>, greater than or equal to: <span style=\"color:red\">a >= b</span>  \n",
    "* Less than: <span style=\"color:red\">a < b</span>, less than or equal to: <span style=\"color:red\">a <= b</span>\n",
    "\n",
    "A condition will result in a <span style=\"color:red\">True</span> or <span style=\"color:red\">False</span>, and we call this a <span style=\"color:red\">boolean</span>.  For conditional statements, in Python we use the <span style=\"color:red\">if</span> statement, where if a condition is met, a sequence of instructions are to be executed, otherwise (<span style=\"color:red\">else</span>) <u>optionally</u> another sequence of instructions are to be executed.  For example:\n",
    "\n",
    "<span style=\"color:red\">a = 10</span>  \n",
    "<span style=\"color:red\">b = 20</span>  \n",
    "<span style=\"color:red\">if b >= a:</span>  \n",
    "<p style=\"margin-left: 40px;\"><span style=\"color:red\">print(\"b is greater than or equal to a\")</span></p>\n"
   ]
  },
  {
   "cell_type": "markdown",
   "metadata": {},
   "source": [
    "#### Indentation (Important for new Python programmers!)"
   ]
  },
  {
   "cell_type": "markdown",
   "metadata": {},
   "source": [
    "For the sharp-eyed reader, you will notice two things, one is the use of the colon (:) at the end of the if statement.  This signifies the end of the condition, as we can also combine multiple conditions (in a boolean algebra manner).  E.g., \n",
    "\n",
    "<span style=\"color:red\">a = 10</span>  \n",
    "<span style=\"color:red\">b = 20</span>  \n",
    "<span style=\"color:red\">if b > a or b==a:</span>  \n",
    "<p style=\"margin-left: 40px;\"><span style=\"color:red\">print(\"b is greater than or equal to a\")</span></p>\n",
    "\n",
    "and secondly, the last line \"<span style=\"color:red\">print(\"b is greater than or equal to a\")</span>  \" is <u>indented</u>.  Python relies on this indentation to define the scope of the instructions in the code.  It will become clearer as we look at the optional \"<span style=\"color:red\">else</span>\" and \"<span style=\"color:red\">elif</span>\" statements. Let's extend our sample code for this.\n",
    "\n",
    "<span style=\"color:red\">a = 10</span>  \n",
    "<span style=\"color:red\">b = 20</span>  \n",
    "<span style=\"color:red\">if b > a or b==a:</span>  \n",
    "<p style=\"margin-left: 40px;\"><span style=\"color:red\">print(\"condition met\")</span></p>  \n",
    "<p style=\"margin-left: 40px;\"><span style=\"color:red\">print(\"b is greater than or equal to a\")</span></p>  \n",
    "<span style=\"color:red\">else:</span>  \n",
    "<p style=\"margin-left: 40px;\"><span style=\"color:red\">print(\"condition not met\")</span></p>  \n",
    "<p style=\"margin-left: 40px;\"><span style=\"color:red\">print(\"b is less than a\")</span></p>  \n",
    "<span style=\"color:red\">print(\"outside the if or else scope\")</span>  \n",
    "\n",
    "The condition was met and hence the 2 lines indented after the <span style=\"color:red\">if</span> statement will execute as it is within the scope of the <span style=\"color:red\">if</span> statement but the lines in the <span style=\"color:red\">else</span> statement are not.  Do note that the last line will execute as it is in the scope of the overall code.  We will leave you to explore the <span style=\"color:red\">elif</span>  command."
   ]
  },
  {
   "cell_type": "markdown",
   "metadata": {},
   "source": [
    "### Python Iterations"
   ]
  },
  {
   "cell_type": "markdown",
   "metadata": {},
   "source": [
    "There are 2 primitive ways to achieve iterations in Python, the while statement and the for statement.  Similarly to the for statement, a while statement executes a set of instructions (within it's scope, i.e., indented) if a condition is met and repeats until the condition is not met (a for statement does not repeat). E.g.,\n",
    "\n",
    "i = 1\n",
    "while i <= 10:\n",
    "  print(i)\n",
    "  i += 1\n",
    "\n",
    "The above will print the value of i 10 times, which should be incremented each time. We will leave further exploration of the while statement to you. The for statement in Python is used to iterate over a sequence of items, for example the sequence in a list, a dictionary, or a string (called the iterator).  Using the for loop, we can then iterate the execution of instructions for each item in the iterator.\n",
    "\n",
    "For example, over a list of kids alphabet words (their A B Cs),\n",
    "\n",
    "alphabet = [\"apple\", \"ball\", \"cat\", \"door\"]\n",
    "for x in alphabet:\n",
    "  print(x)\n",
    "\n",
    "As a string type is a sequence of characters, the for loop can also iterate over it, e.g.,\n",
    "\n",
    "for x in \"apple\":\n",
    "  print(x)\n",
    "\n",
    "We have given a refresher for Python programming and there will be other programming keywords and methods to learn.  Among the interesting ones would be pass, break, continue and how to create Python functions.  We will leave that for now and move on with more Data Science related coding."
   ]
  },
  {
   "cell_type": "markdown",
   "metadata": {},
   "source": [
    "## My code part"
   ]
  },
  {
   "cell_type": "markdown",
   "metadata": {},
   "source": [
    "### Introduction"
   ]
  },
  {
   "cell_type": "code",
   "execution_count": 1,
   "metadata": {},
   "outputs": [
    {
     "name": "stdout",
     "output_type": "stream",
     "text": [
      "Hello World\n"
     ]
    }
   ],
   "source": [
    "print(\"Hello World\")"
   ]
  },
  {
   "cell_type": "markdown",
   "metadata": {},
   "source": [
    "# Header 1\n",
    "## Header 3\n",
    "### Header 3\n",
    "#### Header 4\n",
    "not a header"
   ]
  },
  {
   "cell_type": "markdown",
   "metadata": {},
   "source": [
    "### Python Primitive (Basic) Data Types"
   ]
  },
  {
   "cell_type": "code",
   "execution_count": 15,
   "metadata": {},
   "outputs": [
    {
     "data": {
      "text/plain": [
       "int"
      ]
     },
     "execution_count": 15,
     "metadata": {},
     "output_type": "execute_result"
    }
   ],
   "source": [
    "num=4\n",
    "type(num)"
   ]
  },
  {
   "cell_type": "code",
   "execution_count": 7,
   "metadata": {},
   "outputs": [
    {
     "name": "stdout",
     "output_type": "stream",
     "text": [
      "9\n"
     ]
    }
   ],
   "source": [
    "print(num+5)"
   ]
  },
  {
   "cell_type": "code",
   "execution_count": 18,
   "metadata": {},
   "outputs": [
    {
     "data": {
      "text/plain": [
       "float"
      ]
     },
     "execution_count": 18,
     "metadata": {},
     "output_type": "execute_result"
    }
   ],
   "source": [
    "fp=4.5\n",
    "type(fp)"
   ]
  },
  {
   "cell_type": "code",
   "execution_count": null,
   "metadata": {},
   "outputs": [
    {
     "ename": "TypeError",
     "evalue": "can only concatenate tuple (not \"str\") to tuple",
     "output_type": "error",
     "traceback": [
      "\u001b[1;31m---------------------------------------------------------------------------\u001b[0m",
      "\u001b[1;31mTypeError\u001b[0m                                 Traceback (most recent call last)",
      "Cell \u001b[1;32mIn[10], line 1\u001b[0m\n\u001b[1;32m----> 1\u001b[0m fp\u001b[38;5;241m=\u001b[39m\u001b[43mfp\u001b[49m\u001b[38;5;241;43m+\u001b[39;49m\u001b[38;5;124;43m\"\u001b[39;49m\u001b[38;5;124;43msome\u001b[39;49m\u001b[38;5;124;43m\"\u001b[39;49m\n",
      "\u001b[1;31mTypeError\u001b[0m: can only concatenate tuple (not \"str\") to tuple"
     ]
    }
   ],
   "source": [
    "#fp=fp+\"some\""
   ]
  },
  {
   "cell_type": "code",
   "execution_count": 11,
   "metadata": {},
   "outputs": [
    {
     "name": "stdout",
     "output_type": "stream",
     "text": [
      "something\n"
     ]
    }
   ],
   "source": [
    "print(\"some\"+\"thing\")"
   ]
  },
  {
   "cell_type": "code",
   "execution_count": 20,
   "metadata": {},
   "outputs": [
    {
     "name": "stdout",
     "output_type": "stream",
     "text": [
      "8.5\n"
     ]
    }
   ],
   "source": [
    "print(num+fp)"
   ]
  }
 ],
 "metadata": {
  "kernelspec": {
   "display_name": "Python 3",
   "language": "python",
   "name": "python3"
  },
  "language_info": {
   "codemirror_mode": {
    "name": "ipython",
    "version": 3
   },
   "file_extension": ".py",
   "mimetype": "text/x-python",
   "name": "python",
   "nbconvert_exporter": "python",
   "pygments_lexer": "ipython3",
   "version": "3.13.1"
  }
 },
 "nbformat": 4,
 "nbformat_minor": 2
}
