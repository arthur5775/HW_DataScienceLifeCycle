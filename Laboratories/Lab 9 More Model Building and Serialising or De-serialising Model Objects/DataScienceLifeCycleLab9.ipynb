{
 "cells": [
  {
   "cell_type": "markdown",
   "metadata": {},
   "source": [
    "# Lab 9: Laboratory Notes - Week 9: More Model Building and Serialising/De-serialising Model Objects"
   ]
  },
  {
   "cell_type": "markdown",
   "metadata": {},
   "source": [
    "We have covered:\n",
    "\n",
    "* Data Collection\n",
    "* Data Wrangling\n",
    "* Data Preparation & Data Analysis\n",
    "* Data Visualisation\n",
    "\n",
    "What do we do with our machine learning models?  This week's laboratory has a few objectives:\n",
    "\n",
    "* To provide more experience with classifiers\n",
    "* To vary the training dataset sizes, the more training data the better\n",
    "* To vary the number of features, the more the better until a certain amount\n",
    "* To serialise/deserialise your model\n",
    "* To serialise and share it with another analyst"
   ]
  },
  {
   "cell_type": "markdown",
   "metadata": {},
   "source": [
    "## Data Preparation"
   ]
  },
  {
   "cell_type": "markdown",
   "metadata": {},
   "source": [
    "We will use the titanic dataset that we used before.\n",
    "\n",
    "\"\"\"import libraries\"\"\"  \n",
    "import numpy as np  \n",
    "import pandas as pd  \n",
    "import matplotlib.pyplot as plt  \n",
    "from sklearn.tree import DecisionTreeClassifier  \n",
    "from sklearn.preprocessing import StandardScaler \"\"\"import here but not used, you can try to use it to get better results\"\"\"  \n",
    "from sklearn.model_selection import train_test_split  \n",
    "%matplotlib inline  \n",
    "\n",
    "dataset = pd.read_csv('titanic.csv')\n",
    "\n",
    "You can proceed to do the data auditing to view the dataset\n",
    "\n",
    "dataset.shape  \n",
    "dataset.head()\n",
    "\n",
    "X = dataset.iloc[:,2:11].values  # The other unprocessed features  \n",
    "y = dataset.iloc[:,1].values # We want the \"Survived\" as the label as we are predicting if the passenger survived the disaster  \n",
    "\n",
    "Let's inspect a row of the features X, and a row of the label y.\n",
    "\n",
    "X[0]  \n",
    "y[3]\n",
    "\n",
    "We proceed to split our dataset for training and testing.\n",
    "\n",
    "\"\"\"We start with 20% for training dataset\"\"\"  \n",
    "\"\"\"Do vary the random_state\"\"\"  \n",
    "X_train, X_test, y_train, y_test = train_test_split(  \n",
    "    X, y, test_size = 0.8, random_state = 0  \n",
    ")\n",
    "\n",
    "Then we build our model\n",
    "\n",
    "classifier = DecisionTreeClassifier(  \n",
    "    criterion = 'entropy', random_state = 0  \n",
    ")  \n",
    "classifier.fit(X_train, y_train)"
   ]
  },
  {
   "cell_type": "markdown",
   "metadata": {},
   "source": [
    "### Understanding Clustering (k-means)"
   ]
  },
  {
   "cell_type": "markdown",
   "metadata": {},
   "source": [
    "We will illustrate a clustering task using k-means clustering in a 2-dimensional space. We will not look at the theory of k-means clustering; we will just use it as a black box in order to understand some fundamental concepts of segmentation and clustering. So this is a tutorial without mathematics (I know I repeat this a lot, but just wanted to ensure that we are focused on the Life Cycle and not the mathematics behind the algorithms). Now it's important to realise that in data science you will rarely use simple 2-dimensional modelling. However, the simple nature of the material means we can carefully study the different aspects of learning."
   ]
  },
  {
   "cell_type": "markdown",
   "metadata": {},
   "source": [
    "#### k-means Clustering"
   ]
  },
  {
   "cell_type": "markdown",
   "metadata": {},
   "source": [
    "The goal in k-means clustering is to find k subgroups in a given dataset. Please note the variable k represents the number of subgroups in the data. k-means assigns each data point in the dataset to one of the k subgroups iteratively based on the variables (features) in the dataset.  The pseudo-code (algorithm) of k-means works as:\n",
    "\n",
    "1) Choose the number of clusters (k)  \n",
    "2) Randomly choose the initial centroids c1, c2, ..... ck  \n",
    "3) For each data point xi:\n",
    "* find the nearest centroid (c1, c2, ..... ck) and assign the data point to that cluster\n",
    "4) For each cluster j = 1..k\n",
    "* Move/discover a new centroid where the centroid is the mean of all data points assigned to that cluster\n",
    "5) Repeat steps 3 and 4 until convergence or until the end of a fixed number of iterations\n",
    "\n",
    "The output of the k-means clustering are:\n",
    "\n",
    "* k cluster centroids. The centroids can be used to find the relevant subgroup for a new data point.\n",
    "* Cluster assignment (also called labels in this case but not to be confused with labels for supervised machine learning) for all data points in the given dataset.\n",
    "\n",
    "<span style=\"color:red\">import numpy as np  \n",
    "import pandas as pd  \n",
    "import matplotlib.pyplot as plt  \n",
    "from sklearn.model_selection import train_test_split  \n",
    "\"\"\" This is a library we import to run the K-means clustering algorithm as a blackbox\"\"\"  \n",
    "\"\"\" For more information please see: http://scikit-learn.org/stable/modules/generated/sklearn.cluster.KMeans.html\"\"\"  \n",
    "from sklearn.cluster import KMeans</span>\n",
    "\n",
    "Load the dataset from Canvas \n",
    "\n",
    "<span style=\"color:red\">\"\"\" We use the standard Iris dataset that is very popular for learning clustering.\"\"\"\n",
    "iris_data = pd.read_csv(\"iris.csv\")</span>\n",
    "\n",
    "As usual, we will look at the data and also the size of the dataset, e.g, check the dataset dimension\n",
    "\n",
    "<span style=\"color:red\">iris_data.shape</span>\n",
    "\n",
    "Let's have a look at a single sample data (instead of head() or tail().\n",
    "\n",
    "<span style=\"color:red\">iris_data.sample()</span>\n",
    "\n",
    "Column names\n",
    "\n",
    "<span style=\"color:red\">iris_data.columns</span>\n",
    "\n",
    "How about if we look at the description, since most of the data are numeric (except probably the label). Do note that this dataset has labels but we aren't going to use it for classification, which you can as an extra exercise.\n",
    "\n",
    "<span style=\"color:red\">iris_data.describe()</span>\n",
    "\n",
    "Visualise  \n",
    "Let’s have a visual look at our data points.\n",
    "\n",
    "<span style=\"color:red\">%matplotlib inline  \n",
    "plt.scatter(x=iris_data['sepalwidth'],y=iris_data['sepallength'])  \n",
    "plt.xlabel('Sepal Width (cm)')  \n",
    "plt.ylabel('Sepal Length (cm)')</span>\n",
    "\n",
    "![P1](picture/P1.png)\n",
    "\n",
    "From a manual inspection of the data points, we probably can see 2 or 3 groups.  We proceed to ask the machine to learn from the input data to determine the groupings. First thing to note is that for k-means, the machine learning algorithm does not know how many clusters it should determine and the default k-means algorithm expects the user to provide that information.\n",
    "\n",
    "<span style=\"color:red\">\"\"\" Run the K-means clustering over the dataset using only distance and speeding features. Set K=2: we only want to cluster the dataset into two subgroups\"\"\"  \n",
    "kmeans = KMeans(n_clusters=2).fit(</span>  \n",
    "<p style=\"margin-left: 40px;\"><span style=\"color:red\">iris_data[['sepalwidth','sepallength']]</span></p>  \n",
    "<span style=\"color:red\">)</span>  \n",
    "\n",
    "Similarly to how we do data auditing, prior to visualisation, we may want to have a look at some of the results of the clustering.\n",
    "\n",
    "Look at the outputs: Two cluster centers (this is known as the cluster centroids)\n",
    "\n",
    "<span style=\"color:red\">kmeans.cluster_centers_</span>\n",
    "\n",
    "Look at the outputs: Cluster labels.  With k = 2, we will have the labels 0 and 1 to indicate which cluster the data points belong to.\n",
    "\n",
    "<span style=\"color:red\">kmeans.labels_</span>\n",
    "\n",
    "Visualise k-means output  \n",
    "Visualise the output labels\n",
    "\n",
    "<span style=\"color:red\">plt.scatter(</span>  \n",
    "<p style=\"margin-left: 40px;\"><span style=\"color:red\">x=iris_data['sepalwidth'],</span></p>  \n",
    "<p style=\"margin-left: 40px;\"><span style=\"color:red\">y=iris_data['sepallength'],</span></p>  \n",
    "<p style=\"margin-left: 40px;\"><span style=\"color:red\">c=kmeans.labels_)</span></p>  \n",
    "\n",
    "Visualise the cluster centers (black stars)\n",
    "\n",
    "<span style=\"color:red\">plt.plot(</span>  \n",
    "<p style=\"margin-left: 40px;\"><span style=\"color:red\">kmeans.cluster_centers_[:,0],</span></p>  \n",
    "<p style=\"margin-left: 40px;\"><span style=\"color:red\">kmeans.cluster_centers_[:,1],</span></p>  \n",
    "<p style=\"margin-left: 40px;\"><span style=\"color:red\">'k*',</span></p>  \n",
    "<p style=\"margin-left: 40px;\"><span style=\"color:red\">markersize=20</span></p>  \n",
    "<span style=\"color:red\">)  \n",
    "\n",
    "plt.xlabel('SepalWidth')  \n",
    "plt.ylabel('SepalLength')  \n",
    "plt.show()</span>  "
   ]
  },
  {
   "cell_type": "markdown",
   "metadata": {},
   "source": [
    "#### Exercise 8.1:"
   ]
  },
  {
   "cell_type": "markdown",
   "metadata": {},
   "source": [
    "Does it look similar to what we envisaged for 2 clusters?\n",
    "\n",
    "Let’s try to run k-means with different k values to get more clusters.\n",
    "\n",
    "<span style=\"color:red\">\"\"\" Run K-means with another K value\"\"\"  \n",
    "\"\"\" Set K=4: we want to cluster the dataset into four subgroups\"\"\"  \n",
    "kmeans2 = KMeans(n_clusters=4).fit(</span>  \n",
    "<p style=\"margin-left: 40px;\"><span style=\"color:red\">iris_data[['sepalwidth','sepallength']]</span></p>  \n",
    "<span style=\"color:red\">)</span>  \n",
    "\n",
    "Visualise the output labels\n",
    "\n",
    "<span style=\"color:red\">plt.scatter(</span>  \n",
    "<p style=\"margin-left: 40px;\"><span style=\"color:red\">x=iris_data['sepalwidth'],</span></p>  \n",
    "<p style=\"margin-left: 40px;\"><span style=\"color:red\">y=iris_data['sepallength'],</span></p>  \n",
    "<p style=\"margin-left: 40px;\"><span style=\"color:red\">c=kmeans2.labels_</span></p>  \n",
    "<span style=\"color:red\">)</span>  \n",
    "\n",
    "Visualise the cluster centers (black stars)\n",
    "\n",
    "<span style=\"color:red\">plt.plot(</span>  \n",
    "<p style=\"margin-left: 40px;\"><span style=\"color:red\">kmeans2.cluster_centers_[:,0],</span></p>  \n",
    "<p style=\"margin-left: 40px;\"><span style=\"color:red\">kmeans2.cluster_centers_[:,1],</span></p>  \n",
    "<p style=\"margin-left: 40px;\"><span style=\"color:red\">'k*',</span></p>  \n",
    "<p style=\"margin-left: 40px;\"><span style=\"color:red\">markersize=20</span></p>  \n",
    "<span style=\"color:red\">)</span>  \n",
    "\n",
    "<span style=\"color:red\">plt.xlabel('SepalWidth')  \n",
    "plt.ylabel('SepalLength')  \n",
    "plt.show()</span>  \n",
    "\n",
    "k-means starts with a random positioning for the cluster centres (centroids) and then it computes the distance between the points on the centroid.  As mentioned earlier in our classes, the randomness is pseudo random and we can re-produce it each time by setting a seed.  In this case, let's try to add the parameter init='random' for the k-means initialisation.\n",
    "\n",
    "<span style=\"color:red\">kmeans2 = KMeans(n_clusters=4, init='random').fit(</span>  \n",
    "<p style=\"margin-left: 40px;\"><span style=\"color:red\">iris_data[['sepalwidth','sepallength']]</span></p>  \n",
    "<span style=\"color:red\">)</span>  \n",
    "\n",
    "and run it multiple times.\n",
    "\n",
    "<span style=\"color:red\">kmeans2 = KMeans(n_clusters=4, init='random').fit(</span>  \n",
    "<p style=\"margin-left: 40px;\"><span style=\"color:red\">iris_data[['sepalwidth','sepallength']]</span></p>  \n",
    "<span style=\"color:red\">)</span>  \n",
    "\n",
    "<span style=\"color:red\">plt.scatter(</span>  \n",
    "<p style=\"margin-left: 40px;\"><span style=\"color:red\">x=iris_data['sepalwidth'],</span></p>  \n",
    "<p style=\"margin-left: 40px;\"><span style=\"color:red\">y=iris_data['sepallength'],</span></p>  \n",
    "<p style=\"margin-left: 40px;\"><span style=\"color:red\">c=kmeans2.labels_)</span></p>  "
   ]
  },
  {
   "cell_type": "markdown",
   "metadata": {},
   "source": [
    "#### Exercise 8.2:"
   ]
  },
  {
   "cell_type": "markdown",
   "metadata": {},
   "source": [
    "Does the clustering change? Why?\n",
    "\n",
    "Visualise the cluster centers (black stars)\n",
    "\n",
    "<span style=\"color:red\">plt.plot(</span>  \n",
    "<p style=\"margin-left: 40px;\"><span style=\"color:red\">kmeans2.cluster_centers_[:,0],</span></p>  \n",
    "<p style=\"margin-left: 40px;\"><span style=\"color:red\">kmeans2.cluster_centers_[:,1],</span></p>  \n",
    "<p style=\"margin-left: 40px;\"><span style=\"color:red\">'k*',</span></p>  \n",
    "<p style=\"margin-left: 40px;\"><span style=\"color:red\">markersize=20</span></p>  \n",
    "<span style=\"color:red\">)</span>\n",
    "\n",
    "<span style=\"color:red\">plt.xlabel('SepalWidth')</span>  \n",
    "<span style=\"color:red\">plt.ylabel('SepalLength')</span>  \n",
    "<span style=\"color:red\">plt.show()</span>"
   ]
  },
  {
   "cell_type": "markdown",
   "metadata": {},
   "source": [
    "## Measurement for Clustering"
   ]
  },
  {
   "cell_type": "markdown",
   "metadata": {},
   "source": [
    "How good is our cluster?  There are actually 2 questions in this but we look at something termed as inertia.  In clustering for k-means, the inertia measures how well a dataset was clustered. It is the measurement of the the distance between each data point and its centroid, squaring this distance, and summing these squares across one cluster.\n",
    "\n",
    "<span style=\"color:red\">kmeans.inertia_</span>\n",
    "\n",
    "A good model is one with low inertia and a low number of clusters.  It is a combination of both for a good measure.  The second question is actually what's the best number for k?  There are 2 common ways to determine the best k.  Do note that for larger k, the inertia will typically be lower due to the distance between points and centroid will be smaller, hence it is low inertia AND low k.  The two common ways to determine the number of clusters are (1) Elbow (sometimes known as Knee) method, and (2) Silhouette Method."
   ]
  },
  {
   "cell_type": "markdown",
   "metadata": {},
   "source": [
    "### Elbow Analysis (Method)"
   ]
  },
  {
   "cell_type": "markdown",
   "metadata": {},
   "source": [
    "We first get the error function, which from the inertia, we will use the sum of the squared distances.\n",
    "\n",
    "<span style=\"color:red\">sum_of_squared_distances = []  \n",
    "k = range(2,9)</span>\n",
    "\n",
    "Then we plot for each cluster size chosen (k value), the error function (or inertia).\n",
    "\n",
    "<span style=\"color:red\">for nclusters in k:</span>  \n",
    "<p style=\"margin-left: 40px;\"><span style=\"color:red\">kmeans = KMeans(n_clusters=nclusters).fit(</span></p>  \n",
    "<p style=\"margin-left: 80px;\"><span style=\"color:red\">iris_data[['sepalwidth','sepallength']]</span></p>  \n",
    "<p style=\"margin-left: 40px;\"><span style=\"color:red\">)</span></p>  \n",
    "<p style=\"margin-left: 40px;\"><span style=\"color:red\">sum_of_squared_distances.append(kmeans.inertia_)</span></p>\n",
    "\n",
    "We then visually (manually) identify the elbow (or knee) point.  This is the point where the gradient plateaus significantly.  You can actually measure the tangent of each and decide but a visual look is sufficient.\n",
    "\n",
    "<span style=\"color:red\">plt.plot(k, sum_of_squared_distances, 'b-')  \n",
    "plt.xlabel('Values of k')  \n",
    "plt.ylabel('Sum of Squared Distance')  \n",
    "plt.title('Elbow Analysis for Optimal k')  \n",
    "plt.show()</span>\n",
    "\n",
    "![P2](picture/P2.png)"
   ]
  },
  {
   "cell_type": "markdown",
   "metadata": {},
   "source": [
    "### Silhouette Method"
   ]
  },
  {
   "cell_type": "markdown",
   "metadata": {},
   "source": [
    "A more \"scientific\" method would be to use the silhouette score.  (Caveat: From my personal point of view, this is not a good measure but I am including it here as it is a method used relatively widely).  We first import the function from the library.\n",
    "\n",
    "<span style=\"color:red\">from sklearn.metrics import silhouette_score</span>\n",
    "\n",
    "Again, we initialise our coding.\n",
    "\n",
    "<span style=\"color:red\">silhouette_avg = []  \n",
    "k = range(2,9)</span>\n",
    "\n",
    "Similarly to the above, we want to visually look at the silhouette score (but we really don't need do, as we can just get the max() value).\n",
    "\n",
    "<span style=\"color:red\">for nclusters in k:</span>  \n",
    "<p style=\"margin-left: 40px;\"><span style=\"color:red\">kmeans = KMeans(n_clusters=nclusters).fit(</span></p>  \n",
    "<p style=\"margin-left: 80px;\"><span style=\"color:red\">iris_data[['sepalwidth','sepallength']]</span></p>  \n",
    "<p style=\"margin-left: 40px;\"><span style=\"color:red\">)</span></p>  \n",
    "<p style=\"margin-left: 40px;\"><span style=\"color:red\">cluster_labels = kmeans.labels_</span></p>  \n",
    "<p style=\"margin-left: 40px;\"><span style=\"color:red\">silhouette_avg.append(silhouette_score(iris_data[['sepalwidth','sepallength']], cluster_labels))</span></p>  \n",
    "\n",
    "Visuals\n",
    "\n",
    "<span style=\"color:red\">plt.plot(k, silhouette_avg, 'b-')  \n",
    "plt.xlabel('Values of k')  \n",
    "plt.ylabel('Silhouette Score')  \n",
    "plt.title('Silhouette Score Analysis for Optimal k')  \n",
    "plt.show()</span>  \n",
    "\n",
    "The higher the silhouette score, the better it is. "
   ]
  },
  {
   "cell_type": "markdown",
   "metadata": {},
   "source": [
    "#### Exercise 8.3:"
   ]
  },
  {
   "cell_type": "markdown",
   "metadata": {},
   "source": [
    "For the above, what's the best number of clusters?  Can you plot and have a visual look whether the clusters make sense."
   ]
  },
  {
   "cell_type": "markdown",
   "metadata": {},
   "source": [
    "## Classification with Decision Trees"
   ]
  },
  {
   "cell_type": "markdown",
   "metadata": {},
   "source": [
    "Our next exercise will be on classification, which is a form of supervised machine learning. Similarly to Linear Regression, we will have a training and a testing dataset (as an aside, do look at what validation datasets are and you can discuss this on the Canvas Discussions).  For this activity, we will be attempting to predict whether a person has travelled abroad based on the person’s age and income.  The dataset is on Canvas and it is called \"TravelInfo.csv\".  Let’s start with the usual importing of the necessary libraries.\n",
    "\n",
    "<span style=\"color:red\">import numpy as np  \n",
    "import pandas as pd  \n",
    "import matplotlib.pyplot as plt</span>  \n",
    "\n",
    "<span style=\"color:red\">dataset = pd.read_csv('TravelInfo.csv')</span>  \n",
    "\n",
    "Investigate the content of the dataset (as we would normally), i.e. what are known as the Data Auditing steps.\n",
    "\n",
    "<span style=\"color:red\">dataset.shape</span>\n",
    "\n",
    "<span style=\"color:red\">dataset.head()</span>\n",
    "\n",
    "The dataset should have 400 rows and 3 columns.  The columns should be ‘Age’, ‘Income’ and ‘TravelAbroad’.  This is a record of past incidences or survey data.  As the intention is to build a model, we are going to use this as the training data."
   ]
  },
  {
   "cell_type": "markdown",
   "metadata": {},
   "source": [
    "#### Exercise 8.4:"
   ]
  },
  {
   "cell_type": "markdown",
   "metadata": {},
   "source": [
    "If we use the whole dataset as the training data, how do we know how good our model is?\n",
    "\n",
    "We proceed to split the dataset into input data and their corresponding labelled data.  The first two columns are the input data, i.e. the ‘Age’ and the ‘Income’ of which we would like to predict if the person has ‘TravelAbroad’ before.  From the past survey data collected, we have some samples and this ‘TravelAbroad’ is the respective labelled data.  Let’s split the data into <span style=\"color:red\">X</span>, the input data and <span style=\"color:red\">y</span>, the labelled data.\n",
    "\n",
    "<span style=\"color:red\">X = dataset.iloc[:, [0, 1]].values    # Input Data: Age and Income  \n",
    "y = dataset.iloc[:, 2].values         # Labeled Data: Travelled or not</span>\n",
    "\n",
    "You can review what <span style=\"color:red\">X</span> and <span style=\"color:red\">y</span> consist of.  Since, we need to reserve a portion of the dataset for testing data, we can either simply take a portion of the data or a better way is take from a “random” sample of the data, assuming that we want to keep 75% for the training data and 25% for the testing data.  We can use the function train_test_split() from sklearn.model_selection. You should already be familiar with this from the Linear Regression exercise from the previous week.\n",
    "\n",
    "<span style=\"color:red\">from sklearn.model_selection import train_test_split  \n",
    "X_train, X_test, y_train, y_test = train_test_split(</span>  \n",
    "<p style=\"margin-left: 40px;\"><span style=\"color:red\">X, y, test_size = 0.25, random_state = 0</span></p>  \n",
    "<span style=\"color:red\">)</span>\n",
    "\n",
    "Optionally, you can also do the split manually, taking the first 300 rows as the training dataset and the last 100 rows as the testing dataset.  It is very important to note that the training and testing datasets should not have any overlaps.  We will next look at Normalisation, in this case also known as Feature Scaling."
   ]
  },
  {
   "cell_type": "markdown",
   "metadata": {},
   "source": [
    "## Normalisation or Feature Scaling"
   ]
  },
  {
   "cell_type": "markdown",
   "metadata": {},
   "source": [
    "Since the range of values of raw data varies widely, in some machine learning algorithms, objective (the learning algorithm) functions will not work properly without normalisation (a.k.a. feature scaling). For example, many classifiers calculate the distance between two points by the Euclidean distance. If one of the features has a broad range of values, the distance will be governed (heavily influenced) by this particular feature. Therefore, the range of all features should be normalised in order for each feature to contribute proportionately to the final distance. In addition, our motivation here is to visualise the feature space later on.\n",
    "\n",
    "Again, we use a built in function StandardScaler() from sklearn.preprocessing to do this. Note that we apply the fit_transform() to the training dataset and not the test dataset.  The reason is that we want to scale it to have a mean of 0 and a certain standard deviation (this is also known as the Z-Score Normalisation - Do note that in Data Science, some of the terms are equivalent and if you know what they do/mean, you will be ok).  The mean and standard deviation values will be stored in the StandardScaler() and applied to the testing dataset using the transform() (later in the code).\n",
    "\n",
    "<span style=\"color:red\">\"\"\" Feature Scaling\"\"\"  \n",
    "from sklearn.preprocessing import StandardScaler  \n",
    "sc = StandardScaler()  \n",
    "X_train = sc.fit_transform(X_train)  \n",
    "X_test = sc.transform(X_test)</span>"
   ]
  },
  {
   "cell_type": "markdown",
   "metadata": {},
   "source": [
    "## Train and Test using Decision Tree Algorithm"
   ]
  },
  {
   "cell_type": "markdown",
   "metadata": {},
   "source": [
    "Now, our data is ready to be used to build the model.  Note that, in reality, we will usually need to read and wrangle the data before we even start to normalise or standardize the data (although this stage does not necessarily occur in all cases).  Let’s use the Decision Tree algorithm, from sklearn.tree’s DecisionTreeClassifier() function.\n",
    "\n",
    "<span style=\"color:red\">\"\"\" Fitting Decision Tree Classification to the Training set\"\"\"  \n",
    "from sklearn.tree import DecisionTreeClassifier  \n",
    "classifier = DecisionTreeClassifier( </span>  \n",
    "<p style=\"margin-left: 40px;\"><span style=\"color:red\">criterion = 'entropy', random_state = 0</span></p>  \n",
    "<span style=\"color:red\">)  \n",
    "classifier.fit(X_train, y_train)</span>  \n",
    "\n",
    "Normally, when we want to build a model, most functions will have a method called fit() (note that this is not standard but many functions use this).  At the end of running that code, we now have a model using the Decision Tree algorithm and the model is called <span style=\"color:red\">classifier</span> (you can call your model whatever, it does not have to be classifier). Since we now have a model built, let’s test how good our model is.  We firstly use the built model with the testing input data (not labels as that’s the output that we want to check against what we already know).  We use the method predict() in the model.  Note that this method’s name is also quite common with other built-in functions for models, but many also do call this pred().\n",
    "\n",
    "<span style=\"color:red\">\"\"\" Predicting the Test set results\"\"\"  \n",
    "y_pred = classifier.predict(X_test)</span>"
   ]
  },
  {
   "cell_type": "markdown",
   "metadata": {},
   "source": [
    "## Classifier Measurement using Confusion Matrix"
   ]
  },
  {
   "cell_type": "markdown",
   "metadata": {},
   "source": [
    "We now have a set of labels, y_pred, that is the output from the prediction of using our testing data.  We now need to compare this y_pred with the actual y_test (the true values) and determine the accuracy of our model’s prediction.  To do so, we want to view it using a confusion matrix.  This is an important concept for classifier comparison.\n",
    "\n",
    "<span style=\"color:red\">\"\"\" Making the Confusion Matrix\"\"\"  \n",
    "from sklearn.metrics import confusion_matrix  \n",
    "cm = confusion_matrix(y_test, y_pred)  \n",
    "cm</span>\n",
    "\n",
    "Your confusion matrix will be shown as a 2 by 2 matrix."
   ]
  },
  {
   "cell_type": "markdown",
   "metadata": {},
   "source": [
    "#### Exercise 8.5:"
   ]
  },
  {
   "cell_type": "markdown",
   "metadata": {},
   "source": [
    "From the confusion matrix output, discuss what are the values of True Negatives, True Positives, False Negatives, and False Positives.  Other than accuracy, would precision or recall be a better measure for this particular case?"
   ]
  },
  {
   "cell_type": "markdown",
   "metadata": {},
   "source": [
    "## Visualise (not assessed materials)"
   ]
  },
  {
   "cell_type": "markdown",
   "metadata": {},
   "source": [
    "We will take this opportunity to introduce a new visualisation, called the meshgrid.  For this demonstration, we will look at the test results in the feature space.  You do not need to know the syntax or how it works.  This is just for illustration.\n",
    "\n",
    "<span style=\"color:red\">\"\"\" Visualising the Test set results\"\"\"\n",
    "from matplotlib.colors import ListedColormap  \n",
    "X_set, y_set = X_test, y_test  \n",
    "X1, X2 = np.meshgrid(</span>  \n",
    "<p style=\"margin-left: 40px;\"><span style=\"color:red\">np.arange(</span></p>  \n",
    "<p style=\"margin-left: 80px;\"><span style=\"color:red\">start = X_set[:, 0].min() - 1,</span></p>  \n",
    "<p style=\"margin-left: 80px;\"><span style=\"color:red\">stop = X_set[:, 0].max() + 1,</span></p>  \n",
    "<p style=\"margin-left: 80px;\"><span style=\"color:red\">step = 0.01</span></p>  \n",
    "<p style=\"margin-left: 40px;\"><span style=\"color:red\">),</span></p>  \n",
    "<p style=\"margin-left: 40px;\"><span style=\"color:red\">np.arange(</span></p>  \n",
    "<p style=\"margin-left: 80px;\"><span style=\"color:red\">start = X_set[:, 1].min() - 1,</span></p>  \n",
    "<p style=\"margin-left: 80px;\"><span style=\"color:red\">stop = X_set[:, 1].max() + 1,</span></p>  \n",
    "<p style=\"margin-left: 80px;\"><span style=\"color:red\">step = 0.01</span></p>  \n",
    "<p style=\"margin-left: 40px;\"><span style=\"color:red\">)</span></p>  \n",
    "<span style=\"color:red\">)</span>  \n",
    "\n",
    "<span style=\"color:red\">plt.contourf(</span>  \n",
    "<p style=\"margin-left: 40px;\"><span style=\"color:red\">X1,</span></p>  \n",
    "<p style=\"margin-left: 40px;\"><span style=\"color:red\">X2,</span></p>  \n",
    "<p style=\"margin-left: 40px;\"><span style=\"color:red\">classifier.predict(</span></p>  \n",
    "<p style=\"margin-left: 80px;\"><span style=\"color:red\">np.array([X1.ravel(), X2.ravel()]).T).reshape(X1.shape),</span></p>  \n",
    "<p style=\"margin-left: 40px;\"><span style=\"color:red\">alpha = 0.75,</span></p>  \n",
    "<p style=\"margin-left: 40px;\"><span style=\"color:red\">cmap = ListedColormap(('red', 'green'))</span></p>  \n",
    "<span style=\"color:red\">)</span>  \n",
    "\n",
    "<span style=\"color:red\">plt.xlim(X1.min(), X1.max())  \n",
    "plt.ylim(X2.min(), X2.max())</span>  \n",
    "\n",
    "<span style=\"color:red\">for i, j in enumerate(np.unique(y_set)):</span>  \n",
    "<p style=\"margin-left: 40px;\"><span style=\"color:red\">plt.scatter(</span></p>  \n",
    "<p style=\"margin-left: 80px;\"><span style=\"color:red\">X_set[y_set == j, 0],</span></p>  \n",
    "<p style=\"margin-left: 80px;\"><span style=\"color:red\">X_set[y_set == j, 1],</span></p>  \n",
    "<p style=\"margin-left: 80px;\"><span style=\"color:red\">c = ListedColormap(('red', 'green'))(i),</span></p>  \n",
    "<p style=\"margin-left: 80px;\"><span style=\"color:red\">label = j</span></p>  \n",
    "<p style=\"margin-left: 40px;\"><span style=\"color:red\">)</span></p>  \n",
    "    \n",
    "<span style=\"color:red\">plt.title('Decision Tree Classification (Test set)')  \n",
    "plt.xlabel('Age')  \n",
    "plt.ylabel('Income')  \n",
    "plt.legend()  \n",
    "plt.show()</span>"
   ]
  },
  {
   "cell_type": "markdown",
   "metadata": {},
   "source": [
    "## Train and Test using Random Forest Algorithm (extra)"
   ]
  },
  {
   "cell_type": "markdown",
   "metadata": {},
   "source": [
    "Another classifier is the random forests algorithm, which in essence consists of multiple trees, each based on a random sample of the training data.  They usually perform better than Decision Trees, and such a model is also known as an ensemble method (aggregation from many Decision Trees in this case).  Let’s now fit a Random Forest Classification to the Training set.  The concepts are similar to the above, just that we call a different model.  All the reading of data, splitting of data and data normalization has been done above.\n",
    "\n",
    "<span style=\"color:red\">\"\"\" Fitting Random Forest Classification to the Training set\"\"\"  \n",
    "from sklearn.ensemble import RandomForestClassifier  \n",
    "classifier = RandomForestClassifier(</span>  \n",
    "<p style=\"margin-left: 40px;\"><span style=\"color:red\">n_estimators = 20,</span></p>  \n",
    "<p style=\"margin-left: 40px;\"><span style=\"color:red\">criterion = 'entropy',</span></p>  \n",
    "<p style=\"margin-left: 40px;\"><span style=\"color:red\">random_state = 0</span></p>  \n",
    "<span style=\"color:red\">)  \n",
    "classifier.fit(X_train, y_train)</span>  \n",
    "\n",
    "<span style=\"color:red\">\"\"\" Predicting the Test set results\"\"\"  \n",
    "y_pred = classifier.predict(X_test)</span>  \n",
    "\n",
    "<span style=\"color:red\">\"\"\" Making the Confusion Matrix\"\"\"  \n",
    "from sklearn.metrics import confusion_matrix  \n",
    "cm = confusion_matrix(y_test, y_pred)  \n",
    "cm</span>"
   ]
  },
  {
   "cell_type": "markdown",
   "metadata": {},
   "source": [
    "#### Exercise 8.6:"
   ]
  },
  {
   "cell_type": "markdown",
   "metadata": {},
   "source": [
    "Discuss the results of the above confusion matrix. What is the prediction accuracy? Compare with the decision tree results.\n",
    "\n",
    "In machine learning algorithms, one way to improve the test accuracy is to tune the parameters (e.g. number of trees in the random forest algorithm).  Tuning based on the parameters of the model building is called hyper-parameter tuning.  Try the above using <span style=\"color:red\">n_estimators = 40</span>."
   ]
  },
  {
   "cell_type": "markdown",
   "metadata": {},
   "source": [
    "#### Exercise 8.7:"
   ]
  },
  {
   "cell_type": "markdown",
   "metadata": {},
   "source": [
    "Do you get better results? \n",
    "\n",
    "This comes to the end of our data analytics process but we will continue to look at the deployment of the models next week."
   ]
  },
  {
   "cell_type": "markdown",
   "metadata": {},
   "source": [
    "## Exploring Cloud Machine Learning Tools"
   ]
  },
  {
   "cell_type": "markdown",
   "metadata": {},
   "source": [
    "You have now had some exposure to the basics of machine learning, with some understanding of associative rule mining, linear regression, clustering with k-means, and classifiers such as decision trees and random forest.  These provide you with the basic machine learning foundations.\n",
    "\n",
    "Other than the tools that are available in Python, many of the cloud platform providers have their own machine learning algorithms available.  Note that like these Python libraries, the algorithms are standard implementations.  As a data scientist, you should have the necessary background to augment these algorithms to maybe suit your needs better.\n",
    "\n",
    "For the rest of Week 9, you can explore:\n",
    "\n",
    "* [AWS Machine Learning](https://aws.amazon.com/fr/free/machine-learning/)  \n",
    "* [Google Cloud AI and Machine Learning](https://cloud.google.com/products/ai)  \n",
    "* [Microsoft Azure Machine Learning](https://azure.microsoft.com/en-us/pricing/purchase-options/azure-account?icid=machine-learning)  \n",
    "* [OpenAI API](https://openai.com/api/)  \n",
    "* [AliCloud Machine Learning](https://www.alibabacloud.com/fr/product/machine-learning?_p_lc=1)  \n",
    "* [IBM Watson Machine Learning](https://www.ibm.com/products/watsonx-ai)  \n",
    "* [Huawei ModelArts AI](https://www.huaweicloud.com/intl/en-us/product/modelarts.html)  \n",
    "\n",
    "You should be able to obtain some free trial credits for some of them, either as a student or as a start-up."
   ]
  },
  {
   "cell_type": "markdown",
   "metadata": {},
   "source": [
    "## My code part"
   ]
  },
  {
   "cell_type": "markdown",
   "metadata": {},
   "source": [
    "#### Understanding Clustering (k-means)"
   ]
  },
  {
   "cell_type": "code",
   "execution_count": 2,
   "metadata": {},
   "outputs": [],
   "source": [
    "import numpy as np\n",
    "import pandas as pd\n",
    "import matplotlib.pyplot as plt\n",
    "from sklearn.model_selection import train_test_split\n",
    "# This is a library we import to run the K-means clustering algorithm as a blackbox\n",
    "# For more information please see: http://scikit-learn.org/stable/modules/generated/sklearn.cluster.KMeans.html\n",
    "from sklearn.cluster import KMeans"
   ]
  },
  {
   "cell_type": "code",
   "execution_count": 3,
   "metadata": {},
   "outputs": [],
   "source": [
    "# We use the standard Iris dataset that is very popular for learning clustering.\n",
    "iris_data = pd.read_csv(\"data/iris.csv\")"
   ]
  },
  {
   "cell_type": "code",
   "execution_count": 4,
   "metadata": {},
   "outputs": [
    {
     "data": {
      "text/plain": [
       "(150, 5)"
      ]
     },
     "execution_count": 4,
     "metadata": {},
     "output_type": "execute_result"
    }
   ],
   "source": [
    "iris_data.shape"
   ]
  },
  {
   "cell_type": "code",
   "execution_count": 5,
   "metadata": {},
   "outputs": [
    {
     "data": {
      "application/vnd.microsoft.datawrangler.viewer.v0+json": {
       "columns": [
        {
         "name": "index",
         "rawType": "int64",
         "type": "integer"
        },
        {
         "name": "sepallength",
         "rawType": "float64",
         "type": "float"
        },
        {
         "name": "sepalwidth",
         "rawType": "float64",
         "type": "float"
        },
        {
         "name": "petallength",
         "rawType": "float64",
         "type": "float"
        },
        {
         "name": "petalwidth",
         "rawType": "float64",
         "type": "float"
        },
        {
         "name": "class",
         "rawType": "object",
         "type": "string"
        }
       ],
       "conversionMethod": "pd.DataFrame",
       "ref": "36fba330-a370-4540-8403-8ac5c914530d",
       "rows": [
        [
         "62",
         "6.0",
         "2.2",
         "4.0",
         "1.0",
         "Iris-versicolor"
        ]
       ],
       "shape": {
        "columns": 5,
        "rows": 1
       }
      },
      "text/html": [
       "<div>\n",
       "<style scoped>\n",
       "    .dataframe tbody tr th:only-of-type {\n",
       "        vertical-align: middle;\n",
       "    }\n",
       "\n",
       "    .dataframe tbody tr th {\n",
       "        vertical-align: top;\n",
       "    }\n",
       "\n",
       "    .dataframe thead th {\n",
       "        text-align: right;\n",
       "    }\n",
       "</style>\n",
       "<table border=\"1\" class=\"dataframe\">\n",
       "  <thead>\n",
       "    <tr style=\"text-align: right;\">\n",
       "      <th></th>\n",
       "      <th>sepallength</th>\n",
       "      <th>sepalwidth</th>\n",
       "      <th>petallength</th>\n",
       "      <th>petalwidth</th>\n",
       "      <th>class</th>\n",
       "    </tr>\n",
       "  </thead>\n",
       "  <tbody>\n",
       "    <tr>\n",
       "      <th>62</th>\n",
       "      <td>6.0</td>\n",
       "      <td>2.2</td>\n",
       "      <td>4.0</td>\n",
       "      <td>1.0</td>\n",
       "      <td>Iris-versicolor</td>\n",
       "    </tr>\n",
       "  </tbody>\n",
       "</table>\n",
       "</div>"
      ],
      "text/plain": [
       "    sepallength  sepalwidth  petallength  petalwidth            class\n",
       "62          6.0         2.2          4.0         1.0  Iris-versicolor"
      ]
     },
     "execution_count": 5,
     "metadata": {},
     "output_type": "execute_result"
    }
   ],
   "source": [
    "iris_data.sample()"
   ]
  },
  {
   "cell_type": "code",
   "execution_count": 6,
   "metadata": {},
   "outputs": [
    {
     "data": {
      "text/plain": [
       "Index(['sepallength', 'sepalwidth', 'petallength', 'petalwidth', 'class'], dtype='object')"
      ]
     },
     "execution_count": 6,
     "metadata": {},
     "output_type": "execute_result"
    }
   ],
   "source": [
    "iris_data.columns"
   ]
  },
  {
   "cell_type": "code",
   "execution_count": 7,
   "metadata": {},
   "outputs": [
    {
     "data": {
      "application/vnd.microsoft.datawrangler.viewer.v0+json": {
       "columns": [
        {
         "name": "index",
         "rawType": "object",
         "type": "string"
        },
        {
         "name": "sepallength",
         "rawType": "float64",
         "type": "float"
        },
        {
         "name": "sepalwidth",
         "rawType": "float64",
         "type": "float"
        },
        {
         "name": "petallength",
         "rawType": "float64",
         "type": "float"
        },
        {
         "name": "petalwidth",
         "rawType": "float64",
         "type": "float"
        }
       ],
       "conversionMethod": "pd.DataFrame",
       "ref": "692f756a-11f8-4937-8c57-d39c8cf6ad53",
       "rows": [
        [
         "count",
         "150.0",
         "150.0",
         "150.0",
         "150.0"
        ],
        [
         "mean",
         "5.843333333333334",
         "3.0540000000000003",
         "3.758666666666666",
         "1.1986666666666668"
        ],
        [
         "std",
         "0.828066127977863",
         "0.4335943113621737",
         "1.7644204199522626",
         "0.7631607417008411"
        ],
        [
         "min",
         "4.3",
         "2.0",
         "1.0",
         "0.1"
        ],
        [
         "25%",
         "5.1",
         "2.8",
         "1.6",
         "0.3"
        ],
        [
         "50%",
         "5.8",
         "3.0",
         "4.35",
         "1.3"
        ],
        [
         "75%",
         "6.4",
         "3.3",
         "5.1",
         "1.8"
        ],
        [
         "max",
         "7.9",
         "4.4",
         "6.9",
         "2.5"
        ]
       ],
       "shape": {
        "columns": 4,
        "rows": 8
       }
      },
      "text/html": [
       "<div>\n",
       "<style scoped>\n",
       "    .dataframe tbody tr th:only-of-type {\n",
       "        vertical-align: middle;\n",
       "    }\n",
       "\n",
       "    .dataframe tbody tr th {\n",
       "        vertical-align: top;\n",
       "    }\n",
       "\n",
       "    .dataframe thead th {\n",
       "        text-align: right;\n",
       "    }\n",
       "</style>\n",
       "<table border=\"1\" class=\"dataframe\">\n",
       "  <thead>\n",
       "    <tr style=\"text-align: right;\">\n",
       "      <th></th>\n",
       "      <th>sepallength</th>\n",
       "      <th>sepalwidth</th>\n",
       "      <th>petallength</th>\n",
       "      <th>petalwidth</th>\n",
       "    </tr>\n",
       "  </thead>\n",
       "  <tbody>\n",
       "    <tr>\n",
       "      <th>count</th>\n",
       "      <td>150.000000</td>\n",
       "      <td>150.000000</td>\n",
       "      <td>150.000000</td>\n",
       "      <td>150.000000</td>\n",
       "    </tr>\n",
       "    <tr>\n",
       "      <th>mean</th>\n",
       "      <td>5.843333</td>\n",
       "      <td>3.054000</td>\n",
       "      <td>3.758667</td>\n",
       "      <td>1.198667</td>\n",
       "    </tr>\n",
       "    <tr>\n",
       "      <th>std</th>\n",
       "      <td>0.828066</td>\n",
       "      <td>0.433594</td>\n",
       "      <td>1.764420</td>\n",
       "      <td>0.763161</td>\n",
       "    </tr>\n",
       "    <tr>\n",
       "      <th>min</th>\n",
       "      <td>4.300000</td>\n",
       "      <td>2.000000</td>\n",
       "      <td>1.000000</td>\n",
       "      <td>0.100000</td>\n",
       "    </tr>\n",
       "    <tr>\n",
       "      <th>25%</th>\n",
       "      <td>5.100000</td>\n",
       "      <td>2.800000</td>\n",
       "      <td>1.600000</td>\n",
       "      <td>0.300000</td>\n",
       "    </tr>\n",
       "    <tr>\n",
       "      <th>50%</th>\n",
       "      <td>5.800000</td>\n",
       "      <td>3.000000</td>\n",
       "      <td>4.350000</td>\n",
       "      <td>1.300000</td>\n",
       "    </tr>\n",
       "    <tr>\n",
       "      <th>75%</th>\n",
       "      <td>6.400000</td>\n",
       "      <td>3.300000</td>\n",
       "      <td>5.100000</td>\n",
       "      <td>1.800000</td>\n",
       "    </tr>\n",
       "    <tr>\n",
       "      <th>max</th>\n",
       "      <td>7.900000</td>\n",
       "      <td>4.400000</td>\n",
       "      <td>6.900000</td>\n",
       "      <td>2.500000</td>\n",
       "    </tr>\n",
       "  </tbody>\n",
       "</table>\n",
       "</div>"
      ],
      "text/plain": [
       "       sepallength  sepalwidth  petallength  petalwidth\n",
       "count   150.000000  150.000000   150.000000  150.000000\n",
       "mean      5.843333    3.054000     3.758667    1.198667\n",
       "std       0.828066    0.433594     1.764420    0.763161\n",
       "min       4.300000    2.000000     1.000000    0.100000\n",
       "25%       5.100000    2.800000     1.600000    0.300000\n",
       "50%       5.800000    3.000000     4.350000    1.300000\n",
       "75%       6.400000    3.300000     5.100000    1.800000\n",
       "max       7.900000    4.400000     6.900000    2.500000"
      ]
     },
     "execution_count": 7,
     "metadata": {},
     "output_type": "execute_result"
    }
   ],
   "source": [
    "iris_data.describe()"
   ]
  },
  {
   "cell_type": "markdown",
   "metadata": {},
   "source": [
    "#### Visualise"
   ]
  },
  {
   "cell_type": "code",
   "execution_count": 8,
   "metadata": {},
   "outputs": [
    {
     "data": {
      "text/plain": [
       "Text(0, 0.5, 'Sepal Length (cm)')"
      ]
     },
     "execution_count": 8,
     "metadata": {},
     "output_type": "execute_result"
    },
    {
     "data": {
      "image/png": "[encoded data removed]",
      "text/plain": [
       "<Figure size 640x480 with 1 Axes>"
      ]
     },
     "metadata": {},
     "output_type": "display_data"
    }
   ],
   "source": [
    "%matplotlib inline\n",
    "plt.scatter(x=iris_data['sepalwidth'],y=iris_data['sepallength'])\n",
    "plt.xlabel('Sepal Width (cm)')\n",
    "plt.ylabel('Sepal Length (cm)')"
   ]
  },
  {
   "cell_type": "code",
   "execution_count": 9,
   "metadata": {},
   "outputs": [
    {
     "name": "stderr",
     "output_type": "stream",
     "text": [
      "c:\\Users\\Framework_Arthur\\AppData\\Local\\Programs\\Python\\Python313\\Lib\\site-packages\\joblib\\externals\\loky\\backend\\context.py:136: UserWarning: Could not find the number of physical cores for the following reason:\n",
      "[WinError 2] Le fichier spécifié est introuvable\n",
      "Returning the number of logical cores instead. You can silence this warning by setting LOKY_MAX_CPU_COUNT to the number of cores you want to use.\n",
      "  warnings.warn(\n",
      "  File \"c:\\Users\\Framework_Arthur\\AppData\\Local\\Programs\\Python\\Python313\\Lib\\site-packages\\joblib\\externals\\loky\\backend\\context.py\", line 257, in _count_physical_cores\n",
      "    cpu_info = subprocess.run(\n",
      "        \"wmic CPU Get NumberOfCores /Format:csv\".split(),\n",
      "        capture_output=True,\n",
      "        text=True,\n",
      "    )\n",
      "  File \"c:\\Users\\Framework_Arthur\\AppData\\Local\\Programs\\Python\\Python313\\Lib\\subprocess.py\", line 554, in run\n",
      "    with Popen(*popenargs, **kwargs) as process:\n",
      "         ~~~~~^^^^^^^^^^^^^^^^^^^^^^\n",
      "  File \"c:\\Users\\Framework_Arthur\\AppData\\Local\\Programs\\Python\\Python313\\Lib\\subprocess.py\", line 1036, in __init__\n",
      "    self._execute_child(args, executable, preexec_fn, close_fds,\n",
      "    ~~~~~~~~~~~~~~~~~~~^^^^^^^^^^^^^^^^^^^^^^^^^^^^^^^^^^^^^^^^^\n",
      "                        pass_fds, cwd, env,\n",
      "                        ^^^^^^^^^^^^^^^^^^^\n",
      "    ...<5 lines>...\n",
      "                        gid, gids, uid, umask,\n",
      "                        ^^^^^^^^^^^^^^^^^^^^^^\n",
      "                        start_new_session, process_group)\n",
      "                        ^^^^^^^^^^^^^^^^^^^^^^^^^^^^^^^^^\n",
      "  File \"c:\\Users\\Framework_Arthur\\AppData\\Local\\Programs\\Python\\Python313\\Lib\\subprocess.py\", line 1548, in _execute_child\n",
      "    hp, ht, pid, tid = _winapi.CreateProcess(executable, args,\n",
      "                       ~~~~~~~~~~~~~~~~~~~~~^^^^^^^^^^^^^^^^^^\n",
      "                             # no special security\n",
      "                             ^^^^^^^^^^^^^^^^^^^^^\n",
      "    ...<4 lines>...\n",
      "                             cwd,\n",
      "                             ^^^^\n",
      "                             startupinfo)\n",
      "                             ^^^^^^^^^^^^\n"
     ]
    }
   ],
   "source": [
    "# Run the K-means clustering over the dataset using only\n",
    "# distance and speeding features. Set K=2: we only want\n",
    "# to cluster the dataset into two subgroups\n",
    "kmeans = KMeans(n_clusters=2).fit(\n",
    "    iris_data[['sepalwidth','sepallength']]\n",
    ")"
   ]
  },
  {
   "cell_type": "code",
   "execution_count": 10,
   "metadata": {},
   "outputs": [
    {
     "data": {
      "text/plain": [
       "array([[2.94868421, 6.51842105],\n",
       "       [3.16216216, 5.15      ]])"
      ]
     },
     "execution_count": 10,
     "metadata": {},
     "output_type": "execute_result"
    }
   ],
   "source": [
    "kmeans.cluster_centers_"
   ]
  },
  {
   "cell_type": "code",
   "execution_count": 11,
   "metadata": {},
   "outputs": [
    {
     "data": {
      "text/plain": [
       "array([1, 1, 1, 1, 1, 1, 1, 1, 1, 1, 1, 1, 1, 1, 1, 1, 1, 1, 1, 1, 1, 1,\n",
       "       1, 1, 1, 1, 1, 1, 1, 1, 1, 1, 1, 1, 1, 1, 1, 1, 1, 1, 1, 1, 1, 1,\n",
       "       1, 1, 1, 1, 1, 1, 0, 0, 0, 1, 0, 1, 0, 1, 0, 1, 1, 0, 0, 0, 1, 0,\n",
       "       1, 0, 0, 1, 0, 0, 0, 0, 0, 0, 0, 0, 0, 1, 1, 1, 0, 0, 1, 0, 0, 0,\n",
       "       1, 1, 1, 0, 0, 1, 1, 1, 1, 0, 1, 1, 0, 0, 0, 0, 0, 0, 1, 0, 0, 0,\n",
       "       0, 0, 0, 1, 0, 0, 0, 0, 0, 0, 0, 1, 0, 0, 0, 0, 0, 0, 0, 0, 0, 0,\n",
       "       0, 0, 0, 0, 0, 0, 0, 0, 0, 0, 0, 0, 0, 0, 0, 0, 0, 0], dtype=int32)"
      ]
     },
     "execution_count": 11,
     "metadata": {},
     "output_type": "execute_result"
    }
   ],
   "source": [
    "kmeans.labels_"
   ]
  },
  {
   "cell_type": "code",
   "execution_count": 12,
   "metadata": {},
   "outputs": [
    {
     "data": {
      "text/plain": [
       "<matplotlib.collections.PathCollection at 0x1f5f78e4910>"
      ]
     },
     "execution_count": 12,
     "metadata": {},
     "output_type": "execute_result"
    },
    {
     "data": {
      "image/png": "[encoded data removed]",
      "text/plain": [
       "<Figure size 640x480 with 1 Axes>"
      ]
     },
     "metadata": {},
     "output_type": "display_data"
    }
   ],
   "source": [
    "plt.scatter(\n",
    "    x=iris_data['sepalwidth'],\n",
    "    y=iris_data['sepallength'], \n",
    "    c=kmeans.labels_)"
   ]
  },
  {
   "cell_type": "code",
   "execution_count": 13,
   "metadata": {},
   "outputs": [
    {
     "data": {
      "image/png": "[encoded data removed]",
      "text/plain": [
       "<Figure size 640x480 with 1 Axes>"
      ]
     },
     "metadata": {},
     "output_type": "display_data"
    }
   ],
   "source": [
    "plt.plot(\n",
    "    kmeans.cluster_centers_[:,0],\n",
    "    kmeans.cluster_centers_[:,1],\n",
    "    'k*',\n",
    "    markersize=20\n",
    ")\n",
    "plt.xlabel('SepalWidth')\n",
    "plt.ylabel('SepalLength')\n",
    "plt.show()"
   ]
  },
  {
   "cell_type": "markdown",
   "metadata": {},
   "source": [
    "#### Exercise 8.1: "
   ]
  },
  {
   "cell_type": "code",
   "execution_count": 14,
   "metadata": {},
   "outputs": [],
   "source": [
    "# Run K-means with another K value\n",
    "# Set K=4: we want to cluster the dataset into four subgroups\n",
    "kmeans2 = KMeans(n_clusters=4).fit(\n",
    "    iris_data[['sepalwidth','sepallength']]\n",
    ")"
   ]
  },
  {
   "cell_type": "code",
   "execution_count": 15,
   "metadata": {},
   "outputs": [],
   "source": [
    "# Run K-means with another K value\n",
    "# Set K=4: we want to cluster the dataset into four subgroups\n",
    "kmeans2 = KMeans(n_clusters=4).fit(\n",
    "    iris_data[['sepalwidth','sepallength']]\n",
    ")"
   ]
  },
  {
   "cell_type": "code",
   "execution_count": 16,
   "metadata": {},
   "outputs": [
    {
     "data": {
      "text/plain": [
       "<matplotlib.collections.PathCollection at 0x1f5f79ce210>"
      ]
     },
     "execution_count": 16,
     "metadata": {},
     "output_type": "execute_result"
    },
    {
     "data": {
      "image/png": "[encoded data removed]",
      "text/plain": [
       "<Figure size 640x480 with 1 Axes>"
      ]
     },
     "metadata": {},
     "output_type": "display_data"
    }
   ],
   "source": [
    "plt.scatter(\n",
    "    x=iris_data['sepalwidth'],\n",
    "    y=iris_data['sepallength'], \n",
    "    c=kmeans2.labels_\n",
    ")"
   ]
  },
  {
   "cell_type": "code",
   "execution_count": 17,
   "metadata": {},
   "outputs": [
    {
     "data": {
      "image/png": "[encoded data removed]",
      "text/plain": [
       "<Figure size 640x480 with 1 Axes>"
      ]
     },
     "metadata": {},
     "output_type": "display_data"
    }
   ],
   "source": [
    "plt.plot(\n",
    "    kmeans2.cluster_centers_[:,0],\n",
    "    kmeans2.cluster_centers_[:,1],\n",
    "    'k*',\n",
    "    markersize=20\n",
    ")\n",
    "\n",
    "plt.xlabel('SepalWidth')\n",
    "plt.ylabel('SepalLength')\n",
    "plt.show()"
   ]
  },
  {
   "cell_type": "code",
   "execution_count": 18,
   "metadata": {},
   "outputs": [
    {
     "data": {
      "text/plain": [
       "<matplotlib.collections.PathCollection at 0x1f5f7939810>"
      ]
     },
     "execution_count": 18,
     "metadata": {},
     "output_type": "execute_result"
    },
    {
     "data": {
      "image/png": "[encoded data removed]",
      "text/plain": [
       "<Figure size 640x480 with 1 Axes>"
      ]
     },
     "metadata": {},
     "output_type": "display_data"
    }
   ],
   "source": [
    "kmeans2 = KMeans(n_clusters=4, init='random').fit(\n",
    "    iris_data[['sepalwidth','sepallength']]\n",
    ")\n",
    "\n",
    "plt.scatter(\n",
    "    x=iris_data['sepalwidth'],\n",
    "    y=iris_data['sepallength'], \n",
    "    c=kmeans2.labels_)"
   ]
  },
  {
   "cell_type": "markdown",
   "metadata": {},
   "source": [
    "#### Exercise 8.2:"
   ]
  },
  {
   "cell_type": "code",
   "execution_count": 19,
   "metadata": {},
   "outputs": [
    {
     "data": {
      "image/png": "[encoded data removed]",
      "text/plain": [
       "<Figure size 640x480 with 1 Axes>"
      ]
     },
     "metadata": {},
     "output_type": "display_data"
    }
   ],
   "source": [
    "plt.plot(\n",
    "    kmeans2.cluster_centers_[:,0],\n",
    "    kmeans2.cluster_centers_[:,1],\n",
    "    'k*',\n",
    "    markersize=20\n",
    ")\n",
    "\n",
    "plt.xlabel('SepalWidth')\n",
    "plt.ylabel('SepalLength')\n",
    "plt.show()"
   ]
  },
  {
   "cell_type": "code",
   "execution_count": 20,
   "metadata": {},
   "outputs": [
    {
     "data": {
      "text/plain": [
       "58.26313300142248"
      ]
     },
     "execution_count": 20,
     "metadata": {},
     "output_type": "execute_result"
    }
   ],
   "source": [
    "kmeans.inertia_"
   ]
  },
  {
   "cell_type": "code",
   "execution_count": 21,
   "metadata": {},
   "outputs": [],
   "source": [
    "sum_of_squared_distances = []\n",
    "k = range(2,9)"
   ]
  },
  {
   "cell_type": "code",
   "execution_count": 22,
   "metadata": {},
   "outputs": [],
   "source": [
    "for nclusters in k:\n",
    "    kmeans = KMeans(n_clusters=nclusters).fit(\n",
    "        iris_data[['sepalwidth','sepallength']]\n",
    "    )\n",
    "    sum_of_squared_distances.append(kmeans.inertia_)"
   ]
  },
  {
   "cell_type": "code",
   "execution_count": 23,
   "metadata": {},
   "outputs": [
    {
     "data": {
      "image/png": "[encoded data removed]",
      "text/plain": [
       "<Figure size 640x480 with 1 Axes>"
      ]
     },
     "metadata": {},
     "output_type": "display_data"
    }
   ],
   "source": [
    "plt.plot(k, sum_of_squared_distances, 'b-')\n",
    "plt.xlabel('Values of k')\n",
    "plt.ylabel('Sum of Squared Distance')\n",
    "plt.title('Elbow Analysis for Optimal k')\n",
    "plt.show()"
   ]
  },
  {
   "cell_type": "code",
   "execution_count": 24,
   "metadata": {},
   "outputs": [],
   "source": [
    "from sklearn.metrics import silhouette_score"
   ]
  },
  {
   "cell_type": "code",
   "execution_count": 25,
   "metadata": {},
   "outputs": [],
   "source": [
    "silhouette_avg = []\n",
    "k = range(2,9)"
   ]
  },
  {
   "cell_type": "code",
   "execution_count": 26,
   "metadata": {},
   "outputs": [],
   "source": [
    "for nclusters in k:\n",
    "    kmeans = KMeans(n_clusters=nclusters).fit(\n",
    "        iris_data[['sepalwidth','sepallength']]\n",
    "    )\n",
    "    cluster_labels = kmeans.labels_\n",
    "    silhouette_avg.append(silhouette_score(iris_data[['sepalwidth','sepallength']], cluster_labels))"
   ]
  },
  {
   "cell_type": "code",
   "execution_count": 27,
   "metadata": {},
   "outputs": [
    {
     "data": {
      "image/png": "[encoded data removed]",
      "text/plain": [
       "<Figure size 640x480 with 1 Axes>"
      ]
     },
     "metadata": {},
     "output_type": "display_data"
    }
   ],
   "source": [
    "plt.plot(k, silhouette_avg, 'b-')\n",
    "plt.xlabel('Values of k')\n",
    "plt.ylabel('Silhouette Score')\n",
    "plt.title('Silhouette Score Analysis for Optimal k')\n",
    "plt.show()"
   ]
  },
  {
   "cell_type": "markdown",
   "metadata": {},
   "source": [
    "#### Exercise 8.3:"
   ]
  },
  {
   "cell_type": "markdown",
   "metadata": {},
   "source": [
    "Elbow Method (First Graph):\n",
    "\n",
    "The sum of squared distances (SSD) decreases as k increases.  \n",
    "The \"elbow\" point, where the rate of decrease slows down significantly, appears to be around \n",
    "k=3 or k=5\n",
    "\n",
    "Silhouette Score (Second Graph):\n",
    "\n",
    "The silhouette score, which measures cluster cohesion and separation, decreases as 𝑘\n",
    "k increases. \n",
    "The highest silhouette score is at k=2, but that might indicate overly large clusters.  \n",
    "k=3 and k=4 also have relatively high scores before the decrease becomes more pronounced."
   ]
  },
  {
   "cell_type": "code",
   "execution_count": 41,
   "metadata": {},
   "outputs": [
    {
     "data": {
      "text/plain": [
       "<matplotlib.collections.PathCollection at 0x1f5fcdaad50>"
      ]
     },
     "execution_count": 41,
     "metadata": {},
     "output_type": "execute_result"
    },
    {
     "data": {
      "image/png": "[encoded data removed]",
      "text/plain": [
       "<Figure size 640x480 with 1 Axes>"
      ]
     },
     "metadata": {},
     "output_type": "display_data"
    }
   ],
   "source": [
    "kmeans2 = KMeans(n_clusters=2, init='random').fit(\n",
    "    iris_data[['sepalwidth','sepallength']]\n",
    ")\n",
    "\n",
    "plt.scatter(\n",
    "    x=iris_data['sepalwidth'],\n",
    "    y=iris_data['sepallength'], \n",
    "    c=kmeans2.labels_)"
   ]
  },
  {
   "cell_type": "code",
   "execution_count": 42,
   "metadata": {},
   "outputs": [
    {
     "data": {
      "text/plain": [
       "<matplotlib.collections.PathCollection at 0x1f5fcdd5d10>"
      ]
     },
     "execution_count": 42,
     "metadata": {},
     "output_type": "execute_result"
    },
    {
     "data": {
      "image/png": "[encoded data removed]",
      "text/plain": [
       "<Figure size 640x480 with 1 Axes>"
      ]
     },
     "metadata": {},
     "output_type": "display_data"
    }
   ],
   "source": [
    "kmeans5 = KMeans(n_clusters=5, init='random').fit(\n",
    "    iris_data[['sepalwidth','sepallength']]\n",
    ")\n",
    "\n",
    "plt.scatter(\n",
    "    x=iris_data['sepalwidth'],\n",
    "    y=iris_data['sepallength'], \n",
    "    c=kmeans5.labels_)"
   ]
  },
  {
   "cell_type": "markdown",
   "metadata": {},
   "source": [
    "#### Classification with Decision Trees"
   ]
  },
  {
   "cell_type": "code",
   "execution_count": 28,
   "metadata": {},
   "outputs": [],
   "source": [
    "import numpy as np\n",
    "import pandas as pd\n",
    "import matplotlib.pyplot as plt\n",
    "\n",
    "dataset = pd.read_csv('data/TravelInfo.csv')"
   ]
  },
  {
   "cell_type": "code",
   "execution_count": 29,
   "metadata": {},
   "outputs": [
    {
     "data": {
      "text/plain": [
       "(400, 3)"
      ]
     },
     "execution_count": 29,
     "metadata": {},
     "output_type": "execute_result"
    }
   ],
   "source": [
    "dataset.shape"
   ]
  },
  {
   "cell_type": "code",
   "execution_count": 30,
   "metadata": {},
   "outputs": [
    {
     "data": {
      "application/vnd.microsoft.datawrangler.viewer.v0+json": {
       "columns": [
        {
         "name": "index",
         "rawType": "int64",
         "type": "integer"
        },
        {
         "name": "Age",
         "rawType": "int64",
         "type": "integer"
        },
        {
         "name": "Income",
         "rawType": "int64",
         "type": "integer"
        },
        {
         "name": "TravelAbroad",
         "rawType": "int64",
         "type": "integer"
        }
       ],
       "conversionMethod": "pd.DataFrame",
       "ref": "7e9aef9f-de88-4024-91b4-ba2252fe04b0",
       "rows": [
        [
         "0",
         "22",
         "25000",
         "0"
        ],
        [
         "1",
         "38",
         "26000",
         "0"
        ],
        [
         "2",
         "29",
         "49000",
         "0"
        ],
        [
         "3",
         "30",
         "63000",
         "0"
        ],
        [
         "4",
         "22",
         "82000",
         "0"
        ]
       ],
       "shape": {
        "columns": 3,
        "rows": 5
       }
      },
      "text/html": [
       "<div>\n",
       "<style scoped>\n",
       "    .dataframe tbody tr th:only-of-type {\n",
       "        vertical-align: middle;\n",
       "    }\n",
       "\n",
       "    .dataframe tbody tr th {\n",
       "        vertical-align: top;\n",
       "    }\n",
       "\n",
       "    .dataframe thead th {\n",
       "        text-align: right;\n",
       "    }\n",
       "</style>\n",
       "<table border=\"1\" class=\"dataframe\">\n",
       "  <thead>\n",
       "    <tr style=\"text-align: right;\">\n",
       "      <th></th>\n",
       "      <th>Age</th>\n",
       "      <th>Income</th>\n",
       "      <th>TravelAbroad</th>\n",
       "    </tr>\n",
       "  </thead>\n",
       "  <tbody>\n",
       "    <tr>\n",
       "      <th>0</th>\n",
       "      <td>22</td>\n",
       "      <td>25000</td>\n",
       "      <td>0</td>\n",
       "    </tr>\n",
       "    <tr>\n",
       "      <th>1</th>\n",
       "      <td>38</td>\n",
       "      <td>26000</td>\n",
       "      <td>0</td>\n",
       "    </tr>\n",
       "    <tr>\n",
       "      <th>2</th>\n",
       "      <td>29</td>\n",
       "      <td>49000</td>\n",
       "      <td>0</td>\n",
       "    </tr>\n",
       "    <tr>\n",
       "      <th>3</th>\n",
       "      <td>30</td>\n",
       "      <td>63000</td>\n",
       "      <td>0</td>\n",
       "    </tr>\n",
       "    <tr>\n",
       "      <th>4</th>\n",
       "      <td>22</td>\n",
       "      <td>82000</td>\n",
       "      <td>0</td>\n",
       "    </tr>\n",
       "  </tbody>\n",
       "</table>\n",
       "</div>"
      ],
      "text/plain": [
       "   Age  Income  TravelAbroad\n",
       "0   22   25000             0\n",
       "1   38   26000             0\n",
       "2   29   49000             0\n",
       "3   30   63000             0\n",
       "4   22   82000             0"
      ]
     },
     "execution_count": 30,
     "metadata": {},
     "output_type": "execute_result"
    }
   ],
   "source": [
    "dataset.head()"
   ]
  },
  {
   "cell_type": "markdown",
   "metadata": {},
   "source": [
    "#### Exercise 8.4:"
   ]
  },
  {
   "cell_type": "code",
   "execution_count": 31,
   "metadata": {},
   "outputs": [],
   "source": [
    "X = dataset.iloc[:, [0, 1]].values    # Input Data: Age and Income\n",
    "y = dataset.iloc[:, 2].values         # Labeled Data: Travelled or not"
   ]
  },
  {
   "cell_type": "code",
   "execution_count": 32,
   "metadata": {},
   "outputs": [],
   "source": [
    "from sklearn.model_selection import train_test_split\n",
    "X_train, X_test, y_train, y_test = train_test_split(\n",
    "    X, y, test_size = 0.25, random_state = 0\n",
    ")"
   ]
  },
  {
   "cell_type": "markdown",
   "metadata": {},
   "source": [
    "#### Normalisation or Feature Scaling"
   ]
  },
  {
   "cell_type": "code",
   "execution_count": 33,
   "metadata": {},
   "outputs": [],
   "source": [
    "# Feature Scaling\n",
    "from sklearn.preprocessing import StandardScaler\n",
    "sc = StandardScaler()\n",
    "X_train = sc.fit_transform(X_train)\n",
    "X_test = sc.transform(X_test)"
   ]
  },
  {
   "cell_type": "markdown",
   "metadata": {},
   "source": [
    "#### Train and Test using Decision Tree Algorithm\n"
   ]
  },
  {
   "cell_type": "code",
   "execution_count": 34,
   "metadata": {},
   "outputs": [
    {
     "data": {
      "text/html": [
       "<style>#sk-container-id-1 {\n",
       "  /* Definition of color scheme common for light and dark mode */\n",
       "  --sklearn-color-text: #000;\n",
       "  --sklearn-color-text-muted: #666;\n",
       "  --sklearn-color-line: gray;\n",
       "  /* Definition of color scheme for unfitted estimators */\n",
       "  --sklearn-color-unfitted-level-0: #fff5e6;\n",
       "  --sklearn-color-unfitted-level-1: #f6e4d2;\n",
       "  --sklearn-color-unfitted-level-2: #ffe0b3;\n",
       "  --sklearn-color-unfitted-level-3: chocolate;\n",
       "  /* Definition of color scheme for fitted estimators */\n",
       "  --sklearn-color-fitted-level-0: #f0f8ff;\n",
       "  --sklearn-color-fitted-level-1: #d4ebff;\n",
       "  --sklearn-color-fitted-level-2: #b3dbfd;\n",
       "  --sklearn-color-fitted-level-3: cornflowerblue;\n",
       "\n",
       "  /* Specific color for light theme */\n",
       "  --sklearn-color-text-on-default-background: var(--sg-text-color, var(--theme-code-foreground, var(--jp-content-font-color1, black)));\n",
       "  --sklearn-color-background: var(--sg-background-color, var(--theme-background, var(--jp-layout-color0, white)));\n",
       "  --sklearn-color-border-box: var(--sg-text-color, var(--theme-code-foreground, var(--jp-content-font-color1, black)));\n",
       "  --sklearn-color-icon: #696969;\n",
       "\n",
       "  @media (prefers-color-scheme: dark) {\n",
       "    /* Redefinition of color scheme for dark theme */\n",
       "    --sklearn-color-text-on-default-background: var(--sg-text-color, var(--theme-code-foreground, var(--jp-content-font-color1, white)));\n",
       "    --sklearn-color-background: var(--sg-background-color, var(--theme-background, var(--jp-layout-color0, #111)));\n",
       "    --sklearn-color-border-box: var(--sg-text-color, var(--theme-code-foreground, var(--jp-content-font-color1, white)));\n",
       "    --sklearn-color-icon: #878787;\n",
       "  }\n",
       "}\n",
       "\n",
       "#sk-container-id-1 {\n",
       "  color: var(--sklearn-color-text);\n",
       "}\n",
       "\n",
       "#sk-container-id-1 pre {\n",
       "  padding: 0;\n",
       "}\n",
       "\n",
       "#sk-container-id-1 input.sk-hidden--visually {\n",
       "  border: 0;\n",
       "  clip: rect(1px 1px 1px 1px);\n",
       "  clip: rect(1px, 1px, 1px, 1px);\n",
       "  height: 1px;\n",
       "  margin: -1px;\n",
       "  overflow: hidden;\n",
       "  padding: 0;\n",
       "  position: absolute;\n",
       "  width: 1px;\n",
       "}\n",
       "\n",
       "#sk-container-id-1 div.sk-dashed-wrapped {\n",
       "  border: 1px dashed var(--sklearn-color-line);\n",
       "  margin: 0 0.4em 0.5em 0.4em;\n",
       "  box-sizing: border-box;\n",
       "  padding-bottom: 0.4em;\n",
       "  background-color: var(--sklearn-color-background);\n",
       "}\n",
       "\n",
       "#sk-container-id-1 div.sk-container {\n",
       "  /* jupyter's `normalize.less` sets `[hidden] { display: none; }`\n",
       "     but bootstrap.min.css set `[hidden] { display: none !important; }`\n",
       "     so we also need the `!important` here to be able to override the\n",
       "     default hidden behavior on the sphinx rendered scikit-learn.org.\n",
       "     See: https://github.com/scikit-learn/scikit-learn/issues/21755 */\n",
       "  display: inline-block !important;\n",
       "  position: relative;\n",
       "}\n",
       "\n",
       "#sk-container-id-1 div.sk-text-repr-fallback {\n",
       "  display: none;\n",
       "}\n",
       "\n",
       "div.sk-parallel-item,\n",
       "div.sk-serial,\n",
       "div.sk-item {\n",
       "  /* draw centered vertical line to link estimators */\n",
       "  background-image: linear-gradient(var(--sklearn-color-text-on-default-background), var(--sklearn-color-text-on-default-background));\n",
       "  background-size: 2px 100%;\n",
       "  background-repeat: no-repeat;\n",
       "  background-position: center center;\n",
       "}\n",
       "\n",
       "/* Parallel-specific style estimator block */\n",
       "\n",
       "#sk-container-id-1 div.sk-parallel-item::after {\n",
       "  content: \"\";\n",
       "  width: 100%;\n",
       "  border-bottom: 2px solid var(--sklearn-color-text-on-default-background);\n",
       "  flex-grow: 1;\n",
       "}\n",
       "\n",
       "#sk-container-id-1 div.sk-parallel {\n",
       "  display: flex;\n",
       "  align-items: stretch;\n",
       "  justify-content: center;\n",
       "  background-color: var(--sklearn-color-background);\n",
       "  position: relative;\n",
       "}\n",
       "\n",
       "#sk-container-id-1 div.sk-parallel-item {\n",
       "  display: flex;\n",
       "  flex-direction: column;\n",
       "}\n",
       "\n",
       "#sk-container-id-1 div.sk-parallel-item:first-child::after {\n",
       "  align-self: flex-end;\n",
       "  width: 50%;\n",
       "}\n",
       "\n",
       "#sk-container-id-1 div.sk-parallel-item:last-child::after {\n",
       "  align-self: flex-start;\n",
       "  width: 50%;\n",
       "}\n",
       "\n",
       "#sk-container-id-1 div.sk-parallel-item:only-child::after {\n",
       "  width: 0;\n",
       "}\n",
       "\n",
       "/* Serial-specific style estimator block */\n",
       "\n",
       "#sk-container-id-1 div.sk-serial {\n",
       "  display: flex;\n",
       "  flex-direction: column;\n",
       "  align-items: center;\n",
       "  background-color: var(--sklearn-color-background);\n",
       "  padding-right: 1em;\n",
       "  padding-left: 1em;\n",
       "}\n",
       "\n",
       "\n",
       "/* Toggleable style: style used for estimator/Pipeline/ColumnTransformer box that is\n",
       "clickable and can be expanded/collapsed.\n",
       "- Pipeline and ColumnTransformer use this feature and define the default style\n",
       "- Estimators will overwrite some part of the style using the `sk-estimator` class\n",
       "*/\n",
       "\n",
       "/* Pipeline and ColumnTransformer style (default) */\n",
       "\n",
       "#sk-container-id-1 div.sk-toggleable {\n",
       "  /* Default theme specific background. It is overwritten whether we have a\n",
       "  specific estimator or a Pipeline/ColumnTransformer */\n",
       "  background-color: var(--sklearn-color-background);\n",
       "}\n",
       "\n",
       "/* Toggleable label */\n",
       "#sk-container-id-1 label.sk-toggleable__label {\n",
       "  cursor: pointer;\n",
       "  display: flex;\n",
       "  width: 100%;\n",
       "  margin-bottom: 0;\n",
       "  padding: 0.5em;\n",
       "  box-sizing: border-box;\n",
       "  text-align: center;\n",
       "  align-items: start;\n",
       "  justify-content: space-between;\n",
       "  gap: 0.5em;\n",
       "}\n",
       "\n",
       "#sk-container-id-1 label.sk-toggleable__label .caption {\n",
       "  font-size: 0.6rem;\n",
       "  font-weight: lighter;\n",
       "  color: var(--sklearn-color-text-muted);\n",
       "}\n",
       "\n",
       "#sk-container-id-1 label.sk-toggleable__label-arrow:before {\n",
       "  /* Arrow on the left of the label */\n",
       "  content: \"▸\";\n",
       "  float: left;\n",
       "  margin-right: 0.25em;\n",
       "  color: var(--sklearn-color-icon);\n",
       "}\n",
       "\n",
       "#sk-container-id-1 label.sk-toggleable__label-arrow:hover:before {\n",
       "  color: var(--sklearn-color-text);\n",
       "}\n",
       "\n",
       "/* Toggleable content - dropdown */\n",
       "\n",
       "#sk-container-id-1 div.sk-toggleable__content {\n",
       "  max-height: 0;\n",
       "  max-width: 0;\n",
       "  overflow: hidden;\n",
       "  text-align: left;\n",
       "  /* unfitted */\n",
       "  background-color: var(--sklearn-color-unfitted-level-0);\n",
       "}\n",
       "\n",
       "#sk-container-id-1 div.sk-toggleable__content.fitted {\n",
       "  /* fitted */\n",
       "  background-color: var(--sklearn-color-fitted-level-0);\n",
       "}\n",
       "\n",
       "#sk-container-id-1 div.sk-toggleable__content pre {\n",
       "  margin: 0.2em;\n",
       "  border-radius: 0.25em;\n",
       "  color: var(--sklearn-color-text);\n",
       "  /* unfitted */\n",
       "  background-color: var(--sklearn-color-unfitted-level-0);\n",
       "}\n",
       "\n",
       "#sk-container-id-1 div.sk-toggleable__content.fitted pre {\n",
       "  /* unfitted */\n",
       "  background-color: var(--sklearn-color-fitted-level-0);\n",
       "}\n",
       "\n",
       "#sk-container-id-1 input.sk-toggleable__control:checked~div.sk-toggleable__content {\n",
       "  /* Expand drop-down */\n",
       "  max-height: 200px;\n",
       "  max-width: 100%;\n",
       "  overflow: auto;\n",
       "}\n",
       "\n",
       "#sk-container-id-1 input.sk-toggleable__control:checked~label.sk-toggleable__label-arrow:before {\n",
       "  content: \"▾\";\n",
       "}\n",
       "\n",
       "/* Pipeline/ColumnTransformer-specific style */\n",
       "\n",
       "#sk-container-id-1 div.sk-label input.sk-toggleable__control:checked~label.sk-toggleable__label {\n",
       "  color: var(--sklearn-color-text);\n",
       "  background-color: var(--sklearn-color-unfitted-level-2);\n",
       "}\n",
       "\n",
       "#sk-container-id-1 div.sk-label.fitted input.sk-toggleable__control:checked~label.sk-toggleable__label {\n",
       "  background-color: var(--sklearn-color-fitted-level-2);\n",
       "}\n",
       "\n",
       "/* Estimator-specific style */\n",
       "\n",
       "/* Colorize estimator box */\n",
       "#sk-container-id-1 div.sk-estimator input.sk-toggleable__control:checked~label.sk-toggleable__label {\n",
       "  /* unfitted */\n",
       "  background-color: var(--sklearn-color-unfitted-level-2);\n",
       "}\n",
       "\n",
       "#sk-container-id-1 div.sk-estimator.fitted input.sk-toggleable__control:checked~label.sk-toggleable__label {\n",
       "  /* fitted */\n",
       "  background-color: var(--sklearn-color-fitted-level-2);\n",
       "}\n",
       "\n",
       "#sk-container-id-1 div.sk-label label.sk-toggleable__label,\n",
       "#sk-container-id-1 div.sk-label label {\n",
       "  /* The background is the default theme color */\n",
       "  color: var(--sklearn-color-text-on-default-background);\n",
       "}\n",
       "\n",
       "/* On hover, darken the color of the background */\n",
       "#sk-container-id-1 div.sk-label:hover label.sk-toggleable__label {\n",
       "  color: var(--sklearn-color-text);\n",
       "  background-color: var(--sklearn-color-unfitted-level-2);\n",
       "}\n",
       "\n",
       "/* Label box, darken color on hover, fitted */\n",
       "#sk-container-id-1 div.sk-label.fitted:hover label.sk-toggleable__label.fitted {\n",
       "  color: var(--sklearn-color-text);\n",
       "  background-color: var(--sklearn-color-fitted-level-2);\n",
       "}\n",
       "\n",
       "/* Estimator label */\n",
       "\n",
       "#sk-container-id-1 div.sk-label label {\n",
       "  font-family: monospace;\n",
       "  font-weight: bold;\n",
       "  display: inline-block;\n",
       "  line-height: 1.2em;\n",
       "}\n",
       "\n",
       "#sk-container-id-1 div.sk-label-container {\n",
       "  text-align: center;\n",
       "}\n",
       "\n",
       "/* Estimator-specific */\n",
       "#sk-container-id-1 div.sk-estimator {\n",
       "  font-family: monospace;\n",
       "  border: 1px dotted var(--sklearn-color-border-box);\n",
       "  border-radius: 0.25em;\n",
       "  box-sizing: border-box;\n",
       "  margin-bottom: 0.5em;\n",
       "  /* unfitted */\n",
       "  background-color: var(--sklearn-color-unfitted-level-0);\n",
       "}\n",
       "\n",
       "#sk-container-id-1 div.sk-estimator.fitted {\n",
       "  /* fitted */\n",
       "  background-color: var(--sklearn-color-fitted-level-0);\n",
       "}\n",
       "\n",
       "/* on hover */\n",
       "#sk-container-id-1 div.sk-estimator:hover {\n",
       "  /* unfitted */\n",
       "  background-color: var(--sklearn-color-unfitted-level-2);\n",
       "}\n",
       "\n",
       "#sk-container-id-1 div.sk-estimator.fitted:hover {\n",
       "  /* fitted */\n",
       "  background-color: var(--sklearn-color-fitted-level-2);\n",
       "}\n",
       "\n",
       "/* Specification for estimator info (e.g. \"i\" and \"?\") */\n",
       "\n",
       "/* Common style for \"i\" and \"?\" */\n",
       "\n",
       ".sk-estimator-doc-link,\n",
       "a:link.sk-estimator-doc-link,\n",
       "a:visited.sk-estimator-doc-link {\n",
       "  float: right;\n",
       "  font-size: smaller;\n",
       "  line-height: 1em;\n",
       "  font-family: monospace;\n",
       "  background-color: var(--sklearn-color-background);\n",
       "  border-radius: 1em;\n",
       "  height: 1em;\n",
       "  width: 1em;\n",
       "  text-decoration: none !important;\n",
       "  margin-left: 0.5em;\n",
       "  text-align: center;\n",
       "  /* unfitted */\n",
       "  border: var(--sklearn-color-unfitted-level-1) 1pt solid;\n",
       "  color: var(--sklearn-color-unfitted-level-1);\n",
       "}\n",
       "\n",
       ".sk-estimator-doc-link.fitted,\n",
       "a:link.sk-estimator-doc-link.fitted,\n",
       "a:visited.sk-estimator-doc-link.fitted {\n",
       "  /* fitted */\n",
       "  border: var(--sklearn-color-fitted-level-1) 1pt solid;\n",
       "  color: var(--sklearn-color-fitted-level-1);\n",
       "}\n",
       "\n",
       "/* On hover */\n",
       "div.sk-estimator:hover .sk-estimator-doc-link:hover,\n",
       ".sk-estimator-doc-link:hover,\n",
       "div.sk-label-container:hover .sk-estimator-doc-link:hover,\n",
       ".sk-estimator-doc-link:hover {\n",
       "  /* unfitted */\n",
       "  background-color: var(--sklearn-color-unfitted-level-3);\n",
       "  color: var(--sklearn-color-background);\n",
       "  text-decoration: none;\n",
       "}\n",
       "\n",
       "div.sk-estimator.fitted:hover .sk-estimator-doc-link.fitted:hover,\n",
       ".sk-estimator-doc-link.fitted:hover,\n",
       "div.sk-label-container:hover .sk-estimator-doc-link.fitted:hover,\n",
       ".sk-estimator-doc-link.fitted:hover {\n",
       "  /* fitted */\n",
       "  background-color: var(--sklearn-color-fitted-level-3);\n",
       "  color: var(--sklearn-color-background);\n",
       "  text-decoration: none;\n",
       "}\n",
       "\n",
       "/* Span, style for the box shown on hovering the info icon */\n",
       ".sk-estimator-doc-link span {\n",
       "  display: none;\n",
       "  z-index: 9999;\n",
       "  position: relative;\n",
       "  font-weight: normal;\n",
       "  right: .2ex;\n",
       "  padding: .5ex;\n",
       "  margin: .5ex;\n",
       "  width: min-content;\n",
       "  min-width: 20ex;\n",
       "  max-width: 50ex;\n",
       "  color: var(--sklearn-color-text);\n",
       "  box-shadow: 2pt 2pt 4pt #999;\n",
       "  /* unfitted */\n",
       "  background: var(--sklearn-color-unfitted-level-0);\n",
       "  border: .5pt solid var(--sklearn-color-unfitted-level-3);\n",
       "}\n",
       "\n",
       ".sk-estimator-doc-link.fitted span {\n",
       "  /* fitted */\n",
       "  background: var(--sklearn-color-fitted-level-0);\n",
       "  border: var(--sklearn-color-fitted-level-3);\n",
       "}\n",
       "\n",
       ".sk-estimator-doc-link:hover span {\n",
       "  display: block;\n",
       "}\n",
       "\n",
       "/* \"?\"-specific style due to the `<a>` HTML tag */\n",
       "\n",
       "#sk-container-id-1 a.estimator_doc_link {\n",
       "  float: right;\n",
       "  font-size: 1rem;\n",
       "  line-height: 1em;\n",
       "  font-family: monospace;\n",
       "  background-color: var(--sklearn-color-background);\n",
       "  border-radius: 1rem;\n",
       "  height: 1rem;\n",
       "  width: 1rem;\n",
       "  text-decoration: none;\n",
       "  /* unfitted */\n",
       "  color: var(--sklearn-color-unfitted-level-1);\n",
       "  border: var(--sklearn-color-unfitted-level-1) 1pt solid;\n",
       "}\n",
       "\n",
       "#sk-container-id-1 a.estimator_doc_link.fitted {\n",
       "  /* fitted */\n",
       "  border: var(--sklearn-color-fitted-level-1) 1pt solid;\n",
       "  color: var(--sklearn-color-fitted-level-1);\n",
       "}\n",
       "\n",
       "/* On hover */\n",
       "#sk-container-id-1 a.estimator_doc_link:hover {\n",
       "  /* unfitted */\n",
       "  background-color: var(--sklearn-color-unfitted-level-3);\n",
       "  color: var(--sklearn-color-background);\n",
       "  text-decoration: none;\n",
       "}\n",
       "\n",
       "#sk-container-id-1 a.estimator_doc_link.fitted:hover {\n",
       "  /* fitted */\n",
       "  background-color: var(--sklearn-color-fitted-level-3);\n",
       "}\n",
       "</style><div id=\"sk-container-id-1\" class=\"sk-top-container\"><div class=\"sk-text-repr-fallback\"><pre>DecisionTreeClassifier(criterion=&#x27;entropy&#x27;, random_state=0)</pre><b>In a Jupyter environment, please rerun this cell to show the HTML representation or trust the notebook. <br />On GitHub, the HTML representation is unable to render, please try loading this page with nbviewer.org.</b></div><div class=\"sk-container\" hidden><div class=\"sk-item\"><div class=\"sk-estimator fitted sk-toggleable\"><input class=\"sk-toggleable__control sk-hidden--visually\" id=\"sk-estimator-id-1\" type=\"checkbox\" checked><label for=\"sk-estimator-id-1\" class=\"sk-toggleable__label fitted sk-toggleable__label-arrow\"><div><div>DecisionTreeClassifier</div></div><div><a class=\"sk-estimator-doc-link fitted\" rel=\"noreferrer\" target=\"_blank\" href=\"https://scikit-learn.org/1.6/modules/generated/sklearn.tree.DecisionTreeClassifier.html\">?<span>Documentation for DecisionTreeClassifier</span></a><span class=\"sk-estimator-doc-link fitted\">i<span>Fitted</span></span></div></label><div class=\"sk-toggleable__content fitted\"><pre>DecisionTreeClassifier(criterion=&#x27;entropy&#x27;, random_state=0)</pre></div> </div></div></div></div>"
      ],
      "text/plain": [
       "DecisionTreeClassifier(criterion='entropy', random_state=0)"
      ]
     },
     "execution_count": 34,
     "metadata": {},
     "output_type": "execute_result"
    }
   ],
   "source": [
    "# Fitting Decision Tree Classification to the Training set\n",
    "from sklearn.tree import DecisionTreeClassifier\n",
    "classifier = DecisionTreeClassifier(\n",
    "    criterion = 'entropy', random_state = 0\n",
    ")\n",
    "classifier.fit(X_train, y_train)"
   ]
  },
  {
   "cell_type": "code",
   "execution_count": 35,
   "metadata": {},
   "outputs": [],
   "source": [
    "# Predicting the Test set results\n",
    "y_pred = classifier.predict(X_test)"
   ]
  },
  {
   "cell_type": "markdown",
   "metadata": {},
   "source": [
    "#### Classifier Measurement using Confusion Matrix"
   ]
  },
  {
   "cell_type": "code",
   "execution_count": 36,
   "metadata": {},
   "outputs": [
    {
     "data": {
      "text/plain": [
       "array([[62,  6],\n",
       "       [ 3, 29]])"
      ]
     },
     "execution_count": 36,
     "metadata": {},
     "output_type": "execute_result"
    }
   ],
   "source": [
    "# Making the Confusion Matrix\n",
    "from sklearn.metrics import confusion_matrix\n",
    "cm = confusion_matrix(y_test, y_pred)\n",
    "cm"
   ]
  },
  {
   "cell_type": "markdown",
   "metadata": {},
   "source": [
    "#### Exercise 8.5: "
   ]
  },
  {
   "cell_type": "markdown",
   "metadata": {},
   "source": [
    "we can determine the values of:\n",
    "\n",
    "* True Negatives (TN): 62 (correctly predicted negatives)  \n",
    "* True Positives (TP): 29 (correctly predicted positives)  \n",
    "* False Negatives (FN): 3 (actual positives incorrectly predicted as negatives)  \n",
    "* False Positives (FP): 6 (actual negatives incorrectly predicted as positives)\n",
    "\n",
    "Choosing Between Precision and Recall  \n",
    "* Precision ((𝑇𝑃)/(𝑇𝑃+𝐹𝑃)) measures how many of the predicted positive cases were actually positive.  \n",
    "* Recall ((𝑇𝑃)/(𝑇𝑃+𝐹𝑁)) measures how many of the actual positive cases were correctly identified.  \n",
    "\n",
    "The choice depends on the problem's context:  \n",
    "* If false positives (FP) are costly (e.g., in medical diagnoses where a false alarm leads to unnecessary tests/treatment), precision is more important.  \n",
    "* If false negatives (FN) are costly (e.g., in detecting fraud or diseases where missing a positive case is critical), recall is more important."
   ]
  },
  {
   "cell_type": "markdown",
   "metadata": {},
   "source": [
    "#### Visualise (not assessed materials)"
   ]
  },
  {
   "cell_type": "code",
   "execution_count": 37,
   "metadata": {},
   "outputs": [
    {
     "name": "stderr",
     "output_type": "stream",
     "text": [
      "C:\\Users\\Framework_Arthur\\AppData\\Local\\Temp\\ipykernel_3228\\1914125244.py:30: UserWarning: *c* argument looks like a single numeric RGB or RGBA sequence, which should be avoided as value-mapping will have precedence in case its length matches with *x* & *y*.  Please use the *color* keyword-argument or provide a 2D array with a single row if you intend to specify the same RGB or RGBA value for all points.\n",
      "  plt.scatter(\n"
     ]
    },
    {
     "data": {
      "image/png": "[encoded data removed]",
      "text/plain": [
       "<Figure size 640x480 with 1 Axes>"
      ]
     },
     "metadata": {},
     "output_type": "display_data"
    }
   ],
   "source": [
    "# Visualising the Test set results\n",
    "from matplotlib.colors import ListedColormap\n",
    "X_set, y_set = X_test, y_test\n",
    "X1, X2 = np.meshgrid(\n",
    "    np.arange(\n",
    "        start = X_set[:, 0].min() - 1, \n",
    "        stop = X_set[:, 0].max() + 1, \n",
    "        step = 0.01\n",
    "    ),\n",
    "    np.arange(\n",
    "        start = X_set[:, 1].min() - 1,\n",
    "        stop = X_set[:, 1].max() + 1,\n",
    "        step = 0.01\n",
    "    )\n",
    ")\n",
    "\n",
    "plt.contourf(\n",
    "    X1,\n",
    "    X2,\n",
    "    classifier.predict(\n",
    "        np.array([X1.ravel(), X2.ravel()]).T).reshape(X1.shape),\n",
    "    alpha = 0.75,\n",
    "    cmap = ListedColormap(('red', 'green'))\n",
    ")\n",
    "\n",
    "plt.xlim(X1.min(), X1.max())\n",
    "plt.ylim(X2.min(), X2.max())\n",
    "\n",
    "for i, j in enumerate(np.unique(y_set)):\n",
    "    plt.scatter(\n",
    "        X_set[y_set == j, 0], \n",
    "        X_set[y_set == j, 1],\n",
    "        c = ListedColormap(('red', 'green'))(i),\n",
    "        label = j\n",
    "    )\n",
    "    \n",
    "plt.title('Decision Tree Classification (Test set)')\n",
    "plt.xlabel('Age')\n",
    "plt.ylabel('Income')\n",
    "plt.legend()\n",
    "plt.show()"
   ]
  },
  {
   "cell_type": "markdown",
   "metadata": {},
   "source": [
    "#### Train and Test using Random Forest Algorithm (extra)"
   ]
  },
  {
   "cell_type": "code",
   "execution_count": 38,
   "metadata": {},
   "outputs": [
    {
     "data": {
      "text/plain": [
       "array([[63,  5],\n",
       "       [ 3, 29]])"
      ]
     },
     "execution_count": 38,
     "metadata": {},
     "output_type": "execute_result"
    }
   ],
   "source": [
    "# Fitting Random Forest Classification to the Training set\n",
    "from sklearn.ensemble import RandomForestClassifier\n",
    "classifier = RandomForestClassifier(\n",
    "    n_estimators = 20,\n",
    "    criterion = 'entropy',\n",
    "    random_state = 0\n",
    ")\n",
    "classifier.fit(X_train, y_train)\n",
    "\n",
    "# Predicting the Test set results\n",
    "y_pred = classifier.predict(X_test)\n",
    "\n",
    "# Making the Confusion Matrix\n",
    "from sklearn.metrics import confusion_matrix\n",
    "cm = confusion_matrix(y_test, y_pred)\n",
    "cm"
   ]
  },
  {
   "cell_type": "markdown",
   "metadata": {},
   "source": [
    "#### Exercise 8.6:"
   ]
  },
  {
   "cell_type": "markdown",
   "metadata": {},
   "source": [
    "Accuracy= ((True Positives+True Negatives)/(Total Predictions)) \n",
    "\n",
    "* Decision Tree Accuracy=((62+29)/(62+6+3+29))  \n",
    "=(91)/(100)  \n",
    "=91%\n",
    "\n",
    "* Random Forest Accuracy=((63+29)/(63+5+3+29))  \n",
    "=(92)/(100)  \n",
    "=92%\n",
    "\n",
    "\n",
    "Comparison\n",
    "* Random Forest has slightly better accuracy (92% vs. 91%) because it makes more accurate negative predictions (63 vs. 62) and fewer false positives (5 vs. 6).\n",
    "* False negatives (FN) remain the same (3 in both cases), meaning both models handle positive instances similarly.\n",
    "* Random Forest reduced false positives (5 vs. 6), improving precision for the negative class."
   ]
  },
  {
   "cell_type": "code",
   "execution_count": 39,
   "metadata": {},
   "outputs": [
    {
     "data": {
      "text/plain": [
       "array([[64,  4],\n",
       "       [ 2, 30]])"
      ]
     },
     "execution_count": 39,
     "metadata": {},
     "output_type": "execute_result"
    }
   ],
   "source": [
    "# Fitting Random Forest Classification to the Training set\n",
    "from sklearn.ensemble import RandomForestClassifier\n",
    "classifier = RandomForestClassifier(\n",
    "    n_estimators = 40,\n",
    "    criterion = 'entropy',\n",
    "    random_state = 0\n",
    ")\n",
    "classifier.fit(X_train, y_train)\n",
    "\n",
    "# Predicting the Test set results\n",
    "y_pred = classifier.predict(X_test)\n",
    "\n",
    "# Making the Confusion Matrix\n",
    "from sklearn.metrics import confusion_matrix\n",
    "cm = confusion_matrix(y_test, y_pred)\n",
    "cm"
   ]
  },
  {
   "cell_type": "markdown",
   "metadata": {},
   "source": [
    "#### Exercise 8.7: "
   ]
  },
  {
   "cell_type": "markdown",
   "metadata": {},
   "source": [
    "Comparison with Previous Models\n",
    "\n",
    "| Model                  | TN | FP | FN | TP | Accuracy |\n",
    "|------------------------|----|----|----|----|----------|\n",
    "| Decision Tree         | 62 | 6  | 3  | 29 | 91%      |\n",
    "| Random Forest (20 trees) | 63 | 5  | 3  | 29 | 92%      |\n",
    "| Random Forest (40 trees) | 64 | 4  | 2  | 30 | 94%      |\n",
    "\n",
    "* Accuracy improved to 94%, a 2% increase from the previous Random Forest model.\n",
    "* False Positives (FP) decreased from 5 to 4, meaning fewer negative samples were misclassified.\n",
    "* False Negatives (FN) decreased from 3 to 2, meaning the model correctly identified more positive cases.\n",
    "* True Positives (TP) increased to 30, improving classification of positive cases."
   ]
  },
  {
   "cell_type": "markdown",
   "metadata": {},
   "source": []
  }
 ],
 "metadata": {
  "kernelspec": {
   "display_name": "Python 3",
   "language": "python",
   "name": "python3"
  },
  "language_info": {
   "codemirror_mode": {
    "name": "ipython",
    "version": 3
   },
   "file_extension": ".py",
   "mimetype": "text/x-python",
   "name": "python",
   "nbconvert_exporter": "python",
   "pygments_lexer": "ipython3",
   "version": "3.13.1"
  }
 },
 "nbformat": 4,
 "nbformat_minor": 2
}
