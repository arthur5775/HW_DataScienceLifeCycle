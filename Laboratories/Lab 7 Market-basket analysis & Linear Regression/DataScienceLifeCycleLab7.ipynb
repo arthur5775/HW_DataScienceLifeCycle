{
 "cells": [
  {
   "cell_type": "markdown",
   "metadata": {},
   "source": [
    "# Lab 7: Laboratory Notes - Week 7: Market-basket analysis & Linear Regression"
   ]
  },
  {
   "cell_type": "markdown",
   "metadata": {},
   "source": [
    "In the past few weeks, you have experienced some of the different skills needed as a Data Scientist, these are mainly on collecting data, presenting the data through descriptive statistics and visualization, and wrangling data with some data preparation. We will explore more data preparation considerations (provide you with some guided practical experience) and conduct examples of data mining and machine learning algorithms."
   ]
  },
  {
   "cell_type": "markdown",
   "metadata": {},
   "source": [
    "## Associative Rule Mining using Apriori Algorithm"
   ]
  },
  {
   "cell_type": "markdown",
   "metadata": {},
   "source": [
    "For this, our learning is about understanding associative rule mining and we will use the Apriori algorithm.  The important terms here are the \"support\" and \"confidence\" level.  Of course the term \"lift\" is also useful to know.  For the dataset for this, we will use the grocery store dataset that is available on [Kaggle](https://www.kaggle.com/datasets/sivaram1987/association-rule-learningapriori).  You can download it from Canvas or from the Kaggle site.  The data consists of 7.501 rows of transactions, where each row contains the list of grocery items sold in that one transaction (row).\n",
    "\n",
    "Unfortunately for us, scikit-learn does not have any associative rule mining algorithm (as far as I know at this point in time).  We will import the apriori library from apyori (which you may need to install if it is not available - and this will be an exercise for you). \n",
    "\n",
    "![P1](picture/P1.png)\n",
    "\n",
    "After you have ensured that  you have it installed, let's start with our laboratory.\n",
    "\n",
    "<span style=\"color:red\">import numpy as np  \n",
    "import pandas as pd  \n",
    "from apyori import apriori</span>\n",
    "\n",
    "Then we read our CSV file of the grocery transactions.\n",
    "\n",
    "<span style=\"color:red\">df = pd.read_csv(\"Market_Basket_Optimisation.csv\")  \n",
    "\"\"\" or from the appropriate location.\"\"\"</span>\n",
    "\n",
    "We have read it using pandas which is captured in a DataFrame.  Do your normal data auditing, such as looking at the size (shape), and exploring what the data is like.  For this, it would actually be easier just to open it up in MS-Excel and have a look.  "
   ]
  },
  {
   "cell_type": "markdown",
   "metadata": {},
   "source": [
    "#### Exercise 7.1:"
   ]
  },
  {
   "cell_type": "markdown",
   "metadata": {},
   "source": [
    "Before we proceed, did we read the CSV file appropriately?  Hint: Was there a header in the CSV file or should it have been read without a header?\n",
    "\n",
    "For the Apriori algorithm, we read it using the pandas DataFrames, but for Apriori, we need to have it in a list. Let's figure out how do we want the list to look like.  For the apriori algorithm, it requires the input to be a list of list, i.e., [ [ items in transaction 1], [items in transaction 2], [items in transaction 3], ... , [items in transaction n] ].  Do note that this is an important part of understanding your data pre-processing of the data for further processing.  You should check the documentation for such a situation and learn how to understand what is needed.  For this apriori function that we would like to use, the documentation can be found at https://pypi.org/project/apyori/. Do read the documentation and also the example.\n",
    "\n",
    "So now we have a DataFrame which is in a tabular format.  For each row in the DataFrame, we are to create a list from the items.  Let's take this one step at a time as we also need to handle the empty or NaN or null cells.  When you have a look at the content using <span style=\"color:red\">df.head()</span>, you would get\n",
    "\n",
    "![P2](picture/P2.png)\n",
    "\n",
    "The first row (observation) has 20 items but the subsequent rows has 3, 1, 2, and 5 items respectively.  There are a few programming challenges here.  How can we convert these individual observations into a single list and then have them all as a list of list?  First thing is how do we access the cell values?\n",
    "\n",
    "df.values[0,1]\n",
    "\n",
    "It is indexed by [row, column].  The above should return \"almonds\" as that's the first item in the DataFrame."
   ]
  },
  {
   "cell_type": "markdown",
   "metadata": {},
   "source": [
    "#### Exercise 7.2:"
   ]
  },
  {
   "cell_type": "markdown",
   "metadata": {},
   "source": [
    "What happens when you access a cell marked by \"NaN\"?\n",
    "\n",
    "We can read each cell value, and we would like to attempt to create a list of the values we have for each row.  Let's initialise a list first,\n",
    "\n",
    "<span style=\"color:red\">transaction = []  \n",
    "transaction.append(df.values[0,0])</span>\n",
    "\n",
    "This will give us one value in the list. Now, let us continue to append the next,\n",
    "\n",
    "<span style=\"color:red\">transaction.append(df.values[0,1])</span>\n",
    "\n",
    "and the next,\n",
    "\n",
    "<span style=\"color:red\">transaction.append(df.values[0,2])</span>\n",
    "\n",
    "How would you use the for loop to do this?\n",
    "\n",
    "<span style=\"color:red\">transaction = []  \n",
    "for i in range(0,20):</span>  \n",
    "<p style=\"margin-left: 40px;\"><span style=\"color:red\">transaction.append(df.values[0,i])</span></p>  \n",
    "\n",
    "Instead of 20, we can use the function <span style=\"color:red\">len()</span> to determine the number of columns to iterate across.\n",
    "\n",
    "<span style=\"color:red\">len(df)</span>\n",
    "\n",
    "or\n",
    "\n",
    "<span style=\"color:red\">len(df.axes[0]) # full syntax</span>\n",
    "\n",
    "will give the length in terms of rows, whereas\n",
    "\n",
    "<span style=\"color:red\">len(df.axes[1])</span>\n",
    "\n",
    "will give the length in terms of columns (axis 0 indicated rows, whereas axis 1 indicates columns).\n",
    "\n",
    "<span style=\"color:red\">transaction = []  \n",
    "for i in range(0,len(df.axes[1])):</span>\n",
    "<p style=\"margin-left: 40px;\"><span style=\"color:red\">transaction.append(df.values[0,i])</span></p>\n",
    "\n",
    "Now we have the pre-processing code for getting a list from each row."
   ]
  },
  {
   "cell_type": "markdown",
   "metadata": {},
   "source": [
    "#### Exercise 7.3:"
   ]
  },
  {
   "cell_type": "markdown",
   "metadata": {},
   "source": [
    "Create a list of lists using the above code and iterate it through for the other rows.\n",
    "\n",
    "This may be too difficult, so answer below :-).\n",
    "\n",
    "<span style=\"color:red\">transactions = []  \n",
    "for i in range(0,len(df)):</span>  \n",
    "<p style=\"margin-left: 40px;\"><span style=\"color:red\">transaction = []</span></p>  \n",
    "<p style=\"margin-left: 40px;\"><span style=\"color:red\">for j in range(0,len(df.axes[1])):</span></p>  \n",
    "<p style=\"margin-left: 80px;\"><span style=\"color:red\">transaction.append(df.values[i,j])</span></p>  \n",
    "<p style=\"margin-left: 40px;\"><span style=\"color:red\">transactions.append(transaction)</span></p>  \n",
    "\n",
    "Once you have done that, inspect your list of lists (in the example above, it is called 'transactions').  For the eagle-eyed, you may notice that the nan is not in quotes which indicates that it is not of type string.  We will come back to this in a short while.  Let us try to execute the apriori algorithm on our list of lists with the following minimum values (anything less we are not interested):\n",
    "\n",
    "* support = 0.005\n",
    "* confidence = 0.1\n",
    "* lift = 3\n",
    "* length = 2\n",
    "\n",
    "<span style=\"color:red\">rules = apriori(transactions, min_support=0.005, min_confidence=0.1, min_lift=3, min_length=2) # I use transactions as the variable from Exercise 3.  \n",
    "results = list(rules)</span>\n",
    "\n",
    "You may, or may not, encounter the following error (image from the bottom of the error message),\n",
    "\n",
    "![P3](picture/P3.png)\n",
    "\n",
    "What this means is that the 'nan' it encountered is of type float, and it was not able to process it.  What we needed to do is to type cast (do remember this term as it is useful) our values from the cells.  We would like you to note that having an incompatible type or data structure is a common challenge when you code. \n",
    "\n",
    "<span style=\"color:red\">transactions = []  \n",
    "for i in range(0,len(df)):</span>\n",
    "<p style=\"margin-left: 40px;\"><span style=\"color:red\">transaction = []</span>\n",
    "<p style=\"margin-left: 40px;\"><span style=\"color:red\">for j in range(0,len(df.axes[1])):</span>\n",
    "<p style=\"margin-left: 80px;\"><span style=\"color:red\">transaction.append(str(df.values[i,j]))</span>\n",
    "<p style=\"margin-left: 40px;\"><span style=\"color:red\">transactions.append(transaction)</span>\n",
    "\n",
    "Inspect the content of the 'transactions' again and you will notice that the 'nan' are now encapsulated in quotes.  Rerun\n",
    "\n",
    "<span style=\"color:red\">rules = apriori(transactions, min_support=0.005, min_confidence=0.1, min_lift=3, min_length=2)  \n",
    "results = list(rules)</span>\n",
    "\n",
    "Then for each of the results obtained, you can print out sets that it has obtained that are common.\n",
    "\n",
    "<span style=\"color:red\">for i in range(0, len(results)):  \n",
    "<p style=\"margin-left: 40px;\"><span style=\"color:red\">print(results[i][0])</span></p>\n",
    "\n",
    "Inspect results and you will notice that it is a list of records, where each record is of the following format:\n",
    "\n",
    "RelationRecord(  \n",
    "<p style=\"margin-left: 40px;\">items=frozenset({'mushroom cream sauce', 'escalope'}),</p>  \n",
    "<p style=\"margin-left: 40px;\">support=0.005733333333333333,</p>  \n",
    "<p style=\"margin-left: 40px;\">ordered_statistics=[</p>  \n",
    "<p style=\"margin-left: 80px;\">OrderedStatistic(</p>  \n",
    "<p style=\"margin-left: 120px;\">items_base=frozenset({'mushroom cream sauce'}),</p>  \n",
    "<p style=\"margin-left: 120px;\">items_add=frozenset({'escalope'}),</p>  \n",
    "<p style=\"margin-left: 120px;\">confidence=0.30069930069930073,</p>  \n",
    "<p style=\"margin-left: 120px;\">lift=3.7903273197390845</p>  \n",
    "<p style=\"margin-left: 80px;\">)</p>  \n",
    "<p style=\"margin-left: 40px;\">]</p>  \n",
    ")  \n",
    "\n",
    "You can go through each result to get the output (taken partially from https://www.analyticsvidhya.com/blog/2021/10/a-comprehensive-guide-on-market-basket-analysis/)\n",
    "\n",
    "<span style=\"color:red\">for item in results:</span>  \n",
    "<p style=\"margin-left: 40px;\"><span style=\"color:red\">pair = item[0]</span></p>  \n",
    "<p style=\"margin-left: 40px;\"><span style=\"color:red\">items = [x for x in pair]</span></p>  \n",
    "<p style=\"margin-left: 40px;\"><span style=\"color:red\">print(\"Rule:       \" + items[0] + \" -> \" + items[1])</span></p>  \n",
    "<p style=\"margin-left: 40px;\"><span style=\"color:red\">print(\"Support:    \" + str(item[1]))</span></p>  \n",
    "<p style=\"margin-left: 40px;\"><span style=\"color:red\">print(\"Confidence: \" + str(item[2][0][2]))</span></p>  \n",
    "<p style=\"margin-left: 40px;\"><span style=\"color:red\">print(\"Lift:       \" + str(item[2][0][3]))</span></p>  \n",
    "\n",
    "The above is an example of what we call a Market Basket Analysis, and we used the Apriori Algorithm.  We have also looked at pre-processing necessary for the algorithm and are exposed to error messages for type mismatch for the algorithm to execute.  The pre-processing and the type issues are common in your journey as a data scientist.  It is important to understand these in order to be able to be an effective analyst."
   ]
  },
  {
   "cell_type": "markdown",
   "metadata": {},
   "source": [
    "#### Extra Exercise:"
   ]
  },
  {
   "cell_type": "markdown",
   "metadata": {},
   "source": [
    "If you noticed, we have left the 'nan' in the list of items and, by right, we should remove this.  There is a function called filter() which can be used to filter out those 'nan' and leaving us with the correct transaction lists.  It can be done in various places.  In this case, I would like you to identify where would be the appropriate place for the code below (note that I am not indicating that this is the best place but merely for you to figure out the code and learn some other useful functions).\n",
    "\n",
    "<span style=\"color:red\">transaction = list(filter(lambda x: x != 'nan', transaction))</span>\n",
    "\n",
    "You will need to read about \"lambda\" which is a nameless function, filter(), and why you need to list() the output."
   ]
  },
  {
   "cell_type": "markdown",
   "metadata": {},
   "source": [
    "## Linear Regression"
   ]
  },
  {
   "cell_type": "markdown",
   "metadata": {},
   "source": [
    "Many of the principles and theories of statistical machine learning are about the behaviour of different learning algorithms with more, or with less data. We can demonstrate one of the fundamental machine learning algorithms, Linear Regression, using functions of one variable and we can examine these behaviours by changing our data and our models. This exploration gives us a guided introduction to the concepts behind the theory. In the second part of this week’s activity, you need to explore the linear regression."
   ]
  },
  {
   "cell_type": "markdown",
   "metadata": {},
   "source": [
    "## Basics of Linear Algorithms"
   ]
  },
  {
   "cell_type": "markdown",
   "metadata": {},
   "source": [
    "Machine Learning (ML) is a method of data analysis to perform a specific task based on the existence of patterns in data and hence infer (predict) some outcome, instead of having explicit instructions. The statistics needed for this is called inferential statistics, as opposed to descriptive statistics that you have been introduced to. \n",
    "\n",
    "We start with our regular importing of libraries for Python.\n",
    "\n",
    "<span style=\"color:red\">import pandas as pd  \n",
    "import random # added for data generation, introduced in last week's pseudo random generator and seed.  \n",
    "import matplotlib.pyplot as plt  \n",
    "%matplotlib inline # don’t forget this line</span>\n",
    "\n",
    "The above may have an error message, what is it and how do you solve it?\n",
    "\n",
    "Let's continue. Assume you have the following dataset (in a DataFrame form) about information of age and income of 40 people.\n",
    "\n",
    "<span style=\"color:red\">df = pd.DataFrame(  \n",
    "<p style=\"margin-left: 40px;\"><span style=\"color:red\">{'Age' : [20,21,22,23,24,25,26,27,28,29,31,32,33,34,35,36,37,38,39,40],</span>  \n",
    "<p style=\"margin-left: 40px;\"><span style=\"color:red\">'Income' :[2400,2500,2600,2700,2800,2900,3000,3100,3200,3300,3500,3600,3700,3800,3900,4000,4100,4200,4300,4400]}</span></p>  \n",
    "\n",
    "<span style=\"color:red\">)    \n",
    "df.head()</span>  \n",
    "\n",
    "Do you see any relation between Age and Income? We have already learned how to create different plots. Let's use a plot which can show the relation between two variables. By relation, we mean how the values of Income would change with the changes in the values of Age. We can show this relationship with a Scatter plot. Let's show a scatter plot of Age versus Income.\n",
    "\n",
    "<span style=\"color:red\">plt.scatter(df['Age'],df['Income'])  \n",
    "\"\"\" plt.scatter(df.Age,df.Income) # if you like to use the '.' notation\"\"\"  \n",
    "plt.xlabel('Age')  \n",
    "plt.ylabel('Income')  \n",
    "plt.show()</span>\n",
    "\n",
    "![P4](picture/P4.png)"
   ]
  },
  {
   "cell_type": "markdown",
   "metadata": {},
   "source": [
    "#### Exercise 7.4:"
   ]
  },
  {
   "cell_type": "markdown",
   "metadata": {},
   "source": [
    "Considering the plot above, can you estimate what the Income of a 41 year old is?  (Not a trick question, something simple)\n",
    "\n",
    "1) 2000\n",
    "2) 3400\n",
    "3) 3500\n",
    "4) 4000\n",
    "5) 4500\n",
    "\n",
    "If you chose 4500, you are right! As you can see by increasing the age values, the income values also increase as well. You have detected the general pattern in this data set. The pattern in this data set is simple, as you increase the Age, Income also increases. Now let us change the data set slightly and add information of other people from a different country to see if the general pattern changes or not.\n",
    "\n",
    "<span style=\"color:red\">dfNewCountry= pd.DataFrame(</span>  \n",
    "<p style=\"margin-left: 40px;\"><span style=\"color:red\">{'Age' : [21,27,28,39,35],</span></p>  \n",
    "<p style=\"margin-left: 40px;\"><span style=\"color:red\">'Income' :[2550,1600,1600,2300,3800]}</span></p>  \n",
    "\n",
    "<span style=\"color:red\">)  \n",
    "dfAllCountries=pd.concat([df,dfNewCountry])</span>\n",
    "\n",
    "Before we proceed, we have introduced a “new” pandas function called concat(). What does it do? It merges the two dataframes on the row axis. Compare this with the merge() function. Let’s now plot the scatter plot.\n",
    "\n",
    "<span style=\"color:red\">plt.scatter(dfAllCountries['Age'],dfAllCountries['Income'])  \n",
    "plt.xlabel('Age')  \n",
    "plt.title('Age vs Income in two countries')  \n",
    "plt.ylabel('Income')  \n",
    "plt.show()</span>\n",
    "\n",
    "![P5](picture/P5.png)\n",
    "\n",
    "Again, try to answer this question. Considering the plot above, can you guess which of the following Income would be the income of a person who is 41?\n",
    "\n",
    "1) 2000  \n",
    "2) 3400  \n",
    "3) 3500  \n",
    "4) 4000  \n",
    "5) 4500  \n",
    "\n",
    "If your answer is 4500, you are right again! In Machine Learning, patterns refer to a general pattern and we ignore the minority of data points which have different values from the majority. In the plot 'Age vs Income in two countries', we ignore information of 3 people whose income values were far from the rest. We just determine the pattern based on the general increasing relation between values of Age and Income. It seems that by detecting the general pattern, we are able to predict the income of people of varying ages. In the plot above, Age is called an independent variable or predictor whereas Income is a dependent variable or response variable. We use the independent variable to predict the value of the dependent variable, e.g., we use the variable 'Age' (independent variable) to predict the variable 'Income' (dependent Variable).\n",
    "\n",
    "What you did to guess the income of a person who has 41, was an example of prediction. You took a look at the data and understood the relation between Age and Income for those who are between 18 and 40 and predicted the Income of a person who is 41. That's exactly what Machine Learning does. We give a dataset to a machine learning algorithm, it finds general patterns (by building models) and does predictions based on the given dataset. Then, the model predicts the income on the detected general pattern."
   ]
  },
  {
   "cell_type": "markdown",
   "metadata": {},
   "source": [
    "## Linear Regression Concept"
   ]
  },
  {
   "cell_type": "markdown",
   "metadata": {},
   "source": [
    "One form of regression for continuous dependent variables with the help of independent variables is called Linear Regression. This is as opposed to Logistic Regression which is often (but not always) used to predict a categorical dependent variable with the help of independent variables. Logistic regression is often used for classification. We will look into classification later.\n",
    "\n",
    "Let’s take a gentle path to understanding linear regression. First, create a data set and then we define a linear function to represent the general pattern between dependent and independent variables.\n",
    "\n",
    "<span style=\"color:red\">random.seed(123)  \n",
    "indVar=random.sample(range(1, 30), 20)  \n",
    "indVar</span>\n",
    "\n",
    "We have introduced pseudo random number generators and the concept of seed.  To recap, computers generate the random numbers using some mathematical function and are based on a starting point. If this starting point is known, then the “random” numbers generated can be reproduced. This is where the term setting the seed number means in computing. Hence, to ensure that all of you have the same random numbers generated, we set the seed for the random library. Remember, you imported the library earlier and we set it by calling <span style=\"color:red\">random.seed(123)</span>. After that, we can assign the variable <span style=\"color:red\">indVar</span> by generating 20 numbers, within the range of 1 to 30 using <span style=\"color:red\">random.sample(range(1, 30), 20)</span>.\n",
    "\n",
    "Note that some of you may still be getting a different range of numbers as the setting of the seed may not be equal for all OS or machine architecture (32-bit, 64-bit, processor type, etc.). Now we have a variable IndVar that contains a list of 20 numbers.\n",
    "\n",
    "<span style=\"color:red\">indVar</span>\n",
    "\n",
    "Should return the following output.\n",
    "\n",
    "[2, 9, 3, 25, 14, 28, 4, 29, 13, 18, 20, 11, 19, 22, 27, 15, 6, 24, 21, 23]\n",
    "\n",
    "Let’s create a set of dependent variables that are of the same values. (Note the way we make a copy of it, it is different from <span style=\"color:red\">depVar = indVar</span>) . "
   ]
  },
  {
   "cell_type": "markdown",
   "metadata": {},
   "source": [
    "#### Exercise 7.7: "
   ]
  },
  {
   "cell_type": "markdown",
   "metadata": {},
   "source": [
    "What's the difference with <span style=\"color:red\">depVar = indVar</span>?\n",
    "\n",
    "<span style=\"color:red\">depVar = indVar[:]</span>\n",
    "\n",
    "Now we have 2 sets of data points, where the independent and dependent data are the same. The purpose of this is purely for illustration only. Let’s plot the data using a scatter plot to view it.\n",
    "\n",
    "<span style=\"color:red\">plt.scatter(indVar,depVar)  \n",
    "plt.show()</span>\n",
    "\n",
    "![P6](picture/P6.png)\n",
    "\n",
    "Let’s plot a line across those points.\n",
    "\n",
    "<span style=\"color:red\">plt.scatter(indVar,depVar)  \n",
    "plt.plot(indVar,depVar,'r-', linewidth=3) # red line, of thickness 3  \n",
    "plt.show()</span>\n",
    "\n",
    "![P7](picture/P7.png)\n",
    "\n",
    "What we are trying to illustrate so far is that if the numbers are accurately related in a linear manner, we can draw a straight line through it. Let’s now assume that this relationship is the true (actual) relationship between the independent and dependent variables. Let’s call these the true numbers.\n",
    "\n",
    "<span style=\"color:red\">trueX = indVar[:]  \n",
    "trueY = depVar[:]</span>\n",
    "\n",
    "Let’s generate what we may find as real data (again, this is just simulated). Usually, in any data collection, the data that is recorded may not be the exact figure, for example measurements from analog devices, or measuring non-digital measures, or measurements that are recorded manually by humans. We simulate this by adding some noise (noise in this case means additional data that are random (unpredictable) and carries no real useful information).\n",
    "\n",
    "Let’s firstly add additional data points to our independent variable.\n",
    "\n",
    "<span style=\"color:red\">noiseXVals=random.sample(range(1, 30), 10)  \n",
    "indVar.extend(noiseXVals)</span>\n",
    "\n",
    "We now have 30 data points for our independent variable. You can have a look at the <span style=\"color:red\">indVar</span> values. What we need to do now is to add another 10 values to our dependent variables, <span style=\"color:red\">depVar</span> but the values should be not exactly that of the new independent variables but values that are slightly different. What we are going to do here is to pick those new values from <span style=\"color:red\">noiseXVals</span> using the for “<span style=\"color:red\">x in noiseXVals</span>” and add some minor noise to it.  (Please be reminded that this is for illustration purposes and we are creating noisy data).\n",
    "\n",
    "<span style=\"color:red\">noiseYVals=[x+round(random.uniform(-10,6)) for x in noiseXVals]  \n",
    "depVar.extend(noiseYVals)</span>\n",
    "\n",
    "Before you execute the extend(), you may want to have a look at the values of <span style=\"color:red\">noiseXVals</span> and <span style=\"color:red\">noiseYVals</span>. The random.uniform() function, creates floating point numbers between -10 and 8 (you can change the parameters if you like) and the round() function just rounds up the number to the nearest integer.\n",
    "\n",
    "Now, we replot the graph and have a look at it.\n",
    "\n",
    "<span style=\"color:red\">plt.scatter(indVar,depVar)  \n",
    "\"\"\" the red line represents the true data\"\"\"  \n",
    "plt.plot(trueX,trueY,'r-', linewidth=3)  \n",
    "plt.show()</span>\n",
    "\n",
    "![P8](picture/P8.png)\n",
    "\n",
    "Assuming that the new dots are the data that you have. The red straight line now doesn’t seem to be the best fit. The red line seems to be a bit higher than it should be, from a human eye-balling perspective.\n",
    "\n",
    "What if data is scattered more? Let us add more noise to this data set by following commands and see if we can still represent the general trend by a line.\n",
    "\n",
    "<span style=\"color:red\">noiseXVals=random.sample(range(1, 30), 25)  \n",
    "indVar.extend(noiseXVals)  \n",
    "noiseYVals=[x+round(random.uniform(-10,6)) for x in noiseXVals]  \n",
    "depVar.extend(noiseYVals)  \n",
    "plt.scatter(indVar,depVar)  \n",
    "plt.plot(trueX,trueY,'r-', linewidth=3)  \n",
    "plt.show()</span>\n",
    "\n",
    "![P9](picture/P9.png)\n",
    "\n",
    "Do you think that the red line which you plotted is the best line? Let’s plot another line which has a y-axis value that is smaller (by 1.5).\n",
    "\n",
    "<span style=\"color:red\">trueYNew=[x-1.5 for x in trueY]  \n",
    "Let’s plot the alternate line.  \n",
    "plt.scatter(indVar,depVar)  \n",
    "plt.plot(trueX,trueY,'r-', linewidth=3)  \n",
    "plt.plot(trueX,trueYNew,'g-', linewidth=3)  \n",
    "plt.show()</span>\n",
    "\n",
    "![P10](picture/P10.png)\n",
    "\n",
    "Does the green line look like a better fit? How can you evaluate it?  We have plotted the data and have manually estimated a \"green\" line that seem to be a better representation.  We have taken great lengths to get a non-mathematical approach to understanding the best fit, with the high level idea of what a linear regression is like. Now, we are going to look at a library in Python that we can use to create linear regression models.\n",
    "\n",
    "<span style=\"color:red\">import numpy as np # need this to reshape our input data for the LinearRegression() function  \n",
    "from sklearn.model_selection import train_test_split # please refer to last week's class  \n",
    "from sklearn.linear_model import LinearRegression # the linear regression function we will use</span>\n",
    "\n",
    "Let's relook at our 2 independent and dependent variables.\n",
    "\n",
    "<span style=\"color:red\">plt.scatter(indVar,depVar)</span>\n",
    "\n",
    "![P11](picture/P11.png)\n",
    "\n",
    "Again, some data preparation for using the scikit-learn LinearRegression() function.  It requires as it's input a list of list of single values, i.e., [[X1],[X2],[X3],...,[Xn]].\n",
    "\n",
    "<span style=\"color:red\">X = np.array(indVar).reshape(-1, 1)  \n",
    "y = np.array(depVar).reshape(-1, 1)</span>\n",
    "\n",
    "You can explore it by looking at each part step by step, i.e.,\n",
    "\n",
    "<span style=\"color:red\">indVar</span>\n",
    "\n",
    "Then what happens if you put it into an np.array\n",
    "\n",
    "<span style=\"color:red\">np.array(indVar)</span>\n",
    "\n",
    "And then use the reshape,\n",
    "\n",
    "<span style=\"color:red\">np.array(indVar).reshape(-1, 1)</span>\n",
    "\n",
    "Then try to use <span style=\"color:red\">reshape(1, -1)</span>.  Again, eagle-eyed will notice the extra  [ ].\n",
    "\n",
    "Once we have the independent variable (now call 'X') and the dependent variable (now call 'y'), we can do a train and test dataset.  We reserve 20% of our data for testing.  Do recall the last part of last week's laboratory on how the function train_test_split() is typically used.\n",
    "\n",
    "<span style=\"color:red\">X_train, X_test, y_train, y_test = train_test_split(X, y, test_size = 0.2)</span>\n",
    "\n",
    "Let's now use the scikit-learn LinearRegression() function.\n",
    "\n",
    "<span style=\"color:red\">reg = LinearRegression()  \n",
    "reg.fit(X_train, y_train)</span>\n",
    "\n",
    "Do note that the fit() function means that we ask the algorithm to build the model using the data provided.  We can then predict using the testing data.\n",
    "\n",
    "<span style=\"color:red\">reg.predict(X_test)</span>\n",
    "\n",
    "You will obtain the predicted output and you can compare this with the y_test values.\n",
    "\n",
    "<span style=\"color:red\">y_test</span>\n",
    "\n",
    "In a linear regression, you can obtain the score.  In simple terms, a score of 1.0 means it is a good predictor.\n",
    "\n",
    "<span style=\"color:red\">reg.score(X_test, y_test)</span>\n",
    "\n",
    "Let's plot the prediction.\n",
    "\n",
    "<span style=\"color:red\">y_pred = reg.predict(X_test)  \n",
    "plt.scatter(X_test, y_test, color ='b')  \n",
    "plt.plot(X_test, y_pred, color ='r')  \n",
    "plt.show()</span>\n",
    "\n",
    "![P12](picture/P12.png)\n",
    "\n",
    "We hope that you have enjoyed this rather long laboratory session and it contains some practical guide on not only the concepts of associative rule mining and linear regression, but also the need to pre-process the data for the functions and expanded the train and test concept in machine learning."
   ]
  },
  {
   "cell_type": "markdown",
   "metadata": {},
   "source": [
    "## My code part"
   ]
  },
  {
   "cell_type": "markdown",
   "metadata": {},
   "source": [
    "#### Associative Rule Mining using Apriori Algorithm"
   ]
  },
  {
   "cell_type": "code",
   "execution_count": 1,
   "metadata": {},
   "outputs": [],
   "source": [
    "import numpy as np\n",
    "import pandas as pd\n",
    "from apyori import apriori"
   ]
  },
  {
   "cell_type": "code",
   "execution_count": 3,
   "metadata": {},
   "outputs": [
    {
     "data": {
      "application/vnd.microsoft.datawrangler.viewer.v0+json": {
       "columns": [
        {
         "name": "index",
         "rawType": "int64",
         "type": "integer"
        },
        {
         "name": "shrimp",
         "rawType": "object",
         "type": "string"
        },
        {
         "name": "almonds",
         "rawType": "object",
         "type": "unknown"
        },
        {
         "name": "avocado",
         "rawType": "object",
         "type": "unknown"
        },
        {
         "name": "vegetables mix",
         "rawType": "object",
         "type": "unknown"
        },
        {
         "name": "green grapes",
         "rawType": "object",
         "type": "unknown"
        },
        {
         "name": "whole weat flour",
         "rawType": "object",
         "type": "unknown"
        },
        {
         "name": "yams",
         "rawType": "object",
         "type": "unknown"
        },
        {
         "name": "cottage cheese",
         "rawType": "object",
         "type": "unknown"
        },
        {
         "name": "energy drink",
         "rawType": "object",
         "type": "unknown"
        },
        {
         "name": "tomato juice",
         "rawType": "object",
         "type": "unknown"
        },
        {
         "name": "low fat yogurt",
         "rawType": "object",
         "type": "unknown"
        },
        {
         "name": "green tea",
         "rawType": "object",
         "type": "unknown"
        },
        {
         "name": "honey",
         "rawType": "object",
         "type": "unknown"
        },
        {
         "name": "salad",
         "rawType": "object",
         "type": "unknown"
        },
        {
         "name": "mineral water",
         "rawType": "object",
         "type": "unknown"
        },
        {
         "name": "salmon",
         "rawType": "object",
         "type": "unknown"
        },
        {
         "name": "antioxydant juice",
         "rawType": "object",
         "type": "unknown"
        },
        {
         "name": "frozen smoothie",
         "rawType": "object",
         "type": "unknown"
        },
        {
         "name": "spinach",
         "rawType": "object",
         "type": "unknown"
        },
        {
         "name": "olive oil",
         "rawType": "float64",
         "type": "float"
        }
       ],
       "conversionMethod": "pd.DataFrame",
       "ref": "899241b2-4c26-48c1-a320-580537559275",
       "rows": [
        [
         "0",
         "burgers",
         "meatballs",
         "eggs",
         null,
         null,
         null,
         null,
         null,
         null,
         null,
         null,
         null,
         null,
         null,
         null,
         null,
         null,
         null,
         null,
         null
        ],
        [
         "1",
         "chutney",
         null,
         null,
         null,
         null,
         null,
         null,
         null,
         null,
         null,
         null,
         null,
         null,
         null,
         null,
         null,
         null,
         null,
         null,
         null
        ],
        [
         "2",
         "turkey",
         "avocado",
         null,
         null,
         null,
         null,
         null,
         null,
         null,
         null,
         null,
         null,
         null,
         null,
         null,
         null,
         null,
         null,
         null,
         null
        ],
        [
         "3",
         "mineral water",
         "milk",
         "energy bar",
         "whole wheat rice",
         "green tea",
         null,
         null,
         null,
         null,
         null,
         null,
         null,
         null,
         null,
         null,
         null,
         null,
         null,
         null,
         null
        ],
        [
         "4",
         "low fat yogurt",
         null,
         null,
         null,
         null,
         null,
         null,
         null,
         null,
         null,
         null,
         null,
         null,
         null,
         null,
         null,
         null,
         null,
         null,
         null
        ]
       ],
       "shape": {
        "columns": 20,
        "rows": 5
       }
      },
      "text/html": [
       "<div>\n",
       "<style scoped>\n",
       "    .dataframe tbody tr th:only-of-type {\n",
       "        vertical-align: middle;\n",
       "    }\n",
       "\n",
       "    .dataframe tbody tr th {\n",
       "        vertical-align: top;\n",
       "    }\n",
       "\n",
       "    .dataframe thead th {\n",
       "        text-align: right;\n",
       "    }\n",
       "</style>\n",
       "<table border=\"1\" class=\"dataframe\">\n",
       "  <thead>\n",
       "    <tr style=\"text-align: right;\">\n",
       "      <th></th>\n",
       "      <th>shrimp</th>\n",
       "      <th>almonds</th>\n",
       "      <th>avocado</th>\n",
       "      <th>vegetables mix</th>\n",
       "      <th>green grapes</th>\n",
       "      <th>whole weat flour</th>\n",
       "      <th>yams</th>\n",
       "      <th>cottage cheese</th>\n",
       "      <th>energy drink</th>\n",
       "      <th>tomato juice</th>\n",
       "      <th>low fat yogurt</th>\n",
       "      <th>green tea</th>\n",
       "      <th>honey</th>\n",
       "      <th>salad</th>\n",
       "      <th>mineral water</th>\n",
       "      <th>salmon</th>\n",
       "      <th>antioxydant juice</th>\n",
       "      <th>frozen smoothie</th>\n",
       "      <th>spinach</th>\n",
       "      <th>olive oil</th>\n",
       "    </tr>\n",
       "  </thead>\n",
       "  <tbody>\n",
       "    <tr>\n",
       "      <th>0</th>\n",
       "      <td>burgers</td>\n",
       "      <td>meatballs</td>\n",
       "      <td>eggs</td>\n",
       "      <td>NaN</td>\n",
       "      <td>NaN</td>\n",
       "      <td>NaN</td>\n",
       "      <td>NaN</td>\n",
       "      <td>NaN</td>\n",
       "      <td>NaN</td>\n",
       "      <td>NaN</td>\n",
       "      <td>NaN</td>\n",
       "      <td>NaN</td>\n",
       "      <td>NaN</td>\n",
       "      <td>NaN</td>\n",
       "      <td>NaN</td>\n",
       "      <td>NaN</td>\n",
       "      <td>NaN</td>\n",
       "      <td>NaN</td>\n",
       "      <td>NaN</td>\n",
       "      <td>NaN</td>\n",
       "    </tr>\n",
       "    <tr>\n",
       "      <th>1</th>\n",
       "      <td>chutney</td>\n",
       "      <td>NaN</td>\n",
       "      <td>NaN</td>\n",
       "      <td>NaN</td>\n",
       "      <td>NaN</td>\n",
       "      <td>NaN</td>\n",
       "      <td>NaN</td>\n",
       "      <td>NaN</td>\n",
       "      <td>NaN</td>\n",
       "      <td>NaN</td>\n",
       "      <td>NaN</td>\n",
       "      <td>NaN</td>\n",
       "      <td>NaN</td>\n",
       "      <td>NaN</td>\n",
       "      <td>NaN</td>\n",
       "      <td>NaN</td>\n",
       "      <td>NaN</td>\n",
       "      <td>NaN</td>\n",
       "      <td>NaN</td>\n",
       "      <td>NaN</td>\n",
       "    </tr>\n",
       "    <tr>\n",
       "      <th>2</th>\n",
       "      <td>turkey</td>\n",
       "      <td>avocado</td>\n",
       "      <td>NaN</td>\n",
       "      <td>NaN</td>\n",
       "      <td>NaN</td>\n",
       "      <td>NaN</td>\n",
       "      <td>NaN</td>\n",
       "      <td>NaN</td>\n",
       "      <td>NaN</td>\n",
       "      <td>NaN</td>\n",
       "      <td>NaN</td>\n",
       "      <td>NaN</td>\n",
       "      <td>NaN</td>\n",
       "      <td>NaN</td>\n",
       "      <td>NaN</td>\n",
       "      <td>NaN</td>\n",
       "      <td>NaN</td>\n",
       "      <td>NaN</td>\n",
       "      <td>NaN</td>\n",
       "      <td>NaN</td>\n",
       "    </tr>\n",
       "    <tr>\n",
       "      <th>3</th>\n",
       "      <td>mineral water</td>\n",
       "      <td>milk</td>\n",
       "      <td>energy bar</td>\n",
       "      <td>whole wheat rice</td>\n",
       "      <td>green tea</td>\n",
       "      <td>NaN</td>\n",
       "      <td>NaN</td>\n",
       "      <td>NaN</td>\n",
       "      <td>NaN</td>\n",
       "      <td>NaN</td>\n",
       "      <td>NaN</td>\n",
       "      <td>NaN</td>\n",
       "      <td>NaN</td>\n",
       "      <td>NaN</td>\n",
       "      <td>NaN</td>\n",
       "      <td>NaN</td>\n",
       "      <td>NaN</td>\n",
       "      <td>NaN</td>\n",
       "      <td>NaN</td>\n",
       "      <td>NaN</td>\n",
       "    </tr>\n",
       "    <tr>\n",
       "      <th>4</th>\n",
       "      <td>low fat yogurt</td>\n",
       "      <td>NaN</td>\n",
       "      <td>NaN</td>\n",
       "      <td>NaN</td>\n",
       "      <td>NaN</td>\n",
       "      <td>NaN</td>\n",
       "      <td>NaN</td>\n",
       "      <td>NaN</td>\n",
       "      <td>NaN</td>\n",
       "      <td>NaN</td>\n",
       "      <td>NaN</td>\n",
       "      <td>NaN</td>\n",
       "      <td>NaN</td>\n",
       "      <td>NaN</td>\n",
       "      <td>NaN</td>\n",
       "      <td>NaN</td>\n",
       "      <td>NaN</td>\n",
       "      <td>NaN</td>\n",
       "      <td>NaN</td>\n",
       "      <td>NaN</td>\n",
       "    </tr>\n",
       "  </tbody>\n",
       "</table>\n",
       "</div>"
      ],
      "text/plain": [
       "           shrimp    almonds     avocado    vegetables mix green grapes  \\\n",
       "0         burgers  meatballs        eggs               NaN          NaN   \n",
       "1         chutney        NaN         NaN               NaN          NaN   \n",
       "2          turkey    avocado         NaN               NaN          NaN   \n",
       "3   mineral water       milk  energy bar  whole wheat rice    green tea   \n",
       "4  low fat yogurt        NaN         NaN               NaN          NaN   \n",
       "\n",
       "  whole weat flour yams cottage cheese energy drink tomato juice  \\\n",
       "0              NaN  NaN            NaN          NaN          NaN   \n",
       "1              NaN  NaN            NaN          NaN          NaN   \n",
       "2              NaN  NaN            NaN          NaN          NaN   \n",
       "3              NaN  NaN            NaN          NaN          NaN   \n",
       "4              NaN  NaN            NaN          NaN          NaN   \n",
       "\n",
       "  low fat yogurt green tea honey salad mineral water salmon antioxydant juice  \\\n",
       "0            NaN       NaN   NaN   NaN           NaN    NaN               NaN   \n",
       "1            NaN       NaN   NaN   NaN           NaN    NaN               NaN   \n",
       "2            NaN       NaN   NaN   NaN           NaN    NaN               NaN   \n",
       "3            NaN       NaN   NaN   NaN           NaN    NaN               NaN   \n",
       "4            NaN       NaN   NaN   NaN           NaN    NaN               NaN   \n",
       "\n",
       "  frozen smoothie spinach  olive oil  \n",
       "0             NaN     NaN        NaN  \n",
       "1             NaN     NaN        NaN  \n",
       "2             NaN     NaN        NaN  \n",
       "3             NaN     NaN        NaN  \n",
       "4             NaN     NaN        NaN  "
      ]
     },
     "execution_count": 3,
     "metadata": {},
     "output_type": "execute_result"
    }
   ],
   "source": [
    "df = pd.read_csv(\"data/Market_Basket_Optimisation.csv\")\n",
    "df.head()"
   ]
  },
  {
   "cell_type": "markdown",
   "metadata": {},
   "source": [
    "#### Exercice 7.1:"
   ]
  },
  {
   "cell_type": "code",
   "execution_count": 5,
   "metadata": {},
   "outputs": [
    {
     "data": {
      "application/vnd.microsoft.datawrangler.viewer.v0+json": {
       "columns": [
        {
         "name": "index",
         "rawType": "int64",
         "type": "integer"
        },
        {
         "name": "0",
         "rawType": "object",
         "type": "string"
        },
        {
         "name": "1",
         "rawType": "object",
         "type": "unknown"
        },
        {
         "name": "2",
         "rawType": "object",
         "type": "unknown"
        },
        {
         "name": "3",
         "rawType": "object",
         "type": "unknown"
        },
        {
         "name": "4",
         "rawType": "object",
         "type": "unknown"
        },
        {
         "name": "5",
         "rawType": "object",
         "type": "unknown"
        },
        {
         "name": "6",
         "rawType": "object",
         "type": "unknown"
        },
        {
         "name": "7",
         "rawType": "object",
         "type": "unknown"
        },
        {
         "name": "8",
         "rawType": "object",
         "type": "unknown"
        },
        {
         "name": "9",
         "rawType": "object",
         "type": "unknown"
        },
        {
         "name": "10",
         "rawType": "object",
         "type": "unknown"
        },
        {
         "name": "11",
         "rawType": "object",
         "type": "unknown"
        },
        {
         "name": "12",
         "rawType": "object",
         "type": "unknown"
        },
        {
         "name": "13",
         "rawType": "object",
         "type": "unknown"
        },
        {
         "name": "14",
         "rawType": "object",
         "type": "unknown"
        },
        {
         "name": "15",
         "rawType": "object",
         "type": "unknown"
        },
        {
         "name": "16",
         "rawType": "object",
         "type": "unknown"
        },
        {
         "name": "17",
         "rawType": "object",
         "type": "unknown"
        },
        {
         "name": "18",
         "rawType": "object",
         "type": "unknown"
        },
        {
         "name": "19",
         "rawType": "object",
         "type": "unknown"
        }
       ],
       "conversionMethod": "pd.DataFrame",
       "ref": "47a14c8b-d539-4144-a8ea-fa40713c03a1",
       "rows": [
        [
         "0",
         "shrimp",
         "almonds",
         "avocado",
         "vegetables mix",
         "green grapes",
         "whole weat flour",
         "yams",
         "cottage cheese",
         "energy drink",
         "tomato juice",
         "low fat yogurt",
         "green tea",
         "honey",
         "salad",
         "mineral water",
         "salmon",
         "antioxydant juice",
         "frozen smoothie",
         "spinach",
         "olive oil"
        ],
        [
         "1",
         "burgers",
         "meatballs",
         "eggs",
         null,
         null,
         null,
         null,
         null,
         null,
         null,
         null,
         null,
         null,
         null,
         null,
         null,
         null,
         null,
         null,
         null
        ],
        [
         "2",
         "chutney",
         null,
         null,
         null,
         null,
         null,
         null,
         null,
         null,
         null,
         null,
         null,
         null,
         null,
         null,
         null,
         null,
         null,
         null,
         null
        ],
        [
         "3",
         "turkey",
         "avocado",
         null,
         null,
         null,
         null,
         null,
         null,
         null,
         null,
         null,
         null,
         null,
         null,
         null,
         null,
         null,
         null,
         null,
         null
        ],
        [
         "4",
         "mineral water",
         "milk",
         "energy bar",
         "whole wheat rice",
         "green tea",
         null,
         null,
         null,
         null,
         null,
         null,
         null,
         null,
         null,
         null,
         null,
         null,
         null,
         null,
         null
        ]
       ],
       "shape": {
        "columns": 20,
        "rows": 5
       }
      },
      "text/html": [
       "<div>\n",
       "<style scoped>\n",
       "    .dataframe tbody tr th:only-of-type {\n",
       "        vertical-align: middle;\n",
       "    }\n",
       "\n",
       "    .dataframe tbody tr th {\n",
       "        vertical-align: top;\n",
       "    }\n",
       "\n",
       "    .dataframe thead th {\n",
       "        text-align: right;\n",
       "    }\n",
       "</style>\n",
       "<table border=\"1\" class=\"dataframe\">\n",
       "  <thead>\n",
       "    <tr style=\"text-align: right;\">\n",
       "      <th></th>\n",
       "      <th>0</th>\n",
       "      <th>1</th>\n",
       "      <th>2</th>\n",
       "      <th>3</th>\n",
       "      <th>4</th>\n",
       "      <th>5</th>\n",
       "      <th>6</th>\n",
       "      <th>7</th>\n",
       "      <th>8</th>\n",
       "      <th>9</th>\n",
       "      <th>10</th>\n",
       "      <th>11</th>\n",
       "      <th>12</th>\n",
       "      <th>13</th>\n",
       "      <th>14</th>\n",
       "      <th>15</th>\n",
       "      <th>16</th>\n",
       "      <th>17</th>\n",
       "      <th>18</th>\n",
       "      <th>19</th>\n",
       "    </tr>\n",
       "  </thead>\n",
       "  <tbody>\n",
       "    <tr>\n",
       "      <th>0</th>\n",
       "      <td>shrimp</td>\n",
       "      <td>almonds</td>\n",
       "      <td>avocado</td>\n",
       "      <td>vegetables mix</td>\n",
       "      <td>green grapes</td>\n",
       "      <td>whole weat flour</td>\n",
       "      <td>yams</td>\n",
       "      <td>cottage cheese</td>\n",
       "      <td>energy drink</td>\n",
       "      <td>tomato juice</td>\n",
       "      <td>low fat yogurt</td>\n",
       "      <td>green tea</td>\n",
       "      <td>honey</td>\n",
       "      <td>salad</td>\n",
       "      <td>mineral water</td>\n",
       "      <td>salmon</td>\n",
       "      <td>antioxydant juice</td>\n",
       "      <td>frozen smoothie</td>\n",
       "      <td>spinach</td>\n",
       "      <td>olive oil</td>\n",
       "    </tr>\n",
       "    <tr>\n",
       "      <th>1</th>\n",
       "      <td>burgers</td>\n",
       "      <td>meatballs</td>\n",
       "      <td>eggs</td>\n",
       "      <td>NaN</td>\n",
       "      <td>NaN</td>\n",
       "      <td>NaN</td>\n",
       "      <td>NaN</td>\n",
       "      <td>NaN</td>\n",
       "      <td>NaN</td>\n",
       "      <td>NaN</td>\n",
       "      <td>NaN</td>\n",
       "      <td>NaN</td>\n",
       "      <td>NaN</td>\n",
       "      <td>NaN</td>\n",
       "      <td>NaN</td>\n",
       "      <td>NaN</td>\n",
       "      <td>NaN</td>\n",
       "      <td>NaN</td>\n",
       "      <td>NaN</td>\n",
       "      <td>NaN</td>\n",
       "    </tr>\n",
       "    <tr>\n",
       "      <th>2</th>\n",
       "      <td>chutney</td>\n",
       "      <td>NaN</td>\n",
       "      <td>NaN</td>\n",
       "      <td>NaN</td>\n",
       "      <td>NaN</td>\n",
       "      <td>NaN</td>\n",
       "      <td>NaN</td>\n",
       "      <td>NaN</td>\n",
       "      <td>NaN</td>\n",
       "      <td>NaN</td>\n",
       "      <td>NaN</td>\n",
       "      <td>NaN</td>\n",
       "      <td>NaN</td>\n",
       "      <td>NaN</td>\n",
       "      <td>NaN</td>\n",
       "      <td>NaN</td>\n",
       "      <td>NaN</td>\n",
       "      <td>NaN</td>\n",
       "      <td>NaN</td>\n",
       "      <td>NaN</td>\n",
       "    </tr>\n",
       "    <tr>\n",
       "      <th>3</th>\n",
       "      <td>turkey</td>\n",
       "      <td>avocado</td>\n",
       "      <td>NaN</td>\n",
       "      <td>NaN</td>\n",
       "      <td>NaN</td>\n",
       "      <td>NaN</td>\n",
       "      <td>NaN</td>\n",
       "      <td>NaN</td>\n",
       "      <td>NaN</td>\n",
       "      <td>NaN</td>\n",
       "      <td>NaN</td>\n",
       "      <td>NaN</td>\n",
       "      <td>NaN</td>\n",
       "      <td>NaN</td>\n",
       "      <td>NaN</td>\n",
       "      <td>NaN</td>\n",
       "      <td>NaN</td>\n",
       "      <td>NaN</td>\n",
       "      <td>NaN</td>\n",
       "      <td>NaN</td>\n",
       "    </tr>\n",
       "    <tr>\n",
       "      <th>4</th>\n",
       "      <td>mineral water</td>\n",
       "      <td>milk</td>\n",
       "      <td>energy bar</td>\n",
       "      <td>whole wheat rice</td>\n",
       "      <td>green tea</td>\n",
       "      <td>NaN</td>\n",
       "      <td>NaN</td>\n",
       "      <td>NaN</td>\n",
       "      <td>NaN</td>\n",
       "      <td>NaN</td>\n",
       "      <td>NaN</td>\n",
       "      <td>NaN</td>\n",
       "      <td>NaN</td>\n",
       "      <td>NaN</td>\n",
       "      <td>NaN</td>\n",
       "      <td>NaN</td>\n",
       "      <td>NaN</td>\n",
       "      <td>NaN</td>\n",
       "      <td>NaN</td>\n",
       "      <td>NaN</td>\n",
       "    </tr>\n",
       "  </tbody>\n",
       "</table>\n",
       "</div>"
      ],
      "text/plain": [
       "              0          1           2                 3             4   \\\n",
       "0         shrimp    almonds     avocado    vegetables mix  green grapes   \n",
       "1        burgers  meatballs        eggs               NaN           NaN   \n",
       "2        chutney        NaN         NaN               NaN           NaN   \n",
       "3         turkey    avocado         NaN               NaN           NaN   \n",
       "4  mineral water       milk  energy bar  whole wheat rice     green tea   \n",
       "\n",
       "                 5     6               7             8             9   \\\n",
       "0  whole weat flour  yams  cottage cheese  energy drink  tomato juice   \n",
       "1               NaN   NaN             NaN           NaN           NaN   \n",
       "2               NaN   NaN             NaN           NaN           NaN   \n",
       "3               NaN   NaN             NaN           NaN           NaN   \n",
       "4               NaN   NaN             NaN           NaN           NaN   \n",
       "\n",
       "               10         11     12     13             14      15  \\\n",
       "0  low fat yogurt  green tea  honey  salad  mineral water  salmon   \n",
       "1             NaN        NaN    NaN    NaN            NaN     NaN   \n",
       "2             NaN        NaN    NaN    NaN            NaN     NaN   \n",
       "3             NaN        NaN    NaN    NaN            NaN     NaN   \n",
       "4             NaN        NaN    NaN    NaN            NaN     NaN   \n",
       "\n",
       "                  16               17       18         19  \n",
       "0  antioxydant juice  frozen smoothie  spinach  olive oil  \n",
       "1                NaN              NaN      NaN        NaN  \n",
       "2                NaN              NaN      NaN        NaN  \n",
       "3                NaN              NaN      NaN        NaN  \n",
       "4                NaN              NaN      NaN        NaN  "
      ]
     },
     "execution_count": 5,
     "metadata": {},
     "output_type": "execute_result"
    }
   ],
   "source": [
    "df = pd.read_csv(\"data/Market_Basket_Optimisation.csv\", header=None)\n",
    "df.head()"
   ]
  },
  {
   "cell_type": "code",
   "execution_count": 6,
   "metadata": {},
   "outputs": [
    {
     "data": {
      "text/plain": [
       "'almonds'"
      ]
     },
     "execution_count": 6,
     "metadata": {},
     "output_type": "execute_result"
    }
   ],
   "source": [
    "df.values[0,1]"
   ]
  },
  {
   "cell_type": "markdown",
   "metadata": {},
   "source": [
    "#### Exercice 7.2:"
   ]
  },
  {
   "cell_type": "code",
   "execution_count": 7,
   "metadata": {},
   "outputs": [
    {
     "name": "stdout",
     "output_type": "stream",
     "text": [
      "['shrimp', 'almonds', 'avocado', 'vegetables mix', 'green grapes', 'whole weat flour', 'yams', 'cottage cheese', 'energy drink', 'tomato juice', 'low fat yogurt', 'green tea', 'honey', 'salad', 'mineral water', 'salmon', 'antioxydant juice', 'frozen smoothie', 'spinach', 'olive oil']\n"
     ]
    }
   ],
   "source": [
    "transaction = []\n",
    "for i in range(0,len(df.axes[1])):\n",
    "    transaction.append(df.values[0,i])\n",
    "print(transaction)"
   ]
  },
  {
   "cell_type": "markdown",
   "metadata": {},
   "source": [
    "#### Exercice 7.3"
   ]
  },
  {
   "cell_type": "code",
   "execution_count": 8,
   "metadata": {},
   "outputs": [],
   "source": [
    "transactions = []\n",
    "for i in range(0,len(df)):\n",
    "    transaction = []\n",
    "    for j in range(0,len(df.axes[1])):\n",
    "        transaction.append(df.values[i,j])\n",
    "    transactions.append(transaction)"
   ]
  },
  {
   "cell_type": "code",
   "execution_count": 9,
   "metadata": {},
   "outputs": [
    {
     "ename": "TypeError",
     "evalue": "'<' not supported between instances of 'float' and 'str'",
     "output_type": "error",
     "traceback": [
      "\u001b[1;31m---------------------------------------------------------------------------\u001b[0m",
      "\u001b[1;31mTypeError\u001b[0m                                 Traceback (most recent call last)",
      "Cell \u001b[1;32mIn[9], line 2\u001b[0m\n\u001b[0;32m      1\u001b[0m rules \u001b[38;5;241m=\u001b[39m apriori(transactions, min_support\u001b[38;5;241m=\u001b[39m\u001b[38;5;241m0.005\u001b[39m, min_confidence\u001b[38;5;241m=\u001b[39m\u001b[38;5;241m0.1\u001b[39m, min_lift\u001b[38;5;241m=\u001b[39m\u001b[38;5;241m3\u001b[39m, min_length\u001b[38;5;241m=\u001b[39m\u001b[38;5;241m2\u001b[39m) \u001b[38;5;66;03m# I use transactions as the variable from Exercise 3.\u001b[39;00m\n\u001b[1;32m----> 2\u001b[0m results \u001b[38;5;241m=\u001b[39m \u001b[38;5;28;43mlist\u001b[39;49m\u001b[43m(\u001b[49m\u001b[43mrules\u001b[49m\u001b[43m)\u001b[49m\n",
      "File \u001b[1;32mc:\\Users\\Framework_Arthur\\AppData\\Local\\Programs\\Python\\Python313\\Lib\\site-packages\\apyori.py:286\u001b[0m, in \u001b[0;36mapriori\u001b[1;34m(transactions, **kwargs)\u001b[0m\n\u001b[0;32m    282\u001b[0m support_records \u001b[38;5;241m=\u001b[39m _gen_support_records(\n\u001b[0;32m    283\u001b[0m     transaction_manager, min_support, max_length\u001b[38;5;241m=\u001b[39mmax_length)\n\u001b[0;32m    285\u001b[0m \u001b[38;5;66;03m# Calculate ordered stats.\u001b[39;00m\n\u001b[1;32m--> 286\u001b[0m \u001b[43m\u001b[49m\u001b[38;5;28;43;01mfor\u001b[39;49;00m\u001b[43m \u001b[49m\u001b[43msupport_record\u001b[49m\u001b[43m \u001b[49m\u001b[38;5;129;43;01min\u001b[39;49;00m\u001b[43m \u001b[49m\u001b[43msupport_records\u001b[49m\u001b[43m:\u001b[49m\n\u001b[0;32m    287\u001b[0m \u001b[43m    \u001b[49m\u001b[43mordered_statistics\u001b[49m\u001b[43m \u001b[49m\u001b[38;5;241;43m=\u001b[39;49m\u001b[43m \u001b[49m\u001b[38;5;28;43mlist\u001b[39;49m\u001b[43m(\u001b[49m\n\u001b[0;32m    288\u001b[0m \u001b[43m        \u001b[49m\u001b[43m_filter_ordered_statistics\u001b[49m\u001b[43m(\u001b[49m\n\u001b[0;32m    289\u001b[0m \u001b[43m            \u001b[49m\u001b[43m_gen_ordered_statistics\u001b[49m\u001b[43m(\u001b[49m\u001b[43mtransaction_manager\u001b[49m\u001b[43m,\u001b[49m\u001b[43m \u001b[49m\u001b[43msupport_record\u001b[49m\u001b[43m)\u001b[49m\u001b[43m,\u001b[49m\n\u001b[1;32m   (...)\u001b[0m\n\u001b[0;32m    292\u001b[0m \u001b[43m        \u001b[49m\u001b[43m)\u001b[49m\n\u001b[0;32m    293\u001b[0m \u001b[43m    \u001b[49m\u001b[43m)\u001b[49m\n\u001b[0;32m    294\u001b[0m \u001b[43m    \u001b[49m\u001b[38;5;28;43;01mif\u001b[39;49;00m\u001b[43m \u001b[49m\u001b[38;5;129;43;01mnot\u001b[39;49;00m\u001b[43m \u001b[49m\u001b[43mordered_statistics\u001b[49m\u001b[43m:\u001b[49m\n",
      "File \u001b[1;32mc:\\Users\\Framework_Arthur\\AppData\\Local\\Programs\\Python\\Python313\\Lib\\site-packages\\apyori.py:185\u001b[0m, in \u001b[0;36mgen_support_records\u001b[1;34m(transaction_manager, min_support, **kwargs)\u001b[0m\n\u001b[0;32m    181\u001b[0m _create_next_candidates \u001b[38;5;241m=\u001b[39m kwargs\u001b[38;5;241m.\u001b[39mget(\n\u001b[0;32m    182\u001b[0m     \u001b[38;5;124m'\u001b[39m\u001b[38;5;124m_create_next_candidates\u001b[39m\u001b[38;5;124m'\u001b[39m, create_next_candidates)\n\u001b[0;32m    184\u001b[0m \u001b[38;5;66;03m# Process.\u001b[39;00m\n\u001b[1;32m--> 185\u001b[0m candidates \u001b[38;5;241m=\u001b[39m \u001b[43mtransaction_manager\u001b[49m\u001b[38;5;241;43m.\u001b[39;49m\u001b[43minitial_candidates\u001b[49m\u001b[43m(\u001b[49m\u001b[43m)\u001b[49m\n\u001b[0;32m    186\u001b[0m length \u001b[38;5;241m=\u001b[39m \u001b[38;5;241m1\u001b[39m\n\u001b[0;32m    187\u001b[0m \u001b[38;5;28;01mwhile\u001b[39;00m candidates:\n",
      "File \u001b[1;32mc:\\Users\\Framework_Arthur\\AppData\\Local\\Programs\\Python\\Python313\\Lib\\site-packages\\apyori.py:97\u001b[0m, in \u001b[0;36mTransactionManager.initial_candidates\u001b[1;34m(self)\u001b[0m\n\u001b[0;32m     93\u001b[0m \u001b[38;5;28;01mdef\u001b[39;00m\u001b[38;5;250m \u001b[39m\u001b[38;5;21minitial_candidates\u001b[39m(\u001b[38;5;28mself\u001b[39m):\n\u001b[0;32m     94\u001b[0m \u001b[38;5;250m    \u001b[39m\u001b[38;5;124;03m\"\"\"\u001b[39;00m\n\u001b[0;32m     95\u001b[0m \u001b[38;5;124;03m    Returns the initial candidates.\u001b[39;00m\n\u001b[0;32m     96\u001b[0m \u001b[38;5;124;03m    \"\"\"\u001b[39;00m\n\u001b[1;32m---> 97\u001b[0m     \u001b[38;5;28;01mreturn\u001b[39;00m [\u001b[38;5;28mfrozenset\u001b[39m([item]) \u001b[38;5;28;01mfor\u001b[39;00m item \u001b[38;5;129;01min\u001b[39;00m \u001b[38;5;28;43mself\u001b[39;49m\u001b[38;5;241;43m.\u001b[39;49m\u001b[43mitems\u001b[49m]\n",
      "File \u001b[1;32mc:\\Users\\Framework_Arthur\\AppData\\Local\\Programs\\Python\\Python313\\Lib\\site-packages\\apyori.py:111\u001b[0m, in \u001b[0;36mTransactionManager.items\u001b[1;34m(self)\u001b[0m\n\u001b[0;32m    106\u001b[0m \u001b[38;5;129m@property\u001b[39m\n\u001b[0;32m    107\u001b[0m \u001b[38;5;28;01mdef\u001b[39;00m\u001b[38;5;250m \u001b[39m\u001b[38;5;21mitems\u001b[39m(\u001b[38;5;28mself\u001b[39m):\n\u001b[0;32m    108\u001b[0m \u001b[38;5;250m    \u001b[39m\u001b[38;5;124;03m\"\"\"\u001b[39;00m\n\u001b[0;32m    109\u001b[0m \u001b[38;5;124;03m    Returns the item list that the transaction is consisted of.\u001b[39;00m\n\u001b[0;32m    110\u001b[0m \u001b[38;5;124;03m    \"\"\"\u001b[39;00m\n\u001b[1;32m--> 111\u001b[0m     \u001b[38;5;28;01mreturn\u001b[39;00m \u001b[38;5;28;43msorted\u001b[39;49m\u001b[43m(\u001b[49m\u001b[38;5;28;43mself\u001b[39;49m\u001b[38;5;241;43m.\u001b[39;49m\u001b[43m__items\u001b[49m\u001b[43m)\u001b[49m\n",
      "\u001b[1;31mTypeError\u001b[0m: '<' not supported between instances of 'float' and 'str'"
     ]
    }
   ],
   "source": [
    "rules = apriori(transactions, min_support=0.005, min_confidence=0.1, min_lift=3, min_length=2) # I use transactions as the variable from Exercise 3.\n",
    "results = list(rules)"
   ]
  },
  {
   "cell_type": "code",
   "execution_count": 10,
   "metadata": {},
   "outputs": [],
   "source": [
    "transactions = []\n",
    "for i in range(0,len(df)):\n",
    "    transaction = []\n",
    "    for j in range(0,len(df.axes[1])):\n",
    "        transaction.append(str(df.values[i,j]))\n",
    "    transactions.append(transaction)"
   ]
  },
  {
   "cell_type": "code",
   "execution_count": 11,
   "metadata": {},
   "outputs": [],
   "source": [
    "rules = apriori(transactions, min_support=0.005, min_confidence=0.1, min_lift=3, min_length=2)\n",
    "results = list(rules)"
   ]
  },
  {
   "cell_type": "code",
   "execution_count": 12,
   "metadata": {},
   "outputs": [
    {
     "name": "stdout",
     "output_type": "stream",
     "text": [
      "frozenset({'mushroom cream sauce', 'escalope'})\n",
      "frozenset({'escalope', 'pasta'})\n",
      "frozenset({'herb & pepper', 'ground beef'})\n",
      "frozenset({'tomato sauce', 'ground beef'})\n",
      "frozenset({'whole wheat pasta', 'olive oil'})\n",
      "frozenset({'shrimp', 'pasta'})\n",
      "frozenset({'chocolate', 'shrimp', 'frozen vegetables'})\n",
      "frozenset({'mushroom cream sauce', 'escalope', 'nan'})\n",
      "frozenset({'escalope', 'nan', 'pasta'})\n",
      "frozenset({'spaghetti', 'ground beef', 'frozen vegetables'})\n",
      "frozenset({'shrimp', 'frozen vegetables', 'mineral water'})\n",
      "frozenset({'spaghetti', 'olive oil', 'frozen vegetables'})\n",
      "frozenset({'spaghetti', 'shrimp', 'frozen vegetables'})\n",
      "frozenset({'spaghetti', 'tomatoes', 'frozen vegetables'})\n",
      "frozenset({'grated cheese', 'ground beef', 'spaghetti'})\n",
      "frozenset({'herb & pepper', 'ground beef', 'mineral water'})\n",
      "frozenset({'nan', 'herb & pepper', 'ground beef'})\n",
      "frozenset({'spaghetti', 'herb & pepper', 'ground beef'})\n",
      "frozenset({'nan', 'tomato sauce', 'ground beef'})\n",
      "frozenset({'spaghetti', 'ground beef', 'shrimp'})\n",
      "frozenset({'soup', 'milk', 'mineral water'})\n",
      "frozenset({'spaghetti', 'milk', 'olive oil'})\n",
      "frozenset({'soup', 'olive oil', 'mineral water'})\n",
      "frozenset({'whole wheat pasta', 'nan', 'olive oil'})\n",
      "frozenset({'nan', 'shrimp', 'pasta'})\n",
      "frozenset({'spaghetti', 'olive oil', 'pancakes'})\n",
      "frozenset({'chocolate', 'nan', 'shrimp', 'frozen vegetables'})\n",
      "frozenset({'nan', 'spaghetti', 'ground beef', 'frozen vegetables'})\n",
      "frozenset({'nan', 'shrimp', 'frozen vegetables', 'mineral water'})\n",
      "frozenset({'nan', 'spaghetti', 'olive oil', 'frozen vegetables'})\n",
      "frozenset({'nan', 'shrimp', 'spaghetti', 'frozen vegetables'})\n",
      "frozenset({'nan', 'tomatoes', 'spaghetti', 'frozen vegetables'})\n",
      "frozenset({'grated cheese', 'nan', 'ground beef', 'spaghetti'})\n",
      "frozenset({'nan', 'herb & pepper', 'ground beef', 'mineral water'})\n",
      "frozenset({'nan', 'herb & pepper', 'ground beef', 'spaghetti'})\n",
      "frozenset({'nan', 'spaghetti', 'ground beef', 'shrimp'})\n",
      "frozenset({'nan', 'milk', 'soup', 'mineral water'})\n",
      "frozenset({'nan', 'milk', 'olive oil', 'spaghetti'})\n",
      "frozenset({'nan', 'soup', 'olive oil', 'mineral water'})\n",
      "frozenset({'nan', 'olive oil', 'spaghetti', 'pancakes'})\n"
     ]
    }
   ],
   "source": [
    "for i in range(0, len(results)):\n",
    "    print(results[i][0])"
   ]
  },
  {
   "cell_type": "code",
   "execution_count": 13,
   "metadata": {},
   "outputs": [
    {
     "name": "stdout",
     "output_type": "stream",
     "text": [
      "Rule:       mushroom cream sauce -> escalope\n",
      "Support:    0.005732568990801226\n",
      "Confidence: 0.3006993006993007\n",
      "Lift:       3.790832696715049\n",
      "Rule:       escalope -> pasta\n",
      "Support:    0.005865884548726837\n",
      "Confidence: 0.3728813559322034\n",
      "Lift:       4.700811850163794\n",
      "Rule:       herb & pepper -> ground beef\n",
      "Support:    0.015997866951073192\n",
      "Confidence: 0.1628222523744912\n",
      "Lift:       3.291993841134928\n",
      "Rule:       tomato sauce -> ground beef\n",
      "Support:    0.005332622317024397\n",
      "Confidence: 0.3773584905660377\n",
      "Lift:       3.840659481324083\n",
      "Rule:       whole wheat pasta -> olive oil\n",
      "Support:    0.007998933475536596\n",
      "Confidence: 0.12145748987854252\n",
      "Lift:       4.1224100976422955\n",
      "Rule:       shrimp -> pasta\n",
      "Support:    0.005065991201173177\n",
      "Confidence: 0.3220338983050847\n",
      "Lift:       4.506672147735896\n",
      "Rule:       chocolate -> shrimp\n",
      "Support:    0.005332622317024397\n",
      "Confidence: 0.23255813953488375\n",
      "Lift:       3.2545123221103784\n",
      "Rule:       mushroom cream sauce -> escalope\n",
      "Support:    0.005732568990801226\n",
      "Confidence: 0.3006993006993007\n",
      "Lift:       3.790832696715049\n",
      "Rule:       escalope -> nan\n",
      "Support:    0.005865884548726837\n",
      "Confidence: 0.3728813559322034\n",
      "Lift:       4.700811850163794\n",
      "Rule:       spaghetti -> ground beef\n",
      "Support:    0.008665511265164644\n",
      "Confidence: 0.31100478468899523\n",
      "Lift:       3.165328208890303\n",
      "Rule:       shrimp -> frozen vegetables\n",
      "Support:    0.007199040127982935\n",
      "Confidence: 0.30508474576271183\n",
      "Lift:       3.200616332819722\n",
      "Rule:       spaghetti -> olive oil\n",
      "Support:    0.005732568990801226\n",
      "Confidence: 0.20574162679425836\n",
      "Lift:       3.1240241752707125\n",
      "Rule:       spaghetti -> shrimp\n",
      "Support:    0.005999200106652446\n",
      "Confidence: 0.21531100478468898\n",
      "Lift:       3.0131489680782684\n",
      "Rule:       spaghetti -> tomatoes\n",
      "Support:    0.006665777896280496\n",
      "Confidence: 0.23923444976076558\n",
      "Lift:       3.4980460188216425\n",
      "Rule:       grated cheese -> ground beef\n",
      "Support:    0.005332622317024397\n",
      "Confidence: 0.3225806451612903\n",
      "Lift:       3.283144395325426\n",
      "Rule:       herb & pepper -> ground beef\n",
      "Support:    0.006665777896280496\n",
      "Confidence: 0.1347708894878706\n",
      "Lift:       3.292887433382793\n",
      "Rule:       nan -> herb & pepper\n",
      "Support:    0.015997866951073192\n",
      "Confidence: 0.1628222523744912\n",
      "Lift:       3.291993841134928\n",
      "Rule:       spaghetti -> herb & pepper\n",
      "Support:    0.006399146780429276\n",
      "Confidence: 0.1293800539083558\n",
      "Lift:       3.3009516475053635\n",
      "Rule:       nan -> tomato sauce\n",
      "Support:    0.005332622317024397\n",
      "Confidence: 0.3773584905660377\n",
      "Lift:       3.840659481324083\n",
      "Rule:       spaghetti -> ground beef\n",
      "Support:    0.005999200106652446\n",
      "Confidence: 0.5232558139534884\n",
      "Lift:       3.005315360233627\n",
      "Rule:       soup -> milk\n",
      "Support:    0.008532195707239034\n",
      "Confidence: 0.16886543535620052\n",
      "Lift:       3.518498973907945\n",
      "Rule:       spaghetti -> milk\n",
      "Support:    0.007199040127982935\n",
      "Confidence: 0.10931174089068825\n",
      "Lift:       3.0825089038385434\n",
      "Rule:       soup -> olive oil\n",
      "Support:    0.005199306759098787\n",
      "Confidence: 0.1029023746701847\n",
      "Lift:       3.7288440212611373\n",
      "Rule:       whole wheat pasta -> nan\n",
      "Support:    0.007998933475536596\n",
      "Confidence: 0.12145748987854252\n",
      "Lift:       4.1224100976422955\n",
      "Rule:       nan -> shrimp\n",
      "Support:    0.005065991201173177\n",
      "Confidence: 0.3220338983050847\n",
      "Lift:       4.515095833993347\n",
      "Rule:       spaghetti -> olive oil\n",
      "Support:    0.005065991201173177\n",
      "Confidence: 0.20105820105820105\n",
      "Lift:       3.0529100529100526\n",
      "Rule:       chocolate -> nan\n",
      "Support:    0.005332622317024397\n",
      "Confidence: 0.23255813953488375\n",
      "Lift:       3.260595522712454\n",
      "Rule:       nan -> spaghetti\n",
      "Support:    0.008665511265164644\n",
      "Confidence: 0.31100478468899523\n",
      "Lift:       3.165328208890303\n",
      "Rule:       nan -> shrimp\n",
      "Support:    0.007199040127982935\n",
      "Confidence: 0.30508474576271183\n",
      "Lift:       3.200616332819722\n",
      "Rule:       nan -> spaghetti\n",
      "Support:    0.005732568990801226\n",
      "Confidence: 0.20574162679425836\n",
      "Lift:       3.1303609383037156\n",
      "Rule:       nan -> shrimp\n",
      "Support:    0.005999200106652446\n",
      "Confidence: 0.21531100478468898\n",
      "Lift:       3.0187810222242093\n",
      "Rule:       nan -> tomatoes\n",
      "Support:    0.006665777896280496\n",
      "Confidence: 0.23923444976076558\n",
      "Lift:       3.4980460188216425\n",
      "Rule:       grated cheese -> nan\n",
      "Support:    0.005332622317024397\n",
      "Confidence: 0.3225806451612903\n",
      "Lift:       3.283144395325426\n",
      "Rule:       nan -> herb & pepper\n",
      "Support:    0.006665777896280496\n",
      "Confidence: 0.1347708894878706\n",
      "Lift:       3.292887433382793\n",
      "Rule:       nan -> herb & pepper\n",
      "Support:    0.006399146780429276\n",
      "Confidence: 0.1293800539083558\n",
      "Lift:       3.3009516475053635\n",
      "Rule:       nan -> spaghetti\n",
      "Support:    0.005999200106652446\n",
      "Confidence: 0.5232558139534884\n",
      "Lift:       3.005315360233627\n",
      "Rule:       nan -> milk\n",
      "Support:    0.008532195707239034\n",
      "Confidence: 0.16886543535620052\n",
      "Lift:       3.518498973907945\n",
      "Rule:       nan -> milk\n",
      "Support:    0.007199040127982935\n",
      "Confidence: 0.10931174089068825\n",
      "Lift:       3.0825089038385434\n",
      "Rule:       nan -> soup\n",
      "Support:    0.005199306759098787\n",
      "Confidence: 0.1029023746701847\n",
      "Lift:       3.7469452058303663\n",
      "Rule:       nan -> olive oil\n",
      "Support:    0.005065991201173177\n",
      "Confidence: 0.20105820105820105\n",
      "Lift:       3.0591025682303568\n"
     ]
    }
   ],
   "source": [
    "for item in results:\n",
    "    pair = item[0]\n",
    "    items = [x for x in pair]\n",
    "    print(\"Rule:       \" + items[0] + \" -> \" + items[1])\n",
    "    print(\"Support:    \" + str(item[1]))\n",
    "    print(\"Confidence: \" + str(item[2][0][2]))\n",
    "    print(\"Lift:       \" + str(item[2][0][3]))"
   ]
  },
  {
   "cell_type": "markdown",
   "metadata": {},
   "source": [
    "#### Extra Exercise: "
   ]
  },
  {
   "cell_type": "code",
   "execution_count": 15,
   "metadata": {},
   "outputs": [
    {
     "name": "stdout",
     "output_type": "stream",
     "text": [
      "['eggs', 'frozen smoothie', 'yogurt cake', 'low fat yogurt']\n"
     ]
    }
   ],
   "source": [
    "transaction = list(filter(lambda x: x != 'nan', transaction))\n",
    "print(transaction)"
   ]
  },
  {
   "cell_type": "markdown",
   "metadata": {},
   "source": [
    "#### Basics of Linear Algorithms"
   ]
  },
  {
   "cell_type": "code",
   "execution_count": 16,
   "metadata": {},
   "outputs": [
    {
     "data": {
      "application/vnd.microsoft.datawrangler.viewer.v0+json": {
       "columns": [
        {
         "name": "index",
         "rawType": "int64",
         "type": "integer"
        },
        {
         "name": "Age",
         "rawType": "int64",
         "type": "integer"
        },
        {
         "name": "Income",
         "rawType": "int64",
         "type": "integer"
        }
       ],
       "conversionMethod": "pd.DataFrame",
       "ref": "3ce2b737-df60-446a-b01e-c0271cf418d5",
       "rows": [
        [
         "0",
         "20",
         "2400"
        ],
        [
         "1",
         "21",
         "2500"
        ],
        [
         "2",
         "22",
         "2600"
        ],
        [
         "3",
         "23",
         "2700"
        ],
        [
         "4",
         "24",
         "2800"
        ]
       ],
       "shape": {
        "columns": 2,
        "rows": 5
       }
      },
      "text/html": [
       "<div>\n",
       "<style scoped>\n",
       "    .dataframe tbody tr th:only-of-type {\n",
       "        vertical-align: middle;\n",
       "    }\n",
       "\n",
       "    .dataframe tbody tr th {\n",
       "        vertical-align: top;\n",
       "    }\n",
       "\n",
       "    .dataframe thead th {\n",
       "        text-align: right;\n",
       "    }\n",
       "</style>\n",
       "<table border=\"1\" class=\"dataframe\">\n",
       "  <thead>\n",
       "    <tr style=\"text-align: right;\">\n",
       "      <th></th>\n",
       "      <th>Age</th>\n",
       "      <th>Income</th>\n",
       "    </tr>\n",
       "  </thead>\n",
       "  <tbody>\n",
       "    <tr>\n",
       "      <th>0</th>\n",
       "      <td>20</td>\n",
       "      <td>2400</td>\n",
       "    </tr>\n",
       "    <tr>\n",
       "      <th>1</th>\n",
       "      <td>21</td>\n",
       "      <td>2500</td>\n",
       "    </tr>\n",
       "    <tr>\n",
       "      <th>2</th>\n",
       "      <td>22</td>\n",
       "      <td>2600</td>\n",
       "    </tr>\n",
       "    <tr>\n",
       "      <th>3</th>\n",
       "      <td>23</td>\n",
       "      <td>2700</td>\n",
       "    </tr>\n",
       "    <tr>\n",
       "      <th>4</th>\n",
       "      <td>24</td>\n",
       "      <td>2800</td>\n",
       "    </tr>\n",
       "  </tbody>\n",
       "</table>\n",
       "</div>"
      ],
      "text/plain": [
       "   Age  Income\n",
       "0   20    2400\n",
       "1   21    2500\n",
       "2   22    2600\n",
       "3   23    2700\n",
       "4   24    2800"
      ]
     },
     "execution_count": 16,
     "metadata": {},
     "output_type": "execute_result"
    }
   ],
   "source": [
    "import random # added for data generation, introduced in last week's pseudo random generator and seed.\n",
    "import matplotlib.pyplot as plt\n",
    "\n",
    "df = pd.DataFrame(\n",
    "    {'Age' : [20,21,22,23,24,25,26,27,28,29,31,32,33,34,35,36,37,38,39,40],\n",
    "     'Income' :[2400,2500,2600,2700,2800,2900,3000,3100,3200,3300,3500,3600,3700,3800,3900,4000,4100,4200,4300,4400]}\n",
    ")\n",
    "df.head()"
   ]
  },
  {
   "cell_type": "code",
   "execution_count": 17,
   "metadata": {},
   "outputs": [
    {
     "data": {
      "image/png": "[encoded data removed]",
      "text/plain": [
       "<Figure size 640x480 with 1 Axes>"
      ]
     },
     "metadata": {},
     "output_type": "display_data"
    }
   ],
   "source": [
    "plt.scatter(df['Age'],df['Income'])\n",
    "# plt.scatter(df.Age,df.Income) # if you like to use the '.' notation\n",
    "plt.xlabel('Age')\n",
    "plt.ylabel('Income')\n",
    "plt.show()"
   ]
  },
  {
   "cell_type": "markdown",
   "metadata": {},
   "source": [
    "#### Exercice 7.4:"
   ]
  },
  {
   "cell_type": "markdown",
   "metadata": {},
   "source": [
    "answear 5. 4500"
   ]
  },
  {
   "cell_type": "code",
   "execution_count": 19,
   "metadata": {},
   "outputs": [],
   "source": [
    "dfNewCountry= pd.DataFrame(\n",
    "    {'Age' : [21,27,28,39,35],\n",
    "     'Income' :[2550,1600,1600,2300,3800]}\n",
    ")\n",
    "dfAllCountries=pd.concat([df,dfNewCountry])"
   ]
  },
  {
   "cell_type": "code",
   "execution_count": 20,
   "metadata": {},
   "outputs": [
    {
     "data": {
      "image/png": "[encoded data removed]",
      "text/plain": [
       "<Figure size 640x480 with 1 Axes>"
      ]
     },
     "metadata": {},
     "output_type": "display_data"
    }
   ],
   "source": [
    "plt.scatter(dfAllCountries['Age'],dfAllCountries['Income'])\n",
    "plt.xlabel('Age')\n",
    "plt.title('Age vs Income in two countries')\n",
    "plt.ylabel('Income')\n",
    "plt.show()"
   ]
  },
  {
   "cell_type": "markdown",
   "metadata": {},
   "source": [
    "answear 5. 4500"
   ]
  },
  {
   "cell_type": "markdown",
   "metadata": {},
   "source": [
    "#### Linear Regression Concept"
   ]
  },
  {
   "cell_type": "code",
   "execution_count": 21,
   "metadata": {},
   "outputs": [
    {
     "data": {
      "text/plain": [
       "[2, 9, 3, 25, 14, 28, 4, 29, 13, 18, 20, 11, 19, 22, 27, 15, 6, 24, 21, 23]"
      ]
     },
     "execution_count": 21,
     "metadata": {},
     "output_type": "execute_result"
    }
   ],
   "source": [
    "random.seed(123)\n",
    "indVar=random.sample(range(1, 30), 20)\n",
    "indVar"
   ]
  },
  {
   "cell_type": "markdown",
   "metadata": {},
   "source": [
    "#### Exercice 7.7:"
   ]
  },
  {
   "cell_type": "code",
   "execution_count": 22,
   "metadata": {},
   "outputs": [
    {
     "data": {
      "image/png": "[encoded data removed]",
      "text/plain": [
       "<Figure size 640x480 with 1 Axes>"
      ]
     },
     "metadata": {},
     "output_type": "display_data"
    }
   ],
   "source": [
    "depVar = indVar[:]\n",
    "plt.scatter(indVar,depVar)\n",
    "plt.show()"
   ]
  },
  {
   "cell_type": "code",
   "execution_count": 23,
   "metadata": {},
   "outputs": [
    {
     "data": {
      "image/png": "[encoded data removed]",
      "text/plain": [
       "<Figure size 640x480 with 1 Axes>"
      ]
     },
     "metadata": {},
     "output_type": "display_data"
    }
   ],
   "source": [
    "plt.scatter(indVar,depVar)\n",
    "plt.plot(indVar,depVar,'r-', linewidth=3) # red line, of thickness 3\n",
    "plt.show()"
   ]
  },
  {
   "cell_type": "code",
   "execution_count": 24,
   "metadata": {},
   "outputs": [],
   "source": [
    "trueX = indVar[:]\n",
    "trueY = depVar[:]"
   ]
  },
  {
   "cell_type": "code",
   "execution_count": 25,
   "metadata": {},
   "outputs": [],
   "source": [
    "noiseXVals=random.sample(range(1, 30), 10)\n",
    "indVar.extend(noiseXVals)"
   ]
  },
  {
   "cell_type": "code",
   "execution_count": 26,
   "metadata": {},
   "outputs": [],
   "source": [
    "noiseYVals=[x+round(random.uniform(-10,6)) for x in noiseXVals]\n",
    "depVar.extend(noiseYVals)"
   ]
  },
  {
   "cell_type": "code",
   "execution_count": 27,
   "metadata": {},
   "outputs": [
    {
     "data": {
      "image/png": "[encoded data removed]",
      "text/plain": [
       "<Figure size 640x480 with 1 Axes>"
      ]
     },
     "metadata": {},
     "output_type": "display_data"
    }
   ],
   "source": [
    "plt.scatter(indVar,depVar)\n",
    "# the red line represents the true data\n",
    "plt.plot(trueX,trueY,'r-', linewidth=3)\n",
    "plt.show()"
   ]
  },
  {
   "cell_type": "code",
   "execution_count": 28,
   "metadata": {},
   "outputs": [
    {
     "data": {
      "image/png": "[encoded data removed]",
      "text/plain": [
       "<Figure size 640x480 with 1 Axes>"
      ]
     },
     "metadata": {},
     "output_type": "display_data"
    }
   ],
   "source": [
    "noiseXVals=random.sample(range(1, 30), 25)\n",
    "indVar.extend(noiseXVals)\n",
    "noiseYVals=[x+round(random.uniform(-10,6)) for x in noiseXVals]\n",
    "depVar.extend(noiseYVals)\n",
    "plt.scatter(indVar,depVar)\n",
    "plt.plot(trueX,trueY,'r-', linewidth=3)\n",
    "plt.show()"
   ]
  },
  {
   "cell_type": "code",
   "execution_count": 29,
   "metadata": {},
   "outputs": [
    {
     "data": {
      "image/png": "[encoded data removed]",
      "text/plain": [
       "<Figure size 640x480 with 1 Axes>"
      ]
     },
     "metadata": {},
     "output_type": "display_data"
    }
   ],
   "source": [
    "trueYNew=[x-1.5 for x in trueY]\n",
    "#Let’s plot the alternate line.\n",
    "plt.scatter(indVar,depVar)\n",
    "plt.plot(trueX,trueY,'r-', linewidth=3)\n",
    "plt.plot(trueX,trueYNew,'g-', linewidth=3)\n",
    "plt.show()"
   ]
  },
  {
   "cell_type": "code",
   "execution_count": 30,
   "metadata": {},
   "outputs": [],
   "source": [
    "import numpy as np # need this to reshape our input data for the LinearRegression() function\n",
    "from sklearn.model_selection import train_test_split # please refer to last week's class\n",
    "from sklearn.linear_model import LinearRegression # the linear regression function we will use"
   ]
  },
  {
   "cell_type": "code",
   "execution_count": 31,
   "metadata": {},
   "outputs": [
    {
     "data": {
      "text/plain": [
       "<matplotlib.collections.PathCollection at 0x22c6b97ac10>"
      ]
     },
     "execution_count": 31,
     "metadata": {},
     "output_type": "execute_result"
    },
    {
     "data": {
      "image/png": "[encoded data removed]",
      "text/plain": [
       "<Figure size 640x480 with 1 Axes>"
      ]
     },
     "metadata": {},
     "output_type": "display_data"
    }
   ],
   "source": [
    "plt.scatter(indVar,depVar)"
   ]
  },
  {
   "cell_type": "code",
   "execution_count": 32,
   "metadata": {},
   "outputs": [],
   "source": [
    "X = np.array(indVar).reshape(-1, 1)\n",
    "y = np.array(depVar).reshape(-1, 1)"
   ]
  },
  {
   "cell_type": "code",
   "execution_count": 33,
   "metadata": {},
   "outputs": [
    {
     "data": {
      "text/plain": [
       "[2,\n",
       " 9,\n",
       " 3,\n",
       " 25,\n",
       " 14,\n",
       " 28,\n",
       " 4,\n",
       " 29,\n",
       " 13,\n",
       " 18,\n",
       " 20,\n",
       " 11,\n",
       " 19,\n",
       " 22,\n",
       " 27,\n",
       " 15,\n",
       " 6,\n",
       " 24,\n",
       " 21,\n",
       " 23,\n",
       " 6,\n",
       " 1,\n",
       " 14,\n",
       " 25,\n",
       " 3,\n",
       " 20,\n",
       " 13,\n",
       " 26,\n",
       " 28,\n",
       " 11,\n",
       " 2,\n",
       " 25,\n",
       " 10,\n",
       " 11,\n",
       " 17,\n",
       " 16,\n",
       " 7,\n",
       " 20,\n",
       " 21,\n",
       " 28,\n",
       " 19,\n",
       " 26,\n",
       " 1,\n",
       " 13,\n",
       " 15,\n",
       " 24,\n",
       " 18,\n",
       " 9,\n",
       " 23,\n",
       " 12,\n",
       " 8,\n",
       " 14,\n",
       " 3,\n",
       " 5,\n",
       " 22]"
      ]
     },
     "execution_count": 33,
     "metadata": {},
     "output_type": "execute_result"
    }
   ],
   "source": [
    "indVar\n"
   ]
  },
  {
   "cell_type": "code",
   "execution_count": 34,
   "metadata": {},
   "outputs": [
    {
     "data": {
      "text/plain": [
       "array([ 2,  9,  3, 25, 14, 28,  4, 29, 13, 18, 20, 11, 19, 22, 27, 15,  6,\n",
       "       24, 21, 23,  6,  1, 14, 25,  3, 20, 13, 26, 28, 11,  2, 25, 10, 11,\n",
       "       17, 16,  7, 20, 21, 28, 19, 26,  1, 13, 15, 24, 18,  9, 23, 12,  8,\n",
       "       14,  3,  5, 22])"
      ]
     },
     "execution_count": 34,
     "metadata": {},
     "output_type": "execute_result"
    }
   ],
   "source": [
    "np.array(indVar)"
   ]
  },
  {
   "cell_type": "code",
   "execution_count": 35,
   "metadata": {},
   "outputs": [
    {
     "data": {
      "text/plain": [
       "array([[ 2],\n",
       "       [ 9],\n",
       "       [ 3],\n",
       "       [25],\n",
       "       [14],\n",
       "       [28],\n",
       "       [ 4],\n",
       "       [29],\n",
       "       [13],\n",
       "       [18],\n",
       "       [20],\n",
       "       [11],\n",
       "       [19],\n",
       "       [22],\n",
       "       [27],\n",
       "       [15],\n",
       "       [ 6],\n",
       "       [24],\n",
       "       [21],\n",
       "       [23],\n",
       "       [ 6],\n",
       "       [ 1],\n",
       "       [14],\n",
       "       [25],\n",
       "       [ 3],\n",
       "       [20],\n",
       "       [13],\n",
       "       [26],\n",
       "       [28],\n",
       "       [11],\n",
       "       [ 2],\n",
       "       [25],\n",
       "       [10],\n",
       "       [11],\n",
       "       [17],\n",
       "       [16],\n",
       "       [ 7],\n",
       "       [20],\n",
       "       [21],\n",
       "       [28],\n",
       "       [19],\n",
       "       [26],\n",
       "       [ 1],\n",
       "       [13],\n",
       "       [15],\n",
       "       [24],\n",
       "       [18],\n",
       "       [ 9],\n",
       "       [23],\n",
       "       [12],\n",
       "       [ 8],\n",
       "       [14],\n",
       "       [ 3],\n",
       "       [ 5],\n",
       "       [22]])"
      ]
     },
     "execution_count": 35,
     "metadata": {},
     "output_type": "execute_result"
    }
   ],
   "source": [
    "np.array(indVar).reshape(-1, 1)"
   ]
  },
  {
   "cell_type": "code",
   "execution_count": 36,
   "metadata": {},
   "outputs": [
    {
     "data": {
      "text/plain": [
       "array([[ 2,  9,  3, 25, 14, 28,  4, 29, 13, 18, 20, 11, 19, 22, 27, 15,\n",
       "         6, 24, 21, 23,  6,  1, 14, 25,  3, 20, 13, 26, 28, 11,  2, 25,\n",
       "        10, 11, 17, 16,  7, 20, 21, 28, 19, 26,  1, 13, 15, 24, 18,  9,\n",
       "        23, 12,  8, 14,  3,  5, 22]])"
      ]
     },
     "execution_count": 36,
     "metadata": {},
     "output_type": "execute_result"
    }
   ],
   "source": [
    "np.array(indVar).reshape(1, -1)"
   ]
  },
  {
   "cell_type": "code",
   "execution_count": 37,
   "metadata": {},
   "outputs": [],
   "source": [
    "X_train, X_test, y_train, y_test = train_test_split(X, y, test_size = 0.2)"
   ]
  },
  {
   "cell_type": "code",
   "execution_count": 38,
   "metadata": {},
   "outputs": [
    {
     "data": {
      "text/html": [
       "<style>#sk-container-id-1 {\n",
       "  /* Definition of color scheme common for light and dark mode */\n",
       "  --sklearn-color-text: #000;\n",
       "  --sklearn-color-text-muted: #666;\n",
       "  --sklearn-color-line: gray;\n",
       "  /* Definition of color scheme for unfitted estimators */\n",
       "  --sklearn-color-unfitted-level-0: #fff5e6;\n",
       "  --sklearn-color-unfitted-level-1: #f6e4d2;\n",
       "  --sklearn-color-unfitted-level-2: #ffe0b3;\n",
       "  --sklearn-color-unfitted-level-3: chocolate;\n",
       "  /* Definition of color scheme for fitted estimators */\n",
       "  --sklearn-color-fitted-level-0: #f0f8ff;\n",
       "  --sklearn-color-fitted-level-1: #d4ebff;\n",
       "  --sklearn-color-fitted-level-2: #b3dbfd;\n",
       "  --sklearn-color-fitted-level-3: cornflowerblue;\n",
       "\n",
       "  /* Specific color for light theme */\n",
       "  --sklearn-color-text-on-default-background: var(--sg-text-color, var(--theme-code-foreground, var(--jp-content-font-color1, black)));\n",
       "  --sklearn-color-background: var(--sg-background-color, var(--theme-background, var(--jp-layout-color0, white)));\n",
       "  --sklearn-color-border-box: var(--sg-text-color, var(--theme-code-foreground, var(--jp-content-font-color1, black)));\n",
       "  --sklearn-color-icon: #696969;\n",
       "\n",
       "  @media (prefers-color-scheme: dark) {\n",
       "    /* Redefinition of color scheme for dark theme */\n",
       "    --sklearn-color-text-on-default-background: var(--sg-text-color, var(--theme-code-foreground, var(--jp-content-font-color1, white)));\n",
       "    --sklearn-color-background: var(--sg-background-color, var(--theme-background, var(--jp-layout-color0, #111)));\n",
       "    --sklearn-color-border-box: var(--sg-text-color, var(--theme-code-foreground, var(--jp-content-font-color1, white)));\n",
       "    --sklearn-color-icon: #878787;\n",
       "  }\n",
       "}\n",
       "\n",
       "#sk-container-id-1 {\n",
       "  color: var(--sklearn-color-text);\n",
       "}\n",
       "\n",
       "#sk-container-id-1 pre {\n",
       "  padding: 0;\n",
       "}\n",
       "\n",
       "#sk-container-id-1 input.sk-hidden--visually {\n",
       "  border: 0;\n",
       "  clip: rect(1px 1px 1px 1px);\n",
       "  clip: rect(1px, 1px, 1px, 1px);\n",
       "  height: 1px;\n",
       "  margin: -1px;\n",
       "  overflow: hidden;\n",
       "  padding: 0;\n",
       "  position: absolute;\n",
       "  width: 1px;\n",
       "}\n",
       "\n",
       "#sk-container-id-1 div.sk-dashed-wrapped {\n",
       "  border: 1px dashed var(--sklearn-color-line);\n",
       "  margin: 0 0.4em 0.5em 0.4em;\n",
       "  box-sizing: border-box;\n",
       "  padding-bottom: 0.4em;\n",
       "  background-color: var(--sklearn-color-background);\n",
       "}\n",
       "\n",
       "#sk-container-id-1 div.sk-container {\n",
       "  /* jupyter's `normalize.less` sets `[hidden] { display: none; }`\n",
       "     but bootstrap.min.css set `[hidden] { display: none !important; }`\n",
       "     so we also need the `!important` here to be able to override the\n",
       "     default hidden behavior on the sphinx rendered scikit-learn.org.\n",
       "     See: https://github.com/scikit-learn/scikit-learn/issues/21755 */\n",
       "  display: inline-block !important;\n",
       "  position: relative;\n",
       "}\n",
       "\n",
       "#sk-container-id-1 div.sk-text-repr-fallback {\n",
       "  display: none;\n",
       "}\n",
       "\n",
       "div.sk-parallel-item,\n",
       "div.sk-serial,\n",
       "div.sk-item {\n",
       "  /* draw centered vertical line to link estimators */\n",
       "  background-image: linear-gradient(var(--sklearn-color-text-on-default-background), var(--sklearn-color-text-on-default-background));\n",
       "  background-size: 2px 100%;\n",
       "  background-repeat: no-repeat;\n",
       "  background-position: center center;\n",
       "}\n",
       "\n",
       "/* Parallel-specific style estimator block */\n",
       "\n",
       "#sk-container-id-1 div.sk-parallel-item::after {\n",
       "  content: \"\";\n",
       "  width: 100%;\n",
       "  border-bottom: 2px solid var(--sklearn-color-text-on-default-background);\n",
       "  flex-grow: 1;\n",
       "}\n",
       "\n",
       "#sk-container-id-1 div.sk-parallel {\n",
       "  display: flex;\n",
       "  align-items: stretch;\n",
       "  justify-content: center;\n",
       "  background-color: var(--sklearn-color-background);\n",
       "  position: relative;\n",
       "}\n",
       "\n",
       "#sk-container-id-1 div.sk-parallel-item {\n",
       "  display: flex;\n",
       "  flex-direction: column;\n",
       "}\n",
       "\n",
       "#sk-container-id-1 div.sk-parallel-item:first-child::after {\n",
       "  align-self: flex-end;\n",
       "  width: 50%;\n",
       "}\n",
       "\n",
       "#sk-container-id-1 div.sk-parallel-item:last-child::after {\n",
       "  align-self: flex-start;\n",
       "  width: 50%;\n",
       "}\n",
       "\n",
       "#sk-container-id-1 div.sk-parallel-item:only-child::after {\n",
       "  width: 0;\n",
       "}\n",
       "\n",
       "/* Serial-specific style estimator block */\n",
       "\n",
       "#sk-container-id-1 div.sk-serial {\n",
       "  display: flex;\n",
       "  flex-direction: column;\n",
       "  align-items: center;\n",
       "  background-color: var(--sklearn-color-background);\n",
       "  padding-right: 1em;\n",
       "  padding-left: 1em;\n",
       "}\n",
       "\n",
       "\n",
       "/* Toggleable style: style used for estimator/Pipeline/ColumnTransformer box that is\n",
       "clickable and can be expanded/collapsed.\n",
       "- Pipeline and ColumnTransformer use this feature and define the default style\n",
       "- Estimators will overwrite some part of the style using the `sk-estimator` class\n",
       "*/\n",
       "\n",
       "/* Pipeline and ColumnTransformer style (default) */\n",
       "\n",
       "#sk-container-id-1 div.sk-toggleable {\n",
       "  /* Default theme specific background. It is overwritten whether we have a\n",
       "  specific estimator or a Pipeline/ColumnTransformer */\n",
       "  background-color: var(--sklearn-color-background);\n",
       "}\n",
       "\n",
       "/* Toggleable label */\n",
       "#sk-container-id-1 label.sk-toggleable__label {\n",
       "  cursor: pointer;\n",
       "  display: flex;\n",
       "  width: 100%;\n",
       "  margin-bottom: 0;\n",
       "  padding: 0.5em;\n",
       "  box-sizing: border-box;\n",
       "  text-align: center;\n",
       "  align-items: start;\n",
       "  justify-content: space-between;\n",
       "  gap: 0.5em;\n",
       "}\n",
       "\n",
       "#sk-container-id-1 label.sk-toggleable__label .caption {\n",
       "  font-size: 0.6rem;\n",
       "  font-weight: lighter;\n",
       "  color: var(--sklearn-color-text-muted);\n",
       "}\n",
       "\n",
       "#sk-container-id-1 label.sk-toggleable__label-arrow:before {\n",
       "  /* Arrow on the left of the label */\n",
       "  content: \"▸\";\n",
       "  float: left;\n",
       "  margin-right: 0.25em;\n",
       "  color: var(--sklearn-color-icon);\n",
       "}\n",
       "\n",
       "#sk-container-id-1 label.sk-toggleable__label-arrow:hover:before {\n",
       "  color: var(--sklearn-color-text);\n",
       "}\n",
       "\n",
       "/* Toggleable content - dropdown */\n",
       "\n",
       "#sk-container-id-1 div.sk-toggleable__content {\n",
       "  max-height: 0;\n",
       "  max-width: 0;\n",
       "  overflow: hidden;\n",
       "  text-align: left;\n",
       "  /* unfitted */\n",
       "  background-color: var(--sklearn-color-unfitted-level-0);\n",
       "}\n",
       "\n",
       "#sk-container-id-1 div.sk-toggleable__content.fitted {\n",
       "  /* fitted */\n",
       "  background-color: var(--sklearn-color-fitted-level-0);\n",
       "}\n",
       "\n",
       "#sk-container-id-1 div.sk-toggleable__content pre {\n",
       "  margin: 0.2em;\n",
       "  border-radius: 0.25em;\n",
       "  color: var(--sklearn-color-text);\n",
       "  /* unfitted */\n",
       "  background-color: var(--sklearn-color-unfitted-level-0);\n",
       "}\n",
       "\n",
       "#sk-container-id-1 div.sk-toggleable__content.fitted pre {\n",
       "  /* unfitted */\n",
       "  background-color: var(--sklearn-color-fitted-level-0);\n",
       "}\n",
       "\n",
       "#sk-container-id-1 input.sk-toggleable__control:checked~div.sk-toggleable__content {\n",
       "  /* Expand drop-down */\n",
       "  max-height: 200px;\n",
       "  max-width: 100%;\n",
       "  overflow: auto;\n",
       "}\n",
       "\n",
       "#sk-container-id-1 input.sk-toggleable__control:checked~label.sk-toggleable__label-arrow:before {\n",
       "  content: \"▾\";\n",
       "}\n",
       "\n",
       "/* Pipeline/ColumnTransformer-specific style */\n",
       "\n",
       "#sk-container-id-1 div.sk-label input.sk-toggleable__control:checked~label.sk-toggleable__label {\n",
       "  color: var(--sklearn-color-text);\n",
       "  background-color: var(--sklearn-color-unfitted-level-2);\n",
       "}\n",
       "\n",
       "#sk-container-id-1 div.sk-label.fitted input.sk-toggleable__control:checked~label.sk-toggleable__label {\n",
       "  background-color: var(--sklearn-color-fitted-level-2);\n",
       "}\n",
       "\n",
       "/* Estimator-specific style */\n",
       "\n",
       "/* Colorize estimator box */\n",
       "#sk-container-id-1 div.sk-estimator input.sk-toggleable__control:checked~label.sk-toggleable__label {\n",
       "  /* unfitted */\n",
       "  background-color: var(--sklearn-color-unfitted-level-2);\n",
       "}\n",
       "\n",
       "#sk-container-id-1 div.sk-estimator.fitted input.sk-toggleable__control:checked~label.sk-toggleable__label {\n",
       "  /* fitted */\n",
       "  background-color: var(--sklearn-color-fitted-level-2);\n",
       "}\n",
       "\n",
       "#sk-container-id-1 div.sk-label label.sk-toggleable__label,\n",
       "#sk-container-id-1 div.sk-label label {\n",
       "  /* The background is the default theme color */\n",
       "  color: var(--sklearn-color-text-on-default-background);\n",
       "}\n",
       "\n",
       "/* On hover, darken the color of the background */\n",
       "#sk-container-id-1 div.sk-label:hover label.sk-toggleable__label {\n",
       "  color: var(--sklearn-color-text);\n",
       "  background-color: var(--sklearn-color-unfitted-level-2);\n",
       "}\n",
       "\n",
       "/* Label box, darken color on hover, fitted */\n",
       "#sk-container-id-1 div.sk-label.fitted:hover label.sk-toggleable__label.fitted {\n",
       "  color: var(--sklearn-color-text);\n",
       "  background-color: var(--sklearn-color-fitted-level-2);\n",
       "}\n",
       "\n",
       "/* Estimator label */\n",
       "\n",
       "#sk-container-id-1 div.sk-label label {\n",
       "  font-family: monospace;\n",
       "  font-weight: bold;\n",
       "  display: inline-block;\n",
       "  line-height: 1.2em;\n",
       "}\n",
       "\n",
       "#sk-container-id-1 div.sk-label-container {\n",
       "  text-align: center;\n",
       "}\n",
       "\n",
       "/* Estimator-specific */\n",
       "#sk-container-id-1 div.sk-estimator {\n",
       "  font-family: monospace;\n",
       "  border: 1px dotted var(--sklearn-color-border-box);\n",
       "  border-radius: 0.25em;\n",
       "  box-sizing: border-box;\n",
       "  margin-bottom: 0.5em;\n",
       "  /* unfitted */\n",
       "  background-color: var(--sklearn-color-unfitted-level-0);\n",
       "}\n",
       "\n",
       "#sk-container-id-1 div.sk-estimator.fitted {\n",
       "  /* fitted */\n",
       "  background-color: var(--sklearn-color-fitted-level-0);\n",
       "}\n",
       "\n",
       "/* on hover */\n",
       "#sk-container-id-1 div.sk-estimator:hover {\n",
       "  /* unfitted */\n",
       "  background-color: var(--sklearn-color-unfitted-level-2);\n",
       "}\n",
       "\n",
       "#sk-container-id-1 div.sk-estimator.fitted:hover {\n",
       "  /* fitted */\n",
       "  background-color: var(--sklearn-color-fitted-level-2);\n",
       "}\n",
       "\n",
       "/* Specification for estimator info (e.g. \"i\" and \"?\") */\n",
       "\n",
       "/* Common style for \"i\" and \"?\" */\n",
       "\n",
       ".sk-estimator-doc-link,\n",
       "a:link.sk-estimator-doc-link,\n",
       "a:visited.sk-estimator-doc-link {\n",
       "  float: right;\n",
       "  font-size: smaller;\n",
       "  line-height: 1em;\n",
       "  font-family: monospace;\n",
       "  background-color: var(--sklearn-color-background);\n",
       "  border-radius: 1em;\n",
       "  height: 1em;\n",
       "  width: 1em;\n",
       "  text-decoration: none !important;\n",
       "  margin-left: 0.5em;\n",
       "  text-align: center;\n",
       "  /* unfitted */\n",
       "  border: var(--sklearn-color-unfitted-level-1) 1pt solid;\n",
       "  color: var(--sklearn-color-unfitted-level-1);\n",
       "}\n",
       "\n",
       ".sk-estimator-doc-link.fitted,\n",
       "a:link.sk-estimator-doc-link.fitted,\n",
       "a:visited.sk-estimator-doc-link.fitted {\n",
       "  /* fitted */\n",
       "  border: var(--sklearn-color-fitted-level-1) 1pt solid;\n",
       "  color: var(--sklearn-color-fitted-level-1);\n",
       "}\n",
       "\n",
       "/* On hover */\n",
       "div.sk-estimator:hover .sk-estimator-doc-link:hover,\n",
       ".sk-estimator-doc-link:hover,\n",
       "div.sk-label-container:hover .sk-estimator-doc-link:hover,\n",
       ".sk-estimator-doc-link:hover {\n",
       "  /* unfitted */\n",
       "  background-color: var(--sklearn-color-unfitted-level-3);\n",
       "  color: var(--sklearn-color-background);\n",
       "  text-decoration: none;\n",
       "}\n",
       "\n",
       "div.sk-estimator.fitted:hover .sk-estimator-doc-link.fitted:hover,\n",
       ".sk-estimator-doc-link.fitted:hover,\n",
       "div.sk-label-container:hover .sk-estimator-doc-link.fitted:hover,\n",
       ".sk-estimator-doc-link.fitted:hover {\n",
       "  /* fitted */\n",
       "  background-color: var(--sklearn-color-fitted-level-3);\n",
       "  color: var(--sklearn-color-background);\n",
       "  text-decoration: none;\n",
       "}\n",
       "\n",
       "/* Span, style for the box shown on hovering the info icon */\n",
       ".sk-estimator-doc-link span {\n",
       "  display: none;\n",
       "  z-index: 9999;\n",
       "  position: relative;\n",
       "  font-weight: normal;\n",
       "  right: .2ex;\n",
       "  padding: .5ex;\n",
       "  margin: .5ex;\n",
       "  width: min-content;\n",
       "  min-width: 20ex;\n",
       "  max-width: 50ex;\n",
       "  color: var(--sklearn-color-text);\n",
       "  box-shadow: 2pt 2pt 4pt #999;\n",
       "  /* unfitted */\n",
       "  background: var(--sklearn-color-unfitted-level-0);\n",
       "  border: .5pt solid var(--sklearn-color-unfitted-level-3);\n",
       "}\n",
       "\n",
       ".sk-estimator-doc-link.fitted span {\n",
       "  /* fitted */\n",
       "  background: var(--sklearn-color-fitted-level-0);\n",
       "  border: var(--sklearn-color-fitted-level-3);\n",
       "}\n",
       "\n",
       ".sk-estimator-doc-link:hover span {\n",
       "  display: block;\n",
       "}\n",
       "\n",
       "/* \"?\"-specific style due to the `<a>` HTML tag */\n",
       "\n",
       "#sk-container-id-1 a.estimator_doc_link {\n",
       "  float: right;\n",
       "  font-size: 1rem;\n",
       "  line-height: 1em;\n",
       "  font-family: monospace;\n",
       "  background-color: var(--sklearn-color-background);\n",
       "  border-radius: 1rem;\n",
       "  height: 1rem;\n",
       "  width: 1rem;\n",
       "  text-decoration: none;\n",
       "  /* unfitted */\n",
       "  color: var(--sklearn-color-unfitted-level-1);\n",
       "  border: var(--sklearn-color-unfitted-level-1) 1pt solid;\n",
       "}\n",
       "\n",
       "#sk-container-id-1 a.estimator_doc_link.fitted {\n",
       "  /* fitted */\n",
       "  border: var(--sklearn-color-fitted-level-1) 1pt solid;\n",
       "  color: var(--sklearn-color-fitted-level-1);\n",
       "}\n",
       "\n",
       "/* On hover */\n",
       "#sk-container-id-1 a.estimator_doc_link:hover {\n",
       "  /* unfitted */\n",
       "  background-color: var(--sklearn-color-unfitted-level-3);\n",
       "  color: var(--sklearn-color-background);\n",
       "  text-decoration: none;\n",
       "}\n",
       "\n",
       "#sk-container-id-1 a.estimator_doc_link.fitted:hover {\n",
       "  /* fitted */\n",
       "  background-color: var(--sklearn-color-fitted-level-3);\n",
       "}\n",
       "</style><div id=\"sk-container-id-1\" class=\"sk-top-container\"><div class=\"sk-text-repr-fallback\"><pre>LinearRegression()</pre><b>In a Jupyter environment, please rerun this cell to show the HTML representation or trust the notebook. <br />On GitHub, the HTML representation is unable to render, please try loading this page with nbviewer.org.</b></div><div class=\"sk-container\" hidden><div class=\"sk-item\"><div class=\"sk-estimator fitted sk-toggleable\"><input class=\"sk-toggleable__control sk-hidden--visually\" id=\"sk-estimator-id-1\" type=\"checkbox\" checked><label for=\"sk-estimator-id-1\" class=\"sk-toggleable__label fitted sk-toggleable__label-arrow\"><div><div>LinearRegression</div></div><div><a class=\"sk-estimator-doc-link fitted\" rel=\"noreferrer\" target=\"_blank\" href=\"https://scikit-learn.org/1.6/modules/generated/sklearn.linear_model.LinearRegression.html\">?<span>Documentation for LinearRegression</span></a><span class=\"sk-estimator-doc-link fitted\">i<span>Fitted</span></span></div></label><div class=\"sk-toggleable__content fitted\"><pre>LinearRegression()</pre></div> </div></div></div></div>"
      ],
      "text/plain": [
       "LinearRegression()"
      ]
     },
     "execution_count": 38,
     "metadata": {},
     "output_type": "execute_result"
    }
   ],
   "source": [
    "reg = LinearRegression()\n",
    "reg.fit(X_train, y_train)"
   ]
  },
  {
   "cell_type": "code",
   "execution_count": 39,
   "metadata": {},
   "outputs": [
    {
     "data": {
      "text/plain": [
       "array([[28.18150001],\n",
       "       [10.03852641],\n",
       "       [11.17246226],\n",
       "       [21.37788491],\n",
       "       [ 5.50278301],\n",
       "       [ 0.96703961],\n",
       "       [12.30639811],\n",
       "       [ 6.63671886],\n",
       "       [11.17246226],\n",
       "       [16.84214151],\n",
       "       [ 3.23491131]])"
      ]
     },
     "execution_count": 39,
     "metadata": {},
     "output_type": "execute_result"
    }
   ],
   "source": [
    "reg.predict(X_test)"
   ]
  },
  {
   "cell_type": "code",
   "execution_count": 40,
   "metadata": {},
   "outputs": [
    {
     "data": {
      "text/plain": [
       "array([[30],\n",
       "       [10],\n",
       "       [13],\n",
       "       [22],\n",
       "       [11],\n",
       "       [ 4],\n",
       "       [14],\n",
       "       [ 9],\n",
       "       [12],\n",
       "       [18],\n",
       "       [ 6]])"
      ]
     },
     "execution_count": 40,
     "metadata": {},
     "output_type": "execute_result"
    }
   ],
   "source": [
    "y_test"
   ]
  },
  {
   "cell_type": "code",
   "execution_count": 41,
   "metadata": {},
   "outputs": [
    {
     "data": {
      "text/plain": [
       "0.8831645370544983"
      ]
     },
     "execution_count": 41,
     "metadata": {},
     "output_type": "execute_result"
    }
   ],
   "source": [
    "reg.score(X_test, y_test)"
   ]
  },
  {
   "cell_type": "code",
   "execution_count": 42,
   "metadata": {},
   "outputs": [
    {
     "data": {
      "image/png": "[encoded data removed]",
      "text/plain": [
       "<Figure size 640x480 with 1 Axes>"
      ]
     },
     "metadata": {},
     "output_type": "display_data"
    }
   ],
   "source": [
    "y_pred = reg.predict(X_test)\n",
    "plt.scatter(X_test, y_test, color ='b')\n",
    "plt.plot(X_test, y_pred, color ='r')\n",
    "plt.show()"
   ]
  }
 ],
 "metadata": {
  "kernelspec": {
   "display_name": "Python 3",
   "language": "python",
   "name": "python3"
  },
  "language_info": {
   "codemirror_mode": {
    "name": "ipython",
    "version": 3
   },
   "file_extension": ".py",
   "mimetype": "text/x-python",
   "name": "python",
   "nbconvert_exporter": "python",
   "pygments_lexer": "ipython3",
   "version": "3.13.1"
  }
 },
 "nbformat": 4,
 "nbformat_minor": 2
}
