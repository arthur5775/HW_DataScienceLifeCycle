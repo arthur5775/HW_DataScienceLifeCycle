{
 "cells": [
  {
   "cell_type": "markdown",
   "metadata": {},
   "source": [
    "# Lab 2: Laboratory Notes - Week 2: Data Sources"
   ]
  },
  {
   "cell_type": "markdown",
   "metadata": {},
   "source": [
    "Start here if you are already familiar with Python (if not, please do last week's homework)."
   ]
  },
  {
   "cell_type": "markdown",
   "metadata": {},
   "source": [
    "## Python Libraries and Useful Data Science Libraries"
   ]
  },
  {
   "cell_type": "markdown",
   "metadata": {},
   "source": [
    "There are some built-in functions that we have seen, such as <span style=\"color:red\">type()</span>.  We usually have the parenthesis (brackets) to indicate that it is a function that we are referring to, as opposed to possibly a variable name or an attribute.  In most programming languages, we have many functions that have been developed, but as a programmer, we do not need all of them.  Hence, these useful functions are packaged together for specific domains, and they are grouped together as libraries. A library is therefore a collection of prewritten code that programmers can use for specific tasks in their software application domain.  This makes them reusable where needed."
   ]
  },
  {
   "cell_type": "markdown",
   "metadata": {},
   "source": [
    "### Python Libraries for Data Science"
   ]
  },
  {
   "cell_type": "markdown",
   "metadata": {},
   "source": [
    "Specific libraries that are considered as the “starter pack” for Data Science:\n",
    "\n",
    "* **Numpy**: Firstly, it is pronounced \"numb-pie\" and not \"num-pee\".  It is used for scientific computing, with support for multi-dimensional arrays (you will hopefully have seen arrays in your earlier courses!)  \n",
    "* **Pandas**: The cute black and white Asian bear!  It is actually the shortening of \"Panel Data\".  It contains the data structures as well as operations for manipulating numerical tables.  Do note that you can have non-numerical data in the tables, much like an MS-Excel sheet.  \n",
    "* **Matplotlib**: Library for visualisation.  It is ported from Matlab (a programming and numerical computing platform used for analysing data, developing algorithms, and creating models) and hence has the similar scientific look for the output.  Another package that is popularly used is the Python <span style=\"color:red\">seaborn</span> package, which is also based on Matlab.  These are suitable for scientific output, but in general, for commercial data sciecne projects, the data is visualised using other software tools such as MS-PowerBI, Tableau, SAS Visualiser, and QLik.  \n",
    "* **Scikit-learn**: A Python machine learning library that provides the tools for data mining and data analysis.\n",
    "For some, you may also want to look at\n",
    "\n",
    "* **NLTK**: Natural Language ToolKit to work with human language data"
   ]
  },
  {
   "cell_type": "markdown",
   "metadata": {},
   "source": [
    "#### Using the Library"
   ]
  },
  {
   "cell_type": "markdown",
   "metadata": {},
   "source": [
    "In order to use the functions (and objects) available in the libraries, we will need to include (or import) them.  In Python, you will see the following ways to import them.  \n",
    "<span style=\"color:red\">import numpy</span>  \n",
    "If you import like above, you will need to specify the library and function, e.g., <span style=\"color:red\">numpy.sin(3.1415926535/2)</span>.  You can also use the <span style=\"color:red\">numpy</span> object representation for pi, e.g., <span style=\"color:red\">numpy.sin(numpy.pi/2)</span>.  Typing numpy each time may be cumbersome so we can import it and use a different shortened reference.  \n",
    "<span style=\"color:red\">import numpy as np  \n",
    "import pandas as pd</span>  \n",
    "With this, we can just use <span style=\"color:red\">np.sin(np.pi/2)</span>.  Some libraries are very large and we may not want to import the whole library.  Libraries such as <span style=\"color:red\">numpy</span> take up about 50+ megabytes.  Taking <span style=\"color:red\">matplotlib</span> as an example, we usually do not need the whole library but just the plotting functions for our course.  Hence, we can write  \n",
    "<span style=\"color:red\">from matplotlib import pyplot as plt</span>  \n",
    "or  \n",
    "<span style=\"color:red\">import matplotlib.pyplot as plt</span>"
   ]
  },
  {
   "cell_type": "markdown",
   "metadata": {},
   "source": [
    "## Starting Data Science Projects"
   ]
  },
  {
   "cell_type": "markdown",
   "metadata": {},
   "source": [
    "### Introduction"
   ]
  },
  {
   "cell_type": "markdown",
   "metadata": {},
   "source": [
    "We will start with an introduction to the pandas DataFrame.  The pandas DataFrame is a structure of a tabular format (2-dimensional data) similar to MS-Excel. They are widely used in data science projects.  Let's first create our own DataFrame, and call it \"<span style=\"color:red\">df</span>\".\n",
    "\n",
    "<span style=\"color:red\">df = pd.DataFrame({</span>  \n",
    "<p style=\"margin-left: 40px;\"><span style=\"color:red\">'StudentID' : [68822,68823,68844,68845,68846],</span></p>  \n",
    "<p style=\"margin-left: 40px;\"><span style=\"color:red\">'FirstName' : ['Steven','Alex','Bill','Mark','Bob'],</span></p>  \n",
    "<p style=\"margin-left: 40px;\"><span style=\"color:red\">'EnrolYear' : [2010,2010,2011,2011,2013],</span></p>  \n",
    "<p style=\"margin-left: 40px;\"><span style=\"color:red\">'Math'      : [100,90,90,40,60]</span></p>  \n",
    "<span style=\"color:red\">})</span>  \n",
    "\n",
    "Do note that the structure of it is defined by the <span style=\"color:red\">{ }</span>, and inside the <span style=\"color:red\">{ }</span>, we can specify many key-value pairs of <span style=\"color:red\">'string':[item list]</span> where the items can be numeric or objects (in this case strings) and these key-value pairs are separated by a comma '<span style=\"color:red\">,</span>'. Note that the last key-value pair does not need a comma at the end.  You can view the DataFrame by typing:  \n",
    "<span style=\"color:red\">df</span>  \n",
    "Let's read from another source of data.  On our canvas page, there should be a file called <span style=\"color:red\">filename.csv</span>.  CSV stands for comma-separated-values, where each field is separated by a comma.  You can open this file using a plain text editor and viewing it will be self-explanatory.  This is a format that most spreadsheets (such as MS-Excel or Google Sheets) can read or write to."
   ]
  },
  {
   "cell_type": "markdown",
   "metadata": {},
   "source": [
    "### Reading from a CSV file"
   ]
  },
  {
   "cell_type": "markdown",
   "metadata": {},
   "source": [
    "We will use the <span style=\"color:red\">pandas</span> library to read it.  <span style=\"color:red\">pandas</span> can also read other formats (more on this later).  It will read it into a data structure called the <span style=\"color:red\">DataFrame</span> which is not dissimilar to a spreadsheet table.  \n",
    "<span style=\"color:red\">import pandas as pd  \n",
    "\"\"\" You need to download the file filename.csv to your Jupyter Notebook start folder.\"\"\"  \n",
    "data = pd.read_csv(\"filename.csv\")</span>  \n",
    "The first thing to do, in all Data Science work is to inspect it.  The <span style=\"color:red\">DataFrame</span> data structure, which in this case has been stored into a variable named <span style=\"color:red\">data</span>, has a few built-in functions that can help us.  We access these functions that are built into the data structure with the dot (.) reference, e.g.,  \n",
    "<span style=\"color:red\">data.head()</span>  \n",
    "This will display by default the first 5 rows.  We will go into exploratory data analysis next week."
   ]
  },
  {
   "cell_type": "markdown",
   "metadata": {},
   "source": [
    "### Reading from a Uniform Resource Locator (URL)"
   ]
  },
  {
   "cell_type": "markdown",
   "metadata": {},
   "source": [
    "<span style=\"color:red\">pandas</span>   also allows you to read directly from URLs.  Common examples would be to read a CSV file from a URL location.  Let's get the titanic dataset from a [github repository](https://github.com/datasciencedojo/datasets/blob/master/titanic.csv).  Do note that if you try to read it directly, there will be a formatting error, hence when reading from a repository like github or Kaggle ([www.kaggle.com](www.kaggle.com)), do get the \"raw\" format.  On the github page, there is a \"Raw\" button located near the top right of the screen.  Click on that and then copy the URL.\n",
    "\n",
    "![P1](picture/P1.png)\n",
    "\n",
    "Use that URL and read it into a DataFrame.  You can call it \"data\", or \"titanic\".\n",
    "\n",
    "<span style=\"color:red\">url = \"https://raw.githubusercontent.com/datasciencedojo/datasets/master/titanic.csv\"</span>  \n",
    "<span style=\"color:red\">titanic = pd.read_csv(url)  \n",
    "titanic.tail()</span>  \n",
    "\n",
    "The <span style=\"color:red\">tail()</span> function returns the last 5 rows of the dataset.\n",
    "\n",
    "You can also read HTML from URLs.  Let's try to use the BBC listing for the Scottish Premier League football table.\n",
    "\n",
    "<span style=\"color:red\">scot_football = pd.read_html('https://www.bbc.com/sport/football/scottish-premiership/table')</span>  \n",
    "<span style=\"color:red\">scot_football</span>  \n",
    "\n",
    "You will notice that the output is not quite so pretty.  The <span style=\"color:red\">pandas.read_html()</span> relies on the HTML format having some form of tabular layout as it needs it to be read into a DataFrame structure, hence not all HTML can be read.  To make it pretty, we can inform it that we want the first table (in most cases, there will only be one table but if there are more, you can simply access using the appropriate index).\n",
    "\n",
    "<span style=\"color:red\">scot_football = pd.read_html('https://www.bbc.com/sport/football/scottish-premiership/table')[0]</span>  \n",
    "<span style=\"color:red\">scot_football</span>  \n",
    "\n",
    "You will get the data in the DataFrame format which is tabular and easier for us to visualise."
   ]
  },
  {
   "cell_type": "markdown",
   "metadata": {},
   "source": [
    "### Reading from Relational Databases"
   ]
  },
  {
   "cell_type": "markdown",
   "metadata": {},
   "source": [
    "More often than not, a data scientist will be required to extract data from relational databases.  In this semester, many of you will also be taking or have taken the course F28DM Database Management. As a data scientist, SQL will be one of your top 3 tools that you will frequently use.  There are many Python libraries for the various databases, and one of the most popular Python libraries is [SQLAlchemy](https://www.sqlalchemy.org).  Let's import this and set up a connection to the database.  For this, you will need to locate the \"northwind.db\" database which is in the SQLite format.\n",
    "\n",
    "<span style=\"color:red\">import sqlalchemy  \n",
    "conn = sqlalchemy.create_engine('sqlite:///northwind.db') # this may be a but tricky for some to locate the file  \n",
    "data = pd.read_sql_query('SELECT * from Orders;', conn)  \n",
    "data.head()</span>  \n",
    "\n",
    "Your challenge may be in downloading and copying the database to the right location.  Note that it has a triple / which means a relative position and this means it is located in the same folder as your <span style=\"color:red\">.ipynb</span>  file.  Do ask if you are unsure what we have just mentioned."
   ]
  },
  {
   "cell_type": "markdown",
   "metadata": {},
   "source": [
    "### Explore Northwind and data.gov.uk"
   ]
  },
  {
   "cell_type": "markdown",
   "metadata": {},
   "source": [
    "The above are some introductory examples of getting data from a file, from an online location (URL), and from a database (which you will more than likely be using when you work as a Data Analyst/Engineer/Scientist).  Do read up more about them, and try them out.  You can get information about the \"Northwind\" database, which is a fictitious database created by Microsoft for tutorial purposes.  It has since then been used by others. It contains fictitious data of a food import and export company called \"Northwind Traders\".  The data comprises of sales data and is an excellent schema for small-business Enterprise Resource Planning, with customers, orders, inventory, purchasing, suppliers, shipping, and employees tables/data.\n",
    "\n",
    "Another source of data, a global initiative by the World Bank, is the [Open Data Toolkit Initiative](https://opendatatoolkit.worldbank.org/en/data/opendatatoolkit/home). Almost every country in the world has initiated this through a website.  Depending on your campus location, do have a look at:\n",
    "\n",
    "* https://www.data.gov.uk/  \n",
    "* https://data.gov.scot/  \n",
    "* https://opendata.fcsc.gov.ae/search (currently may have some minor error loading)  \n",
    "* https://data.gov.my/  \n",
    "\n",
    "There may be data that is of interest to you, and feel free to plan a project using the data (maybe even equivalent data from all 3). If you are looking for a place to start, you may look at the Scottish Heating Demand:\n",
    "\n",
    "<span style=\"color:red\">scot_heating = pd.read_csv('https://heatmap.data.gov.scot/downloads/Settlements_Heat_Demand.csv')</span>\n",
    "\n",
    "We have now looked at various sources of data. There are more possibilities and another common source is through what we call the Application Programming Interface (API) which we will look at towards the end of this course.  We now have a few DataFrames, and we will continue to work on using the df DataFrame."
   ]
  },
  {
   "cell_type": "markdown",
   "metadata": {},
   "source": [
    "### Handling DataFrames"
   ]
  },
  {
   "cell_type": "markdown",
   "metadata": {},
   "source": [
    "ou can print out the DataFrame to see what it looks like:\n",
    "\n",
    "<span style=\"color:red\">df</span>"
   ]
  },
  {
   "cell_type": "markdown",
   "metadata": {},
   "source": [
    "#### Exercise 2.1: "
   ]
  },
  {
   "cell_type": "markdown",
   "metadata": {},
   "source": [
    "Create another data table called \"df2\" that contains the height of some of the students. It should contain the following data:\n",
    "\n",
    "![P2](picture/P2.png)\n",
    "\n",
    "**Column and Row selection:**  \n",
    "There are a few ways to select columns and rows.  Here we select a column using its name and the bracket syntax:\n",
    "\n",
    "<span style=\"color:red\">df['FirstName']</span>\n",
    "\n",
    "Or using the somewhat simpler dot notation:\n",
    "\n",
    "<span style=\"color:red\">df.FirstName</span>\n",
    "\n",
    "We can also select only elements that fit certain conditions. What does the following command produce?\n",
    "\n",
    "<span style=\"color:red\">df[df['FirstName'] == 'Alex']</span>\n",
    "\n",
    "Why does <span style=\"color:red\">\"df\"</span> appear twice in the command? If you are unsure, try without the outer <span style=\"color:red\">df [ ]</span>, e.g.,  <span style=\"color:red\">df['FirstName'] == 'Bob'</span>."
   ]
  },
  {
   "cell_type": "markdown",
   "metadata": {},
   "source": [
    "#### Exercise 2.2: "
   ]
  },
  {
   "cell_type": "markdown",
   "metadata": {},
   "source": [
    "Show the details of the students who enrolled in the year 2011. We can select rows with ever more complicated conditions, for example:\n",
    "\n",
    "<span style=\"color:red\">\"\"\" select rows where first-name isn't 'Bob' (!= is not equal) and student ID is larger than 68823\"\"\"  \n",
    "filt = (df.FirstName != 'Bob') & (df.StudentID > 68823)  \n",
    "df[filt]</span>  \n",
    "\n",
    "Before you continue to the next section, explore how you can select different columns and rows of the DataFrame that you have created above."
   ]
  },
  {
   "cell_type": "markdown",
   "metadata": {},
   "source": [
    "#### Exercise 2.3: "
   ]
  },
  {
   "cell_type": "markdown",
   "metadata": {},
   "source": [
    "Read the file \"<span style=\"color:red\">tutorial2.csv</span>\" into a DataFrame called <span style=\"color:red\">df3</span> .  The CSV file can be downloaded from the Canvas page.  \n",
    "Hint: <span style=\"color:red\">df3 = pd.read_csv(\"some file name\")</span> \n",
    "\n",
    "Modifying the structure of a table\n",
    "It is possible to modify the structure of DataFrames in Python. For example, we might want to add a new column containing the total of the \"<span style=\"color:red\">Math</span> \" and \"<span style=\"color:red\">English</span> \" marks for the students. To do this we can simply write:\n",
    "\n",
    "<span style=\"color:red\">df['Total'] = df['Math'] + df3['English']</span> \n",
    "\n",
    "The code above will create a new column called “<span style=\"color:red\">Total</span> ” and populate it with the sum from the two columns “<span style=\"color:red\">Math</span> ” and “<span style=\"color:red\">English</span> ”. Print out the table to see the result.\n",
    "\n",
    "<span style=\"color:red\">df</span> \n",
    "\n",
    "Do note that the DataFrame df does not have the column '<span style=\"color:red\">English</span> '.  We can simply create it:\n",
    "\n",
    "<span style=\"color:red\">df['English'] = df3['English']</span> \n",
    "\n",
    "This is actually a risky way as we don't really know if they are from the same student.  We will look at <span style=\"color:red\">merge()</span>  in a short while to ensure that this is the case but meanwhile do keep this in mind."
   ]
  },
  {
   "cell_type": "markdown",
   "metadata": {},
   "source": [
    "#### Exercise 2.4:"
   ]
  },
  {
   "cell_type": "markdown",
   "metadata": {},
   "source": [
    "Add a new column showing the average mark of \"<span style=\"color:red\">Math</span>\" and \"<span style=\"color:red\">English</span>\" for each student. (Average = Total/number of subjects).  Do take note of the resulting data type."
   ]
  },
  {
   "cell_type": "markdown",
   "metadata": {},
   "source": [
    "#### Exercise 2.5:"
   ]
  },
  {
   "cell_type": "markdown",
   "metadata": {},
   "source": [
    "Write a filter to select students who have scored more than 150 in total and who have achieved a subject score (in Maths or English) of more than 90. (Hint: careful with the parenthesis).  This should have only one result.\n",
    "\n",
    "Oftentimes, we need to modify the layout of a table so that the data is in the right format for further processing or visualisation. In our current table we have two columns \"<span style=\"color:red\">Math</span>\" and \"<span style=\"color:red\">English</span>\", both of which contain student marks. We can split the information for each student into different rows using the \"<span style=\"color:red\">melt</span>\" command, as follows:\n",
    "\n",
    "<span style=\"color:red\">\"\"\" turn column names 'Math' and 'English' into values for a new column 'Subject'\"\"\"  \n",
    "df = pd.melt(</span>  \n",
    "<p style=\"margin-left: 40px;\"><span style=\"color:red\">df,</span></p>  \n",
    "<p style=\"margin-left: 40px;\"><span style=\"color:red\">id_vars=['EnrolYear','FirstName','StudentID'],</span></p>  \n",
    "<p style=\"margin-left: 40px;\"><span style=\"color:red\">value_vars=['Math','English'],</span></p>  \n",
    "<p style=\"margin-left: 40px;\"><span style=\"color:red\">var_name='Subject')</span></p>  \n",
    "\n",
    "Print out the new table.\n",
    "\n",
    "<span style=\"color:red\">df</span>\n",
    "\n",
    "![P3](picture/P3.png)\n",
    "\n",
    "What have we done here? We have taken each record (row) from the original table, and turned it into two rows. What does the new column \"<span style=\"color:red\">Subject</span>\" contain?  Do refer to the [pandas documentation on melt](https://pandas.pydata.org/docs/reference/api/pandas.melt.html). for further information about the parameters \"<span style=\"color:red\">id_vars</span>\", \"<span style=\"color:red\">value_vars</span>\" and \"<span style=\"color:red\">var_name</span>\".\n",
    "\n",
    "**Renaming columns**\n",
    "\n",
    "The values that were in the columns Math and English now appear in a different column \"<span style=\"color:red\">value</span>\". We can rename this new column to make the new table more understandable:  \n",
    "<span style=\"color:red\">df.rename(columns = {'value':'Score'}, inplace = True)</span>\n",
    "\n",
    "**Merging DataFrames**\n",
    "\n",
    "Remember that earlier, we simply added a column '<span style=\"color:red\">English</span>' to the <span style=\"color:red\">df</span> DataFrame but the order of the marks may not be the same and also the number of marks may not be of the same length.  Let's suppose that we reset our <span style=\"color:red\">df</span> DataFrame to what it was - note that by this stage, <span style=\"color:red\">df</span> has already been modified many times.\n",
    "\n",
    "<span style=\"color:red\">df = pd.DataFrame({  \n",
    "  'StudentID' : [68822,68823,68844,68845,68846],  \n",
    "  'FirstName' : ['Steven','Alex','Bill','Mark','Bob'],  \n",
    "  'EnrolYear' : [2010,2010,2011,2011,2013],  \n",
    "  'Math'      : [100,90,90,40,60]  \n",
    "})</span>  \n",
    "\n",
    "And we read the CSV file with the English marks from \"tutorial2.csv\" as per Exercise 2.2 (please re-read it into <span style=\"color:red\">df3</span>).  We can then use the pandas function <span style=\"color:red\">merge()</span> to ensure that the right student marks are combined correctly.\n",
    "\n",
    "<span style=\"color:red\">df4 = pd.merge(df, df3, on=['StudentID','FirstName'])</span>\n",
    "\n",
    "What is the difference that you can see after merging to datasets?  For those of you who are doing F28DM, this is similar to the JOIN statement in SQL.  Do explore through the pandas documentation on merge about the \"<span style=\"color:red\">on</span>\" parameter.  In the resulting DataFrame, is there a student missing?\n",
    "\n",
    "In the example provided, there are no students missing as both DataFrames have the same set of students.  You can modify either <span style=\"color:red\">df</span> or the <span style=\"color:red\">tutorial2.csv</span> file to include some new names.  Do the <span style=\"color:red\">merge</span> again and what parameter do you think you need to include all students? \n",
    "\n",
    "This tutorial has left some things for you to ponder upon and it has covered DataFrames, reading from common sources (except APIs which we will cover later), managing DataFrames and integrating different data from different sources.  In a typical real-life situation, the actual data will not have the appropriate column names but that is also taken into consideration in the '<span style=\"color:red\">on</span>' parameter for the <span style=\"color:red\">merge()</span> function.  Have fun, there is lots to explore before we continue to work on the data next week."
   ]
  },
  {
   "cell_type": "markdown",
   "metadata": {},
   "source": [
    "## My code part"
   ]
  },
  {
   "cell_type": "markdown",
   "metadata": {},
   "source": [
    "### Import the library"
   ]
  },
  {
   "cell_type": "markdown",
   "metadata": {},
   "source": [
    "Use the command line \"py -m pip install XX\""
   ]
  },
  {
   "cell_type": "markdown",
   "metadata": {},
   "source": [
    "### Using the Library"
   ]
  },
  {
   "cell_type": "code",
   "execution_count": 24,
   "metadata": {},
   "outputs": [],
   "source": [
    "import numpy as np\n",
    "import matplotlib as mpl\n",
    "import pandas as pd\n",
    "import sklearn as skl"
   ]
  },
  {
   "cell_type": "code",
   "execution_count": 29,
   "metadata": {},
   "outputs": [
    {
     "data": {
      "text/plain": [
       "np.float64(1.0)"
      ]
     },
     "execution_count": 29,
     "metadata": {},
     "output_type": "execute_result"
    }
   ],
   "source": [
    "np.sin(np.pi/2)"
   ]
  },
  {
   "cell_type": "markdown",
   "metadata": {},
   "source": [
    "### Starting Data Science Projects"
   ]
  },
  {
   "cell_type": "code",
   "execution_count": 30,
   "metadata": {},
   "outputs": [],
   "source": [
    "df = pd.DataFrame({\n",
    "  'StudentID' : [68822,68823,68844,68845,68846],\n",
    "  'FirstName' : ['Steven','Alex','Bill','Mark','Bob'],\n",
    "  'EnrolYear' : [2010,2010,2011,2011,2013],\n",
    "  'Math'      : [100,90,90,40,60]\n",
    "})"
   ]
  },
  {
   "cell_type": "markdown",
   "metadata": {},
   "source": [
    "### Reading from a CSV file"
   ]
  },
  {
   "cell_type": "code",
   "execution_count": 4,
   "metadata": {},
   "outputs": [
    {
     "data": {
      "application/vnd.microsoft.datawrangler.viewer.v0+json": {
       "columns": [
        {
         "name": "index",
         "rawType": "int64",
         "type": "integer"
        },
        {
         "name": "Unnamed: 0",
         "rawType": "int64",
         "type": "integer"
        },
        {
         "name": "names",
         "rawType": "object",
         "type": "string"
        },
        {
         "name": "ages",
         "rawType": "int64",
         "type": "integer"
        },
        {
         "name": "heights",
         "rawType": "float64",
         "type": "float"
        }
       ],
       "conversionMethod": "pd.DataFrame",
       "ref": "77e9ce19-34ae-43ea-b7c5-643c7d494f81",
       "rows": [
        [
         "0",
         "1",
         "Bill",
         "76",
         "1.55"
        ],
        [
         "1",
         "2",
         "Ted",
         "82",
         "1.69"
        ],
        [
         "2",
         "3",
         "Henry",
         "104",
         "1.49"
        ],
        [
         "3",
         "4",
         "Joan",
         "78",
         "1.57"
        ],
        [
         "4",
         "5",
         "Ian",
         "23",
         "1.71"
        ]
       ],
       "shape": {
        "columns": 4,
        "rows": 5
       }
      },
      "text/html": [
       "<div>\n",
       "<style scoped>\n",
       "    .dataframe tbody tr th:only-of-type {\n",
       "        vertical-align: middle;\n",
       "    }\n",
       "\n",
       "    .dataframe tbody tr th {\n",
       "        vertical-align: top;\n",
       "    }\n",
       "\n",
       "    .dataframe thead th {\n",
       "        text-align: right;\n",
       "    }\n",
       "</style>\n",
       "<table border=\"1\" class=\"dataframe\">\n",
       "  <thead>\n",
       "    <tr style=\"text-align: right;\">\n",
       "      <th></th>\n",
       "      <th>Unnamed: 0</th>\n",
       "      <th>names</th>\n",
       "      <th>ages</th>\n",
       "      <th>heights</th>\n",
       "    </tr>\n",
       "  </thead>\n",
       "  <tbody>\n",
       "    <tr>\n",
       "      <th>0</th>\n",
       "      <td>1</td>\n",
       "      <td>Bill</td>\n",
       "      <td>76</td>\n",
       "      <td>1.55</td>\n",
       "    </tr>\n",
       "    <tr>\n",
       "      <th>1</th>\n",
       "      <td>2</td>\n",
       "      <td>Ted</td>\n",
       "      <td>82</td>\n",
       "      <td>1.69</td>\n",
       "    </tr>\n",
       "    <tr>\n",
       "      <th>2</th>\n",
       "      <td>3</td>\n",
       "      <td>Henry</td>\n",
       "      <td>104</td>\n",
       "      <td>1.49</td>\n",
       "    </tr>\n",
       "    <tr>\n",
       "      <th>3</th>\n",
       "      <td>4</td>\n",
       "      <td>Joan</td>\n",
       "      <td>78</td>\n",
       "      <td>1.57</td>\n",
       "    </tr>\n",
       "    <tr>\n",
       "      <th>4</th>\n",
       "      <td>5</td>\n",
       "      <td>Ian</td>\n",
       "      <td>23</td>\n",
       "      <td>1.71</td>\n",
       "    </tr>\n",
       "  </tbody>\n",
       "</table>\n",
       "</div>"
      ],
      "text/plain": [
       "   Unnamed: 0  names  ages  heights\n",
       "0           1   Bill    76     1.55\n",
       "1           2    Ted    82     1.69\n",
       "2           3  Henry   104     1.49\n",
       "3           4   Joan    78     1.57\n",
       "4           5    Ian    23     1.71"
      ]
     },
     "execution_count": 4,
     "metadata": {},
     "output_type": "execute_result"
    }
   ],
   "source": [
    "# You need to download the file filename.csv to your Jupyter Notebook start folder.\n",
    "data = pd.read_csv(\"data/filename.csv\")\n",
    "data.head()"
   ]
  },
  {
   "cell_type": "markdown",
   "metadata": {},
   "source": [
    "### Reading from a Uniform Resource Locator (URL)"
   ]
  },
  {
   "cell_type": "code",
   "execution_count": 5,
   "metadata": {},
   "outputs": [
    {
     "data": {
      "application/vnd.microsoft.datawrangler.viewer.v0+json": {
       "columns": [
        {
         "name": "index",
         "rawType": "int64",
         "type": "integer"
        },
        {
         "name": "PassengerId",
         "rawType": "int64",
         "type": "integer"
        },
        {
         "name": "Survived",
         "rawType": "int64",
         "type": "integer"
        },
        {
         "name": "Pclass",
         "rawType": "int64",
         "type": "integer"
        },
        {
         "name": "Name",
         "rawType": "object",
         "type": "string"
        },
        {
         "name": "Sex",
         "rawType": "object",
         "type": "string"
        },
        {
         "name": "Age",
         "rawType": "float64",
         "type": "float"
        },
        {
         "name": "SibSp",
         "rawType": "int64",
         "type": "integer"
        },
        {
         "name": "Parch",
         "rawType": "int64",
         "type": "integer"
        },
        {
         "name": "Ticket",
         "rawType": "object",
         "type": "string"
        },
        {
         "name": "Fare",
         "rawType": "float64",
         "type": "float"
        },
        {
         "name": "Cabin",
         "rawType": "object",
         "type": "unknown"
        },
        {
         "name": "Embarked",
         "rawType": "object",
         "type": "string"
        }
       ],
       "conversionMethod": "pd.DataFrame",
       "ref": "470334d6-c7a9-4fa5-86e3-d23df7595fed",
       "rows": [
        [
         "886",
         "887",
         "0",
         "2",
         "Montvila, Rev. Juozas",
         "male",
         "27.0",
         "0",
         "0",
         "211536",
         "13.0",
         null,
         "S"
        ],
        [
         "887",
         "888",
         "1",
         "1",
         "Graham, Miss. Margaret Edith",
         "female",
         "19.0",
         "0",
         "0",
         "112053",
         "30.0",
         "B42",
         "S"
        ],
        [
         "888",
         "889",
         "0",
         "3",
         "Johnston, Miss. Catherine Helen \"Carrie\"",
         "female",
         null,
         "1",
         "2",
         "W./C. 6607",
         "23.45",
         null,
         "S"
        ],
        [
         "889",
         "890",
         "1",
         "1",
         "Behr, Mr. Karl Howell",
         "male",
         "26.0",
         "0",
         "0",
         "111369",
         "30.0",
         "C148",
         "C"
        ],
        [
         "890",
         "891",
         "0",
         "3",
         "Dooley, Mr. Patrick",
         "male",
         "32.0",
         "0",
         "0",
         "370376",
         "7.75",
         null,
         "Q"
        ]
       ],
       "shape": {
        "columns": 12,
        "rows": 5
       }
      },
      "text/html": [
       "<div>\n",
       "<style scoped>\n",
       "    .dataframe tbody tr th:only-of-type {\n",
       "        vertical-align: middle;\n",
       "    }\n",
       "\n",
       "    .dataframe tbody tr th {\n",
       "        vertical-align: top;\n",
       "    }\n",
       "\n",
       "    .dataframe thead th {\n",
       "        text-align: right;\n",
       "    }\n",
       "</style>\n",
       "<table border=\"1\" class=\"dataframe\">\n",
       "  <thead>\n",
       "    <tr style=\"text-align: right;\">\n",
       "      <th></th>\n",
       "      <th>PassengerId</th>\n",
       "      <th>Survived</th>\n",
       "      <th>Pclass</th>\n",
       "      <th>Name</th>\n",
       "      <th>Sex</th>\n",
       "      <th>Age</th>\n",
       "      <th>SibSp</th>\n",
       "      <th>Parch</th>\n",
       "      <th>Ticket</th>\n",
       "      <th>Fare</th>\n",
       "      <th>Cabin</th>\n",
       "      <th>Embarked</th>\n",
       "    </tr>\n",
       "  </thead>\n",
       "  <tbody>\n",
       "    <tr>\n",
       "      <th>886</th>\n",
       "      <td>887</td>\n",
       "      <td>0</td>\n",
       "      <td>2</td>\n",
       "      <td>Montvila, Rev. Juozas</td>\n",
       "      <td>male</td>\n",
       "      <td>27.0</td>\n",
       "      <td>0</td>\n",
       "      <td>0</td>\n",
       "      <td>211536</td>\n",
       "      <td>13.00</td>\n",
       "      <td>NaN</td>\n",
       "      <td>S</td>\n",
       "    </tr>\n",
       "    <tr>\n",
       "      <th>887</th>\n",
       "      <td>888</td>\n",
       "      <td>1</td>\n",
       "      <td>1</td>\n",
       "      <td>Graham, Miss. Margaret Edith</td>\n",
       "      <td>female</td>\n",
       "      <td>19.0</td>\n",
       "      <td>0</td>\n",
       "      <td>0</td>\n",
       "      <td>112053</td>\n",
       "      <td>30.00</td>\n",
       "      <td>B42</td>\n",
       "      <td>S</td>\n",
       "    </tr>\n",
       "    <tr>\n",
       "      <th>888</th>\n",
       "      <td>889</td>\n",
       "      <td>0</td>\n",
       "      <td>3</td>\n",
       "      <td>Johnston, Miss. Catherine Helen \"Carrie\"</td>\n",
       "      <td>female</td>\n",
       "      <td>NaN</td>\n",
       "      <td>1</td>\n",
       "      <td>2</td>\n",
       "      <td>W./C. 6607</td>\n",
       "      <td>23.45</td>\n",
       "      <td>NaN</td>\n",
       "      <td>S</td>\n",
       "    </tr>\n",
       "    <tr>\n",
       "      <th>889</th>\n",
       "      <td>890</td>\n",
       "      <td>1</td>\n",
       "      <td>1</td>\n",
       "      <td>Behr, Mr. Karl Howell</td>\n",
       "      <td>male</td>\n",
       "      <td>26.0</td>\n",
       "      <td>0</td>\n",
       "      <td>0</td>\n",
       "      <td>111369</td>\n",
       "      <td>30.00</td>\n",
       "      <td>C148</td>\n",
       "      <td>C</td>\n",
       "    </tr>\n",
       "    <tr>\n",
       "      <th>890</th>\n",
       "      <td>891</td>\n",
       "      <td>0</td>\n",
       "      <td>3</td>\n",
       "      <td>Dooley, Mr. Patrick</td>\n",
       "      <td>male</td>\n",
       "      <td>32.0</td>\n",
       "      <td>0</td>\n",
       "      <td>0</td>\n",
       "      <td>370376</td>\n",
       "      <td>7.75</td>\n",
       "      <td>NaN</td>\n",
       "      <td>Q</td>\n",
       "    </tr>\n",
       "  </tbody>\n",
       "</table>\n",
       "</div>"
      ],
      "text/plain": [
       "     PassengerId  Survived  Pclass                                      Name  \\\n",
       "886          887         0       2                     Montvila, Rev. Juozas   \n",
       "887          888         1       1              Graham, Miss. Margaret Edith   \n",
       "888          889         0       3  Johnston, Miss. Catherine Helen \"Carrie\"   \n",
       "889          890         1       1                     Behr, Mr. Karl Howell   \n",
       "890          891         0       3                       Dooley, Mr. Patrick   \n",
       "\n",
       "        Sex   Age  SibSp  Parch      Ticket   Fare Cabin Embarked  \n",
       "886    male  27.0      0      0      211536  13.00   NaN        S  \n",
       "887  female  19.0      0      0      112053  30.00   B42        S  \n",
       "888  female   NaN      1      2  W./C. 6607  23.45   NaN        S  \n",
       "889    male  26.0      0      0      111369  30.00  C148        C  \n",
       "890    male  32.0      0      0      370376   7.75   NaN        Q  "
      ]
     },
     "execution_count": 5,
     "metadata": {},
     "output_type": "execute_result"
    }
   ],
   "source": [
    "url = \"https://raw.githubusercontent.com/datasciencedojo/datasets/master/titanic.csv\"\n",
    "titanic = pd.read_csv(url)\n",
    "titanic.tail()"
   ]
  },
  {
   "cell_type": "code",
   "execution_count": 6,
   "metadata": {},
   "outputs": [
    {
     "data": {
      "text/plain": [
       "[    Position           Team  Played  Won  Drawn  Lost  Goals For  \\\n",
       " 0          1         Celtic      29   24      3     2         87   \n",
       " 1          2        Rangers      29   18      5     6         59   \n",
       " 2          3      Hibernian      29   11     10     8         44   \n",
       " 3          4       Aberdeen      29   12      6    11         38   \n",
       " 4          5  Dundee United      29   11      8    10         36   \n",
       " 5          6     Motherwell      29   11      4    14         34   \n",
       " 6          7         Hearts      29   10      6    13         41   \n",
       " 7          8    Ross County      29    9      8    12         31   \n",
       " 8          9     St. Mirren      29   10      4    15         35   \n",
       " 9         10     Kilmarnock      29    8      7    14         33   \n",
       " 10        11         Dundee      29    7      7    15         41   \n",
       " 11        12  St. Johnstone      29    7      4    18         32   \n",
       " \n",
       "     Goals Against  Goal Difference  Points  \\\n",
       " 0              17               70      75   \n",
       " 1              26               33      59   \n",
       " 2              40                4      43   \n",
       " 3              46               -8      42   \n",
       " 4              36                0      41   \n",
       " 5              48              -14      37   \n",
       " 6              40                1      36   \n",
       " 7              49              -18      35   \n",
       " 8              47              -12      34   \n",
       " 9              47              -14      31   \n",
       " 10             61              -20      28   \n",
       " 11             54              -22      25   \n",
       " \n",
       "                      Form, Last 6 games, Oldest first  \n",
       " 0   WResult WinWResult WinWResult WinLResult LossW...  \n",
       " 1   WResult WinWResult WinWResult WinLResult LossW...  \n",
       " 2   DResult DrawWResult WinDResult DrawWResult Win...  \n",
       " 3   LResult LossLResult LossWResult WinWResult Win...  \n",
       " 4   LResult LossLResult LossLResult LossWResult Wi...  \n",
       " 5   LResult LossLResult LossLResult LossLResult Lo...  \n",
       " 6   WResult WinWResult WinLResult LossWResult WinW...  \n",
       " 7   DResult DrawLResult LossWResult WinWResult Win...  \n",
       " 8   WResult WinLResult LossDResult DrawWResult Win...  \n",
       " 9   LResult LossWResult WinWResult WinLResult Loss...  \n",
       " 10  LResult LossLResult LossLResult LossLResult Lo...  \n",
       " 11  WResult WinWResult WinLResult LossLResult Loss...  ]"
      ]
     },
     "execution_count": 6,
     "metadata": {},
     "output_type": "execute_result"
    }
   ],
   "source": [
    "scot_football = pd.read_html('https://www.bbc.com/sport/football/scottish-premiership/table')\n",
    "scot_football"
   ]
  },
  {
   "cell_type": "code",
   "execution_count": 7,
   "metadata": {},
   "outputs": [
    {
     "data": {
      "application/vnd.microsoft.datawrangler.viewer.v0+json": {
       "columns": [
        {
         "name": "index",
         "rawType": "int64",
         "type": "integer"
        },
        {
         "name": "Position",
         "rawType": "int64",
         "type": "integer"
        },
        {
         "name": "Team",
         "rawType": "object",
         "type": "string"
        },
        {
         "name": "Played",
         "rawType": "int64",
         "type": "integer"
        },
        {
         "name": "Won",
         "rawType": "int64",
         "type": "integer"
        },
        {
         "name": "Drawn",
         "rawType": "int64",
         "type": "integer"
        },
        {
         "name": "Lost",
         "rawType": "int64",
         "type": "integer"
        },
        {
         "name": "Goals For",
         "rawType": "int64",
         "type": "integer"
        },
        {
         "name": "Goals Against",
         "rawType": "int64",
         "type": "integer"
        },
        {
         "name": "Goal Difference",
         "rawType": "int64",
         "type": "integer"
        },
        {
         "name": "Points",
         "rawType": "int64",
         "type": "integer"
        },
        {
         "name": "Form, Last 6 games, Oldest first",
         "rawType": "object",
         "type": "string"
        }
       ],
       "conversionMethod": "pd.DataFrame",
       "ref": "051d6f1b-09da-4f90-bfa8-bb1c44cfe404",
       "rows": [
        [
         "0",
         "1",
         "Celtic",
         "29",
         "24",
         "3",
         "2",
         "87",
         "17",
         "70",
         "75",
         "WResult WinWResult WinWResult WinLResult LossWResult WinWResult Win"
        ],
        [
         "1",
         "2",
         "Rangers",
         "29",
         "18",
         "5",
         "6",
         "59",
         "26",
         "33",
         "59",
         "WResult WinWResult WinWResult WinLResult LossWResult WinLResult Loss"
        ],
        [
         "2",
         "3",
         "Hibernian",
         "29",
         "11",
         "10",
         "8",
         "44",
         "40",
         "4",
         "43",
         "DResult DrawWResult WinDResult DrawWResult WinWResult WinWResult Win"
        ],
        [
         "3",
         "4",
         "Aberdeen",
         "29",
         "12",
         "6",
         "11",
         "38",
         "46",
         "-8",
         "42",
         "LResult LossLResult LossWResult WinWResult WinLResult LossDResult Draw"
        ],
        [
         "4",
         "5",
         "Dundee United",
         "29",
         "11",
         "8",
         "10",
         "36",
         "36",
         "0",
         "41",
         "LResult LossLResult LossLResult LossWResult WinLResult LossDResult Draw"
        ],
        [
         "5",
         "6",
         "Motherwell",
         "29",
         "11",
         "4",
         "14",
         "34",
         "48",
         "-14",
         "37",
         "LResult LossLResult LossLResult LossLResult LossWResult WinWResult Win"
        ],
        [
         "6",
         "7",
         "Hearts",
         "29",
         "10",
         "6",
         "13",
         "41",
         "40",
         "1",
         "36",
         "WResult WinWResult WinLResult LossWResult WinWResult WinLResult Loss"
        ],
        [
         "7",
         "8",
         "Ross County",
         "29",
         "9",
         "8",
         "12",
         "31",
         "49",
         "-18",
         "35",
         "DResult DrawLResult LossWResult WinWResult WinLResult LossWResult Win"
        ],
        [
         "8",
         "9",
         "St. Mirren",
         "29",
         "10",
         "4",
         "15",
         "35",
         "47",
         "-12",
         "34",
         "WResult WinLResult LossDResult DrawWResult WinLResult LossLResult Loss"
        ],
        [
         "9",
         "10",
         "Kilmarnock",
         "29",
         "8",
         "7",
         "14",
         "33",
         "47",
         "-14",
         "31",
         "LResult LossWResult WinWResult WinLResult LossLResult LossLResult Loss"
        ],
        [
         "10",
         "11",
         "Dundee",
         "29",
         "7",
         "7",
         "15",
         "41",
         "61",
         "-20",
         "28",
         "LResult LossLResult LossLResult LossLResult LossLResult LossDResult Draw"
        ],
        [
         "11",
         "12",
         "St. Johnstone",
         "29",
         "7",
         "4",
         "18",
         "32",
         "54",
         "-22",
         "25",
         "WResult WinWResult WinLResult LossLResult LossWResult WinDResult Draw"
        ]
       ],
       "shape": {
        "columns": 11,
        "rows": 12
       }
      },
      "text/html": [
       "<div>\n",
       "<style scoped>\n",
       "    .dataframe tbody tr th:only-of-type {\n",
       "        vertical-align: middle;\n",
       "    }\n",
       "\n",
       "    .dataframe tbody tr th {\n",
       "        vertical-align: top;\n",
       "    }\n",
       "\n",
       "    .dataframe thead th {\n",
       "        text-align: right;\n",
       "    }\n",
       "</style>\n",
       "<table border=\"1\" class=\"dataframe\">\n",
       "  <thead>\n",
       "    <tr style=\"text-align: right;\">\n",
       "      <th></th>\n",
       "      <th>Position</th>\n",
       "      <th>Team</th>\n",
       "      <th>Played</th>\n",
       "      <th>Won</th>\n",
       "      <th>Drawn</th>\n",
       "      <th>Lost</th>\n",
       "      <th>Goals For</th>\n",
       "      <th>Goals Against</th>\n",
       "      <th>Goal Difference</th>\n",
       "      <th>Points</th>\n",
       "      <th>Form, Last 6 games, Oldest first</th>\n",
       "    </tr>\n",
       "  </thead>\n",
       "  <tbody>\n",
       "    <tr>\n",
       "      <th>0</th>\n",
       "      <td>1</td>\n",
       "      <td>Celtic</td>\n",
       "      <td>29</td>\n",
       "      <td>24</td>\n",
       "      <td>3</td>\n",
       "      <td>2</td>\n",
       "      <td>87</td>\n",
       "      <td>17</td>\n",
       "      <td>70</td>\n",
       "      <td>75</td>\n",
       "      <td>WResult WinWResult WinWResult WinLResult LossW...</td>\n",
       "    </tr>\n",
       "    <tr>\n",
       "      <th>1</th>\n",
       "      <td>2</td>\n",
       "      <td>Rangers</td>\n",
       "      <td>29</td>\n",
       "      <td>18</td>\n",
       "      <td>5</td>\n",
       "      <td>6</td>\n",
       "      <td>59</td>\n",
       "      <td>26</td>\n",
       "      <td>33</td>\n",
       "      <td>59</td>\n",
       "      <td>WResult WinWResult WinWResult WinLResult LossW...</td>\n",
       "    </tr>\n",
       "    <tr>\n",
       "      <th>2</th>\n",
       "      <td>3</td>\n",
       "      <td>Hibernian</td>\n",
       "      <td>29</td>\n",
       "      <td>11</td>\n",
       "      <td>10</td>\n",
       "      <td>8</td>\n",
       "      <td>44</td>\n",
       "      <td>40</td>\n",
       "      <td>4</td>\n",
       "      <td>43</td>\n",
       "      <td>DResult DrawWResult WinDResult DrawWResult Win...</td>\n",
       "    </tr>\n",
       "    <tr>\n",
       "      <th>3</th>\n",
       "      <td>4</td>\n",
       "      <td>Aberdeen</td>\n",
       "      <td>29</td>\n",
       "      <td>12</td>\n",
       "      <td>6</td>\n",
       "      <td>11</td>\n",
       "      <td>38</td>\n",
       "      <td>46</td>\n",
       "      <td>-8</td>\n",
       "      <td>42</td>\n",
       "      <td>LResult LossLResult LossWResult WinWResult Win...</td>\n",
       "    </tr>\n",
       "    <tr>\n",
       "      <th>4</th>\n",
       "      <td>5</td>\n",
       "      <td>Dundee United</td>\n",
       "      <td>29</td>\n",
       "      <td>11</td>\n",
       "      <td>8</td>\n",
       "      <td>10</td>\n",
       "      <td>36</td>\n",
       "      <td>36</td>\n",
       "      <td>0</td>\n",
       "      <td>41</td>\n",
       "      <td>LResult LossLResult LossLResult LossWResult Wi...</td>\n",
       "    </tr>\n",
       "    <tr>\n",
       "      <th>5</th>\n",
       "      <td>6</td>\n",
       "      <td>Motherwell</td>\n",
       "      <td>29</td>\n",
       "      <td>11</td>\n",
       "      <td>4</td>\n",
       "      <td>14</td>\n",
       "      <td>34</td>\n",
       "      <td>48</td>\n",
       "      <td>-14</td>\n",
       "      <td>37</td>\n",
       "      <td>LResult LossLResult LossLResult LossLResult Lo...</td>\n",
       "    </tr>\n",
       "    <tr>\n",
       "      <th>6</th>\n",
       "      <td>7</td>\n",
       "      <td>Hearts</td>\n",
       "      <td>29</td>\n",
       "      <td>10</td>\n",
       "      <td>6</td>\n",
       "      <td>13</td>\n",
       "      <td>41</td>\n",
       "      <td>40</td>\n",
       "      <td>1</td>\n",
       "      <td>36</td>\n",
       "      <td>WResult WinWResult WinLResult LossWResult WinW...</td>\n",
       "    </tr>\n",
       "    <tr>\n",
       "      <th>7</th>\n",
       "      <td>8</td>\n",
       "      <td>Ross County</td>\n",
       "      <td>29</td>\n",
       "      <td>9</td>\n",
       "      <td>8</td>\n",
       "      <td>12</td>\n",
       "      <td>31</td>\n",
       "      <td>49</td>\n",
       "      <td>-18</td>\n",
       "      <td>35</td>\n",
       "      <td>DResult DrawLResult LossWResult WinWResult Win...</td>\n",
       "    </tr>\n",
       "    <tr>\n",
       "      <th>8</th>\n",
       "      <td>9</td>\n",
       "      <td>St. Mirren</td>\n",
       "      <td>29</td>\n",
       "      <td>10</td>\n",
       "      <td>4</td>\n",
       "      <td>15</td>\n",
       "      <td>35</td>\n",
       "      <td>47</td>\n",
       "      <td>-12</td>\n",
       "      <td>34</td>\n",
       "      <td>WResult WinLResult LossDResult DrawWResult Win...</td>\n",
       "    </tr>\n",
       "    <tr>\n",
       "      <th>9</th>\n",
       "      <td>10</td>\n",
       "      <td>Kilmarnock</td>\n",
       "      <td>29</td>\n",
       "      <td>8</td>\n",
       "      <td>7</td>\n",
       "      <td>14</td>\n",
       "      <td>33</td>\n",
       "      <td>47</td>\n",
       "      <td>-14</td>\n",
       "      <td>31</td>\n",
       "      <td>LResult LossWResult WinWResult WinLResult Loss...</td>\n",
       "    </tr>\n",
       "    <tr>\n",
       "      <th>10</th>\n",
       "      <td>11</td>\n",
       "      <td>Dundee</td>\n",
       "      <td>29</td>\n",
       "      <td>7</td>\n",
       "      <td>7</td>\n",
       "      <td>15</td>\n",
       "      <td>41</td>\n",
       "      <td>61</td>\n",
       "      <td>-20</td>\n",
       "      <td>28</td>\n",
       "      <td>LResult LossLResult LossLResult LossLResult Lo...</td>\n",
       "    </tr>\n",
       "    <tr>\n",
       "      <th>11</th>\n",
       "      <td>12</td>\n",
       "      <td>St. Johnstone</td>\n",
       "      <td>29</td>\n",
       "      <td>7</td>\n",
       "      <td>4</td>\n",
       "      <td>18</td>\n",
       "      <td>32</td>\n",
       "      <td>54</td>\n",
       "      <td>-22</td>\n",
       "      <td>25</td>\n",
       "      <td>WResult WinWResult WinLResult LossLResult Loss...</td>\n",
       "    </tr>\n",
       "  </tbody>\n",
       "</table>\n",
       "</div>"
      ],
      "text/plain": [
       "    Position           Team  Played  Won  Drawn  Lost  Goals For  \\\n",
       "0          1         Celtic      29   24      3     2         87   \n",
       "1          2        Rangers      29   18      5     6         59   \n",
       "2          3      Hibernian      29   11     10     8         44   \n",
       "3          4       Aberdeen      29   12      6    11         38   \n",
       "4          5  Dundee United      29   11      8    10         36   \n",
       "5          6     Motherwell      29   11      4    14         34   \n",
       "6          7         Hearts      29   10      6    13         41   \n",
       "7          8    Ross County      29    9      8    12         31   \n",
       "8          9     St. Mirren      29   10      4    15         35   \n",
       "9         10     Kilmarnock      29    8      7    14         33   \n",
       "10        11         Dundee      29    7      7    15         41   \n",
       "11        12  St. Johnstone      29    7      4    18         32   \n",
       "\n",
       "    Goals Against  Goal Difference  Points  \\\n",
       "0              17               70      75   \n",
       "1              26               33      59   \n",
       "2              40                4      43   \n",
       "3              46               -8      42   \n",
       "4              36                0      41   \n",
       "5              48              -14      37   \n",
       "6              40                1      36   \n",
       "7              49              -18      35   \n",
       "8              47              -12      34   \n",
       "9              47              -14      31   \n",
       "10             61              -20      28   \n",
       "11             54              -22      25   \n",
       "\n",
       "                     Form, Last 6 games, Oldest first  \n",
       "0   WResult WinWResult WinWResult WinLResult LossW...  \n",
       "1   WResult WinWResult WinWResult WinLResult LossW...  \n",
       "2   DResult DrawWResult WinDResult DrawWResult Win...  \n",
       "3   LResult LossLResult LossWResult WinWResult Win...  \n",
       "4   LResult LossLResult LossLResult LossWResult Wi...  \n",
       "5   LResult LossLResult LossLResult LossLResult Lo...  \n",
       "6   WResult WinWResult WinLResult LossWResult WinW...  \n",
       "7   DResult DrawLResult LossWResult WinWResult Win...  \n",
       "8   WResult WinLResult LossDResult DrawWResult Win...  \n",
       "9   LResult LossWResult WinWResult WinLResult Loss...  \n",
       "10  LResult LossLResult LossLResult LossLResult Lo...  \n",
       "11  WResult WinWResult WinLResult LossLResult Loss...  "
      ]
     },
     "execution_count": 7,
     "metadata": {},
     "output_type": "execute_result"
    }
   ],
   "source": [
    "scot_football = pd.read_html('https://www.bbc.com/sport/football/scottish-premiership/table')[0]\n",
    "scot_football"
   ]
  },
  {
   "cell_type": "markdown",
   "metadata": {},
   "source": [
    "### Reading from Relational Databases"
   ]
  },
  {
   "cell_type": "code",
   "execution_count": 9,
   "metadata": {},
   "outputs": [
    {
     "data": {
      "application/vnd.microsoft.datawrangler.viewer.v0+json": {
       "columns": [
        {
         "name": "index",
         "rawType": "int64",
         "type": "integer"
        },
        {
         "name": "OrderID",
         "rawType": "int64",
         "type": "integer"
        },
        {
         "name": "CustomerID",
         "rawType": "object",
         "type": "string"
        },
        {
         "name": "EmployeeID",
         "rawType": "int64",
         "type": "integer"
        },
        {
         "name": "OrderDate",
         "rawType": "object",
         "type": "string"
        },
        {
         "name": "RequiredDate",
         "rawType": "object",
         "type": "string"
        },
        {
         "name": "ShippedDate",
         "rawType": "object",
         "type": "string"
        },
        {
         "name": "ShipVia",
         "rawType": "int64",
         "type": "integer"
        },
        {
         "name": "Freight",
         "rawType": "float64",
         "type": "float"
        },
        {
         "name": "ShipName",
         "rawType": "object",
         "type": "string"
        },
        {
         "name": "ShipAddress",
         "rawType": "object",
         "type": "string"
        },
        {
         "name": "ShipCity",
         "rawType": "object",
         "type": "string"
        },
        {
         "name": "ShipRegion",
         "rawType": "object",
         "type": "string"
        },
        {
         "name": "ShipPostalCode",
         "rawType": "object",
         "type": "string"
        },
        {
         "name": "ShipCountry",
         "rawType": "object",
         "type": "string"
        }
       ],
       "conversionMethod": "pd.DataFrame",
       "ref": "768c96bf-0a9e-4df4-9e4b-6f9c748cbe01",
       "rows": [
        [
         "0",
         "10248",
         "VINET",
         "5",
         "2016-07-04",
         "2016-08-01",
         "2016-07-16",
         "3",
         "16.75",
         "Vins et alcools Chevalier",
         "59 rue de l-Abbaye",
         "Reims",
         "Western Europe",
         "51100",
         "France"
        ],
        [
         "1",
         "10249",
         "TOMSP",
         "6",
         "2016-07-05",
         "2016-08-16",
         "2016-07-10",
         "1",
         "22.25",
         "Toms Spezialitäten",
         "Luisenstr. 48",
         "Münster",
         "Western Europe",
         "44087",
         "Germany"
        ],
        [
         "2",
         "10250",
         "HANAR",
         "4",
         "2016-07-08",
         "2016-08-05",
         "2016-07-12",
         "2",
         "25.0",
         "Hanari Carnes",
         "Rua do Paço, 67",
         "Rio de Janeiro",
         "South America",
         "05454-876",
         "Brazil"
        ],
        [
         "3",
         "10251",
         "VICTE",
         "3",
         "2016-07-08",
         "2016-08-05",
         "2016-07-15",
         "1",
         "20.25",
         "Victuailles en stock",
         "2, rue du Commerce",
         "Lyon",
         "Western Europe",
         "69004",
         "France"
        ],
        [
         "4",
         "10252",
         "SUPRD",
         "4",
         "2016-07-09",
         "2016-08-06",
         "2016-07-11",
         "2",
         "36.25",
         "Suprêmes délices",
         "Boulevard Tirou, 255",
         "Charleroi",
         "Western Europe",
         "B-6000",
         "Belgium"
        ]
       ],
       "shape": {
        "columns": 14,
        "rows": 5
       }
      },
      "text/html": [
       "<div>\n",
       "<style scoped>\n",
       "    .dataframe tbody tr th:only-of-type {\n",
       "        vertical-align: middle;\n",
       "    }\n",
       "\n",
       "    .dataframe tbody tr th {\n",
       "        vertical-align: top;\n",
       "    }\n",
       "\n",
       "    .dataframe thead th {\n",
       "        text-align: right;\n",
       "    }\n",
       "</style>\n",
       "<table border=\"1\" class=\"dataframe\">\n",
       "  <thead>\n",
       "    <tr style=\"text-align: right;\">\n",
       "      <th></th>\n",
       "      <th>OrderID</th>\n",
       "      <th>CustomerID</th>\n",
       "      <th>EmployeeID</th>\n",
       "      <th>OrderDate</th>\n",
       "      <th>RequiredDate</th>\n",
       "      <th>ShippedDate</th>\n",
       "      <th>ShipVia</th>\n",
       "      <th>Freight</th>\n",
       "      <th>ShipName</th>\n",
       "      <th>ShipAddress</th>\n",
       "      <th>ShipCity</th>\n",
       "      <th>ShipRegion</th>\n",
       "      <th>ShipPostalCode</th>\n",
       "      <th>ShipCountry</th>\n",
       "    </tr>\n",
       "  </thead>\n",
       "  <tbody>\n",
       "    <tr>\n",
       "      <th>0</th>\n",
       "      <td>10248</td>\n",
       "      <td>VINET</td>\n",
       "      <td>5</td>\n",
       "      <td>2016-07-04</td>\n",
       "      <td>2016-08-01</td>\n",
       "      <td>2016-07-16</td>\n",
       "      <td>3</td>\n",
       "      <td>16.75</td>\n",
       "      <td>Vins et alcools Chevalier</td>\n",
       "      <td>59 rue de l-Abbaye</td>\n",
       "      <td>Reims</td>\n",
       "      <td>Western Europe</td>\n",
       "      <td>51100</td>\n",
       "      <td>France</td>\n",
       "    </tr>\n",
       "    <tr>\n",
       "      <th>1</th>\n",
       "      <td>10249</td>\n",
       "      <td>TOMSP</td>\n",
       "      <td>6</td>\n",
       "      <td>2016-07-05</td>\n",
       "      <td>2016-08-16</td>\n",
       "      <td>2016-07-10</td>\n",
       "      <td>1</td>\n",
       "      <td>22.25</td>\n",
       "      <td>Toms Spezialitäten</td>\n",
       "      <td>Luisenstr. 48</td>\n",
       "      <td>Münster</td>\n",
       "      <td>Western Europe</td>\n",
       "      <td>44087</td>\n",
       "      <td>Germany</td>\n",
       "    </tr>\n",
       "    <tr>\n",
       "      <th>2</th>\n",
       "      <td>10250</td>\n",
       "      <td>HANAR</td>\n",
       "      <td>4</td>\n",
       "      <td>2016-07-08</td>\n",
       "      <td>2016-08-05</td>\n",
       "      <td>2016-07-12</td>\n",
       "      <td>2</td>\n",
       "      <td>25.00</td>\n",
       "      <td>Hanari Carnes</td>\n",
       "      <td>Rua do Paço, 67</td>\n",
       "      <td>Rio de Janeiro</td>\n",
       "      <td>South America</td>\n",
       "      <td>05454-876</td>\n",
       "      <td>Brazil</td>\n",
       "    </tr>\n",
       "    <tr>\n",
       "      <th>3</th>\n",
       "      <td>10251</td>\n",
       "      <td>VICTE</td>\n",
       "      <td>3</td>\n",
       "      <td>2016-07-08</td>\n",
       "      <td>2016-08-05</td>\n",
       "      <td>2016-07-15</td>\n",
       "      <td>1</td>\n",
       "      <td>20.25</td>\n",
       "      <td>Victuailles en stock</td>\n",
       "      <td>2, rue du Commerce</td>\n",
       "      <td>Lyon</td>\n",
       "      <td>Western Europe</td>\n",
       "      <td>69004</td>\n",
       "      <td>France</td>\n",
       "    </tr>\n",
       "    <tr>\n",
       "      <th>4</th>\n",
       "      <td>10252</td>\n",
       "      <td>SUPRD</td>\n",
       "      <td>4</td>\n",
       "      <td>2016-07-09</td>\n",
       "      <td>2016-08-06</td>\n",
       "      <td>2016-07-11</td>\n",
       "      <td>2</td>\n",
       "      <td>36.25</td>\n",
       "      <td>Suprêmes délices</td>\n",
       "      <td>Boulevard Tirou, 255</td>\n",
       "      <td>Charleroi</td>\n",
       "      <td>Western Europe</td>\n",
       "      <td>B-6000</td>\n",
       "      <td>Belgium</td>\n",
       "    </tr>\n",
       "  </tbody>\n",
       "</table>\n",
       "</div>"
      ],
      "text/plain": [
       "   OrderID CustomerID  EmployeeID   OrderDate RequiredDate ShippedDate  \\\n",
       "0    10248      VINET           5  2016-07-04   2016-08-01  2016-07-16   \n",
       "1    10249      TOMSP           6  2016-07-05   2016-08-16  2016-07-10   \n",
       "2    10250      HANAR           4  2016-07-08   2016-08-05  2016-07-12   \n",
       "3    10251      VICTE           3  2016-07-08   2016-08-05  2016-07-15   \n",
       "4    10252      SUPRD           4  2016-07-09   2016-08-06  2016-07-11   \n",
       "\n",
       "   ShipVia  Freight                   ShipName           ShipAddress  \\\n",
       "0        3    16.75  Vins et alcools Chevalier    59 rue de l-Abbaye   \n",
       "1        1    22.25         Toms Spezialitäten         Luisenstr. 48   \n",
       "2        2    25.00              Hanari Carnes       Rua do Paço, 67   \n",
       "3        1    20.25       Victuailles en stock    2, rue du Commerce   \n",
       "4        2    36.25           Suprêmes délices  Boulevard Tirou, 255   \n",
       "\n",
       "         ShipCity      ShipRegion ShipPostalCode ShipCountry  \n",
       "0           Reims  Western Europe          51100      France  \n",
       "1         Münster  Western Europe          44087     Germany  \n",
       "2  Rio de Janeiro   South America      05454-876      Brazil  \n",
       "3            Lyon  Western Europe          69004      France  \n",
       "4       Charleroi  Western Europe         B-6000     Belgium  "
      ]
     },
     "execution_count": 9,
     "metadata": {},
     "output_type": "execute_result"
    }
   ],
   "source": [
    "import sqlalchemy\n",
    "conn = sqlalchemy.create_engine('sqlite:///data/northwind.db') # this may be a but tricky for some to locate the file\n",
    "data = pd.read_sql_query('SELECT * from Orders;', conn)\n",
    "data.head()"
   ]
  },
  {
   "cell_type": "markdown",
   "metadata": {},
   "source": [
    "### Explore Northwind and data.gov.uk"
   ]
  },
  {
   "cell_type": "code",
   "execution_count": 10,
   "metadata": {},
   "outputs": [
    {
     "data": {
      "application/vnd.microsoft.datawrangler.viewer.v0+json": {
       "columns": [
        {
         "name": "index",
         "rawType": "int64",
         "type": "integer"
        },
        {
         "name": "SettlementName",
         "rawType": "object",
         "type": "string"
        },
        {
         "name": "SettlementCode",
         "rawType": "object",
         "type": "string"
        },
        {
         "name": "Area_m2",
         "rawType": "float64",
         "type": "float"
        },
        {
         "name": "TotalHeatDemand_kwh_y",
         "rawType": "int64",
         "type": "integer"
        },
        {
         "name": "DemandDensity_kwh_y_m2",
         "rawType": "float64",
         "type": "float"
        }
       ],
       "conversionMethod": "pd.DataFrame",
       "ref": "c859b42f-72c3-4947-b90c-0c3ea605fab9",
       "rows": [
        [
         "0",
         "Creetown",
         "S20001656",
         "331816.719353",
         "7926779",
         "23.8890283029023"
        ],
        [
         "1",
         "Hillhead",
         "S20001780",
         "229520.953466",
         "3984648",
         "17.3607156114845"
        ],
        [
         "2",
         "Dumfries",
         "S20001693",
         "13358997.3371",
         "402384558",
         "30.1208652001536"
        ],
        [
         "3",
         "Lockerbie",
         "S20001864",
         "2265415.22277",
         "69592642",
         "30.7195966993224"
        ],
        [
         "4",
         "Dailly",
         "S20001670",
         "282831.773236",
         "7618381",
         "26.9360861152014"
        ]
       ],
       "shape": {
        "columns": 5,
        "rows": 5
       }
      },
      "text/html": [
       "<div>\n",
       "<style scoped>\n",
       "    .dataframe tbody tr th:only-of-type {\n",
       "        vertical-align: middle;\n",
       "    }\n",
       "\n",
       "    .dataframe tbody tr th {\n",
       "        vertical-align: top;\n",
       "    }\n",
       "\n",
       "    .dataframe thead th {\n",
       "        text-align: right;\n",
       "    }\n",
       "</style>\n",
       "<table border=\"1\" class=\"dataframe\">\n",
       "  <thead>\n",
       "    <tr style=\"text-align: right;\">\n",
       "      <th></th>\n",
       "      <th>SettlementName</th>\n",
       "      <th>SettlementCode</th>\n",
       "      <th>Area_m2</th>\n",
       "      <th>TotalHeatDemand_kwh_y</th>\n",
       "      <th>DemandDensity_kwh_y_m2</th>\n",
       "    </tr>\n",
       "  </thead>\n",
       "  <tbody>\n",
       "    <tr>\n",
       "      <th>0</th>\n",
       "      <td>Creetown</td>\n",
       "      <td>S20001656</td>\n",
       "      <td>3.318167e+05</td>\n",
       "      <td>7926779</td>\n",
       "      <td>23.889028</td>\n",
       "    </tr>\n",
       "    <tr>\n",
       "      <th>1</th>\n",
       "      <td>Hillhead</td>\n",
       "      <td>S20001780</td>\n",
       "      <td>2.295210e+05</td>\n",
       "      <td>3984648</td>\n",
       "      <td>17.360716</td>\n",
       "    </tr>\n",
       "    <tr>\n",
       "      <th>2</th>\n",
       "      <td>Dumfries</td>\n",
       "      <td>S20001693</td>\n",
       "      <td>1.335900e+07</td>\n",
       "      <td>402384558</td>\n",
       "      <td>30.120865</td>\n",
       "    </tr>\n",
       "    <tr>\n",
       "      <th>3</th>\n",
       "      <td>Lockerbie</td>\n",
       "      <td>S20001864</td>\n",
       "      <td>2.265415e+06</td>\n",
       "      <td>69592642</td>\n",
       "      <td>30.719597</td>\n",
       "    </tr>\n",
       "    <tr>\n",
       "      <th>4</th>\n",
       "      <td>Dailly</td>\n",
       "      <td>S20001670</td>\n",
       "      <td>2.828318e+05</td>\n",
       "      <td>7618381</td>\n",
       "      <td>26.936086</td>\n",
       "    </tr>\n",
       "  </tbody>\n",
       "</table>\n",
       "</div>"
      ],
      "text/plain": [
       "  SettlementName SettlementCode       Area_m2  TotalHeatDemand_kwh_y  \\\n",
       "0       Creetown      S20001656  3.318167e+05                7926779   \n",
       "1       Hillhead      S20001780  2.295210e+05                3984648   \n",
       "2       Dumfries      S20001693  1.335900e+07              402384558   \n",
       "3      Lockerbie      S20001864  2.265415e+06               69592642   \n",
       "4         Dailly      S20001670  2.828318e+05                7618381   \n",
       "\n",
       "   DemandDensity_kwh_y_m2  \n",
       "0               23.889028  \n",
       "1               17.360716  \n",
       "2               30.120865  \n",
       "3               30.719597  \n",
       "4               26.936086  "
      ]
     },
     "execution_count": 10,
     "metadata": {},
     "output_type": "execute_result"
    }
   ],
   "source": [
    "scot_heating = pd.read_csv('https://heatmap.data.gov.scot/downloads/Settlements_Heat_Demand.csv')\n",
    "scot_heating.head()"
   ]
  },
  {
   "cell_type": "markdown",
   "metadata": {},
   "source": [
    "### Handling DataFrames"
   ]
  },
  {
   "cell_type": "markdown",
   "metadata": {},
   "source": [
    "Exercise 2.1"
   ]
  },
  {
   "cell_type": "code",
   "execution_count": 11,
   "metadata": {},
   "outputs": [
    {
     "name": "stdout",
     "output_type": "stream",
     "text": [
      "   Height  Student\n",
      "0     160    68822\n",
      "1     185    68823\n",
      "2     178    68844\n",
      "3     189    68845\n"
     ]
    }
   ],
   "source": [
    "df2 = pd.DataFrame({\n",
    "  'Height' : [160,185,178,189],\n",
    "  'Student': [68822,68823,68844,68845]\n",
    "})\n",
    "print (df2)"
   ]
  },
  {
   "cell_type": "code",
   "execution_count": 12,
   "metadata": {},
   "outputs": [
    {
     "name": "stdout",
     "output_type": "stream",
     "text": [
      "0    160\n",
      "1    185\n",
      "2    178\n",
      "3    189\n",
      "Name: Height, dtype: int64\n",
      "0    160\n",
      "1    185\n",
      "2    178\n",
      "3    189\n",
      "Name: Height, dtype: int64\n",
      "   Height  Student\n",
      "1     185    68823\n",
      "3     189    68845\n"
     ]
    }
   ],
   "source": [
    "print (df2['Height'])\n",
    "print (df2.Height)\n",
    "print(df2[df2['Height'] > 180])"
   ]
  },
  {
   "cell_type": "markdown",
   "metadata": {},
   "source": [
    "Exercise 2.2"
   ]
  },
  {
   "cell_type": "code",
   "execution_count": 13,
   "metadata": {},
   "outputs": [
    {
     "data": {
      "application/vnd.microsoft.datawrangler.viewer.v0+json": {
       "columns": [
        {
         "name": "index",
         "rawType": "int64",
         "type": "integer"
        },
        {
         "name": "StudentID",
         "rawType": "int64",
         "type": "integer"
        },
        {
         "name": "FirstName",
         "rawType": "object",
         "type": "string"
        },
        {
         "name": "EnrolYear",
         "rawType": "int64",
         "type": "integer"
        },
        {
         "name": "Math",
         "rawType": "int64",
         "type": "integer"
        }
       ],
       "conversionMethod": "pd.DataFrame",
       "ref": "7121dbc1-22ed-43a5-842f-677b9792d773",
       "rows": [
        [
         "2",
         "68844",
         "Bill",
         "2011",
         "90"
        ],
        [
         "3",
         "68845",
         "Mark",
         "2011",
         "40"
        ]
       ],
       "shape": {
        "columns": 4,
        "rows": 2
       }
      },
      "text/html": [
       "<div>\n",
       "<style scoped>\n",
       "    .dataframe tbody tr th:only-of-type {\n",
       "        vertical-align: middle;\n",
       "    }\n",
       "\n",
       "    .dataframe tbody tr th {\n",
       "        vertical-align: top;\n",
       "    }\n",
       "\n",
       "    .dataframe thead th {\n",
       "        text-align: right;\n",
       "    }\n",
       "</style>\n",
       "<table border=\"1\" class=\"dataframe\">\n",
       "  <thead>\n",
       "    <tr style=\"text-align: right;\">\n",
       "      <th></th>\n",
       "      <th>StudentID</th>\n",
       "      <th>FirstName</th>\n",
       "      <th>EnrolYear</th>\n",
       "      <th>Math</th>\n",
       "    </tr>\n",
       "  </thead>\n",
       "  <tbody>\n",
       "    <tr>\n",
       "      <th>2</th>\n",
       "      <td>68844</td>\n",
       "      <td>Bill</td>\n",
       "      <td>2011</td>\n",
       "      <td>90</td>\n",
       "    </tr>\n",
       "    <tr>\n",
       "      <th>3</th>\n",
       "      <td>68845</td>\n",
       "      <td>Mark</td>\n",
       "      <td>2011</td>\n",
       "      <td>40</td>\n",
       "    </tr>\n",
       "  </tbody>\n",
       "</table>\n",
       "</div>"
      ],
      "text/plain": [
       "   StudentID FirstName  EnrolYear  Math\n",
       "2      68844      Bill       2011    90\n",
       "3      68845      Mark       2011    40"
      ]
     },
     "execution_count": 13,
     "metadata": {},
     "output_type": "execute_result"
    }
   ],
   "source": [
    "# select rows where first-name isn't 'Bob' (!= is not equal)\n",
    "# and student ID is larger than 68823\n",
    "filt = (df.FirstName != 'Bob') & (df.StudentID > 68823)\n",
    "df[filt]"
   ]
  },
  {
   "cell_type": "markdown",
   "metadata": {},
   "source": [
    "Exercise 2.3"
   ]
  },
  {
   "cell_type": "code",
   "execution_count": 14,
   "metadata": {},
   "outputs": [
    {
     "name": "stdout",
     "output_type": "stream",
     "text": [
      "   StudentID FirstName  English\n",
      "0      68822    Steven       60\n",
      "1      68823      Alex       70\n",
      "2      68844      Bill       80\n",
      "3      68845      Mark       80\n",
      "4      68846       Bob       60\n"
     ]
    }
   ],
   "source": [
    "df3 = pd.read_csv(\"data/tutorial2.csv\")\n",
    "print(df3)"
   ]
  },
  {
   "cell_type": "code",
   "execution_count": 15,
   "metadata": {},
   "outputs": [
    {
     "name": "stdout",
     "output_type": "stream",
     "text": [
      "0    160\n",
      "1    160\n",
      "2    170\n",
      "3    120\n",
      "4    120\n",
      "Name: Total, dtype: int64\n",
      "   StudentID FirstName  EnrolYear  Math  Total  English\n",
      "0      68822    Steven       2010   100    160       60\n",
      "1      68823      Alex       2010    90    160       70\n",
      "2      68844      Bill       2011    90    170       80\n",
      "3      68845      Mark       2011    40    120       80\n",
      "4      68846       Bob       2013    60    120       60\n"
     ]
    }
   ],
   "source": [
    "df['Total'] = df['Math'] + df3['English']\n",
    "print(df['Total'])\n",
    "df['English'] = df3['English']\n",
    "print(df)"
   ]
  },
  {
   "cell_type": "markdown",
   "metadata": {},
   "source": [
    "Exercise 2.4"
   ]
  },
  {
   "cell_type": "code",
   "execution_count": 16,
   "metadata": {},
   "outputs": [
    {
     "name": "stdout",
     "output_type": "stream",
     "text": [
      "   StudentID FirstName  EnrolYear  Math  Total  English  Mean\n",
      "0      68822    Steven       2010   100    160       60  80.0\n",
      "1      68823      Alex       2010    90    160       70  80.0\n",
      "2      68844      Bill       2011    90    170       80  85.0\n",
      "3      68845      Mark       2011    40    120       80  60.0\n",
      "4      68846       Bob       2013    60    120       60  60.0\n"
     ]
    }
   ],
   "source": [
    "df['Mean'] = df[['Math','English']].mean(axis=1)\n",
    "print(df)"
   ]
  },
  {
   "cell_type": "markdown",
   "metadata": {},
   "source": [
    "Exercise 2.5"
   ]
  },
  {
   "cell_type": "code",
   "execution_count": 17,
   "metadata": {},
   "outputs": [
    {
     "name": "stdout",
     "output_type": "stream",
     "text": [
      "   StudentID FirstName  EnrolYear  Math  Total  English  Mean\n",
      "0      68822    Steven       2010   100    160       60  80.0\n",
      "   StudentID FirstName  EnrolYear  Math  Total  English  Mean\n",
      "0      68822    Steven       2010   100    160       60  80.0\n"
     ]
    },
    {
     "data": {
      "application/vnd.microsoft.datawrangler.viewer.v0+json": {
       "columns": [
        {
         "name": "index",
         "rawType": "int64",
         "type": "integer"
        },
        {
         "name": "StudentID",
         "rawType": "int64",
         "type": "integer"
        },
        {
         "name": "FirstName",
         "rawType": "object",
         "type": "string"
        },
        {
         "name": "EnrolYear",
         "rawType": "int64",
         "type": "integer"
        },
        {
         "name": "Math",
         "rawType": "int64",
         "type": "integer"
        },
        {
         "name": "Total",
         "rawType": "int64",
         "type": "integer"
        },
        {
         "name": "English",
         "rawType": "int64",
         "type": "integer"
        },
        {
         "name": "Mean",
         "rawType": "float64",
         "type": "float"
        }
       ],
       "conversionMethod": "pd.DataFrame",
       "ref": "c76de8bc-e9ad-419c-a0e8-00661c7780f0",
       "rows": [
        [
         "0",
         "68822",
         "Steven",
         "2010",
         "100",
         "160",
         "60",
         "80.0"
        ],
        [
         "1",
         "68823",
         "Alex",
         "2010",
         "90",
         "160",
         "70",
         "80.0"
        ],
        [
         "2",
         "68844",
         "Bill",
         "2011",
         "90",
         "170",
         "80",
         "85.0"
        ],
        [
         "3",
         "68845",
         "Mark",
         "2011",
         "40",
         "120",
         "80",
         "60.0"
        ],
        [
         "4",
         "68846",
         "Bob",
         "2013",
         "60",
         "120",
         "60",
         "60.0"
        ]
       ],
       "shape": {
        "columns": 7,
        "rows": 5
       }
      },
      "text/html": [
       "<div>\n",
       "<style scoped>\n",
       "    .dataframe tbody tr th:only-of-type {\n",
       "        vertical-align: middle;\n",
       "    }\n",
       "\n",
       "    .dataframe tbody tr th {\n",
       "        vertical-align: top;\n",
       "    }\n",
       "\n",
       "    .dataframe thead th {\n",
       "        text-align: right;\n",
       "    }\n",
       "</style>\n",
       "<table border=\"1\" class=\"dataframe\">\n",
       "  <thead>\n",
       "    <tr style=\"text-align: right;\">\n",
       "      <th></th>\n",
       "      <th>StudentID</th>\n",
       "      <th>FirstName</th>\n",
       "      <th>EnrolYear</th>\n",
       "      <th>Math</th>\n",
       "      <th>Total</th>\n",
       "      <th>English</th>\n",
       "      <th>Mean</th>\n",
       "    </tr>\n",
       "  </thead>\n",
       "  <tbody>\n",
       "    <tr>\n",
       "      <th>0</th>\n",
       "      <td>68822</td>\n",
       "      <td>Steven</td>\n",
       "      <td>2010</td>\n",
       "      <td>100</td>\n",
       "      <td>160</td>\n",
       "      <td>60</td>\n",
       "      <td>80.0</td>\n",
       "    </tr>\n",
       "    <tr>\n",
       "      <th>1</th>\n",
       "      <td>68823</td>\n",
       "      <td>Alex</td>\n",
       "      <td>2010</td>\n",
       "      <td>90</td>\n",
       "      <td>160</td>\n",
       "      <td>70</td>\n",
       "      <td>80.0</td>\n",
       "    </tr>\n",
       "    <tr>\n",
       "      <th>2</th>\n",
       "      <td>68844</td>\n",
       "      <td>Bill</td>\n",
       "      <td>2011</td>\n",
       "      <td>90</td>\n",
       "      <td>170</td>\n",
       "      <td>80</td>\n",
       "      <td>85.0</td>\n",
       "    </tr>\n",
       "    <tr>\n",
       "      <th>3</th>\n",
       "      <td>68845</td>\n",
       "      <td>Mark</td>\n",
       "      <td>2011</td>\n",
       "      <td>40</td>\n",
       "      <td>120</td>\n",
       "      <td>80</td>\n",
       "      <td>60.0</td>\n",
       "    </tr>\n",
       "    <tr>\n",
       "      <th>4</th>\n",
       "      <td>68846</td>\n",
       "      <td>Bob</td>\n",
       "      <td>2013</td>\n",
       "      <td>60</td>\n",
       "      <td>120</td>\n",
       "      <td>60</td>\n",
       "      <td>60.0</td>\n",
       "    </tr>\n",
       "  </tbody>\n",
       "</table>\n",
       "</div>"
      ],
      "text/plain": [
       "   StudentID FirstName  EnrolYear  Math  Total  English  Mean\n",
       "0      68822    Steven       2010   100    160       60  80.0\n",
       "1      68823      Alex       2010    90    160       70  80.0\n",
       "2      68844      Bill       2011    90    170       80  85.0\n",
       "3      68845      Mark       2011    40    120       80  60.0\n",
       "4      68846       Bob       2013    60    120       60  60.0"
      ]
     },
     "execution_count": 17,
     "metadata": {},
     "output_type": "execute_result"
    }
   ],
   "source": [
    "filt = (df['Math'] > 90) & (df['Total'] > 150) | (df['English'] > 90) & (df['Total'] > 150)\n",
    "filt2 = ((df['Math'] > 90) | (df['English'] > 90)) & (df['Total'] > 150)\n",
    "filtered_df = df[filt]\n",
    "filtered_df2 = df[filt2]\n",
    "\n",
    "print(filtered_df)\n",
    "print(filtered_df2)\n",
    "df"
   ]
  },
  {
   "cell_type": "code",
   "execution_count": 18,
   "metadata": {},
   "outputs": [],
   "source": [
    "# turn column names 'Math' and 'English' into values for a new column 'Subject'\n",
    "df = pd.melt(\n",
    "  df,\n",
    "  id_vars=['EnrolYear','FirstName','StudentID'],\n",
    "  value_vars=['Math','English'],\n",
    "  var_name='Subject')"
   ]
  },
  {
   "cell_type": "code",
   "execution_count": 19,
   "metadata": {},
   "outputs": [
    {
     "data": {
      "application/vnd.microsoft.datawrangler.viewer.v0+json": {
       "columns": [
        {
         "name": "index",
         "rawType": "int64",
         "type": "integer"
        },
        {
         "name": "EnrolYear",
         "rawType": "int64",
         "type": "integer"
        },
        {
         "name": "FirstName",
         "rawType": "object",
         "type": "string"
        },
        {
         "name": "StudentID",
         "rawType": "int64",
         "type": "integer"
        },
        {
         "name": "Subject",
         "rawType": "object",
         "type": "string"
        },
        {
         "name": "value",
         "rawType": "int64",
         "type": "integer"
        }
       ],
       "conversionMethod": "pd.DataFrame",
       "ref": "b8a48f41-b9f6-4f44-a7e9-70835c830035",
       "rows": [
        [
         "0",
         "2010",
         "Steven",
         "68822",
         "Math",
         "100"
        ],
        [
         "1",
         "2010",
         "Alex",
         "68823",
         "Math",
         "90"
        ],
        [
         "2",
         "2011",
         "Bill",
         "68844",
         "Math",
         "90"
        ],
        [
         "3",
         "2011",
         "Mark",
         "68845",
         "Math",
         "40"
        ],
        [
         "4",
         "2013",
         "Bob",
         "68846",
         "Math",
         "60"
        ],
        [
         "5",
         "2010",
         "Steven",
         "68822",
         "English",
         "60"
        ],
        [
         "6",
         "2010",
         "Alex",
         "68823",
         "English",
         "70"
        ],
        [
         "7",
         "2011",
         "Bill",
         "68844",
         "English",
         "80"
        ],
        [
         "8",
         "2011",
         "Mark",
         "68845",
         "English",
         "80"
        ],
        [
         "9",
         "2013",
         "Bob",
         "68846",
         "English",
         "60"
        ]
       ],
       "shape": {
        "columns": 5,
        "rows": 10
       }
      },
      "text/html": [
       "<div>\n",
       "<style scoped>\n",
       "    .dataframe tbody tr th:only-of-type {\n",
       "        vertical-align: middle;\n",
       "    }\n",
       "\n",
       "    .dataframe tbody tr th {\n",
       "        vertical-align: top;\n",
       "    }\n",
       "\n",
       "    .dataframe thead th {\n",
       "        text-align: right;\n",
       "    }\n",
       "</style>\n",
       "<table border=\"1\" class=\"dataframe\">\n",
       "  <thead>\n",
       "    <tr style=\"text-align: right;\">\n",
       "      <th></th>\n",
       "      <th>EnrolYear</th>\n",
       "      <th>FirstName</th>\n",
       "      <th>StudentID</th>\n",
       "      <th>Subject</th>\n",
       "      <th>value</th>\n",
       "    </tr>\n",
       "  </thead>\n",
       "  <tbody>\n",
       "    <tr>\n",
       "      <th>0</th>\n",
       "      <td>2010</td>\n",
       "      <td>Steven</td>\n",
       "      <td>68822</td>\n",
       "      <td>Math</td>\n",
       "      <td>100</td>\n",
       "    </tr>\n",
       "    <tr>\n",
       "      <th>1</th>\n",
       "      <td>2010</td>\n",
       "      <td>Alex</td>\n",
       "      <td>68823</td>\n",
       "      <td>Math</td>\n",
       "      <td>90</td>\n",
       "    </tr>\n",
       "    <tr>\n",
       "      <th>2</th>\n",
       "      <td>2011</td>\n",
       "      <td>Bill</td>\n",
       "      <td>68844</td>\n",
       "      <td>Math</td>\n",
       "      <td>90</td>\n",
       "    </tr>\n",
       "    <tr>\n",
       "      <th>3</th>\n",
       "      <td>2011</td>\n",
       "      <td>Mark</td>\n",
       "      <td>68845</td>\n",
       "      <td>Math</td>\n",
       "      <td>40</td>\n",
       "    </tr>\n",
       "    <tr>\n",
       "      <th>4</th>\n",
       "      <td>2013</td>\n",
       "      <td>Bob</td>\n",
       "      <td>68846</td>\n",
       "      <td>Math</td>\n",
       "      <td>60</td>\n",
       "    </tr>\n",
       "    <tr>\n",
       "      <th>5</th>\n",
       "      <td>2010</td>\n",
       "      <td>Steven</td>\n",
       "      <td>68822</td>\n",
       "      <td>English</td>\n",
       "      <td>60</td>\n",
       "    </tr>\n",
       "    <tr>\n",
       "      <th>6</th>\n",
       "      <td>2010</td>\n",
       "      <td>Alex</td>\n",
       "      <td>68823</td>\n",
       "      <td>English</td>\n",
       "      <td>70</td>\n",
       "    </tr>\n",
       "    <tr>\n",
       "      <th>7</th>\n",
       "      <td>2011</td>\n",
       "      <td>Bill</td>\n",
       "      <td>68844</td>\n",
       "      <td>English</td>\n",
       "      <td>80</td>\n",
       "    </tr>\n",
       "    <tr>\n",
       "      <th>8</th>\n",
       "      <td>2011</td>\n",
       "      <td>Mark</td>\n",
       "      <td>68845</td>\n",
       "      <td>English</td>\n",
       "      <td>80</td>\n",
       "    </tr>\n",
       "    <tr>\n",
       "      <th>9</th>\n",
       "      <td>2013</td>\n",
       "      <td>Bob</td>\n",
       "      <td>68846</td>\n",
       "      <td>English</td>\n",
       "      <td>60</td>\n",
       "    </tr>\n",
       "  </tbody>\n",
       "</table>\n",
       "</div>"
      ],
      "text/plain": [
       "   EnrolYear FirstName  StudentID  Subject  value\n",
       "0       2010    Steven      68822     Math    100\n",
       "1       2010      Alex      68823     Math     90\n",
       "2       2011      Bill      68844     Math     90\n",
       "3       2011      Mark      68845     Math     40\n",
       "4       2013       Bob      68846     Math     60\n",
       "5       2010    Steven      68822  English     60\n",
       "6       2010      Alex      68823  English     70\n",
       "7       2011      Bill      68844  English     80\n",
       "8       2011      Mark      68845  English     80\n",
       "9       2013       Bob      68846  English     60"
      ]
     },
     "execution_count": 19,
     "metadata": {},
     "output_type": "execute_result"
    }
   ],
   "source": [
    "df"
   ]
  },
  {
   "cell_type": "code",
   "execution_count": 20,
   "metadata": {},
   "outputs": [
    {
     "data": {
      "application/vnd.microsoft.datawrangler.viewer.v0+json": {
       "columns": [
        {
         "name": "index",
         "rawType": "int64",
         "type": "integer"
        },
        {
         "name": "EnrolYear",
         "rawType": "int64",
         "type": "integer"
        },
        {
         "name": "FirstName",
         "rawType": "object",
         "type": "string"
        },
        {
         "name": "StudentID",
         "rawType": "int64",
         "type": "integer"
        },
        {
         "name": "Subject",
         "rawType": "object",
         "type": "string"
        },
        {
         "name": "Score",
         "rawType": "int64",
         "type": "integer"
        }
       ],
       "conversionMethod": "pd.DataFrame",
       "ref": "7720ea14-114f-4ac7-82a0-56b6da797950",
       "rows": [
        [
         "0",
         "2010",
         "Steven",
         "68822",
         "Math",
         "100"
        ],
        [
         "1",
         "2010",
         "Alex",
         "68823",
         "Math",
         "90"
        ],
        [
         "2",
         "2011",
         "Bill",
         "68844",
         "Math",
         "90"
        ],
        [
         "3",
         "2011",
         "Mark",
         "68845",
         "Math",
         "40"
        ],
        [
         "4",
         "2013",
         "Bob",
         "68846",
         "Math",
         "60"
        ],
        [
         "5",
         "2010",
         "Steven",
         "68822",
         "English",
         "60"
        ],
        [
         "6",
         "2010",
         "Alex",
         "68823",
         "English",
         "70"
        ],
        [
         "7",
         "2011",
         "Bill",
         "68844",
         "English",
         "80"
        ],
        [
         "8",
         "2011",
         "Mark",
         "68845",
         "English",
         "80"
        ],
        [
         "9",
         "2013",
         "Bob",
         "68846",
         "English",
         "60"
        ]
       ],
       "shape": {
        "columns": 5,
        "rows": 10
       }
      },
      "text/html": [
       "<div>\n",
       "<style scoped>\n",
       "    .dataframe tbody tr th:only-of-type {\n",
       "        vertical-align: middle;\n",
       "    }\n",
       "\n",
       "    .dataframe tbody tr th {\n",
       "        vertical-align: top;\n",
       "    }\n",
       "\n",
       "    .dataframe thead th {\n",
       "        text-align: right;\n",
       "    }\n",
       "</style>\n",
       "<table border=\"1\" class=\"dataframe\">\n",
       "  <thead>\n",
       "    <tr style=\"text-align: right;\">\n",
       "      <th></th>\n",
       "      <th>EnrolYear</th>\n",
       "      <th>FirstName</th>\n",
       "      <th>StudentID</th>\n",
       "      <th>Subject</th>\n",
       "      <th>Score</th>\n",
       "    </tr>\n",
       "  </thead>\n",
       "  <tbody>\n",
       "    <tr>\n",
       "      <th>0</th>\n",
       "      <td>2010</td>\n",
       "      <td>Steven</td>\n",
       "      <td>68822</td>\n",
       "      <td>Math</td>\n",
       "      <td>100</td>\n",
       "    </tr>\n",
       "    <tr>\n",
       "      <th>1</th>\n",
       "      <td>2010</td>\n",
       "      <td>Alex</td>\n",
       "      <td>68823</td>\n",
       "      <td>Math</td>\n",
       "      <td>90</td>\n",
       "    </tr>\n",
       "    <tr>\n",
       "      <th>2</th>\n",
       "      <td>2011</td>\n",
       "      <td>Bill</td>\n",
       "      <td>68844</td>\n",
       "      <td>Math</td>\n",
       "      <td>90</td>\n",
       "    </tr>\n",
       "    <tr>\n",
       "      <th>3</th>\n",
       "      <td>2011</td>\n",
       "      <td>Mark</td>\n",
       "      <td>68845</td>\n",
       "      <td>Math</td>\n",
       "      <td>40</td>\n",
       "    </tr>\n",
       "    <tr>\n",
       "      <th>4</th>\n",
       "      <td>2013</td>\n",
       "      <td>Bob</td>\n",
       "      <td>68846</td>\n",
       "      <td>Math</td>\n",
       "      <td>60</td>\n",
       "    </tr>\n",
       "    <tr>\n",
       "      <th>5</th>\n",
       "      <td>2010</td>\n",
       "      <td>Steven</td>\n",
       "      <td>68822</td>\n",
       "      <td>English</td>\n",
       "      <td>60</td>\n",
       "    </tr>\n",
       "    <tr>\n",
       "      <th>6</th>\n",
       "      <td>2010</td>\n",
       "      <td>Alex</td>\n",
       "      <td>68823</td>\n",
       "      <td>English</td>\n",
       "      <td>70</td>\n",
       "    </tr>\n",
       "    <tr>\n",
       "      <th>7</th>\n",
       "      <td>2011</td>\n",
       "      <td>Bill</td>\n",
       "      <td>68844</td>\n",
       "      <td>English</td>\n",
       "      <td>80</td>\n",
       "    </tr>\n",
       "    <tr>\n",
       "      <th>8</th>\n",
       "      <td>2011</td>\n",
       "      <td>Mark</td>\n",
       "      <td>68845</td>\n",
       "      <td>English</td>\n",
       "      <td>80</td>\n",
       "    </tr>\n",
       "    <tr>\n",
       "      <th>9</th>\n",
       "      <td>2013</td>\n",
       "      <td>Bob</td>\n",
       "      <td>68846</td>\n",
       "      <td>English</td>\n",
       "      <td>60</td>\n",
       "    </tr>\n",
       "  </tbody>\n",
       "</table>\n",
       "</div>"
      ],
      "text/plain": [
       "   EnrolYear FirstName  StudentID  Subject  Score\n",
       "0       2010    Steven      68822     Math    100\n",
       "1       2010      Alex      68823     Math     90\n",
       "2       2011      Bill      68844     Math     90\n",
       "3       2011      Mark      68845     Math     40\n",
       "4       2013       Bob      68846     Math     60\n",
       "5       2010    Steven      68822  English     60\n",
       "6       2010      Alex      68823  English     70\n",
       "7       2011      Bill      68844  English     80\n",
       "8       2011      Mark      68845  English     80\n",
       "9       2013       Bob      68846  English     60"
      ]
     },
     "execution_count": 20,
     "metadata": {},
     "output_type": "execute_result"
    }
   ],
   "source": [
    "df.rename(columns = {'value':'Score'}, inplace = True)\n",
    "df"
   ]
  },
  {
   "cell_type": "code",
   "execution_count": 21,
   "metadata": {},
   "outputs": [
    {
     "data": {
      "application/vnd.microsoft.datawrangler.viewer.v0+json": {
       "columns": [
        {
         "name": "index",
         "rawType": "int64",
         "type": "integer"
        },
        {
         "name": "StudentID",
         "rawType": "int64",
         "type": "integer"
        },
        {
         "name": "FirstName",
         "rawType": "object",
         "type": "string"
        },
        {
         "name": "EnrolYear",
         "rawType": "int64",
         "type": "integer"
        },
        {
         "name": "Math",
         "rawType": "int64",
         "type": "integer"
        }
       ],
       "conversionMethod": "pd.DataFrame",
       "ref": "40751a5f-f175-4072-a2c6-dfac3b3a8a8b",
       "rows": [
        [
         "0",
         "68822",
         "Steven",
         "2010",
         "100"
        ],
        [
         "1",
         "68823",
         "Alex",
         "2010",
         "90"
        ],
        [
         "2",
         "68844",
         "Bill",
         "2011",
         "90"
        ],
        [
         "3",
         "68845",
         "Mark",
         "2011",
         "40"
        ],
        [
         "4",
         "68846",
         "Bob",
         "2013",
         "60"
        ]
       ],
       "shape": {
        "columns": 4,
        "rows": 5
       }
      },
      "text/html": [
       "<div>\n",
       "<style scoped>\n",
       "    .dataframe tbody tr th:only-of-type {\n",
       "        vertical-align: middle;\n",
       "    }\n",
       "\n",
       "    .dataframe tbody tr th {\n",
       "        vertical-align: top;\n",
       "    }\n",
       "\n",
       "    .dataframe thead th {\n",
       "        text-align: right;\n",
       "    }\n",
       "</style>\n",
       "<table border=\"1\" class=\"dataframe\">\n",
       "  <thead>\n",
       "    <tr style=\"text-align: right;\">\n",
       "      <th></th>\n",
       "      <th>StudentID</th>\n",
       "      <th>FirstName</th>\n",
       "      <th>EnrolYear</th>\n",
       "      <th>Math</th>\n",
       "    </tr>\n",
       "  </thead>\n",
       "  <tbody>\n",
       "    <tr>\n",
       "      <th>0</th>\n",
       "      <td>68822</td>\n",
       "      <td>Steven</td>\n",
       "      <td>2010</td>\n",
       "      <td>100</td>\n",
       "    </tr>\n",
       "    <tr>\n",
       "      <th>1</th>\n",
       "      <td>68823</td>\n",
       "      <td>Alex</td>\n",
       "      <td>2010</td>\n",
       "      <td>90</td>\n",
       "    </tr>\n",
       "    <tr>\n",
       "      <th>2</th>\n",
       "      <td>68844</td>\n",
       "      <td>Bill</td>\n",
       "      <td>2011</td>\n",
       "      <td>90</td>\n",
       "    </tr>\n",
       "    <tr>\n",
       "      <th>3</th>\n",
       "      <td>68845</td>\n",
       "      <td>Mark</td>\n",
       "      <td>2011</td>\n",
       "      <td>40</td>\n",
       "    </tr>\n",
       "    <tr>\n",
       "      <th>4</th>\n",
       "      <td>68846</td>\n",
       "      <td>Bob</td>\n",
       "      <td>2013</td>\n",
       "      <td>60</td>\n",
       "    </tr>\n",
       "  </tbody>\n",
       "</table>\n",
       "</div>"
      ],
      "text/plain": [
       "   StudentID FirstName  EnrolYear  Math\n",
       "0      68822    Steven       2010   100\n",
       "1      68823      Alex       2010    90\n",
       "2      68844      Bill       2011    90\n",
       "3      68845      Mark       2011    40\n",
       "4      68846       Bob       2013    60"
      ]
     },
     "execution_count": 21,
     "metadata": {},
     "output_type": "execute_result"
    }
   ],
   "source": [
    "df = pd.DataFrame({\n",
    "  'StudentID' : [68822,68823,68844,68845,68846],\n",
    "  'FirstName' : ['Steven','Alex','Bill','Mark','Bob'],\n",
    "  'EnrolYear' : [2010,2010,2011,2011,2013],\n",
    "  'Math'      : [100,90,90,40,60]\n",
    "})\n",
    "df"
   ]
  },
  {
   "cell_type": "code",
   "execution_count": 22,
   "metadata": {},
   "outputs": [
    {
     "data": {
      "application/vnd.microsoft.datawrangler.viewer.v0+json": {
       "columns": [
        {
         "name": "index",
         "rawType": "int64",
         "type": "integer"
        },
        {
         "name": "StudentID",
         "rawType": "int64",
         "type": "integer"
        },
        {
         "name": "FirstName",
         "rawType": "object",
         "type": "string"
        },
        {
         "name": "EnrolYear",
         "rawType": "int64",
         "type": "integer"
        },
        {
         "name": "Math",
         "rawType": "int64",
         "type": "integer"
        },
        {
         "name": "English",
         "rawType": "int64",
         "type": "integer"
        }
       ],
       "conversionMethod": "pd.DataFrame",
       "ref": "4f4ec5ba-bf2d-4f75-9640-6793d169384b",
       "rows": [
        [
         "0",
         "68822",
         "Steven",
         "2010",
         "100",
         "60"
        ],
        [
         "1",
         "68823",
         "Alex",
         "2010",
         "90",
         "70"
        ],
        [
         "2",
         "68844",
         "Bill",
         "2011",
         "90",
         "80"
        ],
        [
         "3",
         "68845",
         "Mark",
         "2011",
         "40",
         "80"
        ],
        [
         "4",
         "68846",
         "Bob",
         "2013",
         "60",
         "60"
        ]
       ],
       "shape": {
        "columns": 5,
        "rows": 5
       }
      },
      "text/html": [
       "<div>\n",
       "<style scoped>\n",
       "    .dataframe tbody tr th:only-of-type {\n",
       "        vertical-align: middle;\n",
       "    }\n",
       "\n",
       "    .dataframe tbody tr th {\n",
       "        vertical-align: top;\n",
       "    }\n",
       "\n",
       "    .dataframe thead th {\n",
       "        text-align: right;\n",
       "    }\n",
       "</style>\n",
       "<table border=\"1\" class=\"dataframe\">\n",
       "  <thead>\n",
       "    <tr style=\"text-align: right;\">\n",
       "      <th></th>\n",
       "      <th>StudentID</th>\n",
       "      <th>FirstName</th>\n",
       "      <th>EnrolYear</th>\n",
       "      <th>Math</th>\n",
       "      <th>English</th>\n",
       "    </tr>\n",
       "  </thead>\n",
       "  <tbody>\n",
       "    <tr>\n",
       "      <th>0</th>\n",
       "      <td>68822</td>\n",
       "      <td>Steven</td>\n",
       "      <td>2010</td>\n",
       "      <td>100</td>\n",
       "      <td>60</td>\n",
       "    </tr>\n",
       "    <tr>\n",
       "      <th>1</th>\n",
       "      <td>68823</td>\n",
       "      <td>Alex</td>\n",
       "      <td>2010</td>\n",
       "      <td>90</td>\n",
       "      <td>70</td>\n",
       "    </tr>\n",
       "    <tr>\n",
       "      <th>2</th>\n",
       "      <td>68844</td>\n",
       "      <td>Bill</td>\n",
       "      <td>2011</td>\n",
       "      <td>90</td>\n",
       "      <td>80</td>\n",
       "    </tr>\n",
       "    <tr>\n",
       "      <th>3</th>\n",
       "      <td>68845</td>\n",
       "      <td>Mark</td>\n",
       "      <td>2011</td>\n",
       "      <td>40</td>\n",
       "      <td>80</td>\n",
       "    </tr>\n",
       "    <tr>\n",
       "      <th>4</th>\n",
       "      <td>68846</td>\n",
       "      <td>Bob</td>\n",
       "      <td>2013</td>\n",
       "      <td>60</td>\n",
       "      <td>60</td>\n",
       "    </tr>\n",
       "  </tbody>\n",
       "</table>\n",
       "</div>"
      ],
      "text/plain": [
       "   StudentID FirstName  EnrolYear  Math  English\n",
       "0      68822    Steven       2010   100       60\n",
       "1      68823      Alex       2010    90       70\n",
       "2      68844      Bill       2011    90       80\n",
       "3      68845      Mark       2011    40       80\n",
       "4      68846       Bob       2013    60       60"
      ]
     },
     "execution_count": 22,
     "metadata": {},
     "output_type": "execute_result"
    }
   ],
   "source": [
    "df4 = pd.merge(df, df3, on=['StudentID','FirstName'])\n",
    "df4"
   ]
  }
 ],
 "metadata": {
  "kernelspec": {
   "display_name": "Python 3",
   "language": "python",
   "name": "python3"
  },
  "language_info": {
   "codemirror_mode": {
    "name": "ipython",
    "version": 3
   },
   "file_extension": ".py",
   "mimetype": "text/x-python",
   "name": "python",
   "nbconvert_exporter": "python",
   "pygments_lexer": "ipython3",
   "version": "3.13.1"
  }
 },
 "nbformat": 4,
 "nbformat_minor": 2
}
