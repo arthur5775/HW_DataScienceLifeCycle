{
 "cells": [
  {
   "cell_type": "markdown",
   "metadata": {},
   "source": [
    "# F78DS - Data Science Life Cycle \n",
    "### Coursework 2\n",
    "Arthur Grossmann Le Mauguen \n",
    "\n",
    "H00494101\n",
    "\n",
    "1st of April 2025"
   ]
  },
  {
   "cell_type": "markdown",
   "metadata": {},
   "source": [
    "## Introduction"
   ]
  },
  {
   "cell_type": "markdown",
   "metadata": {},
   "source": [
    "### 1) Start with an introduction to the coursework."
   ]
  },
  {
   "cell_type": "markdown",
   "metadata": {},
   "source": [
    "In this coursework, we explore a dataset containing numerical characteristics of essays, aiming to uncover patterns and correlations between different textual features and their assigned scores. The dataset, \"F78DS-Essay-Features.csv\", provides various linguistic and structural attributes of essays, including word count, sentence structure, punctuation usage, and lexical diversity.\n",
    "\n",
    "Our objective is to analyze these features to identify the most influential factors in determining essay quality. This will involve statistical analysis, data visualization, and predictive modeling to assess how different textual components contribute to the verall scoring of essays."
   ]
  },
  {
   "cell_type": "markdown",
   "metadata": {},
   "source": [
    "<u>Directory Structure:</u>  \n",
    "To facilitate the reproducibility and organization of the project, the following directory structure is recommended:\n",
    "\n",
    "project_root/  \n",
    "│  \n",
    "├── DataScienceLifeCycleCoursework2_ArthurGrossmannLeMauguen_H00494101.ipynb  \n",
    "│  \n",
    "├── data/  \n",
    "│   ├── F78DS-Essay-Features.csv  \n",
    "│   └── F78DS-Essay-Features-Submission.csv  \n",
    "│  \n",
    "└── models/"
   ]
  },
  {
   "cell_type": "code",
   "execution_count": 72,
   "metadata": {},
   "outputs": [
    {
     "name": "stdout",
     "output_type": "stream",
     "text": [
      "Folder 'data' already exists.\n",
      "Folder 'models' created.\n"
     ]
    }
   ],
   "source": [
    "import os\n",
    "\n",
    "# Define the folder names\n",
    "folders = ['data', 'models']\n",
    "\n",
    "# Create the folders if they do not exist\n",
    "for folder in folders:\n",
    "    if not os.path.exists(folder):\n",
    "        os.makedirs(folder)\n",
    "        print(f\"Folder '{folder}' created.\")\n",
    "    else:\n",
    "        print(f\"Folder '{folder}' already exists.\")\n"
   ]
  },
  {
   "cell_type": "markdown",
   "metadata": {},
   "source": [
    "### 2) Importing the necessary libraries, read the file (‘F78DS-Essay-Features.csv‘), and provide some description of the data you have read (you do not need to repeat the description given in this file for each field)."
   ]
  },
  {
   "cell_type": "code",
   "execution_count": 49,
   "metadata": {},
   "outputs": [],
   "source": [
    "# Library import to read the data from the csv file\n",
    "import pandas as pd"
   ]
  },
  {
   "cell_type": "code",
   "execution_count": 50,
   "metadata": {},
   "outputs": [],
   "source": [
    "# Store the data from the csv file into a pandas dataframe\n",
    "df_Essay=pd.read_csv('data/F78DS-Essay-Features.csv')"
   ]
  },
  {
   "cell_type": "markdown",
   "metadata": {},
   "source": [
    "To better understand the dataset we will use the following:\n",
    "\n",
    "* describe(): Summarizes statistics (count, mean, min, max, quartiles) for numeric columns.\n",
    "* head(): Displays the first 5 rows of the DataFrame\n",
    "* dtypes: Displays the data type of each column in the Dataframe\n",
    "* columns: Lists the column names of the Dataframe\n",
    "* shape: Displays the dimensions of the Dataframe (rows, columns)"
   ]
  },
  {
   "cell_type": "code",
   "execution_count": 51,
   "metadata": {},
   "outputs": [
    {
     "data": {
      "application/vnd.microsoft.datawrangler.viewer.v0+json": {
       "columns": [
        {
         "name": "index",
         "rawType": "object",
         "type": "string"
        },
        {
         "name": "essayid",
         "rawType": "float64",
         "type": "float"
        },
        {
         "name": "chars",
         "rawType": "float64",
         "type": "float"
        },
        {
         "name": "words",
         "rawType": "float64",
         "type": "float"
        },
        {
         "name": "commas",
         "rawType": "float64",
         "type": "float"
        },
        {
         "name": "apostrophes",
         "rawType": "float64",
         "type": "float"
        },
        {
         "name": "punctuations",
         "rawType": "float64",
         "type": "float"
        },
        {
         "name": "avg_word_length",
         "rawType": "float64",
         "type": "float"
        },
        {
         "name": "sentences",
         "rawType": "float64",
         "type": "float"
        },
        {
         "name": "questions",
         "rawType": "float64",
         "type": "float"
        },
        {
         "name": "avg_word_sentence",
         "rawType": "float64",
         "type": "float"
        },
        {
         "name": "POS",
         "rawType": "float64",
         "type": "float"
        },
        {
         "name": "POS/total_words",
         "rawType": "float64",
         "type": "float"
        },
        {
         "name": "prompt_words",
         "rawType": "float64",
         "type": "float"
        },
        {
         "name": "prompt_words/total_words",
         "rawType": "float64",
         "type": "float"
        },
        {
         "name": "synonym_words",
         "rawType": "float64",
         "type": "float"
        },
        {
         "name": "synonym_words/total_words",
         "rawType": "float64",
         "type": "float"
        },
        {
         "name": "unstemmed",
         "rawType": "float64",
         "type": "float"
        },
        {
         "name": "stemmed",
         "rawType": "float64",
         "type": "float"
        },
        {
         "name": "score",
         "rawType": "float64",
         "type": "float"
        }
       ],
       "conversionMethod": "pd.DataFrame",
       "ref": "1f9dc8e3-2cc0-4a95-991e-c4e148d272ae",
       "rows": [
        [
         "count",
         "1332.0",
         "1332.0",
         "1332.0",
         "1332.0",
         "1332.0",
         "1332.0",
         "1332.0",
         "1332.0",
         "1332.0",
         "1332.0",
         "1332.0",
         "1332.0",
         "1332.0",
         "1332.0",
         "1332.0",
         "1332.0",
         "1332.0",
         "1332.0",
         "1332.0"
        ],
        [
         "mean",
         "905.2702702702703",
         "2101.7454954954956",
         "424.4857357357357",
         "14.667417417417417",
         "8.14114114114114",
         "0.4797297297297297",
         "4.93976216095045",
         "19.704204204204203",
         "1.222972972972973",
         "23.884686874754504",
         "420.59654169567574",
         "0.9899351385195196",
         "198.91366366366367",
         "0.46916386821621614",
         "110.16966966966967",
         "0.26384560256006",
         "468.987987987988",
         "455.5075075075075",
         "3.4271771771771773"
        ],
        [
         "std",
         "526.6875997453773",
         "865.9637499171245",
         "171.87372998829517",
         "10.92078113015728",
         "6.124519666562006",
         "1.2716798236117233",
         "0.23107146022809844",
         "19.202731470032727",
         "1.8474457008532275",
         "11.1600200461438",
         "170.98511051781279",
         "0.007308354612039423",
         "82.72926648819583",
         "0.05246604899849947",
         "43.9619196481968",
         "0.03887041743744313",
         "159.44744890257275",
         "155.75121979622733",
         "0.7742746714549293"
        ],
        [
         "min",
         "0.0",
         "169.0",
         "36.0",
         "0.0",
         "2.0",
         "0.0",
         "2.231321839",
         "0.0",
         "0.0",
         "1.08411215",
         "35.64705882",
         "0.924771388",
         "14.0",
         "0.288888889",
         "11.0",
         "0.027298851",
         "48.0",
         "50.0",
         "1.0"
        ],
        [
         "25%",
         "442.75",
         "1527.25",
         "310.0",
         "7.0",
         "4.0",
         "0.0",
         "4.79167869375",
         "13.0",
         "0.0",
         "19.14285714",
         "305.40628415",
         "0.98775761175",
         "144.0",
         "0.43570854400000003",
         "81.0",
         "0.23842291724999998",
         "361.0",
         "350.75",
         "3.0"
        ],
        [
         "50%",
         "914.5",
         "2029.5",
         "411.0",
         "13.0",
         "6.0",
         "0.0",
         "4.946059456",
         "18.0",
         "1.0",
         "22.03033088",
         "406.9828691",
         "0.9915724335",
         "193.0",
         "0.465851523",
         "107.5",
         "0.26287187050000005",
         "463.0",
         "448.0",
         "3.0"
        ],
        [
         "75%",
         "1369.75",
         "2613.5",
         "525.0",
         "21.0",
         "11.0",
         "0.0",
         "5.092937666499999",
         "24.0",
         "2.0",
         "26.048233695",
         "520.739458025",
         "0.9944250862499999",
         "246.0",
         "0.5",
         "134.0",
         "0.288276784",
         "581.0",
         "561.25",
         "4.0"
        ],
        [
         "max",
         "1799.0",
         "6142.0",
         "1170.0",
         "72.0",
         "51.0",
         "26.0",
         "5.6814285710000005",
         "642.0",
         "17.0",
         "303.0",
         "1158.984563",
         "1.0",
         "669.0",
         "0.961206897",
         "355.0",
         "0.465517241",
         "750.0",
         "750.0",
         "6.0"
        ]
       ],
       "shape": {
        "columns": 19,
        "rows": 8
       }
      },
      "text/html": [
       "<div>\n",
       "<style scoped>\n",
       "    .dataframe tbody tr th:only-of-type {\n",
       "        vertical-align: middle;\n",
       "    }\n",
       "\n",
       "    .dataframe tbody tr th {\n",
       "        vertical-align: top;\n",
       "    }\n",
       "\n",
       "    .dataframe thead th {\n",
       "        text-align: right;\n",
       "    }\n",
       "</style>\n",
       "<table border=\"1\" class=\"dataframe\">\n",
       "  <thead>\n",
       "    <tr style=\"text-align: right;\">\n",
       "      <th></th>\n",
       "      <th>essayid</th>\n",
       "      <th>chars</th>\n",
       "      <th>words</th>\n",
       "      <th>commas</th>\n",
       "      <th>apostrophes</th>\n",
       "      <th>punctuations</th>\n",
       "      <th>avg_word_length</th>\n",
       "      <th>sentences</th>\n",
       "      <th>questions</th>\n",
       "      <th>avg_word_sentence</th>\n",
       "      <th>POS</th>\n",
       "      <th>POS/total_words</th>\n",
       "      <th>prompt_words</th>\n",
       "      <th>prompt_words/total_words</th>\n",
       "      <th>synonym_words</th>\n",
       "      <th>synonym_words/total_words</th>\n",
       "      <th>unstemmed</th>\n",
       "      <th>stemmed</th>\n",
       "      <th>score</th>\n",
       "    </tr>\n",
       "  </thead>\n",
       "  <tbody>\n",
       "    <tr>\n",
       "      <th>count</th>\n",
       "      <td>1332.00000</td>\n",
       "      <td>1332.000000</td>\n",
       "      <td>1332.000000</td>\n",
       "      <td>1332.000000</td>\n",
       "      <td>1332.000000</td>\n",
       "      <td>1332.00000</td>\n",
       "      <td>1332.000000</td>\n",
       "      <td>1332.000000</td>\n",
       "      <td>1332.000000</td>\n",
       "      <td>1332.000000</td>\n",
       "      <td>1332.000000</td>\n",
       "      <td>1332.000000</td>\n",
       "      <td>1332.000000</td>\n",
       "      <td>1332.000000</td>\n",
       "      <td>1332.00000</td>\n",
       "      <td>1332.000000</td>\n",
       "      <td>1332.000000</td>\n",
       "      <td>1332.000000</td>\n",
       "      <td>1332.000000</td>\n",
       "    </tr>\n",
       "    <tr>\n",
       "      <th>mean</th>\n",
       "      <td>905.27027</td>\n",
       "      <td>2101.745495</td>\n",
       "      <td>424.485736</td>\n",
       "      <td>14.667417</td>\n",
       "      <td>8.141141</td>\n",
       "      <td>0.47973</td>\n",
       "      <td>4.939762</td>\n",
       "      <td>19.704204</td>\n",
       "      <td>1.222973</td>\n",
       "      <td>23.884687</td>\n",
       "      <td>420.596542</td>\n",
       "      <td>0.989935</td>\n",
       "      <td>198.913664</td>\n",
       "      <td>0.469164</td>\n",
       "      <td>110.16967</td>\n",
       "      <td>0.263846</td>\n",
       "      <td>468.987988</td>\n",
       "      <td>455.507508</td>\n",
       "      <td>3.427177</td>\n",
       "    </tr>\n",
       "    <tr>\n",
       "      <th>std</th>\n",
       "      <td>526.68760</td>\n",
       "      <td>865.963750</td>\n",
       "      <td>171.873730</td>\n",
       "      <td>10.920781</td>\n",
       "      <td>6.124520</td>\n",
       "      <td>1.27168</td>\n",
       "      <td>0.231071</td>\n",
       "      <td>19.202731</td>\n",
       "      <td>1.847446</td>\n",
       "      <td>11.160020</td>\n",
       "      <td>170.985111</td>\n",
       "      <td>0.007308</td>\n",
       "      <td>82.729266</td>\n",
       "      <td>0.052466</td>\n",
       "      <td>43.96192</td>\n",
       "      <td>0.038870</td>\n",
       "      <td>159.447449</td>\n",
       "      <td>155.751220</td>\n",
       "      <td>0.774275</td>\n",
       "    </tr>\n",
       "    <tr>\n",
       "      <th>min</th>\n",
       "      <td>0.00000</td>\n",
       "      <td>169.000000</td>\n",
       "      <td>36.000000</td>\n",
       "      <td>0.000000</td>\n",
       "      <td>2.000000</td>\n",
       "      <td>0.00000</td>\n",
       "      <td>2.231322</td>\n",
       "      <td>0.000000</td>\n",
       "      <td>0.000000</td>\n",
       "      <td>1.084112</td>\n",
       "      <td>35.647059</td>\n",
       "      <td>0.924771</td>\n",
       "      <td>14.000000</td>\n",
       "      <td>0.288889</td>\n",
       "      <td>11.00000</td>\n",
       "      <td>0.027299</td>\n",
       "      <td>48.000000</td>\n",
       "      <td>50.000000</td>\n",
       "      <td>1.000000</td>\n",
       "    </tr>\n",
       "    <tr>\n",
       "      <th>25%</th>\n",
       "      <td>442.75000</td>\n",
       "      <td>1527.250000</td>\n",
       "      <td>310.000000</td>\n",
       "      <td>7.000000</td>\n",
       "      <td>4.000000</td>\n",
       "      <td>0.00000</td>\n",
       "      <td>4.791679</td>\n",
       "      <td>13.000000</td>\n",
       "      <td>0.000000</td>\n",
       "      <td>19.142857</td>\n",
       "      <td>305.406284</td>\n",
       "      <td>0.987758</td>\n",
       "      <td>144.000000</td>\n",
       "      <td>0.435709</td>\n",
       "      <td>81.00000</td>\n",
       "      <td>0.238423</td>\n",
       "      <td>361.000000</td>\n",
       "      <td>350.750000</td>\n",
       "      <td>3.000000</td>\n",
       "    </tr>\n",
       "    <tr>\n",
       "      <th>50%</th>\n",
       "      <td>914.50000</td>\n",
       "      <td>2029.500000</td>\n",
       "      <td>411.000000</td>\n",
       "      <td>13.000000</td>\n",
       "      <td>6.000000</td>\n",
       "      <td>0.00000</td>\n",
       "      <td>4.946059</td>\n",
       "      <td>18.000000</td>\n",
       "      <td>1.000000</td>\n",
       "      <td>22.030331</td>\n",
       "      <td>406.982869</td>\n",
       "      <td>0.991572</td>\n",
       "      <td>193.000000</td>\n",
       "      <td>0.465852</td>\n",
       "      <td>107.50000</td>\n",
       "      <td>0.262872</td>\n",
       "      <td>463.000000</td>\n",
       "      <td>448.000000</td>\n",
       "      <td>3.000000</td>\n",
       "    </tr>\n",
       "    <tr>\n",
       "      <th>75%</th>\n",
       "      <td>1369.75000</td>\n",
       "      <td>2613.500000</td>\n",
       "      <td>525.000000</td>\n",
       "      <td>21.000000</td>\n",
       "      <td>11.000000</td>\n",
       "      <td>0.00000</td>\n",
       "      <td>5.092938</td>\n",
       "      <td>24.000000</td>\n",
       "      <td>2.000000</td>\n",
       "      <td>26.048234</td>\n",
       "      <td>520.739458</td>\n",
       "      <td>0.994425</td>\n",
       "      <td>246.000000</td>\n",
       "      <td>0.500000</td>\n",
       "      <td>134.00000</td>\n",
       "      <td>0.288277</td>\n",
       "      <td>581.000000</td>\n",
       "      <td>561.250000</td>\n",
       "      <td>4.000000</td>\n",
       "    </tr>\n",
       "    <tr>\n",
       "      <th>max</th>\n",
       "      <td>1799.00000</td>\n",
       "      <td>6142.000000</td>\n",
       "      <td>1170.000000</td>\n",
       "      <td>72.000000</td>\n",
       "      <td>51.000000</td>\n",
       "      <td>26.00000</td>\n",
       "      <td>5.681429</td>\n",
       "      <td>642.000000</td>\n",
       "      <td>17.000000</td>\n",
       "      <td>303.000000</td>\n",
       "      <td>1158.984563</td>\n",
       "      <td>1.000000</td>\n",
       "      <td>669.000000</td>\n",
       "      <td>0.961207</td>\n",
       "      <td>355.00000</td>\n",
       "      <td>0.465517</td>\n",
       "      <td>750.000000</td>\n",
       "      <td>750.000000</td>\n",
       "      <td>6.000000</td>\n",
       "    </tr>\n",
       "  </tbody>\n",
       "</table>\n",
       "</div>"
      ],
      "text/plain": [
       "          essayid        chars        words       commas  apostrophes  \\\n",
       "count  1332.00000  1332.000000  1332.000000  1332.000000  1332.000000   \n",
       "mean    905.27027  2101.745495   424.485736    14.667417     8.141141   \n",
       "std     526.68760   865.963750   171.873730    10.920781     6.124520   \n",
       "min       0.00000   169.000000    36.000000     0.000000     2.000000   \n",
       "25%     442.75000  1527.250000   310.000000     7.000000     4.000000   \n",
       "50%     914.50000  2029.500000   411.000000    13.000000     6.000000   \n",
       "75%    1369.75000  2613.500000   525.000000    21.000000    11.000000   \n",
       "max    1799.00000  6142.000000  1170.000000    72.000000    51.000000   \n",
       "\n",
       "       punctuations  avg_word_length    sentences    questions  \\\n",
       "count    1332.00000      1332.000000  1332.000000  1332.000000   \n",
       "mean        0.47973         4.939762    19.704204     1.222973   \n",
       "std         1.27168         0.231071    19.202731     1.847446   \n",
       "min         0.00000         2.231322     0.000000     0.000000   \n",
       "25%         0.00000         4.791679    13.000000     0.000000   \n",
       "50%         0.00000         4.946059    18.000000     1.000000   \n",
       "75%         0.00000         5.092938    24.000000     2.000000   \n",
       "max        26.00000         5.681429   642.000000    17.000000   \n",
       "\n",
       "       avg_word_sentence          POS  POS/total_words  prompt_words  \\\n",
       "count        1332.000000  1332.000000      1332.000000   1332.000000   \n",
       "mean           23.884687   420.596542         0.989935    198.913664   \n",
       "std            11.160020   170.985111         0.007308     82.729266   \n",
       "min             1.084112    35.647059         0.924771     14.000000   \n",
       "25%            19.142857   305.406284         0.987758    144.000000   \n",
       "50%            22.030331   406.982869         0.991572    193.000000   \n",
       "75%            26.048234   520.739458         0.994425    246.000000   \n",
       "max           303.000000  1158.984563         1.000000    669.000000   \n",
       "\n",
       "       prompt_words/total_words  synonym_words  synonym_words/total_words  \\\n",
       "count               1332.000000     1332.00000                1332.000000   \n",
       "mean                   0.469164      110.16967                   0.263846   \n",
       "std                    0.052466       43.96192                   0.038870   \n",
       "min                    0.288889       11.00000                   0.027299   \n",
       "25%                    0.435709       81.00000                   0.238423   \n",
       "50%                    0.465852      107.50000                   0.262872   \n",
       "75%                    0.500000      134.00000                   0.288277   \n",
       "max                    0.961207      355.00000                   0.465517   \n",
       "\n",
       "         unstemmed      stemmed        score  \n",
       "count  1332.000000  1332.000000  1332.000000  \n",
       "mean    468.987988   455.507508     3.427177  \n",
       "std     159.447449   155.751220     0.774275  \n",
       "min      48.000000    50.000000     1.000000  \n",
       "25%     361.000000   350.750000     3.000000  \n",
       "50%     463.000000   448.000000     3.000000  \n",
       "75%     581.000000   561.250000     4.000000  \n",
       "max     750.000000   750.000000     6.000000  "
      ]
     },
     "execution_count": 51,
     "metadata": {},
     "output_type": "execute_result"
    }
   ],
   "source": [
    "df_Essay.describe()"
   ]
  },
  {
   "cell_type": "code",
   "execution_count": 52,
   "metadata": {},
   "outputs": [
    {
     "data": {
      "application/vnd.microsoft.datawrangler.viewer.v0+json": {
       "columns": [
        {
         "name": "index",
         "rawType": "int64",
         "type": "integer"
        },
        {
         "name": "essayid",
         "rawType": "int64",
         "type": "integer"
        },
        {
         "name": "chars",
         "rawType": "int64",
         "type": "integer"
        },
        {
         "name": "words",
         "rawType": "int64",
         "type": "integer"
        },
        {
         "name": "commas",
         "rawType": "int64",
         "type": "integer"
        },
        {
         "name": "apostrophes",
         "rawType": "int64",
         "type": "integer"
        },
        {
         "name": "punctuations",
         "rawType": "int64",
         "type": "integer"
        },
        {
         "name": "avg_word_length",
         "rawType": "float64",
         "type": "float"
        },
        {
         "name": "sentences",
         "rawType": "int64",
         "type": "integer"
        },
        {
         "name": "questions",
         "rawType": "int64",
         "type": "integer"
        },
        {
         "name": "avg_word_sentence",
         "rawType": "float64",
         "type": "float"
        },
        {
         "name": "POS",
         "rawType": "float64",
         "type": "float"
        },
        {
         "name": "POS/total_words",
         "rawType": "float64",
         "type": "float"
        },
        {
         "name": "prompt_words",
         "rawType": "int64",
         "type": "integer"
        },
        {
         "name": "prompt_words/total_words",
         "rawType": "float64",
         "type": "float"
        },
        {
         "name": "synonym_words",
         "rawType": "int64",
         "type": "integer"
        },
        {
         "name": "synonym_words/total_words",
         "rawType": "float64",
         "type": "float"
        },
        {
         "name": "unstemmed",
         "rawType": "int64",
         "type": "integer"
        },
        {
         "name": "stemmed",
         "rawType": "int64",
         "type": "integer"
        },
        {
         "name": "score",
         "rawType": "int64",
         "type": "integer"
        }
       ],
       "conversionMethod": "pd.DataFrame",
       "ref": "b671a09b-26ac-4878-8432-0db033909570",
       "rows": [
        [
         "0",
         "1457",
         "2153",
         "426",
         "14",
         "6",
         "0",
         "5.05399061",
         "16",
         "0",
         "26.625",
         "423.9952719",
         "0.995294065",
         "207",
         "0.485915493",
         "105",
         "0.246478873",
         "424",
         "412",
         "4"
        ],
        [
         "1",
         "503",
         "1480",
         "292",
         "9",
         "7",
         "0",
         "5.068493151",
         "11",
         "0",
         "26.54545455",
         "290.9931034",
         "0.996551724",
         "148",
         "0.506849315",
         "77",
         "0.26369863",
         "356",
         "345",
         "4"
        ],
        [
         "2",
         "253",
         "3964",
         "849",
         "19",
         "26",
         "1",
         "4.669022378999999",
         "49",
         "2",
         "17.32653061",
         "843.9905437000001",
         "0.99409958",
         "285",
         "0.335689046",
         "130",
         "0.153121319",
         "750",
         "750",
         "4"
        ],
        [
         "3",
         "107",
         "988",
         "210",
         "8",
         "7",
         "0",
         "4.704761905",
         "12",
         "0",
         "17.5",
         "207.6537842",
         "0.988827544",
         "112",
         "0.533333333",
         "62",
         "0.295238095",
         "217",
         "209",
         "3"
        ],
        [
         "4",
         "1450",
         "3139",
         "600",
         "13",
         "8",
         "0",
         "5.231666667",
         "24",
         "1",
         "25.0",
         "594.6521496",
         "0.991086916",
         "255",
         "0.425",
         "165",
         "0.275",
         "702",
         "677",
         "4"
        ]
       ],
       "shape": {
        "columns": 19,
        "rows": 5
       }
      },
      "text/html": [
       "<div>\n",
       "<style scoped>\n",
       "    .dataframe tbody tr th:only-of-type {\n",
       "        vertical-align: middle;\n",
       "    }\n",
       "\n",
       "    .dataframe tbody tr th {\n",
       "        vertical-align: top;\n",
       "    }\n",
       "\n",
       "    .dataframe thead th {\n",
       "        text-align: right;\n",
       "    }\n",
       "</style>\n",
       "<table border=\"1\" class=\"dataframe\">\n",
       "  <thead>\n",
       "    <tr style=\"text-align: right;\">\n",
       "      <th></th>\n",
       "      <th>essayid</th>\n",
       "      <th>chars</th>\n",
       "      <th>words</th>\n",
       "      <th>commas</th>\n",
       "      <th>apostrophes</th>\n",
       "      <th>punctuations</th>\n",
       "      <th>avg_word_length</th>\n",
       "      <th>sentences</th>\n",
       "      <th>questions</th>\n",
       "      <th>avg_word_sentence</th>\n",
       "      <th>POS</th>\n",
       "      <th>POS/total_words</th>\n",
       "      <th>prompt_words</th>\n",
       "      <th>prompt_words/total_words</th>\n",
       "      <th>synonym_words</th>\n",
       "      <th>synonym_words/total_words</th>\n",
       "      <th>unstemmed</th>\n",
       "      <th>stemmed</th>\n",
       "      <th>score</th>\n",
       "    </tr>\n",
       "  </thead>\n",
       "  <tbody>\n",
       "    <tr>\n",
       "      <th>0</th>\n",
       "      <td>1457</td>\n",
       "      <td>2153</td>\n",
       "      <td>426</td>\n",
       "      <td>14</td>\n",
       "      <td>6</td>\n",
       "      <td>0</td>\n",
       "      <td>5.053991</td>\n",
       "      <td>16</td>\n",
       "      <td>0</td>\n",
       "      <td>26.625000</td>\n",
       "      <td>423.995272</td>\n",
       "      <td>0.995294</td>\n",
       "      <td>207</td>\n",
       "      <td>0.485915</td>\n",
       "      <td>105</td>\n",
       "      <td>0.246479</td>\n",
       "      <td>424</td>\n",
       "      <td>412</td>\n",
       "      <td>4</td>\n",
       "    </tr>\n",
       "    <tr>\n",
       "      <th>1</th>\n",
       "      <td>503</td>\n",
       "      <td>1480</td>\n",
       "      <td>292</td>\n",
       "      <td>9</td>\n",
       "      <td>7</td>\n",
       "      <td>0</td>\n",
       "      <td>5.068493</td>\n",
       "      <td>11</td>\n",
       "      <td>0</td>\n",
       "      <td>26.545455</td>\n",
       "      <td>290.993103</td>\n",
       "      <td>0.996552</td>\n",
       "      <td>148</td>\n",
       "      <td>0.506849</td>\n",
       "      <td>77</td>\n",
       "      <td>0.263699</td>\n",
       "      <td>356</td>\n",
       "      <td>345</td>\n",
       "      <td>4</td>\n",
       "    </tr>\n",
       "    <tr>\n",
       "      <th>2</th>\n",
       "      <td>253</td>\n",
       "      <td>3964</td>\n",
       "      <td>849</td>\n",
       "      <td>19</td>\n",
       "      <td>26</td>\n",
       "      <td>1</td>\n",
       "      <td>4.669022</td>\n",
       "      <td>49</td>\n",
       "      <td>2</td>\n",
       "      <td>17.326531</td>\n",
       "      <td>843.990544</td>\n",
       "      <td>0.994100</td>\n",
       "      <td>285</td>\n",
       "      <td>0.335689</td>\n",
       "      <td>130</td>\n",
       "      <td>0.153121</td>\n",
       "      <td>750</td>\n",
       "      <td>750</td>\n",
       "      <td>4</td>\n",
       "    </tr>\n",
       "    <tr>\n",
       "      <th>3</th>\n",
       "      <td>107</td>\n",
       "      <td>988</td>\n",
       "      <td>210</td>\n",
       "      <td>8</td>\n",
       "      <td>7</td>\n",
       "      <td>0</td>\n",
       "      <td>4.704762</td>\n",
       "      <td>12</td>\n",
       "      <td>0</td>\n",
       "      <td>17.500000</td>\n",
       "      <td>207.653784</td>\n",
       "      <td>0.988828</td>\n",
       "      <td>112</td>\n",
       "      <td>0.533333</td>\n",
       "      <td>62</td>\n",
       "      <td>0.295238</td>\n",
       "      <td>217</td>\n",
       "      <td>209</td>\n",
       "      <td>3</td>\n",
       "    </tr>\n",
       "    <tr>\n",
       "      <th>4</th>\n",
       "      <td>1450</td>\n",
       "      <td>3139</td>\n",
       "      <td>600</td>\n",
       "      <td>13</td>\n",
       "      <td>8</td>\n",
       "      <td>0</td>\n",
       "      <td>5.231667</td>\n",
       "      <td>24</td>\n",
       "      <td>1</td>\n",
       "      <td>25.000000</td>\n",
       "      <td>594.652150</td>\n",
       "      <td>0.991087</td>\n",
       "      <td>255</td>\n",
       "      <td>0.425000</td>\n",
       "      <td>165</td>\n",
       "      <td>0.275000</td>\n",
       "      <td>702</td>\n",
       "      <td>677</td>\n",
       "      <td>4</td>\n",
       "    </tr>\n",
       "  </tbody>\n",
       "</table>\n",
       "</div>"
      ],
      "text/plain": [
       "   essayid  chars  words  commas  apostrophes  punctuations  avg_word_length  \\\n",
       "0     1457   2153    426      14            6             0         5.053991   \n",
       "1      503   1480    292       9            7             0         5.068493   \n",
       "2      253   3964    849      19           26             1         4.669022   \n",
       "3      107    988    210       8            7             0         4.704762   \n",
       "4     1450   3139    600      13            8             0         5.231667   \n",
       "\n",
       "   sentences  questions  avg_word_sentence         POS  POS/total_words  \\\n",
       "0         16          0          26.625000  423.995272         0.995294   \n",
       "1         11          0          26.545455  290.993103         0.996552   \n",
       "2         49          2          17.326531  843.990544         0.994100   \n",
       "3         12          0          17.500000  207.653784         0.988828   \n",
       "4         24          1          25.000000  594.652150         0.991087   \n",
       "\n",
       "   prompt_words  prompt_words/total_words  synonym_words  \\\n",
       "0           207                  0.485915            105   \n",
       "1           148                  0.506849             77   \n",
       "2           285                  0.335689            130   \n",
       "3           112                  0.533333             62   \n",
       "4           255                  0.425000            165   \n",
       "\n",
       "   synonym_words/total_words  unstemmed  stemmed  score  \n",
       "0                   0.246479        424      412      4  \n",
       "1                   0.263699        356      345      4  \n",
       "2                   0.153121        750      750      4  \n",
       "3                   0.295238        217      209      3  \n",
       "4                   0.275000        702      677      4  "
      ]
     },
     "execution_count": 52,
     "metadata": {},
     "output_type": "execute_result"
    }
   ],
   "source": [
    "df_Essay.head()"
   ]
  },
  {
   "cell_type": "code",
   "execution_count": 53,
   "metadata": {},
   "outputs": [
    {
     "data": {
      "text/plain": [
       "essayid                        int64\n",
       "chars                          int64\n",
       "words                          int64\n",
       "commas                         int64\n",
       "apostrophes                    int64\n",
       "punctuations                   int64\n",
       "avg_word_length              float64\n",
       "sentences                      int64\n",
       "questions                      int64\n",
       "avg_word_sentence            float64\n",
       "POS                          float64\n",
       "POS/total_words              float64\n",
       "prompt_words                   int64\n",
       "prompt_words/total_words     float64\n",
       "synonym_words                  int64\n",
       "synonym_words/total_words    float64\n",
       "unstemmed                      int64\n",
       "stemmed                        int64\n",
       "score                          int64\n",
       "dtype: object"
      ]
     },
     "execution_count": 53,
     "metadata": {},
     "output_type": "execute_result"
    }
   ],
   "source": [
    "df_Essay.dtypes"
   ]
  },
  {
   "cell_type": "code",
   "execution_count": 54,
   "metadata": {},
   "outputs": [
    {
     "data": {
      "text/plain": [
       "Index(['essayid', 'chars', 'words', 'commas', 'apostrophes', 'punctuations',\n",
       "       'avg_word_length', 'sentences', 'questions', 'avg_word_sentence', 'POS',\n",
       "       'POS/total_words', 'prompt_words', 'prompt_words/total_words',\n",
       "       'synonym_words', 'synonym_words/total_words', 'unstemmed', 'stemmed',\n",
       "       'score'],\n",
       "      dtype='object')"
      ]
     },
     "execution_count": 54,
     "metadata": {},
     "output_type": "execute_result"
    }
   ],
   "source": [
    "df_Essay.columns"
   ]
  },
  {
   "cell_type": "code",
   "execution_count": 55,
   "metadata": {},
   "outputs": [
    {
     "data": {
      "text/plain": [
       "(1332, 19)"
      ]
     },
     "execution_count": 55,
     "metadata": {},
     "output_type": "execute_result"
    }
   ],
   "source": [
    "df_Essay.shape"
   ]
  },
  {
   "cell_type": "markdown",
   "metadata": {},
   "source": [
    "* The dataset contains **1,322 essays**. \n",
    "* Essays vary significantly in length, from as few as **169 characters (36 words)** to as many as **6142 characters (1,170 words)**.  \n",
    "* The average word count is approximately **424 words**, with a maximum of **1170 words**.  \n",
    "* Essays generally contain few questions, with an average of **1.22 questions per essay**.  \n",
    "* The number of Part-of-Speech (POS) elements is closely related to the total word count, indicating a rich linguistic structure in longer essays.  \n",
    "* The score distribution ranges **from 1 to 6**, with an average score of **3.42** and a median at **3** (more than half of the students have a grade of 3 or more, this students have passing grades in Heriot Watt University)"
   ]
  },
  {
   "cell_type": "markdown",
   "metadata": {},
   "source": [
    "## 2) Supervised Learning"
   ]
  },
  {
   "cell_type": "markdown",
   "metadata": {},
   "source": [
    "### 1) Explain supervised machine learning, the notion of labelled data, and the training and test datasets."
   ]
  },
  {
   "cell_type": "markdown",
   "metadata": {},
   "source": [
    "<u>**Supervised machine learning**</u> is a type of machine learning in which an algorithm learns to associate or map input data (labelled data, see next section for definition) with corresponding outputs. By identifying patterns in the provided examples, the model can then make **predictions** or **classify** new data points. The objective is to develop a model capable of generalizing effectively to unseen data by identifying **patterns** from past examples. This contrasts with unsupervised learning, where the model independently identifies features and structures the data.\n",
    "\n",
    "In supervised learning, there are two main types of problems:\n",
    "\n",
    "* Regression: Predicting a continuous value (e.g., predicting house prices based on square footage, grades based on the length of an essay).\n",
    "* Classification: Assigning data points to categories or classes (e.g., determining if an email is spam or not, whether a picture features a cat or a dog).\n",
    "\n",
    "<u>**Labelled Data**</u>  \n",
    "Labelled data is a dataset where each input example (feature) is paired with a corresponding output (label or target variable). Label refers to the  expected output, what the model should predict using the features. This allows the unsupervised machine learning model to learn relationships between input features and their correct outputs.\n",
    "\n",
    "In the F78DS-Essay-Features.csv dataset, each essay has numerical features (e.g., word count, characters count) as inputs and a score as the output label. The model can learn from these examples to predict the score of new essays.\n",
    "\n",
    "<u>**Training and Test Datasets**</u>  \n",
    "When building a supervised machine learning model, the dataset is typically divided into two subsets:\n",
    "\n",
    "**Training Dataset**  \n",
    "* Used to train the model by providing examples with known outputs.  \n",
    "* The model learns patterns between features and labels in the data and adjusts its internal parameters. \n",
    "\n",
    "**Test Dataset**  \n",
    "* Used to evaluate the model’s performance on unseen data.  \n",
    "* Helps check if the model generalizes well (how well it can predict labels of data it has not seen before) and avoids overfitting (memorizing training data instead of learning general patterns).  \n",
    "* In some cases, a validation dataset is also used to fine-tune the model by opimizing the hyperparameters before final testing(it's a separate subset of data used during training to fine-tune the model and prevent overfitting).  \n",
    "\n",
    "Example in the Context of Essay Scoring  \n",
    "* Training Data: A subset of essays with their features (e.g., word count, punctuation, sentence structure) and known scores.  \n",
    "* Test Data: A different subset of essays with features but without exposing the scores to the model. The model predicts scores, which are then compared to actual scores to measure accuracy.\n",
    "\n",
    "By using this approach, we can develop a machine learning model that predicts essay scores based on textual features."
   ]
  },
  {
   "cell_type": "markdown",
   "metadata": {},
   "source": [
    "### 2) Separate the features and the label (Hint: the label in this case is the ‘score’)"
   ]
  },
  {
   "cell_type": "code",
   "execution_count": 56,
   "metadata": {},
   "outputs": [
    {
     "data": {
      "text/plain": [
       "(   essayid  chars  words  commas  apostrophes  punctuations  avg_word_length  \\\n",
       " 0     1457   2153    426      14            6             0         5.053991   \n",
       " 1      503   1480    292       9            7             0         5.068493   \n",
       " 2      253   3964    849      19           26             1         4.669022   \n",
       " 3      107    988    210       8            7             0         4.704762   \n",
       " 4     1450   3139    600      13            8             0         5.231667   \n",
       " \n",
       "    sentences  questions  avg_word_sentence         POS  POS/total_words  \\\n",
       " 0         16          0          26.625000  423.995272         0.995294   \n",
       " 1         11          0          26.545455  290.993103         0.996552   \n",
       " 2         49          2          17.326531  843.990544         0.994100   \n",
       " 3         12          0          17.500000  207.653784         0.988828   \n",
       " 4         24          1          25.000000  594.652150         0.991087   \n",
       " \n",
       "    prompt_words  prompt_words/total_words  synonym_words  \\\n",
       " 0           207                  0.485915            105   \n",
       " 1           148                  0.506849             77   \n",
       " 2           285                  0.335689            130   \n",
       " 3           112                  0.533333             62   \n",
       " 4           255                  0.425000            165   \n",
       " \n",
       "    synonym_words/total_words  unstemmed  stemmed  \n",
       " 0                   0.246479        424      412  \n",
       " 1                   0.263699        356      345  \n",
       " 2                   0.153121        750      750  \n",
       " 3                   0.295238        217      209  \n",
       " 4                   0.275000        702      677  ,\n",
       " 0    4\n",
       " 1    4\n",
       " 2    4\n",
       " 3    3\n",
       " 4    4\n",
       " Name: score, dtype: int64)"
      ]
     },
     "execution_count": 56,
     "metadata": {},
     "output_type": "execute_result"
    }
   ],
   "source": [
    "# Separate features (X) and label (y)\n",
    "X = df_Essay.drop(columns=['score'])  # Features (all columns except 'score')\n",
    "y = df_Essay['score']  # Label (target variable)\n",
    "\n",
    "# Display the first few rows of features and labels\n",
    "X.head(), y.head()"
   ]
  },
  {
   "cell_type": "markdown",
   "metadata": {},
   "source": [
    "### 3) Conduct feature selection (if appropriate) to improve the model performance"
   ]
  },
  {
   "cell_type": "markdown",
   "metadata": {},
   "source": [
    "Feature selection is a crucial step in machine learning that helps improve model performance by identifying and retaining the most relevant features while reducing dimensionality and eliminating redundant or irrelevant data. One common approach is using a correlation matrix, which measures the relationships between features. We might need to fine-tune our features choice to improve accuracy."
   ]
  },
  {
   "cell_type": "code",
   "execution_count": 57,
   "metadata": {},
   "outputs": [
    {
     "data": {
      "image/png": "[encoded data removed]",
      "text/plain": [
       "<Figure size 1200x800 with 2 Axes>"
      ]
     },
     "metadata": {},
     "output_type": "display_data"
    },
    {
     "data": {
      "image/png": "[encoded data removed]",
      "text/plain": [
       "<Figure size 1000x600 with 1 Axes>"
      ]
     },
     "metadata": {},
     "output_type": "display_data"
    },
    {
     "data": {
      "text/plain": [
       "chars              0.109018\n",
       "prompt_words       0.095753\n",
       "words              0.089546\n",
       "POS                0.083922\n",
       "stemmed            0.083229\n",
       "unstemmed          0.082740\n",
       "avg_word_length    0.079050\n",
       "commas             0.064929\n",
       "synonym_words      0.062837\n",
       "essayid            0.059921\n",
       "dtype: float64"
      ]
     },
     "execution_count": 57,
     "metadata": {},
     "output_type": "execute_result"
    }
   ],
   "source": [
    "# Library import to conduct feature selection\n",
    "import numpy as np \n",
    "import seaborn as sns\n",
    "import matplotlib.pyplot as plt\n",
    "from sklearn.ensemble import RandomForestClassifier\n",
    "from sklearn.feature_selection import VarianceThreshold\n",
    "\n",
    "# 1. Correlation Analysis (Heatmap)\n",
    "plt.figure(figsize=(12, 8))\n",
    "heatmap = df_Essay.corr()\n",
    "#sns.heatmap(heatmap, annot=False, cmap=\"coolwarm\", linewidths=0.5)\n",
    "sns.heatmap(heatmap, annot=True, cmap=\"coolwarm\", linewidths=0.5) # Display correlation values on heatmap with annot=True to display values\n",
    "plt.title(\"Feature Correlation Heatmap\")\n",
    "plt.show()\n",
    "\n",
    "# 2. Variance Threshold - Remove low variance features\n",
    "selector = VarianceThreshold(threshold=0.01)  # Removing near-constant features\n",
    "X_high_variance = selector.fit_transform(X)\n",
    "# Get selected feature names\n",
    "selected_features = X.columns[selector.get_support()]\n",
    "\n",
    "# 3. Feature Importance using RandomForest\n",
    "rf = RandomForestClassifier(n_estimators=100, random_state=42)\n",
    "rf.fit(X[selected_features], y)\n",
    "\n",
    "# Get feature importances\n",
    "feature_importances = pd.Series(rf.feature_importances_, index=selected_features)\n",
    "top_features = feature_importances.sort_values(ascending=False)\n",
    "\n",
    "# Plot Top Features\n",
    "plt.figure(figsize=(10, 6))\n",
    "top_features.plot(kind='bar')\n",
    "plt.title(\"Feature Importance (Random Forest)\")\n",
    "plt.xlabel(\"Features\")\n",
    "plt.ylabel(\"Importance Score\")\n",
    "plt.show()\n",
    "\n",
    "# Display top important features\n",
    "top_features.head(10)"
   ]
  },
  {
   "cell_type": "code",
   "execution_count": 58,
   "metadata": {},
   "outputs": [],
   "source": [
    "# Define selected features (excluding essayid as it's just an identifier)\n",
    "selected_features = [\"chars\", \"prompt_words\", \"words\", \"POS\", \"stemmed\", \"unstemmed\", \"avg_word_length\", \"commas\", \"synonym_words\"]"
   ]
  },
  {
   "cell_type": "markdown",
   "metadata": {},
   "source": [
    "### 4) Use the sklearn.model_selection.train_test_split function to split your data for training and testing.  Explain the parameters used in the function."
   ]
  },
  {
   "cell_type": "code",
   "execution_count": 59,
   "metadata": {},
   "outputs": [
    {
     "data": {
      "text/plain": [
       "((1065, 9), (267, 9), (1065,), (267,))"
      ]
     },
     "execution_count": 59,
     "metadata": {},
     "output_type": "execute_result"
    }
   ],
   "source": [
    "# Library import to split the data into training and testing sets\n",
    "from sklearn.model_selection import train_test_split\n",
    "\n",
    "# Split the data into training and testing sets (80% train, 20% test)\n",
    "X_train, X_test, y_train, y_test = train_test_split(X[selected_features], y, test_size=0.2, random_state=0, stratify=y)\n",
    "\n",
    "# Display the shape of training and testing sets to verify the split\n",
    "X_train.shape, X_test.shape, y_train.shape, y_test.shape"
   ]
  },
  {
   "cell_type": "markdown",
   "metadata": {},
   "source": [
    "We used the train_test_split function from sklearn.model_selection to divide the dataset into training and testing subsets. The parameters used are:\n",
    "\n",
    "* X[selected_features]: The selected features from the dataset, excluding irrelevant columns.\n",
    "* y: The target variable (score).\n",
    "* test_size=0.2: 20% of the data is allocated to the test set, while 80% is used for training.\n",
    "* random_state=0: Ensures reproducibility by setting a fixed seed for random shuffling.\n",
    "* stratify=y: Maintains the distribution of score across train and test sets, ensuring balanced representation.\n",
    "* Dataset Split Summary\n",
    "* Training Set: 1065 samples (80%)\n",
    "* Testing Set: 267 samples (20%)\n",
    "* Features Used: 9 (top 10 most relevant excluding essayid)"
   ]
  },
  {
   "cell_type": "markdown",
   "metadata": {},
   "source": [
    "## 3) Classification"
   ]
  },
  {
   "cell_type": "markdown",
   "metadata": {},
   "source": [
    "### 1) Explain the difference between binary and multi-class classification."
   ]
  },
  {
   "cell_type": "markdown",
   "metadata": {},
   "source": [
    "<u>**Binary Classification**</u>  \n",
    "Binary classification involves predicting one of two possible classes (labels). The output is typically represented as 0 or 1, True or False, Positive or Negative.\n",
    "\n",
    "Examples:\n",
    "* Spam detection: Email is either \"Spam\" (1) or \"Not Spam\" (0).\n",
    "* Medical diagnosis: A test result is \"Positive\" (disease detected) or \"Negative\" (no disease).\n",
    "* Sentiment analysis: A review is classified as \"Positive\" or \"Negative\".\n",
    "\n",
    "<u>**Multi-Class Classification**</u>  \n",
    "Multi-class classification involves predicting one class out of three or more possible classes. Unlike binary classification, there are multiple categories, and each sample belongs to exactly one class.\n",
    "\n",
    "Examples:\n",
    "* Handwritten digit recognition: Classifying images into digits 0-9.\n",
    "* Essay scoring (like our coursework): Predicting scores 1 to 6.\n",
    "* Animal classification: Identifying if an image is a cat, dog, bird, or horse.\n",
    "\n",
    "In our dataset, the \"score\" column ranges from 1 to 6, meaning we are dealing with a multi-class classification problem."
   ]
  },
  {
   "cell_type": "markdown",
   "metadata": {},
   "source": [
    "### 2) In preparation for Naive Bayes (NB) classification, your data should be normalised/scaled."
   ]
  },
  {
   "cell_type": "markdown",
   "metadata": {},
   "source": [
    "#### 1) Describe what you understand from this need to normalise data (this is in your Week 7 laboratory)."
   ]
  },
  {
   "cell_type": "markdown",
   "metadata": {},
   "source": [
    "Normalization (or scaling) is a crucial preprocessing step in machine learning that ensures all features contribute equally to the model. It is especially important for models that rely on probabilities, like Naïve Bayes (NB), or those that are sensitive to differences in feature magnitudes.\n",
    "\n",
    "Features in datasets often have different ranges. For example, the number of characters in an essay could be in the thousands, while the average word length might be between 3 and 10.\n",
    "If left unscaled, features with larger numerical ranges may dominate the model, leading to biased learning.\n",
    "\n",
    "Many machine learning algorithms, including Naïve Bayes, assume that features follow a similar scale for better probability calculations.  \n",
    "Some distance-based models (like KNN and SVM) also perform better with normalized data.\n",
    "Stabilizes Numerical Computations\n",
    "\n",
    "Common Normalization Techniques:  \n",
    "* <u>Min-Max Scaling (Normalization)</u>  \n",
    "Rescales values to a fixed range, usually [0,1].  \n",
    "Formula: 𝑋′=(𝑋−𝑋min)/(𝑋max−𝑋min)    \n",
    "Best when feature distributions are not Gaussian (e.g., skewed data).  \n",
    "\n",
    "* <u>Z-score Standardization (Mean Normalization)</u>  \n",
    "Centers data around mean = 0 and scales it to unit variance.  \n",
    "Formula: 𝑋′=(𝑋−𝜇)/𝜎   \n",
    "Ideal for normally distributed (Gaussian) data.\n",
    "\n",
    "* <u>Log Transformation</u>  \n",
    "Useful for skewed data by reducing the impact of large values.  \n",
    "Formula: 𝑋′=log(1+𝑋)  \n",
    "Often used in text-based data, like word counts.\n",
    "\n",
    "* <u>Robust Scaling</u>  \n",
    "Scales data using the median and interquartile range (IQR), reducing the impact of outliers.\n"
   ]
  },
  {
   "cell_type": "markdown",
   "metadata": {},
   "source": [
    "#### 2) Choose and use the appropriate normalisation functions available from sklearn.preprocessing and scale the data appropriately."
   ]
  },
  {
   "cell_type": "code",
   "execution_count": null,
   "metadata": {},
   "outputs": [],
   "source": [
    "# Library import to scale the data from sklearn.preprocessing, numpy for log transformation\n",
    "from sklearn.preprocessing import MinMaxScaler, StandardScaler, QuantileTransformer, RobustScaler, Normalizer\n",
    "import numpy as np\n",
    "\n",
    "# Creation of all the scalers used for the transformation of the data \n",
    "min_max_scaler = MinMaxScaler()\n",
    "standard_scaler = StandardScaler()\n",
    "quantile_transformer = QuantileTransformer(random_state=0)\n",
    "robust_scaler = RobustScaler()\n",
    "normalizer_scaler = Normalizer()\n",
    "\n",
    "# MinMaxScaler\n",
    "X_train_min_max = min_max_scaler.fit_transform(X_train)\n",
    "X_test_min_max = min_max_scaler.transform(X_test)\n",
    "# StandardScaler\n",
    "X_train_standard = standard_scaler.fit_transform(X_train)\n",
    "X_test_standard = standard_scaler.transform(X_test)\n",
    "# QuantileTransformer\n",
    "X_train_quantile = quantile_transformer.fit_transform(X_train)\n",
    "X_test_quantile = quantile_transformer.transform(X_test)\n",
    "# RobustScaler\n",
    "X_train_robust = robust_scaler.fit_transform(X_train)\n",
    "X_test_robust = robust_scaler.transform(X_test)\n",
    "# Normalizer\n",
    "X_train_norm = normalizer_scaler.fit_transform(X_train)\n",
    "X_test_norm = normalizer_scaler.transform(X_test)\n",
    "# Log transformation\n",
    "X_train_log = np.log1p(X_train)  # log1p(x) is equivalent to log(x + 1)\n",
    "X_test_log = np.log1p(X_test)\n",
    "\"\"\"\n",
    "# QuantileTransformer (Model Accuracy: 0.4232)\n",
    "normalised_X_train = X_train_quantile\n",
    "normalised_X_test = X_test_quantile\n",
    "# MinMaxScaler (Model Accuracy: 0.5243)\n",
    "normalised_X_train = X_train_min_max\n",
    "normalised_X_test = X_test_min_max\n",
    "# StandardScaler (Model Accuracy: 0.5243)\n",
    "normalised_X_train = X_train_standard\n",
    "normalised_X_test = X_test_standard\n",
    "# RobustScaler (Model Accuracy: 0.5243)\n",
    "normalised_X_train = X_train_robust\n",
    "normalised_X_test = X_test_robust\n",
    "\"\"\"\n",
    "# Best results with the following scaler:\n",
    "# Normalizer (Model Accuracy: 0.6030)\n",
    "normalised_X_train = X_train_norm\n",
    "normalised_X_test = X_test_norm\n",
    "\"\"\"\n",
    "# Log transformation (Model Accuracy: 0.5730)\n",
    "normalised_X_train = X_train_log\n",
    "normalised_X_test = X_test_log\n",
    "\"\"\""
   ]
  },
  {
   "cell_type": "markdown",
   "metadata": {},
   "source": [
    "### 3) Use the Naive Bayes (NB) algorithm to build the model."
   ]
  },
  {
   "cell_type": "markdown",
   "metadata": {},
   "source": [
    "#### 1) Describe NB.  Again, this is not in your lecture content, you need to do some self-learning."
   ]
  },
  {
   "cell_type": "markdown",
   "metadata": {},
   "source": [
    "Naïve Bayes (NB) is a probabilistic classification algorithm based on Bayes' Theorem and conditionnal probabilities, assuming that features are conditionally independent given the class label, meaning each feature contributes to the classification decision without depending on the others. Despite this strong assumption, which gives the algorithm its \"naïve\" name, it performs well in many practical applications, especially in text classification and natural language processing (NLP) by simplifying computations which makes it highly efficient for large datasets.\n",
    "\n",
    "Bayes’ Theorem\n",
    "The core of NB is Bayes' Theorem: P(A∣B)=(P(B∣A)xP(A))/P(B)\n",
    " \n",
    "Where:  \n",
    "* P(A∣B) is the probability of class A given feature B (posterior probability).\n",
    "* P(B∣A) is the probability of feature B given class A (likelihood).\n",
    "* P(A) is the prior probability of class A.\n",
    "* P(B) is the prior probability of feature B.\n"
   ]
  },
  {
   "cell_type": "markdown",
   "metadata": {},
   "source": [
    "#### 2) Explain the differences between the 4 models for Naive Bayes provided by sklearn.naive_bayes.  From your understanding, which model would be most appropriate for this coursework and state clearly why."
   ]
  },
  {
   "cell_type": "markdown",
   "metadata": {},
   "source": [
    "\n",
    "Types of Naïve Bayes Models in sklearn.naive_bayes\n",
    "Scikit-learn provides four types of Naïve Bayes classifiers:\n",
    "\n",
    "| Model          | Description                                                             | Suitable for                                    |\n",
    "|---------------|-------------------------------------------------------------------------|------------------------------------------------|\n",
    "| GaussianNB    | Assumes that features follow a normal (Gaussian) distribution. It is suitable for discrete features, like word frequencies in text classification         | Continuous numeric data (e.g., height, weight, scores). |\n",
    "| MultinomialNB | Works with discrete count data, assuming features follow a multinomial distribution. | Text classification (word frequency, term counts). |\n",
    "| BernoulliNB   | Suitable for binary/boolean features, where each feature is either 0 or 1. | Binary text features (e.g., presence/absence of words). |\n",
    "| ComplementNB  | Variant of MultinomialNB, designed to handle imbalanced data.          | Imbalanced text classification tasks.          |\n",
    "\n",
    "Since our dataset contains numerical continuous features (e.g., chars, words, sentences), the most appropriate choice is Gaussian Naïve Bayes (GaussianNB), as it assumes a normal distribution for numerical data."
   ]
  },
  {
   "cell_type": "markdown",
   "metadata": {},
   "source": [
    "#### 3) Write the code to build the model using your training dataset."
   ]
  },
  {
   "cell_type": "code",
   "execution_count": 61,
   "metadata": {},
   "outputs": [
    {
     "data": {
      "text/html": [
       "<style>#sk-container-id-2 {\n",
       "  /* Definition of color scheme common for light and dark mode */\n",
       "  --sklearn-color-text: #000;\n",
       "  --sklearn-color-text-muted: #666;\n",
       "  --sklearn-color-line: gray;\n",
       "  /* Definition of color scheme for unfitted estimators */\n",
       "  --sklearn-color-unfitted-level-0: #fff5e6;\n",
       "  --sklearn-color-unfitted-level-1: #f6e4d2;\n",
       "  --sklearn-color-unfitted-level-2: #ffe0b3;\n",
       "  --sklearn-color-unfitted-level-3: chocolate;\n",
       "  /* Definition of color scheme for fitted estimators */\n",
       "  --sklearn-color-fitted-level-0: #f0f8ff;\n",
       "  --sklearn-color-fitted-level-1: #d4ebff;\n",
       "  --sklearn-color-fitted-level-2: #b3dbfd;\n",
       "  --sklearn-color-fitted-level-3: cornflowerblue;\n",
       "\n",
       "  /* Specific color for light theme */\n",
       "  --sklearn-color-text-on-default-background: var(--sg-text-color, var(--theme-code-foreground, var(--jp-content-font-color1, black)));\n",
       "  --sklearn-color-background: var(--sg-background-color, var(--theme-background, var(--jp-layout-color0, white)));\n",
       "  --sklearn-color-border-box: var(--sg-text-color, var(--theme-code-foreground, var(--jp-content-font-color1, black)));\n",
       "  --sklearn-color-icon: #696969;\n",
       "\n",
       "  @media (prefers-color-scheme: dark) {\n",
       "    /* Redefinition of color scheme for dark theme */\n",
       "    --sklearn-color-text-on-default-background: var(--sg-text-color, var(--theme-code-foreground, var(--jp-content-font-color1, white)));\n",
       "    --sklearn-color-background: var(--sg-background-color, var(--theme-background, var(--jp-layout-color0, #111)));\n",
       "    --sklearn-color-border-box: var(--sg-text-color, var(--theme-code-foreground, var(--jp-content-font-color1, white)));\n",
       "    --sklearn-color-icon: #878787;\n",
       "  }\n",
       "}\n",
       "\n",
       "#sk-container-id-2 {\n",
       "  color: var(--sklearn-color-text);\n",
       "}\n",
       "\n",
       "#sk-container-id-2 pre {\n",
       "  padding: 0;\n",
       "}\n",
       "\n",
       "#sk-container-id-2 input.sk-hidden--visually {\n",
       "  border: 0;\n",
       "  clip: rect(1px 1px 1px 1px);\n",
       "  clip: rect(1px, 1px, 1px, 1px);\n",
       "  height: 1px;\n",
       "  margin: -1px;\n",
       "  overflow: hidden;\n",
       "  padding: 0;\n",
       "  position: absolute;\n",
       "  width: 1px;\n",
       "}\n",
       "\n",
       "#sk-container-id-2 div.sk-dashed-wrapped {\n",
       "  border: 1px dashed var(--sklearn-color-line);\n",
       "  margin: 0 0.4em 0.5em 0.4em;\n",
       "  box-sizing: border-box;\n",
       "  padding-bottom: 0.4em;\n",
       "  background-color: var(--sklearn-color-background);\n",
       "}\n",
       "\n",
       "#sk-container-id-2 div.sk-container {\n",
       "  /* jupyter's `normalize.less` sets `[hidden] { display: none; }`\n",
       "     but bootstrap.min.css set `[hidden] { display: none !important; }`\n",
       "     so we also need the `!important` here to be able to override the\n",
       "     default hidden behavior on the sphinx rendered scikit-learn.org.\n",
       "     See: https://github.com/scikit-learn/scikit-learn/issues/21755 */\n",
       "  display: inline-block !important;\n",
       "  position: relative;\n",
       "}\n",
       "\n",
       "#sk-container-id-2 div.sk-text-repr-fallback {\n",
       "  display: none;\n",
       "}\n",
       "\n",
       "div.sk-parallel-item,\n",
       "div.sk-serial,\n",
       "div.sk-item {\n",
       "  /* draw centered vertical line to link estimators */\n",
       "  background-image: linear-gradient(var(--sklearn-color-text-on-default-background), var(--sklearn-color-text-on-default-background));\n",
       "  background-size: 2px 100%;\n",
       "  background-repeat: no-repeat;\n",
       "  background-position: center center;\n",
       "}\n",
       "\n",
       "/* Parallel-specific style estimator block */\n",
       "\n",
       "#sk-container-id-2 div.sk-parallel-item::after {\n",
       "  content: \"\";\n",
       "  width: 100%;\n",
       "  border-bottom: 2px solid var(--sklearn-color-text-on-default-background);\n",
       "  flex-grow: 1;\n",
       "}\n",
       "\n",
       "#sk-container-id-2 div.sk-parallel {\n",
       "  display: flex;\n",
       "  align-items: stretch;\n",
       "  justify-content: center;\n",
       "  background-color: var(--sklearn-color-background);\n",
       "  position: relative;\n",
       "}\n",
       "\n",
       "#sk-container-id-2 div.sk-parallel-item {\n",
       "  display: flex;\n",
       "  flex-direction: column;\n",
       "}\n",
       "\n",
       "#sk-container-id-2 div.sk-parallel-item:first-child::after {\n",
       "  align-self: flex-end;\n",
       "  width: 50%;\n",
       "}\n",
       "\n",
       "#sk-container-id-2 div.sk-parallel-item:last-child::after {\n",
       "  align-self: flex-start;\n",
       "  width: 50%;\n",
       "}\n",
       "\n",
       "#sk-container-id-2 div.sk-parallel-item:only-child::after {\n",
       "  width: 0;\n",
       "}\n",
       "\n",
       "/* Serial-specific style estimator block */\n",
       "\n",
       "#sk-container-id-2 div.sk-serial {\n",
       "  display: flex;\n",
       "  flex-direction: column;\n",
       "  align-items: center;\n",
       "  background-color: var(--sklearn-color-background);\n",
       "  padding-right: 1em;\n",
       "  padding-left: 1em;\n",
       "}\n",
       "\n",
       "\n",
       "/* Toggleable style: style used for estimator/Pipeline/ColumnTransformer box that is\n",
       "clickable and can be expanded/collapsed.\n",
       "- Pipeline and ColumnTransformer use this feature and define the default style\n",
       "- Estimators will overwrite some part of the style using the `sk-estimator` class\n",
       "*/\n",
       "\n",
       "/* Pipeline and ColumnTransformer style (default) */\n",
       "\n",
       "#sk-container-id-2 div.sk-toggleable {\n",
       "  /* Default theme specific background. It is overwritten whether we have a\n",
       "  specific estimator or a Pipeline/ColumnTransformer */\n",
       "  background-color: var(--sklearn-color-background);\n",
       "}\n",
       "\n",
       "/* Toggleable label */\n",
       "#sk-container-id-2 label.sk-toggleable__label {\n",
       "  cursor: pointer;\n",
       "  display: flex;\n",
       "  width: 100%;\n",
       "  margin-bottom: 0;\n",
       "  padding: 0.5em;\n",
       "  box-sizing: border-box;\n",
       "  text-align: center;\n",
       "  align-items: start;\n",
       "  justify-content: space-between;\n",
       "  gap: 0.5em;\n",
       "}\n",
       "\n",
       "#sk-container-id-2 label.sk-toggleable__label .caption {\n",
       "  font-size: 0.6rem;\n",
       "  font-weight: lighter;\n",
       "  color: var(--sklearn-color-text-muted);\n",
       "}\n",
       "\n",
       "#sk-container-id-2 label.sk-toggleable__label-arrow:before {\n",
       "  /* Arrow on the left of the label */\n",
       "  content: \"▸\";\n",
       "  float: left;\n",
       "  margin-right: 0.25em;\n",
       "  color: var(--sklearn-color-icon);\n",
       "}\n",
       "\n",
       "#sk-container-id-2 label.sk-toggleable__label-arrow:hover:before {\n",
       "  color: var(--sklearn-color-text);\n",
       "}\n",
       "\n",
       "/* Toggleable content - dropdown */\n",
       "\n",
       "#sk-container-id-2 div.sk-toggleable__content {\n",
       "  max-height: 0;\n",
       "  max-width: 0;\n",
       "  overflow: hidden;\n",
       "  text-align: left;\n",
       "  /* unfitted */\n",
       "  background-color: var(--sklearn-color-unfitted-level-0);\n",
       "}\n",
       "\n",
       "#sk-container-id-2 div.sk-toggleable__content.fitted {\n",
       "  /* fitted */\n",
       "  background-color: var(--sklearn-color-fitted-level-0);\n",
       "}\n",
       "\n",
       "#sk-container-id-2 div.sk-toggleable__content pre {\n",
       "  margin: 0.2em;\n",
       "  border-radius: 0.25em;\n",
       "  color: var(--sklearn-color-text);\n",
       "  /* unfitted */\n",
       "  background-color: var(--sklearn-color-unfitted-level-0);\n",
       "}\n",
       "\n",
       "#sk-container-id-2 div.sk-toggleable__content.fitted pre {\n",
       "  /* unfitted */\n",
       "  background-color: var(--sklearn-color-fitted-level-0);\n",
       "}\n",
       "\n",
       "#sk-container-id-2 input.sk-toggleable__control:checked~div.sk-toggleable__content {\n",
       "  /* Expand drop-down */\n",
       "  max-height: 200px;\n",
       "  max-width: 100%;\n",
       "  overflow: auto;\n",
       "}\n",
       "\n",
       "#sk-container-id-2 input.sk-toggleable__control:checked~label.sk-toggleable__label-arrow:before {\n",
       "  content: \"▾\";\n",
       "}\n",
       "\n",
       "/* Pipeline/ColumnTransformer-specific style */\n",
       "\n",
       "#sk-container-id-2 div.sk-label input.sk-toggleable__control:checked~label.sk-toggleable__label {\n",
       "  color: var(--sklearn-color-text);\n",
       "  background-color: var(--sklearn-color-unfitted-level-2);\n",
       "}\n",
       "\n",
       "#sk-container-id-2 div.sk-label.fitted input.sk-toggleable__control:checked~label.sk-toggleable__label {\n",
       "  background-color: var(--sklearn-color-fitted-level-2);\n",
       "}\n",
       "\n",
       "/* Estimator-specific style */\n",
       "\n",
       "/* Colorize estimator box */\n",
       "#sk-container-id-2 div.sk-estimator input.sk-toggleable__control:checked~label.sk-toggleable__label {\n",
       "  /* unfitted */\n",
       "  background-color: var(--sklearn-color-unfitted-level-2);\n",
       "}\n",
       "\n",
       "#sk-container-id-2 div.sk-estimator.fitted input.sk-toggleable__control:checked~label.sk-toggleable__label {\n",
       "  /* fitted */\n",
       "  background-color: var(--sklearn-color-fitted-level-2);\n",
       "}\n",
       "\n",
       "#sk-container-id-2 div.sk-label label.sk-toggleable__label,\n",
       "#sk-container-id-2 div.sk-label label {\n",
       "  /* The background is the default theme color */\n",
       "  color: var(--sklearn-color-text-on-default-background);\n",
       "}\n",
       "\n",
       "/* On hover, darken the color of the background */\n",
       "#sk-container-id-2 div.sk-label:hover label.sk-toggleable__label {\n",
       "  color: var(--sklearn-color-text);\n",
       "  background-color: var(--sklearn-color-unfitted-level-2);\n",
       "}\n",
       "\n",
       "/* Label box, darken color on hover, fitted */\n",
       "#sk-container-id-2 div.sk-label.fitted:hover label.sk-toggleable__label.fitted {\n",
       "  color: var(--sklearn-color-text);\n",
       "  background-color: var(--sklearn-color-fitted-level-2);\n",
       "}\n",
       "\n",
       "/* Estimator label */\n",
       "\n",
       "#sk-container-id-2 div.sk-label label {\n",
       "  font-family: monospace;\n",
       "  font-weight: bold;\n",
       "  display: inline-block;\n",
       "  line-height: 1.2em;\n",
       "}\n",
       "\n",
       "#sk-container-id-2 div.sk-label-container {\n",
       "  text-align: center;\n",
       "}\n",
       "\n",
       "/* Estimator-specific */\n",
       "#sk-container-id-2 div.sk-estimator {\n",
       "  font-family: monospace;\n",
       "  border: 1px dotted var(--sklearn-color-border-box);\n",
       "  border-radius: 0.25em;\n",
       "  box-sizing: border-box;\n",
       "  margin-bottom: 0.5em;\n",
       "  /* unfitted */\n",
       "  background-color: var(--sklearn-color-unfitted-level-0);\n",
       "}\n",
       "\n",
       "#sk-container-id-2 div.sk-estimator.fitted {\n",
       "  /* fitted */\n",
       "  background-color: var(--sklearn-color-fitted-level-0);\n",
       "}\n",
       "\n",
       "/* on hover */\n",
       "#sk-container-id-2 div.sk-estimator:hover {\n",
       "  /* unfitted */\n",
       "  background-color: var(--sklearn-color-unfitted-level-2);\n",
       "}\n",
       "\n",
       "#sk-container-id-2 div.sk-estimator.fitted:hover {\n",
       "  /* fitted */\n",
       "  background-color: var(--sklearn-color-fitted-level-2);\n",
       "}\n",
       "\n",
       "/* Specification for estimator info (e.g. \"i\" and \"?\") */\n",
       "\n",
       "/* Common style for \"i\" and \"?\" */\n",
       "\n",
       ".sk-estimator-doc-link,\n",
       "a:link.sk-estimator-doc-link,\n",
       "a:visited.sk-estimator-doc-link {\n",
       "  float: right;\n",
       "  font-size: smaller;\n",
       "  line-height: 1em;\n",
       "  font-family: monospace;\n",
       "  background-color: var(--sklearn-color-background);\n",
       "  border-radius: 1em;\n",
       "  height: 1em;\n",
       "  width: 1em;\n",
       "  text-decoration: none !important;\n",
       "  margin-left: 0.5em;\n",
       "  text-align: center;\n",
       "  /* unfitted */\n",
       "  border: var(--sklearn-color-unfitted-level-1) 1pt solid;\n",
       "  color: var(--sklearn-color-unfitted-level-1);\n",
       "}\n",
       "\n",
       ".sk-estimator-doc-link.fitted,\n",
       "a:link.sk-estimator-doc-link.fitted,\n",
       "a:visited.sk-estimator-doc-link.fitted {\n",
       "  /* fitted */\n",
       "  border: var(--sklearn-color-fitted-level-1) 1pt solid;\n",
       "  color: var(--sklearn-color-fitted-level-1);\n",
       "}\n",
       "\n",
       "/* On hover */\n",
       "div.sk-estimator:hover .sk-estimator-doc-link:hover,\n",
       ".sk-estimator-doc-link:hover,\n",
       "div.sk-label-container:hover .sk-estimator-doc-link:hover,\n",
       ".sk-estimator-doc-link:hover {\n",
       "  /* unfitted */\n",
       "  background-color: var(--sklearn-color-unfitted-level-3);\n",
       "  color: var(--sklearn-color-background);\n",
       "  text-decoration: none;\n",
       "}\n",
       "\n",
       "div.sk-estimator.fitted:hover .sk-estimator-doc-link.fitted:hover,\n",
       ".sk-estimator-doc-link.fitted:hover,\n",
       "div.sk-label-container:hover .sk-estimator-doc-link.fitted:hover,\n",
       ".sk-estimator-doc-link.fitted:hover {\n",
       "  /* fitted */\n",
       "  background-color: var(--sklearn-color-fitted-level-3);\n",
       "  color: var(--sklearn-color-background);\n",
       "  text-decoration: none;\n",
       "}\n",
       "\n",
       "/* Span, style for the box shown on hovering the info icon */\n",
       ".sk-estimator-doc-link span {\n",
       "  display: none;\n",
       "  z-index: 9999;\n",
       "  position: relative;\n",
       "  font-weight: normal;\n",
       "  right: .2ex;\n",
       "  padding: .5ex;\n",
       "  margin: .5ex;\n",
       "  width: min-content;\n",
       "  min-width: 20ex;\n",
       "  max-width: 50ex;\n",
       "  color: var(--sklearn-color-text);\n",
       "  box-shadow: 2pt 2pt 4pt #999;\n",
       "  /* unfitted */\n",
       "  background: var(--sklearn-color-unfitted-level-0);\n",
       "  border: .5pt solid var(--sklearn-color-unfitted-level-3);\n",
       "}\n",
       "\n",
       ".sk-estimator-doc-link.fitted span {\n",
       "  /* fitted */\n",
       "  background: var(--sklearn-color-fitted-level-0);\n",
       "  border: var(--sklearn-color-fitted-level-3);\n",
       "}\n",
       "\n",
       ".sk-estimator-doc-link:hover span {\n",
       "  display: block;\n",
       "}\n",
       "\n",
       "/* \"?\"-specific style due to the `<a>` HTML tag */\n",
       "\n",
       "#sk-container-id-2 a.estimator_doc_link {\n",
       "  float: right;\n",
       "  font-size: 1rem;\n",
       "  line-height: 1em;\n",
       "  font-family: monospace;\n",
       "  background-color: var(--sklearn-color-background);\n",
       "  border-radius: 1rem;\n",
       "  height: 1rem;\n",
       "  width: 1rem;\n",
       "  text-decoration: none;\n",
       "  /* unfitted */\n",
       "  color: var(--sklearn-color-unfitted-level-1);\n",
       "  border: var(--sklearn-color-unfitted-level-1) 1pt solid;\n",
       "}\n",
       "\n",
       "#sk-container-id-2 a.estimator_doc_link.fitted {\n",
       "  /* fitted */\n",
       "  border: var(--sklearn-color-fitted-level-1) 1pt solid;\n",
       "  color: var(--sklearn-color-fitted-level-1);\n",
       "}\n",
       "\n",
       "/* On hover */\n",
       "#sk-container-id-2 a.estimator_doc_link:hover {\n",
       "  /* unfitted */\n",
       "  background-color: var(--sklearn-color-unfitted-level-3);\n",
       "  color: var(--sklearn-color-background);\n",
       "  text-decoration: none;\n",
       "}\n",
       "\n",
       "#sk-container-id-2 a.estimator_doc_link.fitted:hover {\n",
       "  /* fitted */\n",
       "  background-color: var(--sklearn-color-fitted-level-3);\n",
       "}\n",
       "</style><div id=\"sk-container-id-2\" class=\"sk-top-container\"><div class=\"sk-text-repr-fallback\"><pre>GaussianNB()</pre><b>In a Jupyter environment, please rerun this cell to show the HTML representation or trust the notebook. <br />On GitHub, the HTML representation is unable to render, please try loading this page with nbviewer.org.</b></div><div class=\"sk-container\" hidden><div class=\"sk-item\"><div class=\"sk-estimator fitted sk-toggleable\"><input class=\"sk-toggleable__control sk-hidden--visually\" id=\"sk-estimator-id-2\" type=\"checkbox\" checked><label for=\"sk-estimator-id-2\" class=\"sk-toggleable__label fitted sk-toggleable__label-arrow\"><div><div>GaussianNB</div></div><div><a class=\"sk-estimator-doc-link fitted\" rel=\"noreferrer\" target=\"_blank\" href=\"https://scikit-learn.org/1.6/modules/generated/sklearn.naive_bayes.GaussianNB.html\">?<span>Documentation for GaussianNB</span></a><span class=\"sk-estimator-doc-link fitted\">i<span>Fitted</span></span></div></label><div class=\"sk-toggleable__content fitted\"><pre>GaussianNB()</pre></div> </div></div></div></div>"
      ],
      "text/plain": [
       "GaussianNB()"
      ]
     },
     "execution_count": 61,
     "metadata": {},
     "output_type": "execute_result"
    }
   ],
   "source": [
    "# Library import for Gaussian Naive Bayes classifier\n",
    "from sklearn.naive_bayes import GaussianNB\n",
    "from sklearn.metrics import accuracy_score, classification_report\n",
    "\n",
    "# Initialize the GaussianNB classifier\n",
    "nb_classifier = GaussianNB()\n",
    "\n",
    "# Train the model using the scaled training dataset\n",
    "nb_classifier.fit(normalised_X_train, y_train)"
   ]
  },
  {
   "cell_type": "markdown",
   "metadata": {},
   "source": [
    "### 4) Predict"
   ]
  },
  {
   "cell_type": "markdown",
   "metadata": {},
   "source": [
    "#### 1) Using the testing dataset you created in 2(c) above, conduct the prediction for the ‘score’ (label)."
   ]
  },
  {
   "cell_type": "code",
   "execution_count": 62,
   "metadata": {},
   "outputs": [
    {
     "name": "stdout",
     "output_type": "stream",
     "text": [
      "Model Accuracy: 0.5880\n",
      "              precision    recall  f1-score   support\n",
      "\n",
      "           1       0.29      0.67      0.40         3\n",
      "           2       0.58      0.32      0.41        22\n",
      "           3       0.64      0.60      0.62       112\n",
      "           4       0.62      0.68      0.65       117\n",
      "           5       0.14      0.17      0.15        12\n",
      "           6       0.00      0.00      0.00         1\n",
      "\n",
      "    accuracy                           0.59       267\n",
      "   macro avg       0.38      0.40      0.37       267\n",
      "weighted avg       0.60      0.59      0.59       267\n",
      "\n"
     ]
    }
   ],
   "source": [
    "# Predict on the test set\n",
    "y_pred = nb_classifier.predict(normalised_X_test)\n",
    "\n",
    "# Evaluate the model\n",
    "accuracy = accuracy_score(y_test, y_pred)\n",
    "print(f\"Model Accuracy: {accuracy:.4f}\")\n",
    "\n",
    "# Display classification report\n",
    "print(classification_report(y_test, y_pred))"
   ]
  },
  {
   "cell_type": "markdown",
   "metadata": {},
   "source": [
    "#### 2) Display the confusion matrix (it should look like a 6x6 matrix).  Unlike the lectures, where it is just a 2x2, you are now introduced to a multi-class classification."
   ]
  },
  {
   "cell_type": "code",
   "execution_count": 63,
   "metadata": {},
   "outputs": [
    {
     "data": {
      "image/png": "[encoded data removed]",
      "text/plain": [
       "<Figure size 800x600 with 2 Axes>"
      ]
     },
     "metadata": {},
     "output_type": "display_data"
    }
   ],
   "source": [
    "# Library import for confusion matrix\n",
    "from sklearn.metrics import confusion_matrix\n",
    "import seaborn as sns\n",
    "import matplotlib.pyplot as plt\n",
    "\n",
    "# Make predictions using the trained Naïve Bayes model\n",
    "y_pred = nb_classifier.predict(normalised_X_test)\n",
    "\n",
    "# Compute the confusion matrix\n",
    "conf_matrix = confusion_matrix(y_test, y_pred)\n",
    "\n",
    "# Plot the confusion matrix\n",
    "plt.figure(figsize=(8, 6))\n",
    "sns.heatmap(conf_matrix, annot=True, fmt='d', cmap='Blues', xticklabels=range(1, 7), yticklabels=range(1, 7))\n",
    "plt.xlabel(\"Predicted Label\")\n",
    "plt.ylabel(\"True Label\")\n",
    "plt.title(\"Confusion Matrix for Naïve Bayes Classification\")\n",
    "plt.show()"
   ]
  },
  {
   "cell_type": "markdown",
   "metadata": {},
   "source": [
    "<b>Understanding the Confusion Matrix</b>  \n",
    "* Rows represent the true classes (actual labels)\n",
    "* Columns represent the predicted classes (model predictions)\n",
    "* Diagonal elements represent correct classifications (true positives)\n",
    "* Off-diagonal elements indicate misclassifications\n",
    "\n",
    "<b>Class-wise Breakdown</b>\n",
    "\n",
    "<u>Class 1</u>  \n",
    "Correctly classified: 2 instances.\n",
    "\n",
    "Misclassified as:\n",
    "\n",
    "- Class 2 (1 instance).\n",
    "\n",
    "Observation: Very few samples in this class, which could lead to an imbalanced classification issue.\n",
    "\n",
    "<u>Class 2</u>  \n",
    "Correctly classified: 7 instances.\n",
    "\n",
    "Misclassified as:\n",
    "\n",
    "- Class 1 (5 instances).\n",
    "\n",
    "- Class 3 (10 instances).\n",
    "\n",
    "Observation: The model struggles to distinguish between Class 1, Class 2 and Class 3.\n",
    "\n",
    "<u>Class 3</u>  \n",
    "Correctly classified: 67 instances.\n",
    "\n",
    "Misclassified as:\n",
    "\n",
    "- Class 2 (4 instances).\n",
    "\n",
    "- Class 4 (38 instances) → Major confusion.\n",
    "\n",
    "- Class 5 (2 instances).\n",
    "\n",
    "- Class 6 (1 instance).\n",
    "\n",
    "Observation: Heavy misclassification with Class 3, indicating overlapping features.\n",
    "\n",
    "<u>Class 4</u>  \n",
    "Correctly classified: 79 instances.\n",
    "\n",
    "Misclassified as:\n",
    "\n",
    "- Class 3 (28 instances).\n",
    "\n",
    "- Class 5 (10 instances).\n",
    "\n",
    "Observation: Some confusion with Class 3, but overall good classification.\n",
    "\n",
    "<u>Class 5</u>  \n",
    "Correctly classified: 2 instances.\n",
    "\n",
    "Misclassified as:\n",
    "\n",
    "- Class 4 (9 instances).\n",
    "\n",
    "- Class 6 (1 instances).\n",
    "\n",
    "Observation: More samples were misclassified than correctly classified, indicating poor separation.\n",
    "\n",
    "<u>Class 6</u>  \n",
    "Correctly classified: 0 instances.\n",
    "\n",
    "Misclassified as:\n",
    "\n",
    "- Class 4 (1 instance).\n",
    "\n",
    "Observation: This class has very few data points, likely causing misclassification issues."
   ]
  },
  {
   "cell_type": "markdown",
   "metadata": {},
   "source": [
    "#### 3) Explain Quadratic Weighted Kappa (QWK).  Again, this is not in your lectures."
   ]
  },
  {
   "cell_type": "markdown",
   "metadata": {},
   "source": [
    "Quadratic Weighted Kappa (QWK) is a statistical metric that measures the agreement between two raters (e.g., a human evaluator and an AI model) while accounting for the degree of disagreement. It is widely used in ordinal classification tasks, such as essay scoring, medical diagnoses, and rating predictions, where the order of classes matters.\n",
    "\n",
    "Why Use QWK Instead of Accuracy?  \n",
    "* Accuracy does not consider how far off the prediction is.\n",
    "* QWK penalizes predictions more severely when they are further from the true label.\n",
    "* This makes QWK a better metric for evaluating models in ordinal classification problems (e.g., rating scales 1-6).\n",
    "\n",
    "How QWK Works?  \n",
    "QWK compares the observed agreement between predictions and true labels with the expected agreement if both were random guesses.  \n",
    "The formula is: 𝜅-1=(∑𝑖,𝑗 𝑊𝑖,𝑗 𝑂𝑖,𝑗)/(∑𝑖,𝑗 𝑊𝑖,𝑗 𝐸𝑖,𝑗)​\n",
    " \n",
    "Where:\n",
    "* 𝑂𝑖,𝑗 is the observed frequency of class 𝑖 being predicted as class 𝑗.\n",
    "* 𝐸𝑖,𝑗 is the expected frequency if predictions were random.\n",
    "* 𝑊𝑖,𝑗 is the quadratic weight, which penalizes larger disagreements more than smaller ones.\n",
    "\n",
    "The weight matrix W is defined as: 𝑊𝑖,𝑗=(𝑖−𝑗)**2/(𝑁−1)**2\n",
    " \n",
    "Where:\n",
    "* 𝑖 and 𝑗 are the true and predicted class labels.\n",
    "* 𝑁 is the number of possible classes.\n",
    "\n",
    "Interpreting QWK Scores \n",
    "* 𝜅=1: Perfect agreement (model predicts exactly like a human rater).\n",
    "* 𝜅=0: Model performs no better than random chance.\n",
    "* 𝜅<0: Model is worse than random guessing. \n",
    "\n",
    "| QWK Score     | Agreement Level               |\n",
    "|--------------|------------------------------|\n",
    "| 0.81 – 1.00  | Almost perfect               |\n",
    "| 0.61 – 0.80  | Substantial                  |\n",
    "| 0.41 – 0.60  | Moderate                     |\n",
    "| 0.21 – 0.40  | Fair                         |\n",
    "| 0.00 – 0.20  | Slight                       |\n",
    "| < 0.00       | Poor (worse than random)     |\n",
    "\n",
    "Why is QWK Useful for This Coursework?  \n",
    "Since we are predicting essay scores (1-6), which follow an ordinal scale, QWK is a much better metric than simple accuracy. It ensures that a prediction of \"5\" instead of \"6\" is penalized less than a prediction of \"1\" instead of \"6\"."
   ]
  },
  {
   "cell_type": "markdown",
   "metadata": {},
   "source": [
    "#### 4) Use the sklearn.metrics library to code and obtain the QWK score."
   ]
  },
  {
   "cell_type": "code",
   "execution_count": 64,
   "metadata": {},
   "outputs": [
    {
     "data": {
      "text/plain": [
       "np.float64(0.6171200162596119)"
      ]
     },
     "execution_count": 64,
     "metadata": {},
     "output_type": "execute_result"
    }
   ],
   "source": [
    "# Library import for Quadratic Weighted Kappa (QWK) score\n",
    "from sklearn.metrics import cohen_kappa_score\n",
    "\n",
    "# Compute the Quadratic Weighted Kappa (QWK) score\n",
    "qwk_score = cohen_kappa_score(y_test, y_pred, weights=\"quadratic\")\n",
    "\n",
    "# Display the QWK score\n",
    "qwk_score"
   ]
  },
  {
   "cell_type": "markdown",
   "metadata": {},
   "source": [
    "### 5) Use a more complex algorithm, Random Forest, to build an alternative model."
   ]
  },
  {
   "cell_type": "markdown",
   "metadata": {},
   "source": [
    "#### 1) Conduct steps 3.3 and 3.4 above to obtain an alternative model's results."
   ]
  },
  {
   "cell_type": "code",
   "execution_count": 69,
   "metadata": {},
   "outputs": [
    {
     "data": {
      "image/png": "[encoded data removed]",
      "text/plain": [
       "<Figure size 800x600 with 2 Axes>"
      ]
     },
     "metadata": {},
     "output_type": "display_data"
    },
    {
     "data": {
      "text/plain": [
       "np.float64(0.6447795116272623)"
      ]
     },
     "execution_count": 69,
     "metadata": {},
     "output_type": "execute_result"
    }
   ],
   "source": [
    "# Load the dataset again\n",
    "file_path = \"data/F78DS-Essay-Features.csv\"\n",
    "df = pd.read_csv(file_path)\n",
    "\n",
    "# Separate features (X) and the label (y)\n",
    "X = df.drop(columns=[\"score\", \"essayid\"])  # Features (excluding essayid and score)\n",
    "y = df[\"score\"]  # Label\n",
    "\n",
    "# Train the Random Forest model\n",
    "rf_classifier = RandomForestClassifier(n_estimators=1000, random_state=0)\n",
    "rf_classifier.fit(normalised_X_train, y_train)\n",
    "\n",
    "# Make predictions\n",
    "y_pred_rf = rf_classifier.predict(normalised_X_test)\n",
    "\n",
    "# Compute confusion matrix\n",
    "conf_matrix_rf = confusion_matrix(y_test, y_pred_rf)\n",
    "\n",
    "# Compute QWK score\n",
    "qwk_score_rf = cohen_kappa_score(y_test, y_pred_rf, weights=\"quadratic\")\n",
    "\n",
    "# Plot heatmap of confusion matrix\n",
    "plt.figure(figsize=(8, 6))\n",
    "sns.heatmap(conf_matrix_rf, annot=True, fmt='d', cmap='Blues', xticklabels=sorted(y.unique()), yticklabels=sorted(y.unique()))\n",
    "plt.xlabel(\"Predicted\")\n",
    "plt.ylabel(\"Actual\")\n",
    "plt.title(\"Confusion Matrix Heatmap\")\n",
    "plt.show()\n",
    "\n",
    "# Return results\n",
    "qwk_score_rf"
   ]
  },
  {
   "cell_type": "markdown",
   "metadata": {},
   "source": [
    "<b>Class-wise Breakdown</b>\n",
    "\n",
    "<u>Class 1</u>\n",
    "\n",
    "Correctly classified: 1 instance.  \n",
    "\n",
    "Misclassified as:  \n",
    "\n",
    "- Class 2 (2 instances)  \n",
    "\n",
    "Observation: Very few samples in this class, which could lead to an imbalanced classification issue.\n",
    "\n",
    "<u>Class 2</u>\n",
    "\n",
    "Correctly classified: 11 instances.\n",
    "\n",
    "Misclassified as:\n",
    "\n",
    "- Class 3 (11 instances)  \n",
    "\n",
    "Observation: The model struggles to distinguish between Class 2 and Class 3.\n",
    "\n",
    "<u>Class 3</u>\n",
    "\n",
    "Correctly classified: 75 instances.\n",
    "\n",
    "Misclassified as:\n",
    "\n",
    "- Class 2 (3 instances).\n",
    "\n",
    "- Class 4 (33 instances) → Major confusion.\n",
    "\n",
    "- Class 5 (1 instance).\n",
    "\n",
    "Observation: Heavy misclassification with Class 3, indicating overlapping features with Class 4.\n",
    "\n",
    "<u>Class 4</u>\n",
    "\n",
    "Correctly classified: 89 instances.\n",
    "\n",
    "Misclassified as:\n",
    "\n",
    "- Class 3 (26 instances).\n",
    "\n",
    "- Class 5 (2 instances).\n",
    "\n",
    "Observation: Some confusion with Class 3, but overall good classification.\n",
    "\n",
    "<u>Class 5</u>\n",
    "\n",
    "Correctly classified: 1 instance.\n",
    "\n",
    "Misclassified as:\n",
    "\n",
    "- Class 4 (11 instances).\n",
    "\n",
    "Observation: More samples were misclassified than correctly classified, indicating poor separation.\n",
    "\n",
    "<u>Class 6</u>\n",
    "\n",
    "Correctly classified: 0 instances.\n",
    "\n",
    "Misclassified as:\n",
    "\n",
    "- Class 4 (1 instance).\n",
    "\n",
    "Observation: This class has very few data points, likely causing misclassification issues."
   ]
  },
  {
   "cell_type": "markdown",
   "metadata": {},
   "source": [
    "#### 2) Briefly explain why this alternate model performs worse or better than the Naive Bayes model."
   ]
  },
  {
   "cell_type": "markdown",
   "metadata": {},
   "source": [
    "The Random Forest model performed better than the Naïve Bayes model. Here’s why:\n",
    "\n",
    "Random Forest Captures Complex Relationships, it is an ensemble learning method that builds multiple decision trees and aggregates their results, making it better suited for handling non-linear relationships between features and the essay score.  \n",
    "Naïve Bayes assumes feature independence, which may not hold in this dataset, leading to lower accuracy.\n",
    "\n",
    "The dataset contains many continuous numeric features (e.g., word count, punctuation count, POS ratios). Naïve Bayes (especially Gaussian NB) assumes normality, which is the case here. Random Forest makes no assumptions about the feature distributions, which can improve performance.\n",
    "\n",
    "Naïve Bayes is a simpler model (faster too) and works well when feature independence holds. It is generally better for small datasets or text classification tasks where words are independent.  \n",
    "Random Forest is more complex and less prone to bias, but it can sometimes overfit. However, in this case, its ability to capture interactions between features gives it an advantage.\n",
    "\n",
    "Random Forest performed better due to its ability to capture complex patterns in the data.  \n",
    "Naïve Bayes might struggle with correlated features, leading to lower accuracy."
   ]
  },
  {
   "cell_type": "markdown",
   "metadata": {},
   "source": [
    "## 4) Kaggle Submission"
   ]
  },
  {
   "cell_type": "markdown",
   "metadata": {},
   "source": [
    "My username on Kaggle is Arthur GLM."
   ]
  },
  {
   "cell_type": "markdown",
   "metadata": {},
   "source": [
    "### 1) Read the ‘F78DS-Essay-Features-Submission.csv’ file and use the model you built earlier (whichever model that you think is better) to predict the ‘score’."
   ]
  },
  {
   "cell_type": "markdown",
   "metadata": {},
   "source": [
    "### 2) Unlike the previous section, you have a testing (also sometimes referred to as the validation) dataset where you know the ‘score’ and will be able to test for the accuracy.  In this part, you don’t have a ‘score’ and you have to predict it and submit it to the competition site. (To build a more robust model, you can do cross-validation.  This in reference back to 2.3 above where you are to split your data for training and testing - will leave it to you to learn about this on your own)."
   ]
  },
  {
   "cell_type": "markdown",
   "metadata": {},
   "source": [
    "### 3) Output your prediction to a CSV file that contains 2 columns, ‘essayid’ and ‘score’.  It should have a total of 200 lines (1 header, and 199 entries).\n"
   ]
  },
  {
   "cell_type": "markdown",
   "metadata": {},
   "source": [
    "#### First Kaggle submission with just Random Forest and without gridsearch (QWK= 0,615)"
   ]
  },
  {
   "cell_type": "code",
   "execution_count": 70,
   "metadata": {},
   "outputs": [
    {
     "name": "stderr",
     "output_type": "stream",
     "text": [
      "<>:19: SyntaxWarning: invalid escape sequence '\\H'\n",
      "<>:19: SyntaxWarning: invalid escape sequence '\\H'\n",
      "C:\\Users\\Framework_Arthur\\AppData\\Local\\Temp\\ipykernel_28232\\2830947919.py:19: SyntaxWarning: invalid escape sequence '\\H'\n",
      "  output_csv_path = \"data\\H00494101-GrossmannLeMauguenArthur-1.csv\"\n"
     ]
    },
    {
     "data": {
      "text/plain": [
       "'data\\\\H00494101-GrossmannLeMauguenArthur-1.csv'"
      ]
     },
     "execution_count": 70,
     "metadata": {},
     "output_type": "execute_result"
    }
   ],
   "source": [
    "# Load the submission dataset (without labels)\n",
    "submission_file_path = \"data/F78DS-Essay-Features-Submission.csv\"\n",
    "submission_df = pd.read_csv(submission_file_path)\n",
    "\n",
    "# Extract the \"essayid\" column and the feature columns\n",
    "essay_ids = submission_df[\"essayid\"]\n",
    "X_submission = submission_df[selected_features].copy()\n",
    "\n",
    "# Scale the submission data using the same scaler\n",
    "X_submission_scaled = normalizer_scaler.transform(X_submission)\n",
    "\n",
    "# Predict the scores using the trained Random Forest model\n",
    "predicted_scores = rf_classifier.predict(X_submission_scaled)\n",
    "\n",
    "# Create the output DataFrame\n",
    "output_df = pd.DataFrame({\"essayid\": essay_ids, \"score\": predicted_scores})\n",
    "\n",
    "# Save to CSV file\n",
    "output_csv_path = \"data\\H00494101-GrossmannLeMauguenArthur-1.csv\"\n",
    "output_df.to_csv(output_csv_path, index=False)\n",
    "\n",
    "# Return the output file path for user reference\n",
    "output_csv_path"
   ]
  },
  {
   "cell_type": "markdown",
   "metadata": {},
   "source": [
    "#### Second Kaggle submission with just Random Forest and with gridsearch (QWK= 0,656) \n",
    "\n",
    "#### [!!may take long to execute on your computer!! (1h+ on mine)]"
   ]
  },
  {
   "cell_type": "markdown",
   "metadata": {},
   "source": [
    "<b>Grid Search</b> is a hyperparameter tuning technique used to find the best combination of hyperparameters for a machine learning model. It systematically goes through a predefined set of possible values for each hyperparameter and evaluates the model's performance for each combination.\n",
    "\n",
    "Each hyperparameter in param_grid affects how the RandomForestClassifier learns:\n",
    "\n",
    "* n_estimators: [100, 200, 300]  \n",
    "This represents the number of decision trees in the forest. More trees usually improve performance but increase computation time.\n",
    "\n",
    "* max_depth: [None, 1, 10, 20]  \n",
    "Controls the maximum depth of each tree.  \n",
    "None allows trees to grow fully, while 1, 10, 20 test different levels of restriction.\n",
    "\n",
    "* min_samples_split: [2, 4, 6, 8]  \n",
    "Minimum number of samples required to split an internal node.  \n",
    "Higher values make the trees less complex to avoid overfitting.\n",
    "\n",
    "* min_samples_leaf: [1, 2, 3, 4]  \n",
    "Minimum number of samples required to be in a leaf node.  \n",
    "Helps prevent the model from learning too specific patterns.\n",
    "\n",
    "* max_features: ['sqrt', 'log2', None]  \n",
    "Number of features considered when splitting a node.  \n",
    "'sqrt' and 'log2' are commonly used to balance model performance and efficiency.\n",
    "\n",
    "* bootstrap: [True, False]  \n",
    "If True, random sampling with replacement is used (default in RandomForest).  \n",
    "If False, all samples are used for training.\n",
    "\n",
    "* class_weight: [None, 'balanced', 'balanced_subsample']  \n",
    "Adjusts weights for handling class imbalance.  \n",
    "'balanced' uses the inverse class frequencies, while 'balanced_subsample' does so at each tree level.\n",
    "\n",
    "* criterion: ['gini', 'entropy']  \n",
    "Defines how splits are chosen in decision trees.  \n",
    "'gini' favors purity, while 'entropy' considers information gain.\n",
    "\n",
    "<b>Randomized Grid Search</b> is an extension of Grid Search that samples a fixed number of hyperparameter combinations from the specified parameter grid. This approach is useful when the parameter grid is large, as it can significantly reduce computation time while still providing a good estimate of the best hyperparameters.\n",
    "\n",
    "<b>Cross-validation</b> is a technique to assess the performance of a model by splitting the dataset into multiple parts, training the model on some parts, and testing it on others. It helps ensure that the model generalizes well to unseen data.  \n",
    "Here: cv=4 which means 4-fold cross-validation is used. The dataset is split into 4 subsets, the model is trained on 3 subsets and tested on the remaining one, and this process is repeated 4 times. The average score across the 4 iterations is used to evaluate the hyperparameter combination."
   ]
  },
  {
   "cell_type": "code",
   "execution_count": 73,
   "metadata": {},
   "outputs": [
    {
     "name": "stdout",
     "output_type": "stream",
     "text": [
      "Fitting 4 folds for each of 6912 candidates, totalling 27648 fits\n"
     ]
    },
    {
     "name": "stderr",
     "output_type": "stream",
     "text": [
      "c:\\Users\\Framework_Arthur\\AppData\\Local\\Programs\\Python\\Python313\\Lib\\site-packages\\sklearn\\model_selection\\_split.py:805: UserWarning: The least populated class in y has only 3 members, which is less than n_splits=4.\n",
      "  warnings.warn(\n"
     ]
    },
    {
     "name": "stdout",
     "output_type": "stream",
     "text": [
      "Best hyperparameters: {'bootstrap': True, 'class_weight': 'balanced_subsample', 'criterion': 'entropy', 'max_depth': 10, 'max_features': 'sqrt', 'min_samples_leaf': 4, 'min_samples_split': 2, 'n_estimators': 200}\n"
     ]
    },
    {
     "data": {
      "text/plain": [
       "'data/H00494101-GrossmannLeMauguenArthur-2.csv'"
      ]
     },
     "execution_count": 73,
     "metadata": {},
     "output_type": "execute_result"
    }
   ],
   "source": [
    "from sklearn.model_selection import GridSearchCV\n",
    "from sklearn.ensemble import RandomForestClassifier\n",
    "from sklearn.metrics import cohen_kappa_score, make_scorer\n",
    "import pandas as pd\n",
    "\n",
    "# Define QWK scoring function\n",
    "def quadratic_weighted_kappa(y_true, y_pred):\n",
    "    return cohen_kappa_score(y_true, y_pred, weights=\"quadratic\")\n",
    "\n",
    "qwk_scorer = make_scorer(quadratic_weighted_kappa, greater_is_better=True)\n",
    "\n",
    "# Define parameter grid for tuning\n",
    "param_grid = {\n",
    "    'n_estimators': [100, 200, 300],\n",
    "    'max_depth': [None, 1, 10, 20],\n",
    "    'min_samples_split': [2, 4, 6, 8],\n",
    "    'min_samples_leaf': [1, 2, 3, 4],\n",
    "    'max_features': ['sqrt', 'log2', None],\n",
    "    'bootstrap': [True, False],\n",
    "    'class_weight': [None, 'balanced', 'balanced_subsample'],\n",
    "    'criterion': ['gini', 'entropy']\n",
    "}\n",
    "\n",
    "# Perform Grid Search with cross-validation\n",
    "rf_classifier = RandomForestClassifier(random_state=0)\n",
    "grid_search = GridSearchCV(rf_classifier, param_grid, cv=4, scoring=qwk_scorer, n_jobs=-1, verbose=2)\n",
    "grid_search.fit(normalised_X_train, y_train)\n",
    "\n",
    "# Best estimator after grid search\n",
    "best_rf_classifier = grid_search.best_estimator_\n",
    "\n",
    "# Print best hyperparameters\n",
    "print(\"Best hyperparameters:\", grid_search.best_params_)\n",
    "\n",
    "# Load the submission dataset (without labels)\n",
    "submission_file_path = \"data/F78DS-Essay-Features-Submission.csv\"\n",
    "submission_df = pd.read_csv(submission_file_path)\n",
    "\n",
    "# Extract the \"essayid\" column and the feature columns\n",
    "essay_ids = submission_df[\"essayid\"]\n",
    "X_submission = submission_df[selected_features].copy()\n",
    "\n",
    "# Scale the submission data using the same scaler\n",
    "X_submission_scaled = normalizer_scaler.transform(X_submission)\n",
    "\n",
    "# Predict the scores using the best trained Random Forest model\n",
    "predicted_scores = best_rf_classifier.predict(X_submission_scaled)\n",
    "\n",
    "# Create the output DataFrame\n",
    "output_df = pd.DataFrame({\"essayid\": essay_ids, \"score\": predicted_scores})\n",
    "\n",
    "# Save to CSV file\n",
    "output_csv_path = \"data/H00494101-GrossmannLeMauguenArthur-2.csv\"\n",
    "output_df.to_csv(output_csv_path, index=False)\n",
    "\n",
    "# Return the output file path for user reference\n",
    "output_csv_path"
   ]
  },
  {
   "cell_type": "markdown",
   "metadata": {},
   "source": [
    "With the following hyperparameters, the QWK score on kaggle improves to 0.637  \n",
    "\n",
    "Best hyperparameters: {  \n",
    "    'bootstrap': True,  \n",
    "    'class_weight': 'balanced_subsample',  \n",
    "    'criterion': 'entropy',  \n",
    "    'max_depth': 10,  \n",
    "    'max_features': 'sqrt',  \n",
    "    'min_samples_leaf': 4,  \n",
    "    'min_samples_split': 2,  \n",
    "    'n_estimators': 200  \n",
    "}"
   ]
  },
  {
   "cell_type": "markdown",
   "metadata": {},
   "source": [
    "#### During my research, I found other models and here I am trying them and comparaing the results to my random forest model"
   ]
  },
  {
   "cell_type": "markdown",
   "metadata": {},
   "source": [
    "* Random Forest:  \n",
    "Random Forest is an ensemble learning method that constructs multiple decision trees during training and outputs the class that is the mode of the classes (classification) or mean prediction (regression) of the individual trees. It is known for its robustness and ability to handle large datasets with higher dimensionality. Random Forest reduces overfitting by averaging multiple deep decision trees, trained on different parts of the same training set.\n",
    "\n",
    "* Gradient Boosting:  \n",
    "Gradient Boosting builds an ensemble of decision trees sequentially, each new tree attempting to correct the errors of the previous ones. It optimizes a differentiable loss function, making it highly effective for both classification and regression tasks. Gradient Boosting often achieves high predictive accuracy but can be computationally intensive and prone to overfitting if not properly tuned.\n",
    "\n",
    "* XGBoost:  \n",
    "XGBoost, short for Extreme Gradient Boosting, is an optimized gradient boosting library designed for efficiency and performance. It uses advanced regularization techniques and parallel processing to deliver fast and accurate predictions. XGBoost is widely used in data science competitions and industry applications due to its superior handling of missing values and flexibility in customizing objective functions.\n",
    "\n",
    "* Support Vector Machine (SVM):  \n",
    "SVM is a powerful supervised learning model used for classification and regression tasks. It works by finding the hyperplane that best separates the data into different classes in a high-dimensional space. SVM is effective in high-dimensional spaces and when the number of dimensions exceeds the number of samples. It uses kernel tricks to handle non-linear classification problems efficiently."
   ]
  },
  {
   "cell_type": "code",
   "execution_count": 74,
   "metadata": {},
   "outputs": [
    {
     "name": "stderr",
     "output_type": "stream",
     "text": [
      "c:\\Users\\Framework_Arthur\\AppData\\Local\\Programs\\Python\\Python313\\Lib\\site-packages\\xgboost\\training.py:183: UserWarning: [23:27:12] WARNING: C:\\actions-runner\\_work\\xgboost\\xgboost\\src\\learner.cc:738: \n",
      "Parameters: { \"use_label_encoder\" } are not used.\n",
      "\n",
      "  bst.update(dtrain, iteration=i, fobj=obj)\n"
     ]
    },
    {
     "name": "stdout",
     "output_type": "stream",
     "text": [
      "\n",
      "Model Performance Sorted by QWK Score:\n",
      "SVM - Accuracy: 0.6742, QWK: 0.6318\n",
      "Random Forest - Accuracy: 0.6292, QWK: 0.6227\n",
      "Gradient Boosting - Accuracy: 0.6180, QWK: 0.6106\n",
      "XGBoost - Accuracy: 0.6180, QWK: 0.6046\n"
     ]
    }
   ],
   "source": [
    "from sklearn.model_selection import train_test_split\n",
    "from sklearn.preprocessing import StandardScaler\n",
    "from sklearn.ensemble import GradientBoostingClassifier, RandomForestClassifier\n",
    "from xgboost import XGBClassifier\n",
    "from sklearn.svm import SVC\n",
    "from sklearn.metrics import accuracy_score, cohen_kappa_score, confusion_matrix\n",
    "import numpy as np\n",
    "\n",
    "# Load the dataset\n",
    "file_path = \"data/F78DS-Essay-Features.csv\"\n",
    "df = pd.read_csv(file_path)\n",
    "\n",
    "# Separate features (X) and the label (y)\n",
    "X = df.drop(columns=[\"score\", \"essayid\"])  # Features (excluding essayid and score)\n",
    "y = df[\"score\"] - 1  # Adjust labels to start from 0\n",
    "\n",
    "# Split into training and testing sets (80% train, 20% test)\n",
    "X_train, X_test, y_train, y_test = train_test_split(X, y, test_size=0.2, random_state=42, stratify=y)\n",
    "\n",
    "# Normalize the features using StandardScaler\n",
    "scaler = StandardScaler()\n",
    "X_train_scaled = scaler.fit_transform(X_train)\n",
    "X_test_scaled = scaler.transform(X_test)\n",
    "\n",
    "# Train different models\n",
    "models = {\n",
    "    \"Random Forest\": RandomForestClassifier(n_estimators=100, random_state=42),\n",
    "    \"Gradient Boosting\": GradientBoostingClassifier(n_estimators=100, random_state=42),\n",
    "    \"XGBoost\": XGBClassifier(n_estimators=100, use_label_encoder=False, eval_metric='mlogloss'),\n",
    "    \"SVM\": SVC(probability=True, random_state=42)\n",
    "}\n",
    "\n",
    "# Train each model and store predictions\n",
    "model_scores = []\n",
    "prob_predictions = {}\n",
    "\n",
    "for name, model in models.items():\n",
    "    model.fit(X_train_scaled, y_train)\n",
    "    pred = model.predict(X_test_scaled)\n",
    "    \n",
    "    # Calculate evaluation metrics\n",
    "    accuracy = accuracy_score(y_test, pred)\n",
    "    qwk = cohen_kappa_score(y_test, pred, weights=\"quadratic\")\n",
    "    model_scores.append((name, accuracy, qwk))\n",
    "    \n",
    "    # Store probability predictions for ensemble\n",
    "    prob_predictions[name] = model.predict_proba(X_test_scaled)\n",
    "\n",
    "# Sort models by QWK score in descending order\n",
    "model_scores.sort(key=lambda x: x[2], reverse=True)\n",
    "\n",
    "print(\"\\nModel Performance Sorted by QWK Score:\")\n",
    "for name, accuracy, qwk in model_scores:\n",
    "    print(f\"{name} - Accuracy: {accuracy:.4f}, QWK: {qwk:.4f}\")"
   ]
  },
  {
   "cell_type": "markdown",
   "metadata": {},
   "source": [
    "#### Ensemble model"
   ]
  },
  {
   "cell_type": "markdown",
   "metadata": {},
   "source": [
    "Ensemble modeling is a technique that combines the predictions of multiple machine learning models to improve overall performance and robustness. The principle behind ensemble modeling is that a group of \"weak learners\" can come together to form a \"strong learner,\" often outperforming any individual model.\n",
    "\n",
    "* Diversity and Reduction of Overfitting: Ensemble methods leverage the diversity among different models. By combining models that make different types of errors, the ensemble can reduce the risk of overfitting and improve generalization to unseen data.\n",
    "\n",
    "* Combining Predictions: The predictions from multiple models are combined using techniques such as averaging (for regression tasks) or voting (for classification tasks). This combination helps to smooth out individual model errors and can lead to more stable and accurate predictions.\n",
    "\n",
    "* Types of Ensemble Methods:  \n",
    "Bagging (Bootstrap Aggregating): Involves training multiple instances of the same model on different subsets of the training data and averaging their predictions. Random Forest is a popular example of bagging.  \n",
    "Boosting: Sequentially trains models, each trying to correct the errors of the previous ones. Models like Gradient Boosting and XGBoost use this approach.  \n",
    "Stacking: Combines the predictions of multiple models using another model or meta-learner to make the final prediction.\n",
    "\n",
    "* Improved Performance: Ensemble models often achieve better performance than individual models by capturing different aspects of the data and reducing variance and bias. They are particularly effective in complex tasks where no single model can capture all the underlying patterns."
   ]
  },
  {
   "cell_type": "code",
   "execution_count": 75,
   "metadata": {},
   "outputs": [
    {
     "name": "stdout",
     "output_type": "stream",
     "text": [
      "\n",
      "Ensemble Model - Accuracy: 0.6404, QWK: 0.6256\n",
      "\n",
      "Confusion Matrix for Ensemble Model:\n",
      " [[ 1  2  0  0  0  0]\n",
      " [ 1 12  9  0  0  0]\n",
      " [ 0  2 83 27  0  0]\n",
      " [ 0  0 42 75  0  0]\n",
      " [ 0  0  0 12  0  0]\n",
      " [ 0  0  0  1  0  0]]\n"
     ]
    }
   ],
   "source": [
    "# Ensemble Method: Average the probabilities\n",
    "avg_prob = np.mean(list(prob_predictions.values()), axis=0)\n",
    "ensemble_prediction = np.argmax(avg_prob, axis=1)  # Labels are already 0-indexed\n",
    "\n",
    "# Evaluate the ensemble model\n",
    "ensemble_accuracy = accuracy_score(y_test, ensemble_prediction)\n",
    "ensemble_qwk = cohen_kappa_score(y_test, ensemble_prediction, weights=\"quadratic\")\n",
    "print(f\"\\nEnsemble Model - Accuracy: {ensemble_accuracy:.4f}, QWK: {ensemble_qwk:.4f}\")\n",
    "\n",
    "# Confusion Matrix for the ensemble model\n",
    "conf_matrix_ensemble = confusion_matrix(y_test, ensemble_prediction)\n",
    "print(\"\\nConfusion Matrix for Ensemble Model:\\n\", conf_matrix_ensemble)"
   ]
  },
  {
   "cell_type": "markdown",
   "metadata": {},
   "source": [
    "#### I will now try to improve the performance of the best model, SVM"
   ]
  },
  {
   "cell_type": "code",
   "execution_count": 76,
   "metadata": {},
   "outputs": [
    {
     "name": "stdout",
     "output_type": "stream",
     "text": [
      "Fitting 5 folds for each of 300 candidates, totalling 1500 fits\n"
     ]
    },
    {
     "name": "stderr",
     "output_type": "stream",
     "text": [
      "c:\\Users\\Framework_Arthur\\AppData\\Local\\Programs\\Python\\Python313\\Lib\\site-packages\\sklearn\\model_selection\\_split.py:805: UserWarning: The least populated class in y has only 3 members, which is less than n_splits=5.\n",
      "  warnings.warn(\n"
     ]
    },
    {
     "name": "stdout",
     "output_type": "stream",
     "text": [
      "Best Hyperparameters: {'C': 10, 'degree': 3, 'gamma': 10, 'kernel': 'poly'}\n",
      "Test Accuracy: 0.6609, QWK: 0.6579\n"
     ]
    }
   ],
   "source": [
    "from sklearn.svm import SVC\n",
    "from sklearn.metrics import make_scorer\n",
    "from sklearn.model_selection import GridSearchCV\n",
    "\n",
    "# Define QWK scoring function\n",
    "def quadratic_weighted_kappa(y_true, y_pred):\n",
    "    return cohen_kappa_score(y_true, y_pred, weights=\"quadratic\")\n",
    "\n",
    "# Use make_scorer to create a scorer based on QWK\n",
    "qwk_scorer = make_scorer(quadratic_weighted_kappa, greater_is_better=True)\n",
    "\n",
    "# Load the dataset\n",
    "file_path = \"data/F78DS-Essay-Features.csv\"\n",
    "df = pd.read_csv(file_path)\n",
    "\n",
    "# Separate features (X) and the label (y)\n",
    "X = df.drop(columns=[\"score\", \"essayid\"])  # Features (excluding essayid and score)\n",
    "y = df[\"score\"] - 1  # Adjust labels to start from 0\n",
    "\n",
    "# Split into training and testing sets (80% train, 20% test)\n",
    "X_train, X_test, y_train, y_test = train_test_split(X, y, test_size=0.2, random_state=42, stratify=y)\n",
    "\n",
    "# Normalize the features \n",
    "X_train_scaled = normalizer_scaler.fit_transform(X_train)\n",
    "X_test_scaled = normalizer_scaler.transform(X_test)\n",
    "\n",
    "# Define the SVM model\n",
    "svm_model = SVC(probability=True, random_state=42)\n",
    "\n",
    "# Define the hyperparameter grid\n",
    "param_grid = {\n",
    "    'C': [0.1, 1, 10, 100, 1000],  # Regularization parameter\n",
    "    'kernel': ['linear', 'poly', 'rbf', 'sigmoid'],  # Kernel types\n",
    "    'gamma': ['scale', 'auto', 0.1, 1, 10],  # Kernel coefficient\n",
    "    'degree': [3, 4, 5]  # Degree of polynomial kernel (only for 'poly')\n",
    "}\n",
    "\n",
    "# Perform GridSearchCV with QWK as the scoring metric\n",
    "grid_search = GridSearchCV(svm_model, param_grid, cv=5, n_jobs=-1, verbose=2, scoring=qwk_scorer)\n",
    "grid_search.fit(X_train_scaled, y_train)\n",
    "\n",
    "# Get the best SVM model from grid search\n",
    "best_svm_model = grid_search.best_estimator_\n",
    "\n",
    "# Evaluate the best model on the test set\n",
    "best_svm_pred = best_svm_model.predict(X_test_scaled)\n",
    "\n",
    "# Print the best hyperparameters and evaluation metrics\n",
    "print(f\"Best Hyperparameters: {grid_search.best_params_}\")\n",
    "accuracy = grid_search.best_score_  # Accuracy on training data\n",
    "qwk = quadratic_weighted_kappa(y_test, best_svm_pred)\n",
    "print(f\"Test Accuracy: {accuracy:.4f}, QWK: {qwk:.4f}\")"
   ]
  },
  {
   "cell_type": "markdown",
   "metadata": {},
   "source": [
    "Best Hyperparameters: {  \n",
    "    'C': 10,  \n",
    "    'degree': 3,  \n",
    "    'gamma': 10,  \n",
    "    'kernel': 'poly'  \n",
    "}\n",
    "\n",
    "Test Accuracy: 0.6609, QWK: 0.6579"
   ]
  },
  {
   "cell_type": "code",
   "execution_count": 77,
   "metadata": {},
   "outputs": [
    {
     "data": {
      "text/plain": [
       "['models/best_svm_model.pkl']"
      ]
     },
     "execution_count": 77,
     "metadata": {},
     "output_type": "execute_result"
    }
   ],
   "source": [
    "import joblib\n",
    "\n",
    "# Save the final model and predictions\n",
    "joblib.dump(best_svm_model, \"models/best_svm_model.pkl\")"
   ]
  },
  {
   "cell_type": "markdown",
   "metadata": {},
   "source": [
    "A .pkl file is a pickle file, which is a serialized version of a Python object. It is created using the pickle or joblib module in Python. Serialization (or \"pickling\") is the process of converting a Python object (like a trained machine learning model, list, dictionary, etc.) into a byte stream that can be stored on disk and later reloaded (\"unpickled\") into its original form. Machine learning models (like SVMs) trained on large datasets can be saved and reused without retraining."
   ]
  },
  {
   "cell_type": "markdown",
   "metadata": {},
   "source": [
    "#### More fine tuning of the SVM model using the result of the first grid search \n",
    "\n",
    "#### [!!may take long to execute on your computer!! (11h+ on mine)]"
   ]
  },
  {
   "cell_type": "markdown",
   "metadata": {},
   "source": [
    "<u> improvement strategies: </u>\n",
    "\n",
    "* Feature Engineering, using PCA (Principal Component Analysis) to reduce dimensionality retain the most informative features.\n",
    "\n",
    "* Hyperparameter Tuning\n",
    "\n",
    "* Handling Imbalanced Data: using the class_weight parameter in SVC to account for different class distributions."
   ]
  },
  {
   "cell_type": "code",
   "execution_count": 30,
   "metadata": {},
   "outputs": [
    {
     "name": "stdout",
     "output_type": "stream",
     "text": [
      "Fitting 10 folds for each of 960 candidates, totalling 9600 fits\n"
     ]
    },
    {
     "name": "stderr",
     "output_type": "stream",
     "text": [
      "c:\\Users\\Framework_Arthur\\AppData\\Local\\Programs\\Python\\Python313\\Lib\\site-packages\\sklearn\\model_selection\\_split.py:805: UserWarning: The least populated class in y has only 3 members, which is less than n_splits=10.\n",
      "  warnings.warn(\n"
     ]
    },
    {
     "name": "stdout",
     "output_type": "stream",
     "text": [
      "Best Hyperparameters: {'C': 1, 'class_weight': 'balanced', 'degree': 3, 'gamma': 0.01, 'kernel': 'rbf'}\n",
      "Test Accuracy: 0.6736, QWK: 0.6657\n"
     ]
    }
   ],
   "source": [
    "from sklearn.model_selection import GridSearchCV\n",
    "from sklearn.svm import SVC\n",
    "from sklearn.metrics import cohen_kappa_score, make_scorer\n",
    "import pandas as pd\n",
    "from sklearn.preprocessing import StandardScaler\n",
    "from sklearn.model_selection import train_test_split\n",
    "from sklearn.decomposition import PCA\n",
    "from sklearn.ensemble import VotingClassifier\n",
    "\n",
    "# Define QWK scoring function\n",
    "def quadratic_weighted_kappa(y_true, y_pred):\n",
    "    return cohen_kappa_score(y_true, y_pred, weights=\"quadratic\")\n",
    "\n",
    "# Use make_scorer to create a scorer based on QWK\n",
    "qwk_scorer = make_scorer(quadratic_weighted_kappa, greater_is_better=True)\n",
    "\n",
    "# Load the dataset\n",
    "file_path = \"data/F78DS-Essay-Features.csv\"\n",
    "df = pd.read_csv(file_path)\n",
    "\n",
    "# Separate features (X) and the label (y)\n",
    "X = df.drop(columns=[\"score\", \"essayid\"])  # Features (excluding essayid and score)\n",
    "y = df[\"score\"] - 1  # Adjust labels to start from 0\n",
    "\n",
    "# Split into training and testing sets (80% train, 20% test)\n",
    "X_train, X_test, y_train, y_test = train_test_split(X, y, test_size=0.2, random_state=42, stratify=y)\n",
    "\n",
    "# Normalize the features using StandardScaler\n",
    "scaler = StandardScaler()\n",
    "X_train_scaled = scaler.fit_transform(X_train)\n",
    "X_test_scaled = scaler.transform(X_test)\n",
    "\n",
    "# Optional: Apply PCA for dimensionality reduction\n",
    "pca = PCA(n_components=0.95)  # Retain 95% variance\n",
    "X_train_scaled = pca.fit_transform(X_train_scaled)\n",
    "X_test_scaled = pca.transform(X_test_scaled)\n",
    "\n",
    "# Define the SVM model\n",
    "svm_model = SVC(probability=True, random_state=42)\n",
    "\n",
    "# Define the hyperparameter grid\n",
    "param_grid = {\n",
    "    'C': [0.01, 0.1, 1, 10, 100, 1000],\n",
    "    'kernel': ['linear', 'poly', 'rbf', 'sigmoid'],\n",
    "    'gamma': ['scale', 'auto', 0.0001, 0.001, 0.01],\n",
    "    'degree': [3, 4, 5, 6],\n",
    "    'class_weight': [None, 'balanced']\n",
    "}\n",
    "\n",
    "# Perform GridSearchCV with QWK as the scoring metric\n",
    "grid_search = GridSearchCV(svm_model, param_grid, cv=10, n_jobs=-1, verbose=2, scoring=qwk_scorer)\n",
    "grid_search.fit(X_train_scaled, y_train)\n",
    "\n",
    "# Get the best SVM model from grid search\n",
    "best_svm_model = grid_search.best_estimator_\n",
    "\n",
    "# Evaluate the best model on the test set\n",
    "best_svm_pred = best_svm_model.predict(X_test_scaled)\n",
    "\n",
    "# Print the best hyperparameters and evaluation metrics\n",
    "print(f\"Best Hyperparameters: {grid_search.best_params_}\")\n",
    "accuracy = grid_search.best_score_  # Accuracy on training data\n",
    "qwk = quadratic_weighted_kappa(y_test, best_svm_pred)\n",
    "print(f\"Test Accuracy: {accuracy:.4f}, QWK: {qwk:.4f}\")\n",
    "\n",
    "# Optionally, save the final model and predictions\n",
    "# best_svm_model.save(\"best_svm_model.pkl\")\n"
   ]
  },
  {
   "cell_type": "markdown",
   "metadata": {},
   "source": [
    "Best Hyperparameters: {  \n",
    "    'C': 1,  \n",
    "    'class_weight': 'balanced',  \n",
    "    'degree': 3,  \n",
    "    'gamma': 0.01,  \n",
    "    'kernel': 'rbf'  \n",
    "    }\n",
    "\n",
    "Test Accuracy: 0.6736, QWK: 0.6657"
   ]
  },
  {
   "cell_type": "markdown",
   "metadata": {},
   "source": [
    "#### Saving the improved SVM model (Kaggle = 0.680)"
   ]
  },
  {
   "cell_type": "code",
   "execution_count": 100,
   "metadata": {},
   "outputs": [
    {
     "name": "stdout",
     "output_type": "stream",
     "text": [
      "Meilleurs hyperparamètres : C=1, class_weight='balanced', degree=3, gamma=0.01, kernel='rbf'\n",
      "QWK sur le test : 0.6657\n"
     ]
    },
    {
     "data": {
      "text/plain": [
       "['models/pca.pkl']"
      ]
     },
     "execution_count": 100,
     "metadata": {},
     "output_type": "execute_result"
    }
   ],
   "source": [
    "from sklearn.decomposition import PCA\n",
    "\n",
    "# Load the dataset\n",
    "train_file_path = \"data/F78DS-Essay-Features.csv\"\n",
    "train_df = pd.read_csv(train_file_path)\n",
    "\n",
    "# Define features (X) and the label (y)\n",
    "X = train_df.drop(columns=[\"score\", \"essayid\"])\n",
    "y = train_df[\"score\"] - 1  # Ajustement de l'étiquette pour commencer à 0\n",
    "\n",
    "# Save the features used for training\n",
    "selected_features = X.columns.tolist()\n",
    "joblib.dump(selected_features, \"models/features.pkl\")\n",
    "\n",
    "# Split the data into training and testing sets (80% train, 20% test)\n",
    "X_train, X_test, y_train, y_test = train_test_split(X, y, test_size=0.2, random_state=42, stratify=y)\n",
    "\n",
    "# Normalization of features using StandardScaler\n",
    "scaler = StandardScaler()\n",
    "X_train_scaled = scaler.fit_transform(X_train)\n",
    "X_test_scaled = scaler.transform(X_test)\n",
    "\n",
    "# Dimension reduction with PCA\n",
    "pca = PCA(n_components=0.95)  # Keep 95% of variance\n",
    "X_train_scaled = pca.fit_transform(X_train_scaled)\n",
    "X_test_scaled = pca.transform(X_test_scaled)\n",
    "\n",
    "# Define the best SVM model based on previous tuning\n",
    "best_svm_model = SVC(C=1, class_weight='balanced', degree=3, gamma=0.01, kernel='rbf', random_state=42)\n",
    "\n",
    "# Training of the best SVM model\n",
    "best_svm_model.fit(X_train_scaled, y_train)\n",
    "\n",
    "# Testing of the best SVM model\n",
    "best_svm_pred = best_svm_model.predict(X_test_scaled)\n",
    "qwk = cohen_kappa_score(y_test, best_svm_pred, weights=\"quadratic\")\n",
    "\n",
    "# Show the results\n",
    "print(f\"Meilleurs hyperparamètres : C=1, class_weight='balanced', degree=3, gamma=0.01, kernel='rbf'\")\n",
    "print(f\"QWK sur le test : {qwk:.4f}\")\n",
    "\n",
    "# Save the final model and scaler and PCA and features\n",
    "joblib.dump(best_svm_model, \"models/best_svm_model.pkl\")\n",
    "joblib.dump(scaler, \"models/scaler.pkl\")\n",
    "joblib.dump(pca, \"models/pca.pkl\")"
   ]
  },
  {
   "cell_type": "markdown",
   "metadata": {},
   "source": [
    "#### Generate grade prediction for Kaggle submission using the model .pkl saved before (QWK = 0.680)"
   ]
  },
  {
   "cell_type": "code",
   "execution_count": 101,
   "metadata": {},
   "outputs": [
    {
     "name": "stdout",
     "output_type": "stream",
     "text": [
      "Predictions saved to data/H00494101-GrossmannLeMauguenArthur-3.csv\n"
     ]
    }
   ],
   "source": [
    "# Load the trained SVM model, scaler, and PCA\n",
    "best_svm_model = joblib.load(\"models/best_svm_model.pkl\")\n",
    "scaler = joblib.load(\"models/scaler.pkl\")\n",
    "pca = joblib.load(\"models/pca.pkl\")\n",
    "selected_features = joblib.load(\"models/features.pkl\")\n",
    "\n",
    "# Load the submission dataset\n",
    "submission_file_path = \"data/F78DS-Essay-Features-Submission.csv\"\n",
    "submission_df = pd.read_csv(submission_file_path)\n",
    "\n",
    "# Extract \"essayid\" and preprocess the features\n",
    "essay_ids = submission_df[\"essayid\"]\n",
    "X_submission = submission_df[selected_features].copy()  # Ensure the same features as during training\n",
    "\n",
    "# Scale and apply PCA to the submission data\n",
    "X_submission_scaled = scaler.transform(X_submission)\n",
    "X_submission_pca = pca.transform(X_submission_scaled)\n",
    "\n",
    "# Predict the scores using the trained SVM model\n",
    "predicted_scores = best_svm_model.predict(X_submission_pca)\n",
    "\n",
    "# Adjust scores if necessary (e.g., rounding or shifting)\n",
    "predicted_scores = predicted_scores + 1  # Reverse the previous label shift\n",
    "\n",
    "# Create the output DataFrame\n",
    "output_df = pd.DataFrame({\"essayid\": essay_ids, \"score\": predicted_scores})\n",
    "\n",
    "# Save to CSV file\n",
    "output_csv_path = \"data/H00494101-GrossmannLeMauguenArthur-3.csv\"\n",
    "output_df.to_csv(output_csv_path, index=False)\n",
    "\n",
    "# Return the output file path\n",
    "print(f\"Predictions saved to {output_csv_path}\")"
   ]
  },
  {
   "cell_type": "markdown",
   "metadata": {},
   "source": [
    "#### Ensemble learning with new gridsearch for the SVM and RF"
   ]
  },
  {
   "cell_type": "code",
   "execution_count": 102,
   "metadata": {},
   "outputs": [
    {
     "name": "stdout",
     "output_type": "stream",
     "text": [
      "Fitting 10 folds for each of 60 candidates, totalling 600 fits\n"
     ]
    },
    {
     "name": "stderr",
     "output_type": "stream",
     "text": [
      "c:\\Users\\Framework_Arthur\\AppData\\Local\\Programs\\Python\\Python313\\Lib\\site-packages\\sklearn\\model_selection\\_split.py:805: UserWarning: The least populated class in y has only 3 members, which is less than n_splits=10.\n",
      "  warnings.warn(\n"
     ]
    },
    {
     "name": "stdout",
     "output_type": "stream",
     "text": [
      "Best SVM Hyperparameters: {'C': 5, 'class_weight': 'balanced', 'gamma': 0.005, 'kernel': 'rbf'}\n",
      "SVM Test Accuracy: 0.6725, QWK: 0.6676\n",
      "Fitting 10 folds for each of 216 candidates, totalling 2160 fits\n"
     ]
    },
    {
     "name": "stderr",
     "output_type": "stream",
     "text": [
      "c:\\Users\\Framework_Arthur\\AppData\\Local\\Programs\\Python\\Python313\\Lib\\site-packages\\sklearn\\model_selection\\_split.py:805: UserWarning: The least populated class in y has only 3 members, which is less than n_splits=10.\n",
      "  warnings.warn(\n"
     ]
    },
    {
     "name": "stdout",
     "output_type": "stream",
     "text": [
      "Best RF Hyperparameters: {'class_weight': 'balanced', 'max_depth': 10, 'min_samples_leaf': 4, 'min_samples_split': 2, 'n_estimators': 200}\n",
      "RF QWK: 0.6796\n",
      "Ensemble Model QWK: 0.6740\n"
     ]
    }
   ],
   "source": [
    "from sklearn.model_selection import GridSearchCV, StratifiedKFold, train_test_split\n",
    "from sklearn.svm import SVC\n",
    "from sklearn.ensemble import RandomForestClassifier, VotingClassifier\n",
    "from sklearn.metrics import cohen_kappa_score, make_scorer\n",
    "from sklearn.preprocessing import StandardScaler\n",
    "from sklearn.decomposition import PCA\n",
    "import pandas as pd\n",
    "import numpy as np\n",
    "\n",
    "# Define QWK scoring function\n",
    "def quadratic_weighted_kappa(y_true, y_pred):\n",
    "    return cohen_kappa_score(y_true, y_pred, weights=\"quadratic\")\n",
    "\n",
    "qwk_scorer = make_scorer(quadratic_weighted_kappa, greater_is_better=True)\n",
    "\n",
    "# Load dataset\n",
    "file_path = \"data/F78DS-Essay-Features.csv\"\n",
    "df = pd.read_csv(file_path)\n",
    "\n",
    "# Separate features (X) and labels (y)\n",
    "X = df.drop(columns=[\"score\", \"essayid\"])\n",
    "y = df[\"score\"] - 1  # Adjust labels to start from 0\n",
    "\n",
    "# Split dataset\n",
    "X_train, X_test, y_train, y_test = train_test_split(X, y, test_size=0.2, stratify=y, random_state=42)\n",
    "\n",
    "# Scale features\n",
    "scaler = StandardScaler()\n",
    "X_train_scaled = scaler.fit_transform(X_train)\n",
    "X_test_scaled = scaler.transform(X_test)\n",
    "\n",
    "# Apply PCA (Optimize component selection)\n",
    "pca = PCA(n_components=0.99)  # Retain 99% variance\n",
    "X_train_pca = pca.fit_transform(X_train_scaled)\n",
    "X_test_pca = pca.transform(X_test_scaled)\n",
    "\n",
    "# SVM Hyperparameter Grid Search (Refined)\n",
    "svm_model = SVC(probability=True, random_state=42)\n",
    "param_grid_svm = {\n",
    "    'C': [0.01, 0.1, 0.5, 1, 5, 10],\n",
    "    'kernel': ['rbf'],  # Best kernel from previous search\n",
    "    'gamma': [0.001, 0.005, 0.01, 0.05, 0.1],\n",
    "    'class_weight': ['balanced', None]\n",
    "}\n",
    "\n",
    "cv_strategy = StratifiedKFold(n_splits=10, shuffle=True, random_state=42)\n",
    "grid_search_svm = GridSearchCV(svm_model, param_grid_svm, cv=cv_strategy, n_jobs=-1, verbose=2, scoring=qwk_scorer)\n",
    "grid_search_svm.fit(X_train_pca, y_train)\n",
    "\n",
    "best_svm_model = grid_search_svm.best_estimator_\n",
    "best_svm_pred = best_svm_model.predict(X_test_pca)\n",
    "\n",
    "# Evaluate Best SVM Model\n",
    "accuracy = grid_search_svm.best_score_\n",
    "qwk = quadratic_weighted_kappa(y_test, best_svm_pred)\n",
    "print(f\"Best SVM Hyperparameters: {grid_search_svm.best_params_}\")\n",
    "print(f\"SVM Test Accuracy: {accuracy:.4f}, QWK: {qwk:.4f}\")\n",
    "\n",
    "# Random Forest Hyperparameter Grid Search\n",
    "rf_model = RandomForestClassifier(random_state=42)\n",
    "param_grid_rf = {\n",
    "    'n_estimators': [100, 200, 300],\n",
    "    'max_depth': [10, 20, 30, None],\n",
    "    'min_samples_split': [2, 5, 10],\n",
    "    'min_samples_leaf': [1, 2, 4],\n",
    "    'class_weight': ['balanced', None]\n",
    "}\n",
    "\n",
    "grid_search_rf = GridSearchCV(rf_model, param_grid_rf, cv=cv_strategy, n_jobs=-1, verbose=2, scoring=qwk_scorer)\n",
    "grid_search_rf.fit(X_train_pca, y_train)\n",
    "\n",
    "best_rf_model = grid_search_rf.best_estimator_\n",
    "best_rf_pred = best_rf_model.predict(X_test_pca)\n",
    "\n",
    "# Evaluate Best RF Model\n",
    "rf_qwk = quadratic_weighted_kappa(y_test, best_rf_pred)\n",
    "print(f\"Best RF Hyperparameters: {grid_search_rf.best_params_}\")\n",
    "print(f\"RF QWK: {rf_qwk:.4f}\")\n",
    "\n",
    "# Ensemble Learning (SVM + RandomForest)\n",
    "voting_clf = VotingClassifier(estimators=[('svm', best_svm_model), ('rf', best_rf_model)], voting='soft')\n",
    "voting_clf.fit(X_train_pca, y_train)\n",
    "voting_pred = voting_clf.predict(X_test_pca)\n",
    "\n",
    "# Evaluate Ensemble Model\n",
    "ensemble_qwk = quadratic_weighted_kappa(y_test, voting_pred)\n",
    "print(f\"Ensemble Model QWK: {ensemble_qwk:.4f}\")\n"
   ]
  },
  {
   "cell_type": "markdown",
   "metadata": {},
   "source": [
    "#### Another ensemble learning with new gridsearch for the SVM and RF  \n",
    "\n",
    "#### [!!may take long to execute on your computer!! (15+min on mine)]"
   ]
  },
  {
   "cell_type": "code",
   "execution_count": 103,
   "metadata": {},
   "outputs": [
    {
     "name": "stdout",
     "output_type": "stream",
     "text": [
      "Fitting 10 folds for each of 50 candidates, totalling 500 fits\n"
     ]
    },
    {
     "name": "stderr",
     "output_type": "stream",
     "text": [
      "c:\\Users\\Framework_Arthur\\AppData\\Local\\Programs\\Python\\Python313\\Lib\\site-packages\\sklearn\\model_selection\\_split.py:805: UserWarning: The least populated class in y has only 3 members, which is less than n_splits=10.\n",
      "  warnings.warn(\n"
     ]
    },
    {
     "name": "stdout",
     "output_type": "stream",
     "text": [
      "Best SVM Hyperparameters: {'C': 10, 'class_weight': 'balanced', 'gamma': 0.002, 'kernel': 'rbf'}\n",
      "SVM Test Accuracy: 0.6782, QWK: 0.6630\n",
      "Fitting 10 folds for each of 640 candidates, totalling 6400 fits\n"
     ]
    },
    {
     "name": "stderr",
     "output_type": "stream",
     "text": [
      "c:\\Users\\Framework_Arthur\\AppData\\Local\\Programs\\Python\\Python313\\Lib\\site-packages\\sklearn\\model_selection\\_split.py:805: UserWarning: The least populated class in y has only 3 members, which is less than n_splits=10.\n",
      "  warnings.warn(\n"
     ]
    },
    {
     "name": "stdout",
     "output_type": "stream",
     "text": [
      "Best RF Hyperparameters: {'class_weight': 'balanced', 'max_depth': 30, 'min_samples_leaf': 6, 'min_samples_split': 2, 'n_estimators': 400}\n",
      "RF QWK: 0.6676\n",
      "Ensemble Model QWK: 0.6821\n"
     ]
    }
   ],
   "source": [
    "from sklearn.model_selection import GridSearchCV, StratifiedKFold, train_test_split\n",
    "from sklearn.svm import SVC\n",
    "from sklearn.ensemble import RandomForestClassifier, VotingClassifier\n",
    "from sklearn.metrics import cohen_kappa_score, make_scorer\n",
    "from sklearn.preprocessing import StandardScaler\n",
    "from sklearn.decomposition import PCA\n",
    "import pandas as pd\n",
    "import numpy as np\n",
    "\n",
    "# Define QWK scoring function\n",
    "def quadratic_weighted_kappa(y_true, y_pred):\n",
    "    return cohen_kappa_score(y_true, y_pred, weights=\"quadratic\")\n",
    "\n",
    "qwk_scorer = make_scorer(quadratic_weighted_kappa, greater_is_better=True)\n",
    "\n",
    "# Load dataset\n",
    "file_path = \"data/F78DS-Essay-Features.csv\"\n",
    "df = pd.read_csv(file_path)\n",
    "\n",
    "# Separate features (X) and labels (y)\n",
    "X = df.drop(columns=[\"score\", \"essayid\"])\n",
    "y = df[\"score\"] - 1  # Adjust labels to start from 0\n",
    "\n",
    "# Split dataset\n",
    "X_train, X_test, y_train, y_test = train_test_split(X, y, test_size=0.2, stratify=y, random_state=42)\n",
    "\n",
    "# Scale features\n",
    "scaler = StandardScaler()\n",
    "X_train_scaled = scaler.fit_transform(X_train)\n",
    "X_test_scaled = scaler.transform(X_test)\n",
    "\n",
    "# Apply PCA (Optimize component selection)\n",
    "pca = PCA(n_components=0.99)  # Retain 99% variance\n",
    "X_train_pca = pca.fit_transform(X_train_scaled)\n",
    "X_test_pca = pca.transform(X_test_scaled)\n",
    "\n",
    "# SVM Hyperparameter Grid Search (Refined)\n",
    "svm_model = SVC(probability=True, random_state=42)\n",
    "param_grid_svm = {\n",
    "    'C': [1, 3, 5, 7, 10],  # Focusing on best range\n",
    "    'kernel': ['rbf'],  # Best kernel from previous search\n",
    "    'gamma': [0.001, 0.002, 0.005, 0.007, 0.01],  # More refined search\n",
    "    'class_weight': ['balanced', None]\n",
    "}\n",
    "\n",
    "cv_strategy = StratifiedKFold(n_splits=10, shuffle=True, random_state=42)\n",
    "grid_search_svm = GridSearchCV(svm_model, param_grid_svm, cv=cv_strategy, n_jobs=-1, verbose=2, scoring=qwk_scorer)\n",
    "grid_search_svm.fit(X_train_pca, y_train)\n",
    "\n",
    "best_svm_model = grid_search_svm.best_estimator_\n",
    "best_svm_pred = best_svm_model.predict(X_test_pca)\n",
    "\n",
    "# Evaluate Best SVM Model\n",
    "accuracy = grid_search_svm.best_score_\n",
    "qwk = quadratic_weighted_kappa(y_test, best_svm_pred)\n",
    "print(f\"Best SVM Hyperparameters: {grid_search_svm.best_params_}\")\n",
    "print(f\"SVM Test Accuracy: {accuracy:.4f}, QWK: {qwk:.4f}\")\n",
    "\n",
    "# Random Forest Hyperparameter Grid Search\n",
    "rf_model = RandomForestClassifier(random_state=42)\n",
    "param_grid_rf = {\n",
    "    'n_estimators': [100, 200, 300, 400],  # Adding 400 for deeper exploration\n",
    "    'max_depth': [10, 20, 30, 40, None],  # More depth options\n",
    "    'min_samples_split': [2, 5, 10, 15],  # More variations\n",
    "    'min_samples_leaf': [1, 2, 4, 6],  # Exploring a wider range\n",
    "    'class_weight': ['balanced', None]\n",
    "}\n",
    "\n",
    "grid_search_rf = GridSearchCV(rf_model, param_grid_rf, cv=cv_strategy, n_jobs=-1, verbose=2, scoring=qwk_scorer)\n",
    "grid_search_rf.fit(X_train_pca, y_train)\n",
    "\n",
    "best_rf_model = grid_search_rf.best_estimator_\n",
    "best_rf_pred = best_rf_model.predict(X_test_pca)\n",
    "\n",
    "# Evaluate Best RF Model\n",
    "rf_qwk = quadratic_weighted_kappa(y_test, best_rf_pred)\n",
    "print(f\"Best RF Hyperparameters: {grid_search_rf.best_params_}\")\n",
    "print(f\"RF QWK: {rf_qwk:.4f}\")\n",
    "\n",
    "# Ensemble Learning (SVM + RandomForest)\n",
    "voting_clf = VotingClassifier(estimators=[('svm', best_svm_model), ('rf', best_rf_model)], voting='soft')\n",
    "voting_clf.fit(X_train_pca, y_train)\n",
    "voting_pred = voting_clf.predict(X_test_pca)\n",
    "\n",
    "# Evaluate Ensemble Model\n",
    "ensemble_qwk = quadratic_weighted_kappa(y_test, voting_pred)\n",
    "print(f\"Ensemble Model QWK: {ensemble_qwk:.4f}\")"
   ]
  },
  {
   "cell_type": "markdown",
   "metadata": {},
   "source": [
    "Best SVM Hyperparameters: {  \n",
    "    'C': 10,  \n",
    "    'class_weight': 'balanced',  \n",
    "    'gamma': 0.002,  \n",
    "    'kernel': 'rbf'  \n",
    "}  \n",
    "SVM Test Accuracy: 0.6782, QWK: 0.6630\n",
    "\n",
    "Best RF Hyperparameters: {\n",
    "    'class_weight': 'balanced',  \n",
    "    'max_depth': 30,  \n",
    "    'min_samples_leaf': 6,  \n",
    "    'min_samples_split': 2,  \n",
    "    'n_estimators': 400\n",
    "}\n",
    "RF QWK: 0.6676\n",
    "\n",
    "Ensemble Model QWK: 0.6821"
   ]
  },
  {
   "cell_type": "markdown",
   "metadata": {},
   "source": [
    "#### Final Kaggle submission (QWK = 0,693)"
   ]
  },
  {
   "cell_type": "code",
   "execution_count": 104,
   "metadata": {},
   "outputs": [
    {
     "name": "stdout",
     "output_type": "stream",
     "text": [
      "Predictions saved to data/H00494101-GrossmannLeMauguenArthur-4.csv\n"
     ]
    }
   ],
   "source": [
    "from sklearn.model_selection import StratifiedKFold, train_test_split\n",
    "from sklearn.svm import SVC\n",
    "from sklearn.ensemble import RandomForestClassifier, VotingClassifier\n",
    "from sklearn.metrics import cohen_kappa_score, make_scorer\n",
    "from sklearn.preprocessing import StandardScaler\n",
    "from sklearn.decomposition import PCA\n",
    "import pandas as pd\n",
    "import numpy as np\n",
    "import joblib\n",
    "\n",
    "# Define QWK scoring function\n",
    "def quadratic_weighted_kappa(y_true, y_pred):\n",
    "    return cohen_kappa_score(y_true, y_pred, weights=\"quadratic\")\n",
    "\n",
    "qwk_scorer = make_scorer(quadratic_weighted_kappa, greater_is_better=True)\n",
    "\n",
    "# Load dataset\n",
    "file_path = \"data/F78DS-Essay-Features.csv\"\n",
    "df = pd.read_csv(file_path)\n",
    "\n",
    "# Separate features (X) and labels (y)\n",
    "X = df.drop(columns=[\"score\", \"essayid\"])\n",
    "y = df[\"score\"] - 1  # Adjust labels to start from 0\n",
    "\n",
    "# Split dataset\n",
    "X_train, X_test, y_train, y_test = train_test_split(X, y, test_size=0.2, stratify=y, random_state=42)\n",
    "\n",
    "# Scale features\n",
    "scaler = StandardScaler()\n",
    "X_train_scaled = scaler.fit_transform(X_train)\n",
    "X_test_scaled = scaler.transform(X_test)\n",
    "\n",
    "# Apply PCA (Optimize component selection)\n",
    "pca = PCA(n_components=0.99)  # Retain 99% variance\n",
    "X_train_pca = pca.fit_transform(X_train_scaled)\n",
    "X_test_pca = pca.transform(X_test_scaled)\n",
    "\n",
    "# Define best models with hyperparameters\n",
    "best_svm_model = SVC(C=5, kernel='rbf', gamma=0.005, class_weight='balanced', probability=True, random_state=42)\n",
    "best_rf_model = RandomForestClassifier(n_estimators=200, max_depth=10, min_samples_split=2, min_samples_leaf=4, class_weight='balanced', random_state=42)\n",
    "\n",
    "# Train models\n",
    "best_svm_model.fit(X_train_pca, y_train)\n",
    "best_rf_model.fit(X_train_pca, y_train)\n",
    "\n",
    "# Ensemble Learning (SVM + RandomForest)\n",
    "voting_clf = VotingClassifier(estimators=[('svm', best_svm_model), ('rf', best_rf_model)], voting='soft')\n",
    "voting_clf.fit(X_train_pca, y_train)\n",
    "\n",
    "# Save models, scaler, and PCA\n",
    "joblib.dump(voting_clf, \"models/ensemble_model2.pkl\")\n",
    "joblib.dump(scaler, \"models/scaler2.pkl\")\n",
    "joblib.dump(pca, \"models/pca2.pkl\")\n",
    "joblib.dump(X.columns.tolist(), \"models/features2.pkl\")\n",
    "\n",
    "# Load the submission dataset\n",
    "submission_file_path = \"data/F78DS-Essay-Features-Submission.csv\"\n",
    "submission_df = pd.read_csv(submission_file_path)\n",
    "\n",
    "# Extract \"essayid\" and preprocess the features\n",
    "essay_ids = submission_df[\"essayid\"]\n",
    "X_submission = submission_df[X.columns.tolist()]\n",
    "\n",
    "# Scale and apply PCA to the submission data\n",
    "X_submission_scaled = scaler.transform(X_submission)\n",
    "X_submission_pca = pca.transform(X_submission_scaled)\n",
    "\n",
    "# Predict the scores using the trained ensemble model\n",
    "predicted_scores = voting_clf.predict(X_submission_pca)\n",
    "predicted_scores = predicted_scores + 1  # Reverse the previous label shift\n",
    "\n",
    "# Create the output DataFrame\n",
    "output_df = pd.DataFrame({\"essayid\": essay_ids, \"score\": predicted_scores})\n",
    "output_csv_path = \"data/H00494101-GrossmannLeMauguenArthur-4.csv\"\n",
    "output_df.to_csv(output_csv_path, index=False)\n",
    "\n",
    "print(f\"Predictions saved to {output_csv_path}\")"
   ]
  },
  {
   "cell_type": "markdown",
   "metadata": {},
   "source": [
    "#### I tried to add another model to my ensemble model, XGB but it didn't improve the results"
   ]
  },
  {
   "cell_type": "code",
   "execution_count": 118,
   "metadata": {},
   "outputs": [
    {
     "name": "stdout",
     "output_type": "stream",
     "text": [
      "Fitting 5 folds for each of 50 candidates, totalling 250 fits\n"
     ]
    },
    {
     "name": "stderr",
     "output_type": "stream",
     "text": [
      "c:\\Users\\Framework_Arthur\\AppData\\Local\\Programs\\Python\\Python313\\Lib\\site-packages\\sklearn\\model_selection\\_split.py:805: UserWarning: The least populated class in y has only 3 members, which is less than n_splits=5.\n",
      "  warnings.warn(\n",
      "c:\\Users\\Framework_Arthur\\AppData\\Local\\Programs\\Python\\Python313\\Lib\\site-packages\\xgboost\\training.py:183: UserWarning: [01:05:48] WARNING: C:\\actions-runner\\_work\\xgboost\\xgboost\\src\\learner.cc:738: \n",
      "Parameters: { \"scale_pos_weight\", \"use_label_encoder\" } are not used.\n",
      "\n",
      "  bst.update(dtrain, iteration=i, fobj=obj)\n"
     ]
    },
    {
     "name": "stdout",
     "output_type": "stream",
     "text": [
      "Best XGBoost Hyperparameters: {'subsample': 0.7, 'scale_pos_weight': 2, 'reg_lambda': 1, 'reg_alpha': 0.1, 'n_estimators': 100, 'max_depth': 3, 'learning_rate': 0.1, 'gamma': 0, 'colsample_bytree': 0.8}\n",
      "XGBoost QWK: 0.6773\n"
     ]
    },
    {
     "data": {
      "text/plain": [
       "['models/xgb_model.pkl']"
      ]
     },
     "execution_count": 118,
     "metadata": {},
     "output_type": "execute_result"
    }
   ],
   "source": [
    "import xgboost as xgb\n",
    "from sklearn.model_selection import train_test_split, RandomizedSearchCV\n",
    "from sklearn.metrics import cohen_kappa_score, make_scorer\n",
    "from sklearn.preprocessing import StandardScaler\n",
    "from sklearn.decomposition import PCA\n",
    "import pandas as pd\n",
    "import numpy as np\n",
    "import joblib\n",
    "\n",
    "# Define QWK scoring function\n",
    "def quadratic_weighted_kappa(y_true, y_pred):\n",
    "    return cohen_kappa_score(y_true, y_pred, weights=\"quadratic\")\n",
    "\n",
    "qwk_scorer = make_scorer(quadratic_weighted_kappa, greater_is_better=True)\n",
    "\n",
    "# Load dataset\n",
    "file_path = \"data/F78DS-Essay-Features.csv\"\n",
    "df = pd.read_csv(file_path)\n",
    "\n",
    "# Separate features (X) and labels (y)\n",
    "X = df.drop(columns=[\"score\", \"essayid\"])\n",
    "y = df[\"score\"] - 1  # Adjust labels to start from 0\n",
    "\n",
    "# Split dataset\n",
    "X_train, X_test, y_train, y_test = train_test_split(X, y, test_size=0.2, stratify=y, random_state=42)\n",
    "\n",
    "# Scale features\n",
    "scaler = StandardScaler()\n",
    "X_train_scaled = scaler.fit_transform(X_train)\n",
    "X_test_scaled = scaler.transform(X_test)\n",
    "\n",
    "# Apply PCA\n",
    "pca = PCA(n_components=0.99)  # Retain 99% variance\n",
    "X_train_pca = pca.fit_transform(X_train_scaled)\n",
    "X_test_pca = pca.transform(X_test_scaled)\n",
    "\n",
    "# Define XGBoost model\n",
    "xgb_model = xgb.XGBClassifier(objective='multi:softprob', eval_metric='mlogloss', use_label_encoder=False)\n",
    "\n",
    "# Reduced hyperparameter grid for XGBoost\n",
    "param_dist = {\n",
    "    'n_estimators': [100, 200, 300],\n",
    "    'learning_rate': [0.01, 0.05, 0.1],\n",
    "    'max_depth': [3, 5, 7],\n",
    "    'subsample': [0.7, 0.8, 0.9],\n",
    "    'colsample_bytree': [0.7, 0.8, 0.9],\n",
    "    'scale_pos_weight': [1, 2],\n",
    "    'gamma': [0, 0.01, 0.1],\n",
    "    'reg_alpha': [0, 0.1],\n",
    "    'reg_lambda': [1, 1.5]\n",
    "}\n",
    "\n",
    "# Randomized search with cross-validation\n",
    "random_search_xgb = RandomizedSearchCV(xgb_model, param_distributions=param_dist, n_iter=50, cv=5, n_jobs=-1, verbose=2, scoring=qwk_scorer, random_state=42)\n",
    "random_search_xgb.fit(X_train_pca, y_train)\n",
    "\n",
    "print(f\"Best XGBoost Hyperparameters: {random_search_xgb.best_params_}\")\n",
    "\n",
    "# Best XGBoost model\n",
    "best_xgb_model = random_search_xgb.best_estimator_\n",
    "\n",
    "# Evaluate the best model\n",
    "best_xgb_pred = best_xgb_model.predict(X_test_pca)\n",
    "xgb_qwk = cohen_kappa_score(y_test, best_xgb_pred, weights=\"quadratic\")\n",
    "print(f\"XGBoost QWK: {xgb_qwk:.4f}\")\n",
    "\n",
    "# Save the model\n",
    "joblib.dump(best_xgb_model, \"models/xgb_model.pkl\")\n"
   ]
  },
  {
   "cell_type": "code",
   "execution_count": 116,
   "metadata": {},
   "outputs": [
    {
     "name": "stderr",
     "output_type": "stream",
     "text": [
      "c:\\Users\\Framework_Arthur\\AppData\\Local\\Programs\\Python\\Python313\\Lib\\site-packages\\xgboost\\training.py:183: UserWarning: [01:02:48] WARNING: C:\\actions-runner\\_work\\xgboost\\xgboost\\src\\learner.cc:738: \n",
      "Parameters: { \"scale_pos_weight\", \"use_label_encoder\" } are not used.\n",
      "\n",
      "  bst.update(dtrain, iteration=i, fobj=obj)\n",
      "c:\\Users\\Framework_Arthur\\AppData\\Local\\Programs\\Python\\Python313\\Lib\\site-packages\\xgboost\\training.py:183: UserWarning: [01:02:49] WARNING: C:\\actions-runner\\_work\\xgboost\\xgboost\\src\\learner.cc:738: \n",
      "Parameters: { \"scale_pos_weight\", \"use_label_encoder\" } are not used.\n",
      "\n",
      "  bst.update(dtrain, iteration=i, fobj=obj)\n"
     ]
    },
    {
     "name": "stdout",
     "output_type": "stream",
     "text": [
      "Ensemble QWK: 0.6601\n",
      "Predictions saved to data/H00494101-GrossmannLeMauguenArthur-5.csv\n"
     ]
    }
   ],
   "source": [
    "from sklearn.model_selection import train_test_split\n",
    "from sklearn.svm import SVC\n",
    "from sklearn.ensemble import RandomForestClassifier, VotingClassifier\n",
    "from sklearn.metrics import cohen_kappa_score, make_scorer\n",
    "from sklearn.preprocessing import StandardScaler\n",
    "from sklearn.decomposition import PCA\n",
    "import xgboost as xgb\n",
    "import pandas as pd\n",
    "import numpy as np\n",
    "import joblib\n",
    "\n",
    "# Define QWK scoring function\n",
    "def quadratic_weighted_kappa(y_true, y_pred):\n",
    "    return cohen_kappa_score(y_true, y_pred, weights=\"quadratic\")\n",
    "\n",
    "qwk_scorer = make_scorer(quadratic_weighted_kappa, greater_is_better=True)\n",
    "\n",
    "# Load dataset\n",
    "file_path = \"data/F78DS-Essay-Features.csv\"\n",
    "df = pd.read_csv(file_path)\n",
    "\n",
    "# Separate features (X) and labels (y)\n",
    "X = df.drop(columns=[\"score\", \"essayid\"])\n",
    "y = df[\"score\"] - 1  # Adjust labels to start from 0\n",
    "\n",
    "# Split dataset\n",
    "X_train, X_test, y_train, y_test = train_test_split(X, y, test_size=0.2, stratify=y, random_state=42)\n",
    "\n",
    "# Scale features\n",
    "scaler = StandardScaler()\n",
    "X_train_scaled = scaler.fit_transform(X_train)\n",
    "X_test_scaled = scaler.transform(X_test)\n",
    "\n",
    "# Apply PCA\n",
    "pca = PCA(n_components=0.99)  # Retain 99% variance\n",
    "X_train_pca = pca.fit_transform(X_train_scaled)\n",
    "X_test_pca = pca.transform(X_test_scaled)\n",
    "\n",
    "# Define best models with hyperparameters\n",
    "best_svm_model = SVC(C=5, kernel='rbf', gamma=0.005, class_weight='balanced', probability=True, random_state=42)\n",
    "best_rf_model = RandomForestClassifier(n_estimators=200, max_depth=10, min_samples_split=2, min_samples_leaf=4, class_weight='balanced', random_state=42)\n",
    "\n",
    "# Train SVM and RandomForest models\n",
    "best_svm_model.fit(X_train_pca, y_train)\n",
    "best_rf_model.fit(X_train_pca, y_train)\n",
    "\n",
    "# Define XGBoost model with best hyperparameters\n",
    "best_xgb_model = xgb.XGBClassifier(\n",
    "    objective='multi:softprob',\n",
    "    eval_metric='mlogloss',\n",
    "    use_label_encoder=False,\n",
    "    n_estimators=100,\n",
    "    learning_rate=0.1,\n",
    "    max_depth=3,\n",
    "    subsample=0.7,\n",
    "    colsample_bytree=0.8,\n",
    "    scale_pos_weight=2,\n",
    "    gamma=0,\n",
    "    reg_alpha=0.1,\n",
    "    reg_lambda=1\n",
    ")\n",
    "\n",
    "# Train XGBoost model\n",
    "best_xgb_model.fit(X_train_pca, y_train)\n",
    "\n",
    "# Ensemble Learning (SVM + RandomForest + XGBoost)\n",
    "voting_clf = VotingClassifier(estimators=[('svm', best_svm_model), ('rf', best_rf_model), ('xgb', best_xgb_model)], voting='soft')\n",
    "voting_clf.fit(X_train_pca, y_train)\n",
    "\n",
    "# Evaluate the ensemble model\n",
    "ensemble_pred = voting_clf.predict(X_test_pca)\n",
    "ensemble_qwk = cohen_kappa_score(y_test, ensemble_pred, weights=\"quadratic\")\n",
    "print(f\"Ensemble QWK: {ensemble_qwk:.4f}\")\n",
    "\n",
    "# Save models, scaler, and PCA\n",
    "joblib.dump(voting_clf, \"models3/ensemble_model.pkl\")\n",
    "joblib.dump(scaler, \"models3/scaler.pkl\")\n",
    "joblib.dump(pca, \"models3/pca.pkl\")\n",
    "joblib.dump(X.columns.tolist(), \"models3/features.pkl\")\n",
    "\n",
    "# Load the submission dataset\n",
    "submission_file_path = \"data/F78DS-Essay-Features-Submission.csv\"\n",
    "submission_df = pd.read_csv(submission_file_path)\n",
    "\n",
    "# Extract \"essayid\" and preprocess the features\n",
    "essay_ids = submission_df[\"essayid\"]\n",
    "X_submission = submission_df[X.columns.tolist()]\n",
    "\n",
    "# Scale and apply PCA to the submission data\n",
    "X_submission_scaled = scaler.transform(X_submission)\n",
    "X_submission_pca = pca.transform(X_submission_scaled)\n",
    "\n",
    "# Predict the scores using the trained ensemble model\n",
    "predicted_scores = voting_clf.predict(X_submission_pca)\n",
    "predicted_scores = predicted_scores + 1  # Reverse the previous label shift\n",
    "\n",
    "# Create the output DataFrame\n",
    "output_df = pd.DataFrame({\"essayid\": essay_ids, \"score\": predicted_scores})\n",
    "output_csv_path = \"data/H00494101-GrossmannLeMauguenArthur-5.csv\"\n",
    "output_df.to_csv(output_csv_path, index=False)\n",
    "\n",
    "print(f\"Predictions saved to {output_csv_path}\")\n"
   ]
  },
  {
   "cell_type": "markdown",
   "metadata": {},
   "source": [
    "## 5) Conclusion"
   ]
  },
  {
   "cell_type": "markdown",
   "metadata": {},
   "source": [
    "### 1) Conclude your coursework."
   ]
  },
  {
   "cell_type": "markdown",
   "metadata": {},
   "source": [
    "In this coursework, we explored the \"F78DS-Essay-Features.csv\" dataset to uncover patterns and correlations between various textual features and their assigned scores. The dataset provided a rich set of linguistic and structural attributes. Our objective was to analyze these features to identify the most influential factors in determining essay quality.\n",
    "\n",
    "**Key Findings**\n",
    "* Feature Selection: We conducted a correlation analysis and used a variance threshold to identify the most relevant features.  \n",
    "\n",
    "* Model Comparison: \n",
    "We compared the performance of Naïve Bayes (NB) and Random Forest (RF) models.  \n",
    "The Random Forest model outperformed Naïve Bayes, achieving a higher Quadratic Weighted Kappa (QWK) score.  \n",
    "Further improvements were made using ensemble learning, combining SVM and Random Forest models, which yielded the best QWK score of 0.6821.  \n",
    "\n",
    "* Hyperparameter Tuning: We employed GridSearchCV to fine-tune hyperparameters for both SVM and Random Forest models.  \n",
    "\n",
    "**Challenges and Limitations**\n",
    "* Class Imbalance: The dataset had an imbalanced distribution of scores, which posed challenges in model training and evaluation.\n",
    "* Feature Engineering: Further feature engineering and selection could potentially improve model performance.\n",
    "* Computational Resources: Grid search for hyperparameter tuning was computationally intensive and time-consuming.\n",
    "\n",
    "**Futur Improvement**\n",
    "* Advanced Techniques: Explore more advanced techniques such as deep learning models for text classification.\n",
    "* Feature Engineering: Investigate additional feature engineering techniques to capture more nuanced textual characteristics.\n",
    "* Model Interpretability: Improve the interpretability of the models to understand which features contribute most to the predictions.\n",
    "* Model Diversity: Incorporate a diverse set of models in the ensemble to capture different aspects of the data.\n",
    "* Computational Efficiency improvement\n",
    "* Better visualizations"
   ]
  },
  {
   "cell_type": "markdown",
   "metadata": {},
   "source": [
    "## 6) Sources"
   ]
  },
  {
   "cell_type": "markdown",
   "metadata": {},
   "source": [
    "1. [Random Forest Hyperparameter Tuning in Python](https://www.geeksforgeeks.org/random-forest-hyperparameter-tuning-in-python/) - GeeksforGeeks  \n",
    "\n",
    "2. [Fine-Tuning Your Random Forest Classifier: A Guide to Hyperparameter Tuning](https://tahera-firdose.medium.com/fine-tuning-your-random-forest-classifier-a-guide-to-hyperparameter-tuning-d5ceab0c4852) - Medium (Tahera Firdose)  \n",
    "\n",
    "3. [Scikit-Learn Official Documentation](https://scikit-learn.org/stable/) - Scikit-Learn  \n",
    "\n",
    "4. [Random Forests in Scikit-Learn](https://scikit-learn.org/stable/modules/ensemble.html#forest) - Scikit-Learn Documentation  \n",
    "\n",
    "5. [Alternatives to Brute-Force Parameter Search](https://scikit-learn.org/stable/modules/grid_search.html#alternatives-to-brute-force-parameter-search) - Scikit-Learn Documentation  \n",
    "\n",
    "6. [Random Forest Regression: A Practical Guide](https://www.keboola.com/blog/random-forest-regression) - Keboola  \n",
    "\n",
    "7. [Feature Engineering](https://en.wikipedia.org/wiki/Feature_engineering) - Wikipedia  "
   ]
  }
 ],
 "metadata": {
  "kernelspec": {
   "display_name": "Python 3",
   "language": "python",
   "name": "python3"
  },
  "language_info": {
   "codemirror_mode": {
    "name": "ipython",
    "version": 3
   },
   "file_extension": ".py",
   "mimetype": "text/x-python",
   "name": "python",
   "nbconvert_exporter": "python",
   "pygments_lexer": "ipython3",
   "version": "3.13.1"
  }
 },
 "nbformat": 4,
 "nbformat_minor": 2
}
